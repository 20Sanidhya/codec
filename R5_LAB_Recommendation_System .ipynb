{
 "cells": [
  {
   "cell_type": "markdown",
   "metadata": {
    "id": "9TVXldXJxuTF"
   },
   "source": [
    "<img src=\"http://drive.google.com/uc?export=view&id=1tpOCamr9aWz817atPnyXus8w5gJ3mIts\" width=500px>"
   ]
  },
  {
   "cell_type": "markdown",
   "metadata": {
    "id": "kVC7Q1bgxuTO"
   },
   "source": [
    "- - - - - - - - - - - - - - - - - - - - - - - - - - - - - - - - - - - - - - - - - - - - - -\n",
    "\n",
    "#  Top-n list of restaurants on consumer preference\n",
    "\n",
    "### INDUSTRY CASE STUDY - Popularity based + Collborative Filtering Based Recommendation system\n",
    "- - - - - - - - - - - - - - - - - - - - - - - - - - - - - - - - - - - - - - - - - - - - - -"
   ]
  },
  {
   "cell_type": "markdown",
   "metadata": {
    "id": "sA774AvSxuTQ"
   },
   "source": [
    "- - - - - - - - - - - - - - - - - - - - - - - - - - - - - - - - - - - - - - - - - - - - - -\n",
    "\n",
    "## Case study problem statement:\n",
    "\n",
    "### Context:\n",
    "\n",
    "The dataset was obtained from a recommender system prototype. The task was to generate a top-n list of restaurants according to \n",
    "the consumer preferences.\n",
    "\n",
    "\n",
    "### Input data details : https://archive.ics.uci.edu/ml/machine-learning-databases/00232/\n",
    "\n",
    "(In here you will find rating_final.csv inside RCdata folder to be used)\n",
    "\n",
    "### Expected output details: Restaurant recommendation system\n",
    "\n",
    "- - - - - - - - - - - - - - - - - - - - - - - - - - - - - - - - - - - - - - - - - - - - - -"
   ]
  },
  {
   "cell_type": "markdown",
   "metadata": {
    "id": "PG7yaf3UxuTR"
   },
   "source": [
    "### Steps\n",
    "\n",
    "#### 1. Input libraries\n",
    "\n",
    "#### 2. Data Analysis and preparation\n",
    "\n",
    "#### 3. Popularity based Recommendation System\n",
    "\n",
    "#### 4. Collaborative Filtering Recommendation System\n",
    "\n",
    "#### 5. Insights\n",
    "\n",
    "#### 6. Optional"
   ]
  },
  {
   "cell_type": "markdown",
   "metadata": {
    "id": "_HEIM-wvxuTS"
   },
   "source": [
    "### 1. Input libraries"
   ]
  },
  {
   "cell_type": "code",
   "execution_count": null,
   "metadata": {
    "colab": {
     "base_uri": "https://localhost:8080/"
    },
    "executionInfo": {
     "elapsed": 36458,
     "status": "ok",
     "timestamp": 1611464863626,
     "user": {
      "displayName": "Garima Rahangdale",
      "photoUrl": "",
      "userId": "12135158262547382026"
     },
     "user_tz": -330
    },
    "id": "NfZVcKquycQl",
    "outputId": "b2b5e1de-42e5-4070-c53c-93008d798a60"
   },
   "outputs": [],
   "source": [
    "#from google.colab import drive\n",
    "#drive.mount('/content/drive')\n",
    "#!pip install surprise"
   ]
  },
  {
   "cell_type": "code",
   "execution_count": 1,
   "metadata": {
    "id": "r8jY0TRU6Rf_"
   },
   "outputs": [],
   "source": [
    "import numpy as np\n",
    "import pandas as pd\n",
    "import math\n",
    "import json\n",
    "import time\n",
    "import matplotlib.pyplot as plt\n",
    "import seaborn as sns\n",
    "import warnings; warnings.simplefilter('ignore')\n",
    "%matplotlib inline\n",
    "\n",
    "from surprise import Dataset \n",
    "from surprise import Reader\n",
    "from surprise.model_selection import train_test_split\n",
    "from surprise import accuracy\n",
    "from surprise.model_selection import GridSearchCV,RandomizedSearchCV\n",
    "from sklearn.metrics import confusion_matrix, precision_score, recall_score,classification_report"
   ]
  },
  {
   "cell_type": "markdown",
   "metadata": {
    "id": "qhaC3BbnxuTV"
   },
   "source": [
    "## 2. Data Analysis and preparation"
   ]
  },
  {
   "cell_type": "markdown",
   "metadata": {
    "id": "c_JKFU2a2-VH"
   },
   "source": [
    "### 2.1 Read the dataset and check info to understand the dataset"
   ]
  },
  {
   "cell_type": "code",
   "execution_count": 2,
   "metadata": {
    "id": "RFpcM7zj3TE2"
   },
   "outputs": [
    {
     "data": {
      "text/plain": [
       "(1161, 5)"
      ]
     },
     "execution_count": 2,
     "metadata": {},
     "output_type": "execute_result"
    }
   ],
   "source": [
    "df = pd.read_csv(\"restaurant+rating_final.csv\")\n",
    "df.shape"
   ]
  },
  {
   "cell_type": "markdown",
   "metadata": {
    "id": "OCfC2p9d3TSy"
   },
   "source": [
    "### 2.2 Check statistical summary and write your observations"
   ]
  },
  {
   "cell_type": "code",
   "execution_count": 3,
   "metadata": {},
   "outputs": [
    {
     "data": {
      "text/html": [
       "<div>\n",
       "<style scoped>\n",
       "    .dataframe tbody tr th:only-of-type {\n",
       "        vertical-align: middle;\n",
       "    }\n",
       "\n",
       "    .dataframe tbody tr th {\n",
       "        vertical-align: top;\n",
       "    }\n",
       "\n",
       "    .dataframe thead th {\n",
       "        text-align: right;\n",
       "    }\n",
       "</style>\n",
       "<table border=\"1\" class=\"dataframe\">\n",
       "  <thead>\n",
       "    <tr style=\"text-align: right;\">\n",
       "      <th></th>\n",
       "      <th>userID</th>\n",
       "      <th>placeID</th>\n",
       "      <th>rating</th>\n",
       "      <th>food_rating</th>\n",
       "      <th>service_rating</th>\n",
       "    </tr>\n",
       "  </thead>\n",
       "  <tbody>\n",
       "    <tr>\n",
       "      <td>0</td>\n",
       "      <td>U1077</td>\n",
       "      <td>135085</td>\n",
       "      <td>2</td>\n",
       "      <td>2</td>\n",
       "      <td>2</td>\n",
       "    </tr>\n",
       "    <tr>\n",
       "      <td>1</td>\n",
       "      <td>U1077</td>\n",
       "      <td>135038</td>\n",
       "      <td>2</td>\n",
       "      <td>2</td>\n",
       "      <td>1</td>\n",
       "    </tr>\n",
       "    <tr>\n",
       "      <td>2</td>\n",
       "      <td>U1077</td>\n",
       "      <td>132825</td>\n",
       "      <td>2</td>\n",
       "      <td>2</td>\n",
       "      <td>2</td>\n",
       "    </tr>\n",
       "    <tr>\n",
       "      <td>3</td>\n",
       "      <td>U1077</td>\n",
       "      <td>135060</td>\n",
       "      <td>1</td>\n",
       "      <td>2</td>\n",
       "      <td>2</td>\n",
       "    </tr>\n",
       "    <tr>\n",
       "      <td>4</td>\n",
       "      <td>U1068</td>\n",
       "      <td>135104</td>\n",
       "      <td>1</td>\n",
       "      <td>1</td>\n",
       "      <td>2</td>\n",
       "    </tr>\n",
       "  </tbody>\n",
       "</table>\n",
       "</div>"
      ],
      "text/plain": [
       "  userID  placeID  rating  food_rating  service_rating\n",
       "0  U1077   135085       2            2               2\n",
       "1  U1077   135038       2            2               1\n",
       "2  U1077   132825       2            2               2\n",
       "3  U1077   135060       1            2               2\n",
       "4  U1068   135104       1            1               2"
      ]
     },
     "execution_count": 3,
     "metadata": {},
     "output_type": "execute_result"
    }
   ],
   "source": [
    "df.head()"
   ]
  },
  {
   "cell_type": "code",
   "execution_count": 4,
   "metadata": {
    "id": "ttvgrp1q3ZL1"
   },
   "outputs": [
    {
     "data": {
      "text/html": [
       "<div>\n",
       "<style scoped>\n",
       "    .dataframe tbody tr th:only-of-type {\n",
       "        vertical-align: middle;\n",
       "    }\n",
       "\n",
       "    .dataframe tbody tr th {\n",
       "        vertical-align: top;\n",
       "    }\n",
       "\n",
       "    .dataframe thead th {\n",
       "        text-align: right;\n",
       "    }\n",
       "</style>\n",
       "<table border=\"1\" class=\"dataframe\">\n",
       "  <thead>\n",
       "    <tr style=\"text-align: right;\">\n",
       "      <th></th>\n",
       "      <th>placeID</th>\n",
       "      <th>rating</th>\n",
       "      <th>food_rating</th>\n",
       "      <th>service_rating</th>\n",
       "    </tr>\n",
       "  </thead>\n",
       "  <tbody>\n",
       "    <tr>\n",
       "      <td>count</td>\n",
       "      <td>1161.000000</td>\n",
       "      <td>1161.000000</td>\n",
       "      <td>1161.000000</td>\n",
       "      <td>1161.000000</td>\n",
       "    </tr>\n",
       "    <tr>\n",
       "      <td>mean</td>\n",
       "      <td>134192.041344</td>\n",
       "      <td>1.199828</td>\n",
       "      <td>1.215332</td>\n",
       "      <td>1.090439</td>\n",
       "    </tr>\n",
       "    <tr>\n",
       "      <td>std</td>\n",
       "      <td>1100.916275</td>\n",
       "      <td>0.773282</td>\n",
       "      <td>0.792294</td>\n",
       "      <td>0.790844</td>\n",
       "    </tr>\n",
       "    <tr>\n",
       "      <td>min</td>\n",
       "      <td>132560.000000</td>\n",
       "      <td>0.000000</td>\n",
       "      <td>0.000000</td>\n",
       "      <td>0.000000</td>\n",
       "    </tr>\n",
       "    <tr>\n",
       "      <td>25%</td>\n",
       "      <td>132856.000000</td>\n",
       "      <td>1.000000</td>\n",
       "      <td>1.000000</td>\n",
       "      <td>0.000000</td>\n",
       "    </tr>\n",
       "    <tr>\n",
       "      <td>50%</td>\n",
       "      <td>135030.000000</td>\n",
       "      <td>1.000000</td>\n",
       "      <td>1.000000</td>\n",
       "      <td>1.000000</td>\n",
       "    </tr>\n",
       "    <tr>\n",
       "      <td>75%</td>\n",
       "      <td>135059.000000</td>\n",
       "      <td>2.000000</td>\n",
       "      <td>2.000000</td>\n",
       "      <td>2.000000</td>\n",
       "    </tr>\n",
       "    <tr>\n",
       "      <td>max</td>\n",
       "      <td>135109.000000</td>\n",
       "      <td>2.000000</td>\n",
       "      <td>2.000000</td>\n",
       "      <td>2.000000</td>\n",
       "    </tr>\n",
       "  </tbody>\n",
       "</table>\n",
       "</div>"
      ],
      "text/plain": [
       "             placeID       rating  food_rating  service_rating\n",
       "count    1161.000000  1161.000000  1161.000000     1161.000000\n",
       "mean   134192.041344     1.199828     1.215332        1.090439\n",
       "std      1100.916275     0.773282     0.792294        0.790844\n",
       "min    132560.000000     0.000000     0.000000        0.000000\n",
       "25%    132856.000000     1.000000     1.000000        0.000000\n",
       "50%    135030.000000     1.000000     1.000000        1.000000\n",
       "75%    135059.000000     2.000000     2.000000        2.000000\n",
       "max    135109.000000     2.000000     2.000000        2.000000"
      ]
     },
     "execution_count": 4,
     "metadata": {},
     "output_type": "execute_result"
    }
   ],
   "source": [
    "df.describe()"
   ]
  },
  {
   "cell_type": "markdown",
   "metadata": {},
   "source": [
    "- We have 1161 values with 5 columns.\n",
    "- For placeID, we are not able to understand more here as it is a unique number column and we are not able to deduce how many unique entries are there.\n",
    "- For Rating, we can see that minimum rating provided is 0 and maximum goes till 2 with mean of 1.19 and standard deviation of 0.77.\n",
    "- For Food_rating, we have same minimum-maximum range as of rating, but mean is slightly good at 1.21 and standard deviation at 0.79.\n",
    "- For service_rating, same min-max range as rating and food_rating, but mean is less than both at 1.09 and standard deviation quite similar like food_rating at 0.79."
   ]
  },
  {
   "cell_type": "markdown",
   "metadata": {
    "id": "Ht2vzMvQ3Ze-"
   },
   "source": [
    "### 2.3 Check if there are any missing values"
   ]
  },
  {
   "cell_type": "code",
   "execution_count": 5,
   "metadata": {
    "id": "RgN9G17l3fcx"
   },
   "outputs": [
    {
     "data": {
      "text/plain": [
       "userID            0\n",
       "placeID           0\n",
       "rating            0\n",
       "food_rating       0\n",
       "service_rating    0\n",
       "dtype: int64"
      ]
     },
     "execution_count": 5,
     "metadata": {},
     "output_type": "execute_result"
    }
   ],
   "source": [
    "df.isnull().sum()"
   ]
  },
  {
   "cell_type": "markdown",
   "metadata": {},
   "source": [
    "#### There is no missing value in any column."
   ]
  },
  {
   "cell_type": "markdown",
   "metadata": {
    "id": "2_Xlfy0Y3mO-"
   },
   "source": [
    "### 2.4 Check minimum and maximum values for rating feature. Display its frequency distribution using appropriate graph"
   ]
  },
  {
   "cell_type": "code",
   "execution_count": 6,
   "metadata": {
    "id": "a_DPMHKv36pL"
   },
   "outputs": [
    {
     "name": "stdout",
     "output_type": "stream",
     "text": [
      "Minimum Value in Ratings :  0\n",
      "\n",
      "Maximum Value in Ratings :  2\n",
      "\n",
      "Ratings Frequency\n",
      "\n",
      "2    486\n",
      "1    421\n",
      "0    254\n",
      "Name: rating, dtype: int64\n"
     ]
    },
    {
     "data": {
      "image/png": "[encoded data removed]",
      "text/plain": [
       "<Figure size 432x288 with 1 Axes>"
      ]
     },
     "metadata": {
      "needs_background": "light"
     },
     "output_type": "display_data"
    }
   ],
   "source": [
    "print('Minimum Value in Ratings : ',min(df['rating']))\n",
    "print('\\nMaximum Value in Ratings : ',max(df['rating']))\n",
    "df['rating'].value_counts().plot(kind = 'bar')\n",
    "print(\"\\nRatings Frequency\\n\")\n",
    "print(df['rating'].value_counts())"
   ]
  },
  {
   "cell_type": "markdown",
   "metadata": {},
   "source": [
    "- As we can see there are more people who have provided ratings as 2 and less who provided 1 and more less who provided 0.\n",
    "- Lets see what percentage of popluation provides what rating."
   ]
  },
  {
   "cell_type": "code",
   "execution_count": 7,
   "metadata": {},
   "outputs": [
    {
     "data": {
      "text/plain": [
       "<AxesSubplot:ylabel='rating'>"
      ]
     },
     "execution_count": 7,
     "metadata": {},
     "output_type": "execute_result"
    },
    {
     "data": {
      "image/png": "[encoded data removed]",
      "text/plain": [
       "<Figure size 1080x360 with 1 Axes>"
      ]
     },
     "metadata": {},
     "output_type": "display_data"
    }
   ],
   "source": [
    "df['rating'].value_counts().plot(kind = 'pie', autopct ='%0.1f%%' , figsize =(15,5))"
   ]
  },
  {
   "cell_type": "markdown",
   "metadata": {},
   "source": [
    "- So now it is quite clear that, majority of population(41.9%) provide ratings as 2.\n",
    "- 36.3% of population provided ratings as 1.\n",
    "- 21.9% of population provided ratings as 0."
   ]
  },
  {
   "cell_type": "markdown",
   "metadata": {
    "id": "mMRpRkFd363Z"
   },
   "source": [
    "### 2.5 Check number of unique users and items (places) in the data"
   ]
  },
  {
   "cell_type": "code",
   "execution_count": 8,
   "metadata": {
    "id": "dXxMEa8Y4CqD"
   },
   "outputs": [
    {
     "name": "stdout",
     "output_type": "stream",
     "text": [
      "Unique Users in our Dataset :  138\n",
      "\n",
      "Unique Items in our Dataset :  130\n"
     ]
    }
   ],
   "source": [
    "print('Unique Users in our Dataset : ',df['userID'].nunique())\n",
    "print('\\nUnique Items in our Dataset : ',df['placeID'].nunique())"
   ]
  },
  {
   "cell_type": "markdown",
   "metadata": {
    "id": "cNjV-jOj4FA7"
   },
   "source": [
    "### 2.6 Sort users by their number of ratings and display top 10 users who have given most number of ratings"
   ]
  },
  {
   "cell_type": "code",
   "execution_count": 9,
   "metadata": {
    "id": "nrAp9Z6N4V1d"
   },
   "outputs": [
    {
     "data": {
      "text/plain": [
       "userID\n",
       "U1061    18\n",
       "U1106    18\n",
       "U1134    16\n",
       "U1024    15\n",
       "U1022    14\n",
       "U1089    14\n",
       "U1137    14\n",
       "U1135    14\n",
       "U1003    13\n",
       "U1016    13\n",
       "Name: rating, dtype: int64"
      ]
     },
     "execution_count": 9,
     "metadata": {},
     "output_type": "execute_result"
    }
   ],
   "source": [
    "df.groupby(\"userID\")[\"rating\"].count().sort_values(ascending=False).head(10)"
   ]
  },
  {
   "cell_type": "markdown",
   "metadata": {},
   "source": [
    "- There are 2 users who have rated 18 places and that is the summit limit in our dataset.\n",
    "- Just for information gain, we will also see least ratings given by a single user."
   ]
  },
  {
   "cell_type": "code",
   "execution_count": 10,
   "metadata": {},
   "outputs": [
    {
     "data": {
      "text/plain": [
       "userID\n",
       "U1138    3\n",
       "U1074    3\n",
       "U1047    3\n",
       "U1039    3\n",
       "U1031    3\n",
       "U1107    3\n",
       "U1021    3\n",
       "U1017    3\n",
       "U1011    3\n",
       "U1070    3\n",
       "Name: rating, dtype: int64"
      ]
     },
     "execution_count": 10,
     "metadata": {},
     "output_type": "execute_result"
    }
   ],
   "source": [
    "df.groupby(\"userID\")[\"rating\"].count().sort_values(ascending=True).head(10)"
   ]
  },
  {
   "cell_type": "markdown",
   "metadata": {},
   "source": [
    "- So we can see there are many users who have rated 3 places and also this is the least ratings provided by any unique user."
   ]
  },
  {
   "cell_type": "markdown",
   "metadata": {
    "id": "LZT1lvdlxuTg"
   },
   "source": [
    "### 2.7. Take subset of dataset to make it less sparse/more dense. (For example, keep the users only who has given 5 or more number of ratings). Report shape of the final dataset"
   ]
  },
  {
   "cell_type": "code",
   "execution_count": 11,
   "metadata": {
    "id": "iaFZjjbc5Sv1"
   },
   "outputs": [
    {
     "data": {
      "text/plain": [
       "U1106    18\n",
       "U1061    18\n",
       "U1134    16\n",
       "U1024    15\n",
       "U1089    14\n",
       "Name: userID, dtype: int64"
      ]
     },
     "execution_count": 11,
     "metadata": {},
     "output_type": "execute_result"
    }
   ],
   "source": [
    "counts = df['userID'].value_counts()\n",
    "counts.head()"
   ]
  },
  {
   "cell_type": "code",
   "execution_count": 12,
   "metadata": {
    "id": "03jvk5fD5luu"
   },
   "outputs": [
    {
     "data": {
      "text/plain": [
       "(1079, 5)"
      ]
     },
     "execution_count": 12,
     "metadata": {},
     "output_type": "execute_result"
    }
   ],
   "source": [
    "df_final = df[df['userID'].isin(counts[counts>=5].index)]\n",
    "df_final.shape"
   ]
  },
  {
   "cell_type": "markdown",
   "metadata": {},
   "source": [
    "- Now after selecting users which have provided ratings for 5 unique places and more, we are left with only 1079 records.\n",
    "- 82 records are of users who have provided ratings for less than 5 places."
   ]
  },
  {
   "cell_type": "markdown",
   "metadata": {
    "id": "8eF2-XTe5m4z"
   },
   "source": [
    "### 2.8 Check number os unique users and items and comment on which kind of collaborative filtering should be applied"
   ]
  },
  {
   "cell_type": "code",
   "execution_count": 13,
   "metadata": {
    "id": "rNBLWNI15xht"
   },
   "outputs": [
    {
     "name": "stdout",
     "output_type": "stream",
     "text": [
      "Unique Users in our Dataset :  115\n",
      "\n",
      "Unique Items in our Dataset :  129\n"
     ]
    }
   ],
   "source": [
    "print('Unique Users in our Dataset : ',df_final['userID'].nunique())\n",
    "print('\\nUnique Items in our Dataset : ',df_final['placeID'].nunique())"
   ]
  },
  {
   "cell_type": "code",
   "execution_count": 14,
   "metadata": {},
   "outputs": [
    {
     "data": {
      "text/html": [
       "<div>\n",
       "<style scoped>\n",
       "    .dataframe tbody tr th:only-of-type {\n",
       "        vertical-align: middle;\n",
       "    }\n",
       "\n",
       "    .dataframe tbody tr th {\n",
       "        vertical-align: top;\n",
       "    }\n",
       "\n",
       "    .dataframe thead th {\n",
       "        text-align: right;\n",
       "    }\n",
       "</style>\n",
       "<table border=\"1\" class=\"dataframe\">\n",
       "  <thead>\n",
       "    <tr style=\"text-align: right;\">\n",
       "      <th></th>\n",
       "      <th>userID</th>\n",
       "      <th>placeID</th>\n",
       "      <th>rating</th>\n",
       "      <th>food_rating</th>\n",
       "      <th>service_rating</th>\n",
       "    </tr>\n",
       "  </thead>\n",
       "  <tbody>\n",
       "    <tr>\n",
       "      <td>185</td>\n",
       "      <td>U1053</td>\n",
       "      <td>132825</td>\n",
       "      <td>1</td>\n",
       "      <td>2</td>\n",
       "      <td>0</td>\n",
       "    </tr>\n",
       "    <tr>\n",
       "      <td>1115</td>\n",
       "      <td>U1050</td>\n",
       "      <td>132732</td>\n",
       "      <td>0</td>\n",
       "      <td>1</td>\n",
       "      <td>1</td>\n",
       "    </tr>\n",
       "    <tr>\n",
       "      <td>311</td>\n",
       "      <td>U1018</td>\n",
       "      <td>135066</td>\n",
       "      <td>1</td>\n",
       "      <td>1</td>\n",
       "      <td>1</td>\n",
       "    </tr>\n",
       "    <tr>\n",
       "      <td>709</td>\n",
       "      <td>U1032</td>\n",
       "      <td>135060</td>\n",
       "      <td>1</td>\n",
       "      <td>1</td>\n",
       "      <td>1</td>\n",
       "    </tr>\n",
       "    <tr>\n",
       "      <td>919</td>\n",
       "      <td>U1046</td>\n",
       "      <td>135044</td>\n",
       "      <td>1</td>\n",
       "      <td>1</td>\n",
       "      <td>0</td>\n",
       "    </tr>\n",
       "  </tbody>\n",
       "</table>\n",
       "</div>"
      ],
      "text/plain": [
       "     userID  placeID  rating  food_rating  service_rating\n",
       "185   U1053   132825       1            2               0\n",
       "1115  U1050   132732       0            1               1\n",
       "311   U1018   135066       1            1               1\n",
       "709   U1032   135060       1            1               1\n",
       "919   U1046   135044       1            1               0"
      ]
     },
     "execution_count": 14,
     "metadata": {},
     "output_type": "execute_result"
    }
   ],
   "source": [
    "df_final.sample(5)"
   ]
  },
  {
   "cell_type": "markdown",
   "metadata": {
    "id": "rw8VltehxuTn"
   },
   "source": [
    "## 3. Popularity Recommender model. (Non-personalised)"
   ]
  },
  {
   "cell_type": "markdown",
   "metadata": {
    "id": "Llkxcpnns3kV"
   },
   "source": [
    "### 3.1 Check count of user_id for each unique product and save it as score "
   ]
  },
  {
   "cell_type": "code",
   "execution_count": 15,
   "metadata": {
    "id": "HxmFiPL1tCWn"
   },
   "outputs": [
    {
     "data": {
      "text/html": [
       "<div>\n",
       "<style scoped>\n",
       "    .dataframe tbody tr th:only-of-type {\n",
       "        vertical-align: middle;\n",
       "    }\n",
       "\n",
       "    .dataframe tbody tr th {\n",
       "        vertical-align: top;\n",
       "    }\n",
       "\n",
       "    .dataframe thead th {\n",
       "        text-align: right;\n",
       "    }\n",
       "</style>\n",
       "<table border=\"1\" class=\"dataframe\">\n",
       "  <thead>\n",
       "    <tr style=\"text-align: right;\">\n",
       "      <th></th>\n",
       "      <th>placeID</th>\n",
       "      <th>score</th>\n",
       "    </tr>\n",
       "  </thead>\n",
       "  <tbody>\n",
       "    <tr>\n",
       "      <td>0</td>\n",
       "      <td>132560</td>\n",
       "      <td>4</td>\n",
       "    </tr>\n",
       "    <tr>\n",
       "      <td>1</td>\n",
       "      <td>132561</td>\n",
       "      <td>2</td>\n",
       "    </tr>\n",
       "    <tr>\n",
       "      <td>2</td>\n",
       "      <td>132564</td>\n",
       "      <td>1</td>\n",
       "    </tr>\n",
       "    <tr>\n",
       "      <td>3</td>\n",
       "      <td>132572</td>\n",
       "      <td>15</td>\n",
       "    </tr>\n",
       "    <tr>\n",
       "      <td>4</td>\n",
       "      <td>132583</td>\n",
       "      <td>4</td>\n",
       "    </tr>\n",
       "  </tbody>\n",
       "</table>\n",
       "</div>"
      ],
      "text/plain": [
       "   placeID  score\n",
       "0   132560      4\n",
       "1   132561      2\n",
       "2   132564      1\n",
       "3   132572     15\n",
       "4   132583      4"
      ]
     },
     "execution_count": 15,
     "metadata": {},
     "output_type": "execute_result"
    }
   ],
   "source": [
    "data = df_final.groupby('placeID').agg({'userID':'count'}).reset_index()\n",
    "data.rename(columns = {'userID':'score'}, inplace = True)\n",
    "data.head(5)"
   ]
  },
  {
   "cell_type": "markdown",
   "metadata": {
    "id": "hDQooX-qtMaT"
   },
   "source": [
    "### 3.2 Sort the products based on the score (calculated above)"
   ]
  },
  {
   "cell_type": "code",
   "execution_count": 16,
   "metadata": {
    "id": "2GjuebyotlqV"
   },
   "outputs": [
    {
     "data": {
      "text/html": [
       "<div>\n",
       "<style scoped>\n",
       "    .dataframe tbody tr th:only-of-type {\n",
       "        vertical-align: middle;\n",
       "    }\n",
       "\n",
       "    .dataframe tbody tr th {\n",
       "        vertical-align: top;\n",
       "    }\n",
       "\n",
       "    .dataframe thead th {\n",
       "        text-align: right;\n",
       "    }\n",
       "</style>\n",
       "<table border=\"1\" class=\"dataframe\">\n",
       "  <thead>\n",
       "    <tr style=\"text-align: right;\">\n",
       "      <th></th>\n",
       "      <th>placeID</th>\n",
       "      <th>score</th>\n",
       "    </tr>\n",
       "  </thead>\n",
       "  <tbody>\n",
       "    <tr>\n",
       "      <td>122</td>\n",
       "      <td>135085</td>\n",
       "      <td>36</td>\n",
       "    </tr>\n",
       "    <tr>\n",
       "      <td>30</td>\n",
       "      <td>132825</td>\n",
       "      <td>32</td>\n",
       "    </tr>\n",
       "    <tr>\n",
       "      <td>79</td>\n",
       "      <td>135032</td>\n",
       "      <td>28</td>\n",
       "    </tr>\n",
       "    <tr>\n",
       "      <td>97</td>\n",
       "      <td>135052</td>\n",
       "      <td>25</td>\n",
       "    </tr>\n",
       "    <tr>\n",
       "      <td>32</td>\n",
       "      <td>132834</td>\n",
       "      <td>25</td>\n",
       "    </tr>\n",
       "    <tr>\n",
       "      <td>...</td>\n",
       "      <td>...</td>\n",
       "      <td>...</td>\n",
       "    </tr>\n",
       "    <tr>\n",
       "      <td>1</td>\n",
       "      <td>132561</td>\n",
       "      <td>2</td>\n",
       "    </tr>\n",
       "    <tr>\n",
       "      <td>58</td>\n",
       "      <td>134975</td>\n",
       "      <td>1</td>\n",
       "    </tr>\n",
       "    <tr>\n",
       "      <td>19</td>\n",
       "      <td>132715</td>\n",
       "      <td>1</td>\n",
       "    </tr>\n",
       "    <tr>\n",
       "      <td>17</td>\n",
       "      <td>132668</td>\n",
       "      <td>1</td>\n",
       "    </tr>\n",
       "    <tr>\n",
       "      <td>2</td>\n",
       "      <td>132564</td>\n",
       "      <td>1</td>\n",
       "    </tr>\n",
       "  </tbody>\n",
       "</table>\n",
       "<p>129 rows × 2 columns</p>\n",
       "</div>"
      ],
      "text/plain": [
       "     placeID  score\n",
       "122   135085     36\n",
       "30    132825     32\n",
       "79    135032     28\n",
       "97    135052     25\n",
       "32    132834     25\n",
       "..       ...    ...\n",
       "1     132561      2\n",
       "58    134975      1\n",
       "19    132715      1\n",
       "17    132668      1\n",
       "2     132564      1\n",
       "\n",
       "[129 rows x 2 columns]"
      ]
     },
     "execution_count": 16,
     "metadata": {},
     "output_type": "execute_result"
    }
   ],
   "source": [
    "data.sort_values(['score','placeID'], ascending= False)"
   ]
  },
  {
   "cell_type": "code",
   "execution_count": 17,
   "metadata": {},
   "outputs": [
    {
     "data": {
      "text/plain": [
       "placeID\n",
       "132955    2.000000\n",
       "134986    2.000000\n",
       "135034    2.000000\n",
       "134976    2.000000\n",
       "132922    1.800000\n",
       "132755    1.800000\n",
       "135074    1.750000\n",
       "135055    1.714286\n",
       "135075    1.692308\n",
       "134996    1.666667\n",
       "Name: rating, dtype: float64"
      ]
     },
     "execution_count": 17,
     "metadata": {},
     "output_type": "execute_result"
    }
   ],
   "source": [
    "df_final.groupby('placeID')['rating'].mean().sort_values(ascending = False).head(10)"
   ]
  },
  {
   "cell_type": "markdown",
   "metadata": {
    "id": "x3dVCrnStmEI"
   },
   "source": [
    "### 3.3 Create a new column called 'Rank' having the ascending recommendation rank based upon score "
   ]
  },
  {
   "cell_type": "code",
   "execution_count": 18,
   "metadata": {
    "id": "129MZyWnt5pD"
   },
   "outputs": [],
   "source": [
    "data_sorted = data.sort_values(['score','placeID'], ascending = False)\n",
    "data_sorted['Rank'] = data_sorted['score'].rank(ascending = 0, method ='dense')"
   ]
  },
  {
   "cell_type": "markdown",
   "metadata": {
    "id": "MrDoFdIat57_"
   },
   "source": [
    "### 3.4 Get the top 10 recommendation based on their rank"
   ]
  },
  {
   "cell_type": "code",
   "execution_count": 19,
   "metadata": {
    "id": "zMcHByKGuGi9"
   },
   "outputs": [
    {
     "data": {
      "text/html": [
       "<div>\n",
       "<style scoped>\n",
       "    .dataframe tbody tr th:only-of-type {\n",
       "        vertical-align: middle;\n",
       "    }\n",
       "\n",
       "    .dataframe tbody tr th {\n",
       "        vertical-align: top;\n",
       "    }\n",
       "\n",
       "    .dataframe thead th {\n",
       "        text-align: right;\n",
       "    }\n",
       "</style>\n",
       "<table border=\"1\" class=\"dataframe\">\n",
       "  <thead>\n",
       "    <tr style=\"text-align: right;\">\n",
       "      <th></th>\n",
       "      <th>placeID</th>\n",
       "      <th>score</th>\n",
       "      <th>Rank</th>\n",
       "    </tr>\n",
       "  </thead>\n",
       "  <tbody>\n",
       "    <tr>\n",
       "      <td>122</td>\n",
       "      <td>135085</td>\n",
       "      <td>36</td>\n",
       "      <td>1.0</td>\n",
       "    </tr>\n",
       "    <tr>\n",
       "      <td>30</td>\n",
       "      <td>132825</td>\n",
       "      <td>32</td>\n",
       "      <td>2.0</td>\n",
       "    </tr>\n",
       "    <tr>\n",
       "      <td>79</td>\n",
       "      <td>135032</td>\n",
       "      <td>28</td>\n",
       "      <td>3.0</td>\n",
       "    </tr>\n",
       "    <tr>\n",
       "      <td>97</td>\n",
       "      <td>135052</td>\n",
       "      <td>25</td>\n",
       "      <td>4.0</td>\n",
       "    </tr>\n",
       "    <tr>\n",
       "      <td>32</td>\n",
       "      <td>132834</td>\n",
       "      <td>25</td>\n",
       "      <td>4.0</td>\n",
       "    </tr>\n",
       "    <tr>\n",
       "      <td>83</td>\n",
       "      <td>135038</td>\n",
       "      <td>24</td>\n",
       "      <td>5.0</td>\n",
       "    </tr>\n",
       "    <tr>\n",
       "      <td>104</td>\n",
       "      <td>135060</td>\n",
       "      <td>22</td>\n",
       "      <td>6.0</td>\n",
       "    </tr>\n",
       "    <tr>\n",
       "      <td>105</td>\n",
       "      <td>135062</td>\n",
       "      <td>21</td>\n",
       "      <td>7.0</td>\n",
       "    </tr>\n",
       "    <tr>\n",
       "      <td>87</td>\n",
       "      <td>135042</td>\n",
       "      <td>20</td>\n",
       "      <td>8.0</td>\n",
       "    </tr>\n",
       "    <tr>\n",
       "      <td>102</td>\n",
       "      <td>135058</td>\n",
       "      <td>18</td>\n",
       "      <td>9.0</td>\n",
       "    </tr>\n",
       "    <tr>\n",
       "      <td>41</td>\n",
       "      <td>132862</td>\n",
       "      <td>18</td>\n",
       "      <td>9.0</td>\n",
       "    </tr>\n",
       "    <tr>\n",
       "      <td>118</td>\n",
       "      <td>135079</td>\n",
       "      <td>17</td>\n",
       "      <td>10.0</td>\n",
       "    </tr>\n",
       "    <tr>\n",
       "      <td>107</td>\n",
       "      <td>135064</td>\n",
       "      <td>17</td>\n",
       "      <td>10.0</td>\n",
       "    </tr>\n",
       "    <tr>\n",
       "      <td>86</td>\n",
       "      <td>135041</td>\n",
       "      <td>17</td>\n",
       "      <td>10.0</td>\n",
       "    </tr>\n",
       "  </tbody>\n",
       "</table>\n",
       "</div>"
      ],
      "text/plain": [
       "     placeID  score  Rank\n",
       "122   135085     36   1.0\n",
       "30    132825     32   2.0\n",
       "79    135032     28   3.0\n",
       "97    135052     25   4.0\n",
       "32    132834     25   4.0\n",
       "83    135038     24   5.0\n",
       "104   135060     22   6.0\n",
       "105   135062     21   7.0\n",
       "87    135042     20   8.0\n",
       "102   135058     18   9.0\n",
       "41    132862     18   9.0\n",
       "118   135079     17  10.0\n",
       "107   135064     17  10.0\n",
       "86    135041     17  10.0"
      ]
     },
     "execution_count": 19,
     "metadata": {},
     "output_type": "execute_result"
    }
   ],
   "source": [
    "data_sorted.head(14)"
   ]
  },
  {
   "cell_type": "markdown",
   "metadata": {
    "id": "LBcn_Y6t72US"
   },
   "source": [
    "## 4. Collaborative Filtering model"
   ]
  },
  {
   "cell_type": "markdown",
   "metadata": {
    "id": "KxZCf2mZJlBY"
   },
   "source": [
    "### 4.1 Define rating scale and convert dataframe into surprise dataset"
   ]
  },
  {
   "cell_type": "code",
   "execution_count": 20,
   "metadata": {
    "id": "pvYVjXXJ723m"
   },
   "outputs": [
    {
     "data": {
      "text/plain": [
       "<surprise.dataset.DatasetAutoFolds at 0x7f98e2a9e250>"
      ]
     },
     "execution_count": 20,
     "metadata": {},
     "output_type": "execute_result"
    }
   ],
   "source": [
    "from surprise import Dataset,Reader\n",
    "reader = Reader(rating_scale=(0,2))\n",
    "data = Dataset.load_from_df(df_final[['userID', 'placeID', 'rating']], reader)\n",
    "data"
   ]
  },
  {
   "cell_type": "markdown",
   "metadata": {
    "id": "oeo9NKqAJs3n"
   },
   "source": [
    "### 4.2 Split the above surprise dataset into train and test set using surprise split function"
   ]
  },
  {
   "cell_type": "code",
   "execution_count": 21,
   "metadata": {},
   "outputs": [],
   "source": [
    "from surprise.model_selection import train_test_split\n",
    "trainset,testset = train_test_split(data, test_size=0.25, random_state=29)"
   ]
  },
  {
   "cell_type": "code",
   "execution_count": 22,
   "metadata": {
    "id": "ezjRaZ4eJ2hT"
   },
   "outputs": [],
   "source": [
    "userID = []\n",
    "placeID = []\n",
    "ratings = []\n",
    "\n",
    "for (uid, iid, rating) in trainset.all_ratings():\n",
    "    userID.append(trainset.to_raw_uid(uid))\n",
    "    placeID.append(trainset.to_raw_iid(iid))\n",
    "    ratings.append(rating)\n",
    "dict = {'userId': userID, 'placeId': placeID, 'rating': ratings}\n",
    "training_df = pd.DataFrame(dict)"
   ]
  },
  {
   "cell_type": "markdown",
   "metadata": {
    "id": "AXU_HB_DJ3BC"
   },
   "source": [
    "### 4.3 Print size of train and test set"
   ]
  },
  {
   "cell_type": "code",
   "execution_count": 23,
   "metadata": {
    "id": "WhWC3AhoJ6oC"
   },
   "outputs": [
    {
     "data": {
      "text/plain": [
       "809"
      ]
     },
     "execution_count": 23,
     "metadata": {},
     "output_type": "execute_result"
    }
   ],
   "source": [
    "trainset.n_ratings"
   ]
  },
  {
   "cell_type": "code",
   "execution_count": 24,
   "metadata": {},
   "outputs": [
    {
     "data": {
      "text/plain": [
       "270"
      ]
     },
     "execution_count": 24,
     "metadata": {},
     "output_type": "execute_result"
    }
   ],
   "source": [
    "len(testset)"
   ]
  },
  {
   "cell_type": "markdown",
   "metadata": {
    "id": "CQMRPmkhJ7FE"
   },
   "source": [
    "### 4.4 Build a default SVd model using train set"
   ]
  },
  {
   "cell_type": "code",
   "execution_count": 25,
   "metadata": {
    "id": "u2ih14bsKEDJ"
   },
   "outputs": [
    {
     "data": {
      "text/plain": [
       "<surprise.prediction_algorithms.matrix_factorization.SVD at 0x7f98e2f41d10>"
      ]
     },
     "execution_count": 25,
     "metadata": {},
     "output_type": "execute_result"
    }
   ],
   "source": [
    "from surprise import SVD\n",
    "\n",
    "svd_model = SVD(random_state=29)\n",
    "svd_model.fit(trainset)"
   ]
  },
  {
   "cell_type": "markdown",
   "metadata": {
    "id": "jPECI2QpKFjv"
   },
   "source": [
    "### 4.5 Make prediction for test set and convert test prediction into a dataframe"
   ]
  },
  {
   "cell_type": "code",
   "execution_count": 26,
   "metadata": {
    "id": "pjzZ5nX-KO8F",
    "scrolled": true
   },
   "outputs": [
    {
     "data": {
      "text/plain": [
       "[Prediction(uid='U1081', iid=135028, r_ui=1.0, est=1.0756016261504948, details={'was_impossible': False}),\n",
       " Prediction(uid='U1003', iid=135075, r_ui=2.0, est=1.2460826670126506, details={'was_impossible': False}),\n",
       " Prediction(uid='U1053', iid=135053, r_ui=2.0, est=1.2868658500206123, details={'was_impossible': False}),\n",
       " Prediction(uid='U1057', iid=135064, r_ui=1.0, est=0.7989576685344927, details={'was_impossible': False}),\n",
       " Prediction(uid='U1136', iid=135064, r_ui=1.0, est=1.1619426257157948, details={'was_impossible': False}),\n",
       " Prediction(uid='U1009', iid=135079, r_ui=1.0, est=1.1832622279805436, details={'was_impossible': False}),\n",
       " Prediction(uid='U1132', iid=135062, r_ui=2.0, est=1.2592227733120094, details={'was_impossible': False}),\n",
       " Prediction(uid='U1003', iid=132922, r_ui=2.0, est=1.401305949249322, details={'was_impossible': False}),\n",
       " Prediction(uid='U1088', iid=135057, r_ui=1.0, est=1.3263394670387079, details={'was_impossible': False}),\n",
       " Prediction(uid='U1029', iid=132937, r_ui=1.0, est=1.215488252496845, details={'was_impossible': False}),\n",
       " Prediction(uid='U1113', iid=135038, r_ui=1.0, est=0.8708144378953524, details={'was_impossible': False}),\n",
       " Prediction(uid='U1090', iid=135085, r_ui=2.0, est=1.5783963029683412, details={'was_impossible': False}),\n",
       " Prediction(uid='U1028', iid=132663, r_ui=0.0, est=1.1171449332511856, details={'was_impossible': False}),\n",
       " Prediction(uid='U1100', iid=135021, r_ui=2.0, est=1.6175190197300853, details={'was_impossible': False}),\n",
       " Prediction(uid='U1061', iid=135048, r_ui=2.0, est=1.4229667177700764, details={'was_impossible': False}),\n",
       " Prediction(uid='U1088', iid=135041, r_ui=2.0, est=1.204383920305798, details={'was_impossible': False}),\n",
       " Prediction(uid='U1115', iid=135108, r_ui=1.0, est=1.4238185981105596, details={'was_impossible': False}),\n",
       " Prediction(uid='U1106', iid=135032, r_ui=0.0, est=1.3002532571218237, details={'was_impossible': False}),\n",
       " Prediction(uid='U1057', iid=132862, r_ui=1.0, est=1.2030590262520606, details={'was_impossible': False}),\n",
       " Prediction(uid='U1006', iid=135079, r_ui=1.0, est=1.364000235142174, details={'was_impossible': False}),\n",
       " Prediction(uid='U1136', iid=135046, r_ui=2.0, est=1.4258632256841135, details={'was_impossible': False}),\n",
       " Prediction(uid='U1005', iid=135032, r_ui=2.0, est=1.1948715119098379, details={'was_impossible': False}),\n",
       " Prediction(uid='U1120', iid=135038, r_ui=0.0, est=1.405701653741241, details={'was_impossible': False}),\n",
       " Prediction(uid='U1075', iid=135057, r_ui=2.0, est=1.148326072640347, details={'was_impossible': False}),\n",
       " Prediction(uid='U1019', iid=135076, r_ui=0.0, est=0.7258479007744688, details={'was_impossible': False}),\n",
       " Prediction(uid='U1044', iid=132583, r_ui=1.0, est=0.9993846239684754, details={'was_impossible': False}),\n",
       " Prediction(uid='U1050', iid=132584, r_ui=0.0, est=1.1380656738927692, details={'was_impossible': False}),\n",
       " Prediction(uid='U1029', iid=132825, r_ui=1.0, est=1.188294199481204, details={'was_impossible': False}),\n",
       " Prediction(uid='U1071', iid=135032, r_ui=2.0, est=1.4586566542478552, details={'was_impossible': False}),\n",
       " Prediction(uid='U1045', iid=135064, r_ui=0.0, est=0.9847124048228519, details={'was_impossible': False}),\n",
       " Prediction(uid='U1080', iid=132608, r_ui=2.0, est=0.9951401675170135, details={'was_impossible': False}),\n",
       " Prediction(uid='U1056', iid=135066, r_ui=2.0, est=1.335133639905684, details={'was_impossible': False}),\n",
       " Prediction(uid='U1084', iid=135085, r_ui=2.0, est=1.5501865903698477, details={'was_impossible': False}),\n",
       " Prediction(uid='U1099', iid=132885, r_ui=0.0, est=1.0681382938495971, details={'was_impossible': False}),\n",
       " Prediction(uid='U1077', iid=135060, r_ui=1.0, est=1.358092373790206, details={'was_impossible': False}),\n",
       " Prediction(uid='U1046', iid=135065, r_ui=2.0, est=1.1777826733354317, details={'was_impossible': False}),\n",
       " Prediction(uid='U1104', iid=135052, r_ui=1.0, est=1.3800585785983641, details={'was_impossible': False}),\n",
       " Prediction(uid='U1036', iid=135059, r_ui=2.0, est=1.75141805664109, details={'was_impossible': False}),\n",
       " Prediction(uid='U1001', iid=135040, r_ui=1.0, est=0.8477759281464962, details={'was_impossible': False}),\n",
       " Prediction(uid='U1015', iid=132877, r_ui=1.0, est=0.9118789974068132, details={'was_impossible': False}),\n",
       " Prediction(uid='U1132', iid=135051, r_ui=1.0, est=1.3115570832370664, details={'was_impossible': False}),\n",
       " Prediction(uid='U1008', iid=132869, r_ui=1.0, est=1.0287746208902975, details={'was_impossible': False}),\n",
       " Prediction(uid='U1006', iid=132922, r_ui=2.0, est=1.2483004807203, details={'was_impossible': False}),\n",
       " Prediction(uid='U1059', iid=135075, r_ui=2.0, est=1.4463921266477566, details={'was_impossible': False}),\n",
       " Prediction(uid='U1095', iid=135034, r_ui=2.0, est=1.5098980169353557, details={'was_impossible': False}),\n",
       " Prediction(uid='U1035', iid=134996, r_ui=2.0, est=1.2752899625529655, details={'was_impossible': False}),\n",
       " Prediction(uid='U1119', iid=132583, r_ui=2.0, est=1.1404002319836193, details={'was_impossible': False}),\n",
       " Prediction(uid='U1105', iid=135057, r_ui=0.0, est=0.9462625350969912, details={'was_impossible': False}),\n",
       " Prediction(uid='U1099', iid=135066, r_ui=1.0, est=1.2684393415419408, details={'was_impossible': False}),\n",
       " Prediction(uid='U1056', iid=135085, r_ui=2.0, est=1.3977270664572192, details={'was_impossible': False}),\n",
       " Prediction(uid='U1013', iid=135072, r_ui=2.0, est=1.243292064639288, details={'was_impossible': False}),\n",
       " Prediction(uid='U1053', iid=135025, r_ui=2.0, est=1.2577011001415277, details={'was_impossible': False}),\n",
       " Prediction(uid='U1081', iid=135030, r_ui=1.0, est=1.1790093576296492, details={'was_impossible': False}),\n",
       " Prediction(uid='U1015', iid=132845, r_ui=1.0, est=1.1453250249943674, details={'was_impossible': False}),\n",
       " Prediction(uid='U1016', iid=132862, r_ui=2.0, est=1.694756420222923, details={'was_impossible': False}),\n",
       " Prediction(uid='U1132', iid=135085, r_ui=2.0, est=1.35042342234895, details={'was_impossible': False}),\n",
       " Prediction(uid='U1053', iid=135081, r_ui=2.0, est=1.2812249222952277, details={'was_impossible': False}),\n",
       " Prediction(uid='U1101', iid=135041, r_ui=0.0, est=1.3389448056151538, details={'was_impossible': False}),\n",
       " Prediction(uid='U1092', iid=135025, r_ui=2.0, est=1.1522749132938115, details={'was_impossible': False}),\n",
       " Prediction(uid='U1068', iid=132732, r_ui=0.0, est=0.814386146030559, details={'was_impossible': False}),\n",
       " Prediction(uid='U1108', iid=135074, r_ui=2.0, est=1.1615546832688495, details={'was_impossible': False}),\n",
       " Prediction(uid='U1022', iid=135045, r_ui=2.0, est=1.3271953014140556, details={'was_impossible': False}),\n",
       " Prediction(uid='U1055', iid=135047, r_ui=2.0, est=1.4183888234258872, details={'was_impossible': False}),\n",
       " Prediction(uid='U1071', iid=135028, r_ui=2.0, est=1.6375582215958366, details={'was_impossible': False}),\n",
       " Prediction(uid='U1029', iid=132834, r_ui=0.0, est=0.8950490100188829, details={'was_impossible': False}),\n",
       " Prediction(uid='U1135', iid=135028, r_ui=0.0, est=0.717729508245694, details={'was_impossible': False}),\n",
       " Prediction(uid='U1008', iid=135069, r_ui=1.0, est=0.9448666681691259, details={'was_impossible': False}),\n",
       " Prediction(uid='U1096', iid=135026, r_ui=2.0, est=1.3018404709003608, details={'was_impossible': False}),\n",
       " Prediction(uid='U1059', iid=135064, r_ui=1.0, est=0.9681745276309388, details={'was_impossible': False}),\n",
       " Prediction(uid='U1104', iid=135041, r_ui=1.0, est=1.1092439763588648, details={'was_impossible': False}),\n",
       " Prediction(uid='U1027', iid=135052, r_ui=1.0, est=1.3370281619636013, details={'was_impossible': False}),\n",
       " Prediction(uid='U1042', iid=134986, r_ui=2.0, est=1.5655445392795881, details={'was_impossible': False}),\n",
       " Prediction(uid='U1005', iid=135050, r_ui=1.0, est=1.4696469491113953, details={'was_impossible': False}),\n",
       " Prediction(uid='U1027', iid=135062, r_ui=1.0, est=1.0103861672760859, details={'was_impossible': False}),\n",
       " Prediction(uid='U1012', iid=134983, r_ui=2.0, est=1.228481097132644, details={'was_impossible': False}),\n",
       " Prediction(uid='U1030', iid=135016, r_ui=0.0, est=0.9873081997654015, details={'was_impossible': False}),\n",
       " Prediction(uid='U1050', iid=132732, r_ui=0.0, est=0.8503810518160675, details={'was_impossible': False}),\n",
       " Prediction(uid='U1106', iid=135085, r_ui=2.0, est=1.2768171425167967, details={'was_impossible': False}),\n",
       " Prediction(uid='U1030', iid=135019, r_ui=0.0, est=1.1018683866643733, details={'was_impossible': False}),\n",
       " Prediction(uid='U1013', iid=132875, r_ui=2.0, est=1.4275119108141623, details={'was_impossible': False}),\n",
       " Prediction(uid='U1045', iid=132825, r_ui=2.0, est=1.111197260524792, details={'was_impossible': False}),\n",
       " Prediction(uid='U1034', iid=135035, r_ui=1.0, est=1.106949187310112, details={'was_impossible': False}),\n",
       " Prediction(uid='U1037', iid=132854, r_ui=1.0, est=1.1324877990503446, details={'was_impossible': False}),\n",
       " Prediction(uid='U1106', iid=135028, r_ui=2.0, est=1.3499853044834453, details={'was_impossible': False}),\n",
       " Prediction(uid='U1007', iid=135108, r_ui=1.0, est=1.3197618812976208, details={'was_impossible': False}),\n",
       " Prediction(uid='U1044', iid=134986, r_ui=2.0, est=1.272419179589955, details={'was_impossible': False}),\n",
       " Prediction(uid='U1073', iid=135052, r_ui=0.0, est=0.6943739348273535, details={'was_impossible': False}),\n",
       " Prediction(uid='U1036', iid=132825, r_ui=2.0, est=1.5532988833241526, details={'was_impossible': False}),\n",
       " Prediction(uid='U1090', iid=135051, r_ui=1.0, est=1.6281476489934357, details={'was_impossible': False}),\n",
       " Prediction(uid='U1124', iid=135054, r_ui=1.0, est=1.2647309974702519, details={'was_impossible': False}),\n",
       " Prediction(uid='U1122', iid=132872, r_ui=2.0, est=1.3576546575701973, details={'was_impossible': False}),\n",
       " Prediction(uid='U1134', iid=135059, r_ui=2.0, est=1.5717486048549068, details={'was_impossible': False}),\n",
       " Prediction(uid='U1025', iid=135047, r_ui=1.0, est=1.121714371929631, details={'was_impossible': False}),\n",
       " Prediction(uid='U1091', iid=132825, r_ui=0.0, est=1.140356280340687, details={'was_impossible': False}),\n",
       " Prediction(uid='U1035', iid=135018, r_ui=1.0, est=1.4482349315829957, details={'was_impossible': False}),\n",
       " Prediction(uid='U1125', iid=135060, r_ui=1.0, est=1.019368530362312, details={'was_impossible': False}),\n",
       " Prediction(uid='U1092', iid=132723, r_ui=1.0, est=1.2300772028550266, details={'was_impossible': False}),\n",
       " Prediction(uid='U1105', iid=135040, r_ui=0.0, est=0.6462633559081079, details={'was_impossible': False}),\n",
       " Prediction(uid='U1012', iid=134996, r_ui=2.0, est=1.3126860420764965, details={'was_impossible': False}),\n",
       " Prediction(uid='U1117', iid=135016, r_ui=2.0, est=1.0367961169834947, details={'was_impossible': False}),\n",
       " Prediction(uid='U1132', iid=135032, r_ui=1.0, est=1.2393957027672862, details={'was_impossible': False}),\n",
       " Prediction(uid='U1131', iid=135054, r_ui=2.0, est=1.1830105756802283, details={'was_impossible': False}),\n",
       " Prediction(uid='U1066', iid=135013, r_ui=1.0, est=1.2061826575508978, details={'was_impossible': False}),\n",
       " Prediction(uid='U1120', iid=135057, r_ui=2.0, est=1.3583315741118775, details={'was_impossible': False}),\n",
       " Prediction(uid='U1088', iid=135069, r_ui=1.0, est=0.8520399419996385, details={'was_impossible': False}),\n",
       " Prediction(uid='U1084', iid=135058, r_ui=1.0, est=1.429049693362466, details={'was_impossible': False}),\n",
       " Prediction(uid='U1089', iid=135072, r_ui=1.0, est=1.099486104320385, details={'was_impossible': False}),\n",
       " Prediction(uid='U1048', iid=135049, r_ui=1.0, est=1.174987566963346, details={'was_impossible': False}),\n",
       " Prediction(uid='U1064', iid=135042, r_ui=1.0, est=1.2056054883310279, details={'was_impossible': False}),\n",
       " Prediction(uid='U1133', iid=134983, r_ui=1.0, est=1.103687922234396, details={'was_impossible': False}),\n",
       " Prediction(uid='U1089', iid=135064, r_ui=1.0, est=0.7351108265463133, details={'was_impossible': False}),\n",
       " Prediction(uid='U1086', iid=135060, r_ui=1.0, est=1.5771139500636338, details={'was_impossible': False}),\n",
       " Prediction(uid='U1090', iid=135025, r_ui=2.0, est=1.5995461720353576, details={'was_impossible': False}),\n",
       " Prediction(uid='U1122', iid=135066, r_ui=2.0, est=1.650790375895761, details={'was_impossible': False}),\n",
       " Prediction(uid='U1061', iid=132834, r_ui=1.0, est=1.3621326214065106, details={'was_impossible': False}),\n",
       " Prediction(uid='U1037', iid=135071, r_ui=1.0, est=0.9361694251878147, details={'was_impossible': False}),\n",
       " Prediction(uid='U1053', iid=135032, r_ui=2.0, est=1.1493721501315362, details={'was_impossible': False}),\n",
       " Prediction(uid='U1054', iid=135052, r_ui=2.0, est=1.605848118401125, details={'was_impossible': False}),\n",
       " Prediction(uid='U1036', iid=135065, r_ui=0.0, est=1.558173690574595, details={'was_impossible': False}),\n",
       " Prediction(uid='U1035', iid=135000, r_ui=2.0, est=1.3826040361987966, details={'was_impossible': False}),\n",
       " Prediction(uid='U1115', iid=135070, r_ui=1.0, est=1.0557592458678455, details={'was_impossible': False}),\n",
       " Prediction(uid='U1078', iid=135060, r_ui=2.0, est=1.2129445213667307, details={'was_impossible': False}),\n",
       " Prediction(uid='U1033', iid=135085, r_ui=2.0, est=1.604090613903711, details={'was_impossible': False}),\n",
       " Prediction(uid='U1118', iid=135001, r_ui=0.0, est=0.9630701906885467, details={'was_impossible': False}),\n",
       " Prediction(uid='U1045', iid=135060, r_ui=2.0, est=1.2722668102775465, details={'was_impossible': False}),\n",
       " Prediction(uid='U1104', iid=135047, r_ui=1.0, est=1.0447720212954081, details={'was_impossible': False}),\n",
       " Prediction(uid='U1134', iid=135085, r_ui=2.0, est=1.1242137364442306, details={'was_impossible': False}),\n",
       " Prediction(uid='U1069', iid=132846, r_ui=0.0, est=0.756843219384195, details={'was_impossible': False}),\n",
       " Prediction(uid='U1115', iid=135071, r_ui=2.0, est=1.2184817060019308, details={'was_impossible': False}),\n",
       " Prediction(uid='U1003', iid=135079, r_ui=2.0, est=1.4303101984876156, details={'was_impossible': False}),\n",
       " Prediction(uid='U1106', iid=135042, r_ui=2.0, est=1.2877309166928628, details={'was_impossible': False}),\n",
       " Prediction(uid='U1116', iid=135060, r_ui=0.0, est=1.1983213480610397, details={'was_impossible': False}),\n",
       " Prediction(uid='U1126', iid=135057, r_ui=2.0, est=1.1255675964470235, details={'was_impossible': False}),\n",
       " Prediction(uid='U1089', iid=135038, r_ui=0.0, est=1.1422798359128348, details={'was_impossible': False}),\n",
       " Prediction(uid='U1058', iid=135055, r_ui=2.0, est=1.5253045144733028, details={'was_impossible': False}),\n",
       " Prediction(uid='U1061', iid=135080, r_ui=2.0, est=1.3797999023519185, details={'was_impossible': False}),\n",
       " Prediction(uid='U1081', iid=135027, r_ui=0.0, est=0.7898103153621876, details={'was_impossible': False}),\n",
       " Prediction(uid='U1053', iid=135063, r_ui=2.0, est=1.2770452288884655, details={'was_impossible': False}),\n",
       " Prediction(uid='U1037', iid=135070, r_ui=0.0, est=1.148111472196066, details={'was_impossible': False}),\n",
       " Prediction(uid='U1075', iid=135032, r_ui=1.0, est=1.0710576361315427, details={'was_impossible': False}),\n",
       " Prediction(uid='U1134', iid=132825, r_ui=1.0, est=1.338999458677222, details={'was_impossible': False}),\n",
       " Prediction(uid='U1054', iid=132856, r_ui=2.0, est=1.162003205809976, details={'was_impossible': False}),\n",
       " Prediction(uid='U1128', iid=132875, r_ui=0.0, est=0.5275319397325702, details={'was_impossible': False}),\n",
       " Prediction(uid='U1053', iid=135042, r_ui=2.0, est=1.4649314574343881, details={'was_impossible': False}),\n",
       " Prediction(uid='U1104', iid=135033, r_ui=1.0, est=1.033409868678354, details={'was_impossible': False}),\n",
       " Prediction(uid='U1067', iid=135104, r_ui=0.0, est=1.2955688559618252, details={'was_impossible': False}),\n",
       " Prediction(uid='U1112', iid=132834, r_ui=1.0, est=0.4811092193657085, details={'was_impossible': False}),\n",
       " Prediction(uid='U1088', iid=135108, r_ui=2.0, est=1.414619544804619, details={'was_impossible': False}),\n",
       " Prediction(uid='U1042', iid=134992, r_ui=1.0, est=1.24204426883422, details={'was_impossible': False}),\n",
       " Prediction(uid='U1010', iid=135076, r_ui=1.0, est=1.2725098190788298, details={'was_impossible': False}),\n",
       " Prediction(uid='U1105', iid=135039, r_ui=0.0, est=0.7058436552521822, details={'was_impossible': False}),\n",
       " Prediction(uid='U1108', iid=135086, r_ui=1.0, est=1.1888758293023678, details={'was_impossible': False}),\n",
       " Prediction(uid='U1049', iid=135052, r_ui=0.0, est=0.7645137217139418, details={'was_impossible': False}),\n",
       " Prediction(uid='U1089', iid=132921, r_ui=1.0, est=1.0067377435236466, details={'was_impossible': False}),\n",
       " Prediction(uid='U1041', iid=135001, r_ui=1.0, est=1.6793537455827086, details={'was_impossible': False}),\n",
       " Prediction(uid='U1077', iid=135085, r_ui=2.0, est=1.0422948069377147, details={'was_impossible': False}),\n",
       " Prediction(uid='U1098', iid=132885, r_ui=1.0, est=1.0054809021264095, details={'was_impossible': False}),\n",
       " Prediction(uid='U1104', iid=135025, r_ui=2.0, est=1.2421232598280676, details={'was_impossible': False}),\n",
       " Prediction(uid='U1024', iid=135027, r_ui=1.0, est=1.2056407226799257, details={'was_impossible': False}),\n",
       " Prediction(uid='U1058', iid=132885, r_ui=1.0, est=1.157266862452134, details={'was_impossible': False}),\n",
       " Prediction(uid='U1024', iid=135032, r_ui=2.0, est=1.1920762010465427, details={'was_impossible': False}),\n",
       " Prediction(uid='U1002', iid=135059, r_ui=1.0, est=1.436224833807843, details={'was_impossible': False}),\n",
       " Prediction(uid='U1032', iid=132872, r_ui=1.0, est=0.8641070120942664, details={'was_impossible': False}),\n",
       " Prediction(uid='U1093', iid=135013, r_ui=2.0, est=1.4510281208122793, details={'was_impossible': False}),\n",
       " Prediction(uid='U1103', iid=132630, r_ui=1.0, est=1.238771525126441, details={'was_impossible': False}),\n",
       " Prediction(uid='U1015', iid=132870, r_ui=0.0, est=1.0645684265621074, details={'was_impossible': False}),\n",
       " Prediction(uid='U1018', iid=135069, r_ui=0.0, est=0.8570267499345436, details={'was_impossible': False}),\n",
       " Prediction(uid='U1122', iid=135085, r_ui=2.0, est=1.4624797882957938, details={'was_impossible': False}),\n",
       " Prediction(uid='U1054', iid=135025, r_ui=2.0, est=1.550033197111941, details={'was_impossible': False}),\n",
       " Prediction(uid='U1071', iid=132856, r_ui=2.0, est=1.1467268831535755, details={'was_impossible': False}),\n",
       " Prediction(uid='U1034', iid=135055, r_ui=0.0, est=1.1956274999628513, details={'was_impossible': False}),\n",
       " Prediction(uid='U1090', iid=132954, r_ui=2.0, est=1.30652468950616, details={'was_impossible': False}),\n",
       " Prediction(uid='U1126', iid=135106, r_ui=2.0, est=0.8164198537697349, details={'was_impossible': False}),\n",
       " Prediction(uid='U1032', iid=135038, r_ui=1.0, est=1.1445038611087635, details={'was_impossible': False}),\n",
       " Prediction(uid='U1027', iid=132875, r_ui=1.0, est=1.2311101188734483, details={'was_impossible': False}),\n",
       " Prediction(uid='U1126', iid=135052, r_ui=2.0, est=1.2914632835729118, details={'was_impossible': False}),\n",
       " Prediction(uid='U1002', iid=135041, r_ui=2.0, est=1.4265315538553098, details={'was_impossible': False}),\n",
       " Prediction(uid='U1071', iid=135042, r_ui=2.0, est=1.557432731475668, details={'was_impossible': False}),\n",
       " Prediction(uid='U1033', iid=135075, r_ui=2.0, est=1.523816910922642, details={'was_impossible': False}),\n",
       " Prediction(uid='U1103', iid=132613, r_ui=2.0, est=1.0684730194777312, details={'was_impossible': False}),\n",
       " Prediction(uid='U1006', iid=135026, r_ui=2.0, est=1.3455957197448778, details={'was_impossible': False}),\n",
       " Prediction(uid='U1115', iid=135069, r_ui=1.0, est=1.0776409763740162, details={'was_impossible': False}),\n",
       " Prediction(uid='U1025', iid=135028, r_ui=2.0, est=1.375788162819231, details={'was_impossible': False}),\n",
       " Prediction(uid='U1096', iid=132955, r_ui=2.0, est=1.3018690390495606, details={'was_impossible': False}),\n",
       " Prediction(uid='U1125', iid=135042, r_ui=1.0, est=0.9846187633405524, details={'was_impossible': False}),\n",
       " Prediction(uid='U1108', iid=135058, r_ui=1.0, est=1.0863521845829522, details={'was_impossible': False}),\n",
       " Prediction(uid='U1081', iid=135076, r_ui=1.0, est=0.7946527175149897, details={'was_impossible': False}),\n",
       " Prediction(uid='U1024', iid=135041, r_ui=1.0, est=1.2076117302483491, details={'was_impossible': False}),\n",
       " Prediction(uid='U1098', iid=135046, r_ui=1.0, est=1.1490088884596097, details={'was_impossible': False}),\n",
       " Prediction(uid='U1050', iid=132560, r_ui=0.0, est=0.7755943205956899, details={'was_impossible': False}),\n",
       " Prediction(uid='U1109', iid=135032, r_ui=2.0, est=1.3680889641278167, details={'was_impossible': False}),\n",
       " Prediction(uid='U1058', iid=135076, r_ui=2.0, est=1.3583737887984833, details={'was_impossible': False}),\n",
       " Prediction(uid='U1133', iid=135021, r_ui=2.0, est=1.1883705805731373, details={'was_impossible': False}),\n",
       " Prediction(uid='U1137', iid=132723, r_ui=2.0, est=1.6254538666930136, details={'was_impossible': False}),\n",
       " Prediction(uid='U1109', iid=132856, r_ui=1.0, est=1.329877519943117, details={'was_impossible': False}),\n",
       " Prediction(uid='U1050', iid=132594, r_ui=0.0, est=0.8626143173607932, details={'was_impossible': False}),\n",
       " Prediction(uid='U1016', iid=135045, r_ui=2.0, est=1.5699570359182404, details={'was_impossible': False}),\n",
       " Prediction(uid='U1018', iid=135057, r_ui=1.0, est=1.1758063629266349, details={'was_impossible': False}),\n",
       " Prediction(uid='U1059', iid=132825, r_ui=2.0, est=1.4299339359836563, details={'was_impossible': False}),\n",
       " Prediction(uid='U1115', iid=132830, r_ui=2.0, est=1.1240446601166378, details={'was_impossible': False}),\n",
       " Prediction(uid='U1065', iid=132561, r_ui=1.0, est=1.27616772744752, details={'was_impossible': False}),\n",
       " Prediction(uid='U1134', iid=132754, r_ui=2.0, est=1.342457936633905, details={'was_impossible': False}),\n",
       " Prediction(uid='U1010', iid=135058, r_ui=1.0, est=1.2280543982752012, details={'was_impossible': False}),\n",
       " Prediction(uid='U1022', iid=135038, r_ui=2.0, est=1.3790669928162889, details={'was_impossible': False}),\n",
       " Prediction(uid='U1113', iid=135046, r_ui=2.0, est=0.8735660873497406, details={'was_impossible': False}),\n",
       " Prediction(uid='U1092', iid=135085, r_ui=0.0, est=1.1690135163100726, details={'was_impossible': False}),\n",
       " Prediction(uid='U1104', iid=132825, r_ui=1.0, est=1.3082038432764738, details={'was_impossible': False}),\n",
       " Prediction(uid='U1126', iid=135054, r_ui=1.0, est=0.8364347773804847, details={'was_impossible': False}),\n",
       " Prediction(uid='U1073', iid=132834, r_ui=0.0, est=0.2502616424462842, details={'was_impossible': False}),\n",
       " Prediction(uid='U1033', iid=132572, r_ui=1.0, est=1.3577618221913235, details={'was_impossible': False}),\n",
       " Prediction(uid='U1016', iid=135066, r_ui=2.0, est=1.6013243947665294, details={'was_impossible': False}),\n",
       " Prediction(uid='U1010', iid=135079, r_ui=0.0, est=1.1872150856269685, details={'was_impossible': False}),\n",
       " Prediction(uid='U1096', iid=135025, r_ui=2.0, est=1.1063674467676423, details={'was_impossible': False}),\n",
       " Prediction(uid='U1058', iid=135058, r_ui=2.0, est=1.2652564322110362, details={'was_impossible': False}),\n",
       " Prediction(uid='U1013', iid=132572, r_ui=1.0, est=1.0947646579398174, details={'was_impossible': False}),\n",
       " Prediction(uid='U1094', iid=135108, r_ui=0.0, est=0.7544761895286555, details={'was_impossible': False}),\n",
       " Prediction(uid='U1012', iid=134986, r_ui=2.0, est=1.3363257894361709, details={'was_impossible': False}),\n",
       " Prediction(uid='U1109', iid=135028, r_ui=2.0, est=1.6345079210721516, details={'was_impossible': False}),\n",
       " Prediction(uid='U1128', iid=135053, r_ui=0.0, est=0.5823586914492461, details={'was_impossible': False}),\n",
       " Prediction(uid='U1073', iid=135060, r_ui=0.0, est=0.5390769236364866, details={'was_impossible': False}),\n",
       " Prediction(uid='U1068', iid=135104, r_ui=1.0, est=0.8165148676316464, details={'was_impossible': False}),\n",
       " Prediction(uid='U1028', iid=132613, r_ui=2.0, est=0.9813789670296829, details={'was_impossible': False}),\n",
       " Prediction(uid='U1083', iid=132572, r_ui=2.0, est=1.104635983099916, details={'was_impossible': False}),\n",
       " Prediction(uid='U1006', iid=135075, r_ui=1.0, est=1.4936445588173326, details={'was_impossible': False}),\n",
       " Prediction(uid='U1137', iid=135075, r_ui=2.0, est=1.5531607636922244, details={'was_impossible': False}),\n",
       " Prediction(uid='U1122', iid=135030, r_ui=2.0, est=1.7997707425182587, details={'was_impossible': False}),\n",
       " Prediction(uid='U1135', iid=135052, r_ui=0.0, est=0.738833475432275, details={'was_impossible': False}),\n",
       " Prediction(uid='U1101', iid=135032, r_ui=2.0, est=1.2782177798109005, details={'was_impossible': False}),\n",
       " Prediction(uid='U1022', iid=135032, r_ui=1.0, est=1.0474917764766734, details={'was_impossible': False}),\n",
       " Prediction(uid='U1111', iid=132851, r_ui=2.0, est=1.2616344426754114, details={'was_impossible': False}),\n",
       " Prediction(uid='U1057', iid=132825, r_ui=1.0, est=1.0636053949514945, details={'was_impossible': False}),\n",
       " Prediction(uid='U1042', iid=135021, r_ui=1.0, est=1.3307933283129763, details={'was_impossible': False}),\n",
       " Prediction(uid='U1013', iid=132921, r_ui=2.0, est=1.0852714158187773, details={'was_impossible': False}),\n",
       " Prediction(uid='U1112', iid=135062, r_ui=0.0, est=0.9011115724285417, details={'was_impossible': False}),\n",
       " Prediction(uid='U1103', iid=135104, r_ui=1.0, est=0.9694386499801847, details={'was_impossible': False}),\n",
       " Prediction(uid='U1088', iid=135070, r_ui=2.0, est=1.1956512930175673, details={'was_impossible': False}),\n",
       " Prediction(uid='U1112', iid=135086, r_ui=0.0, est=0.45256706883380293, details={'was_impossible': False}),\n",
       " Prediction(uid='U1101', iid=135073, r_ui=1.0, est=1.3612879064392136, details={'was_impossible': False}),\n",
       " Prediction(uid='U1030', iid=134986, r_ui=2.0, est=1.0595475564831613, details={'was_impossible': False}),\n",
       " Prediction(uid='U1124', iid=135050, r_ui=0.0, est=1.0768792323988297, details={'was_impossible': False}),\n",
       " Prediction(uid='U1056', iid=132825, r_ui=2.0, est=1.4604520560585978, details={'was_impossible': False}),\n",
       " Prediction(uid='U1086', iid=135063, r_ui=1.0, est=1.204862457589818, details={'was_impossible': False}),\n",
       " Prediction(uid='U1091', iid=135075, r_ui=2.0, est=1.2068361059773747, details={'was_impossible': False}),\n",
       " Prediction(uid='U1134', iid=135044, r_ui=1.0, est=1.447002548435034, details={'was_impossible': False}),\n",
       " Prediction(uid='U1062', iid=135038, r_ui=0.0, est=0.8165854260301976, details={'was_impossible': False}),\n",
       " Prediction(uid='U1076', iid=135027, r_ui=0.0, est=1.160547927189204, details={'was_impossible': False}),\n",
       " Prediction(uid='U1062', iid=135085, r_ui=0.0, est=0.665179952801694, details={'was_impossible': False}),\n",
       " Prediction(uid='U1076', iid=135073, r_ui=2.0, est=1.4577262687499815, details={'was_impossible': False}),\n",
       " Prediction(uid='U1075', iid=135039, r_ui=2.0, est=1.2359779628691347, details={'was_impossible': False}),\n",
       " Prediction(uid='U1122', iid=135038, r_ui=2.0, est=1.656332875694278, details={'was_impossible': False}),\n",
       " Prediction(uid='U1058', iid=135062, r_ui=2.0, est=1.1335147311994034, details={'was_impossible': False}),\n",
       " Prediction(uid='U1095', iid=132723, r_ui=2.0, est=1.2019075557306529, details={'was_impossible': False}),\n",
       " Prediction(uid='U1010', iid=135065, r_ui=1.0, est=1.1400856343996708, details={'was_impossible': False}),\n",
       " Prediction(uid='U1059', iid=132955, r_ui=2.0, est=1.4212768648959675, details={'was_impossible': False}),\n",
       " Prediction(uid='U1137', iid=135049, r_ui=2.0, est=1.3597125182207377, details={'was_impossible': False}),\n",
       " Prediction(uid='U1106', iid=132856, r_ui=0.0, est=1.020351198164716, details={'was_impossible': False}),\n",
       " Prediction(uid='U1103', iid=132584, r_ui=1.0, est=1.2556602159248216, details={'was_impossible': False}),\n",
       " Prediction(uid='U1055', iid=135028, r_ui=2.0, est=1.618739995346373, details={'was_impossible': False}),\n",
       " Prediction(uid='U1064', iid=135069, r_ui=0.0, est=1.0175988951585695, details={'was_impossible': False}),\n",
       " Prediction(uid='U1105', iid=135054, r_ui=0.0, est=0.7659987311877817, details={'was_impossible': False}),\n",
       " Prediction(uid='U1048', iid=132755, r_ui=2.0, est=1.395077417853329, details={'was_impossible': False}),\n",
       " Prediction(uid='U1044', iid=132768, r_ui=2.0, est=1.374847666459555, details={'was_impossible': False}),\n",
       " Prediction(uid='U1133', iid=134975, r_ui=1.0, est=1.1844779292960381, details={'was_impossible': False}),\n",
       " Prediction(uid='U1098', iid=132825, r_ui=1.0, est=1.3346176080530665, details={'was_impossible': False}),\n",
       " Prediction(uid='U1025', iid=132846, r_ui=2.0, est=1.5913269918144877, details={'was_impossible': False}),\n",
       " Prediction(uid='U1132', iid=132825, r_ui=2.0, est=1.3347299523812703, details={'was_impossible': False}),\n",
       " Prediction(uid='U1041', iid=135109, r_ui=1.0, est=1.284881001032655, details={'was_impossible': False}),\n",
       " Prediction(uid='U1086', iid=132951, r_ui=1.0, est=1.5196638970500418, details={'was_impossible': False}),\n",
       " Prediction(uid='U1009', iid=132834, r_ui=2.0, est=0.9756475929872919, details={'was_impossible': False}),\n",
       " Prediction(uid='U1126', iid=135038, r_ui=1.0, est=1.1726343253914995, details={'was_impossible': False})]"
      ]
     },
     "execution_count": 26,
     "metadata": {},
     "output_type": "execute_result"
    }
   ],
   "source": [
    "train_pred = svd_model.test(trainset.build_testset())\n",
    "pred = svd_model.test(testset)\n",
    "pred"
   ]
  },
  {
   "cell_type": "markdown",
   "metadata": {
    "id": "EPuLqMMvK0i-"
   },
   "source": [
    "### 4.6 Check RMSe and MAE of train and test predictions"
   ]
  },
  {
   "cell_type": "code",
   "execution_count": 27,
   "metadata": {
    "id": "WMD2jIFQK8Nv"
   },
   "outputs": [
    {
     "name": "stdout",
     "output_type": "stream",
     "text": [
      "RMSE: 0.4791\n",
      "Train Set RMSE  0.47912618517857847\n"
     ]
    }
   ],
   "source": [
    "print('Train Set RMSE ',accuracy.rmse(train_pred))"
   ]
  },
  {
   "cell_type": "code",
   "execution_count": 28,
   "metadata": {},
   "outputs": [
    {
     "name": "stdout",
     "output_type": "stream",
     "text": [
      "MAE:  0.4013\n",
      "Train Set MAE  0.4013376201621065\n"
     ]
    }
   ],
   "source": [
    "print('Train Set MAE ',accuracy.mae(train_pred))"
   ]
  },
  {
   "cell_type": "code",
   "execution_count": 29,
   "metadata": {},
   "outputs": [
    {
     "name": "stdout",
     "output_type": "stream",
     "text": [
      "RMSE: 0.6443\n",
      "Test Set RMSE  0.6442643423613291\n"
     ]
    }
   ],
   "source": [
    "print('Test Set RMSE ',accuracy.rmse(pred))"
   ]
  },
  {
   "cell_type": "code",
   "execution_count": 30,
   "metadata": {},
   "outputs": [
    {
     "name": "stdout",
     "output_type": "stream",
     "text": [
      "MAE:  0.5534\n",
      "Test Set MAE  0.5534030014962272\n"
     ]
    }
   ],
   "source": [
    "print('Test Set MAE ',accuracy.mae(pred))"
   ]
  },
  {
   "cell_type": "code",
   "execution_count": 31,
   "metadata": {},
   "outputs": [
    {
     "data": {
      "text/html": [
       "<div>\n",
       "<style scoped>\n",
       "    .dataframe tbody tr th:only-of-type {\n",
       "        vertical-align: middle;\n",
       "    }\n",
       "\n",
       "    .dataframe tbody tr th {\n",
       "        vertical-align: top;\n",
       "    }\n",
       "\n",
       "    .dataframe thead th {\n",
       "        text-align: right;\n",
       "    }\n",
       "</style>\n",
       "<table border=\"1\" class=\"dataframe\">\n",
       "  <thead>\n",
       "    <tr style=\"text-align: right;\">\n",
       "      <th></th>\n",
       "      <th>uid</th>\n",
       "      <th>iid</th>\n",
       "      <th>r_ui</th>\n",
       "      <th>est</th>\n",
       "      <th>details</th>\n",
       "    </tr>\n",
       "  </thead>\n",
       "  <tbody>\n",
       "    <tr>\n",
       "      <td>262</td>\n",
       "      <td>U1133</td>\n",
       "      <td>134975</td>\n",
       "      <td>1.0</td>\n",
       "      <td>1.184478</td>\n",
       "      <td>{'was_impossible': False}</td>\n",
       "    </tr>\n",
       "    <tr>\n",
       "      <td>16</td>\n",
       "      <td>U1115</td>\n",
       "      <td>135108</td>\n",
       "      <td>1.0</td>\n",
       "      <td>1.423819</td>\n",
       "      <td>{'was_impossible': False}</td>\n",
       "    </tr>\n",
       "    <tr>\n",
       "      <td>17</td>\n",
       "      <td>U1106</td>\n",
       "      <td>135032</td>\n",
       "      <td>0.0</td>\n",
       "      <td>1.300253</td>\n",
       "      <td>{'was_impossible': False}</td>\n",
       "    </tr>\n",
       "    <tr>\n",
       "      <td>99</td>\n",
       "      <td>U1117</td>\n",
       "      <td>135016</td>\n",
       "      <td>2.0</td>\n",
       "      <td>1.036796</td>\n",
       "      <td>{'was_impossible': False}</td>\n",
       "    </tr>\n",
       "    <tr>\n",
       "      <td>198</td>\n",
       "      <td>U1059</td>\n",
       "      <td>132825</td>\n",
       "      <td>2.0</td>\n",
       "      <td>1.429934</td>\n",
       "      <td>{'was_impossible': False}</td>\n",
       "    </tr>\n",
       "  </tbody>\n",
       "</table>\n",
       "</div>"
      ],
      "text/plain": [
       "       uid     iid  r_ui       est                    details\n",
       "262  U1133  134975   1.0  1.184478  {'was_impossible': False}\n",
       "16   U1115  135108   1.0  1.423819  {'was_impossible': False}\n",
       "17   U1106  135032   0.0  1.300253  {'was_impossible': False}\n",
       "99   U1117  135016   2.0  1.036796  {'was_impossible': False}\n",
       "198  U1059  132825   2.0  1.429934  {'was_impossible': False}"
      ]
     },
     "execution_count": 31,
     "metadata": {},
     "output_type": "execute_result"
    }
   ],
   "source": [
    "pred_df = pd.DataFrame(pred)\n",
    "pred_df.sample(5)"
   ]
  },
  {
   "cell_type": "markdown",
   "metadata": {
    "id": "jdmpLp9AKPd2"
   },
   "source": [
    "### 4.7 Write a function to make top n recommendation to a user. The function should take a userID, data, and n as input arguments"
   ]
  },
  {
   "cell_type": "code",
   "execution_count": 32,
   "metadata": {
    "id": "r_hXx9JHKbkJ"
   },
   "outputs": [],
   "source": [
    "from collections import defaultdict"
   ]
  },
  {
   "cell_type": "code",
   "execution_count": 33,
   "metadata": {},
   "outputs": [],
   "source": [
    "def get_top_n(predictions, userid, n):\n",
    "    # First map the predictions to each user.\n",
    "    top_n = defaultdict(list)\n",
    "    for uid, iid, true_r, est, _ in predictions:\n",
    "        top_n[uid].append((iid, est))\n",
    "\n",
    "    # Then sort the predictions for each user and retrieve the k highest ones.\n",
    "    for uid, user_ratings in top_n.items():\n",
    "        user_ratings.sort(key=lambda x: x[1], reverse=True)\n",
    "        top_n[uid] = user_ratings[:n]\n",
    "\n",
    "    return top_n[userid]"
   ]
  },
  {
   "cell_type": "markdown",
   "metadata": {
    "id": "BvEbu68EKeQl"
   },
   "source": [
    "### 4.8 Check top 3 recommendations for userID:- 'U1028'"
   ]
  },
  {
   "cell_type": "code",
   "execution_count": 34,
   "metadata": {
    "id": "z56DRUedKivh"
   },
   "outputs": [
    {
     "data": {
      "text/plain": [
       "[(132663, 1.1171449332511856), (132613, 0.9813789670296829)]"
      ]
     },
     "execution_count": 34,
     "metadata": {},
     "output_type": "execute_result"
    }
   ],
   "source": [
    "get_top_n(pred, 'U1028', 3)"
   ]
  },
  {
   "cell_type": "markdown",
   "metadata": {
    "id": "5DtGo7B_KlfA"
   },
   "source": [
    "## 5. Summarize your insights"
   ]
  },
  {
   "cell_type": "markdown",
   "metadata": {
    "id": "jGBGH3AwKoJG"
   },
   "source": [
    "- We can see that Root Mean Square error for train set is somehow low, but for test set it is considerable.\n",
    "- For Mean Absolute Error, Train set is giving low value but again error in test set is high and can effect results.\n",
    "- As we have less data points, we can come to a conclusion that it can be due to data scarcity.\n",
    "- Also the predictions made by our model are also not that much accurate but can be used for some implications.\n",
    "- While providing recommendations, our model is not accurate also the result provided have part-errors which is effecting our result."
   ]
  },
  {
   "cell_type": "markdown",
   "metadata": {
    "id": "csb4HP2hKoxO"
   },
   "source": [
    "## Optional\n",
    "### Use GridSearch CV to get the best parameters for SVD model"
   ]
  },
  {
   "cell_type": "code",
   "execution_count": 35,
   "metadata": {
    "id": "Qf59BdwiKzY8"
   },
   "outputs": [],
   "source": [
    "param = {'n_factors': list(range(50,200,20))}\n",
    "Tuners= GridSearchCV(SVD, param, measures=['rmse'], cv = 3)\n",
    "Tuners.fit(data)"
   ]
  },
  {
   "cell_type": "code",
   "execution_count": 36,
   "metadata": {},
   "outputs": [
    {
     "data": {
      "text/plain": [
       "{'n_factors': 50}"
      ]
     },
     "execution_count": 36,
     "metadata": {},
     "output_type": "execute_result"
    }
   ],
   "source": [
    "Tuners.best_params['rmse']"
   ]
  },
  {
   "cell_type": "code",
   "execution_count": 37,
   "metadata": {},
   "outputs": [
    {
     "data": {
      "text/plain": [
       "0.66239255402325"
      ]
     },
     "execution_count": 37,
     "metadata": {},
     "output_type": "execute_result"
    }
   ],
   "source": [
    "Tuners.best_score['rmse']"
   ]
  }
 ],
 "metadata": {
  "colab": {
   "collapsed_sections": [
    "qhaC3BbnxuTV"
   ],
   "name": "Recommendation Question Lab Notebook .ipynb",
   "provenance": []
  },
  "kernelspec": {
   "display_name": "Python 3",
   "language": "python",
   "name": "python3"
  },
  "language_info": {
   "codemirror_mode": {
    "name": "ipython",
    "version": 3
   },
   "file_extension": ".py",
   "mimetype": "text/x-python",
   "name": "python",
   "nbconvert_exporter": "python",
   "pygments_lexer": "ipython3",
   "version": "3.7.4"
  }
 },
 "nbformat": 4,
 "nbformat_minor": 1
}
