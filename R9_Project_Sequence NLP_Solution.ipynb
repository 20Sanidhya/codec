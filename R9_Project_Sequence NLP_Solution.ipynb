{
 "cells": [
  {
   "cell_type": "markdown",
   "metadata": {
    "id": "OudB5by50jlI"
   },
   "source": [
    "# Social media analytics"
   ]
  },
  {
   "cell_type": "markdown",
   "metadata": {
    "id": "xT7MKZuMRaCg"
   },
   "source": [
    " #CONTEXT:\n",
    "  Past studies in Sarcasm Detection mostly make use of Twitter datasets collected using hashtag based supervision but such datasets are noisy in terms of labels and language. Furthermore, many tweets are replies to other tweets and detecting sarcasm in these requires the availability of contextual tweets.In this hands-on project, the goal is to build a model to detect whether a sentence is sarcastic or not, using Bidirectional LSTMs.\n",
    "• DATA DESCRIPTION:\n",
    "The dataset is collected from two news websites, theonion.com and huffingtonpost.com. This new dataset has the following advantages over the existing Twitter datasets:\n",
    "Since news headlines are written by professionals in a formal manner, there are no spelling mistakes and informal usage. This reduces the sparsity and also increases the chance of finding pre-trained embeddings. Furthermore, since the sole purpose of TheOnion is to publish sarcastic news, we get high-quality labels with much less noise as compared to Twitter datasets.\n",
    "Unlike tweets that reply to other tweets, the news headlines obtained are self-contained. This would help us in teasing apart the real sarcastic elements\n",
    "Content: Each record consists of three attributes:\n",
    "is_sarcastic: 1 if the record is sarcastic otherwise 0\n",
    "headline: the headline of the news article\n",
    "article_link: link to the original news article. Useful in collecting supplementary data Reference: https://github.com/rishabhmisra/News-Headlines-Dataset-For-Sarcasm-Detection\n",
    "\n",
    "#PROJECT OBJECTIVE: \n",
    "Build a sequential NLP classifier which can use input text parameters to determine the customer sentiments.\n",
    "Steps and tasks: \n",
    "1. Read and explore the data \n",
    "2. Retain relevant columns\n",
    "3. Get length of each sentence \n",
    "4. Define parameters\n",
    "5. Get indices for words\n",
    "6. Create features and labels\n",
    "7. Get vocabulary size\n",
    "8. Create a weight matrix using GloVe embeddings \n",
    "9. Define and compile a Bidirectional LSTM model.\n",
    "Hint: Be analytical and experimental here in trying new approaches to design the best model. \n",
    "10. Fit the model and check the validation accuracy"
   ]
  },
  {
   "cell_type": "markdown",
   "metadata": {
    "id": "Q34-Y3nRKXdO"
   },
   "source": [
    "### 1. Read and explore the data"
   ]
  },
  {
   "cell_type": "code",
   "execution_count": 1,
   "metadata": {
    "executionInfo": {
     "elapsed": 874,
     "status": "ok",
     "timestamp": 1630821024438,
     "user": {
      "displayName": "Manoj Garg",
      "photoUrl": "",
      "userId": "11657736091832416040"
     },
     "user_tz": -330
    },
    "id": "bOMF3VehF6SV"
   },
   "outputs": [
    {
     "name": "stderr",
     "output_type": "stream",
     "text": [
      "/opt/anaconda3/lib/python3.7/site-packages/statsmodels/tools/_testing.py:19: FutureWarning: pandas.util.testing is deprecated. Use the functions in the public API at pandas.testing instead.\n",
      "  import pandas.util.testing as tm\n"
     ]
    }
   ],
   "source": [
    "import pandas as pd, numpy as np, re, time\n",
    "from nltk.stem.porter import PorterStemmer\n",
    "from sklearn.model_selection import train_test_split\n",
    "from sklearn.metrics import confusion_matrix\n",
    "from sklearn.svm import LinearSVC\n",
    "from sklearn.model_selection import cross_val_score\n",
    "from sklearn.naive_bayes import GaussianNB\n",
    "from sklearn.linear_model import LogisticRegression\n",
    "from sklearn.ensemble import RandomForestClassifier\n",
    "from keras.callbacks import EarlyStopping\n",
    "#Plot training and validation accuracy per epoch\n",
    "import matplotlib.pyplot as plt\n",
    "import seaborn as sns\n"
   ]
  },
  {
   "cell_type": "code",
   "execution_count": 2,
   "metadata": {
    "executionInfo": {
     "elapsed": 1453,
     "status": "ok",
     "timestamp": 1630821026779,
     "user": {
      "displayName": "Manoj Garg",
      "photoUrl": "",
      "userId": "11657736091832416040"
     },
     "user_tz": -330
    },
    "id": "Eiqi3nj8eW9k"
   },
   "outputs": [],
   "source": [
    "data = pd.read_json(\"https://raw.githubusercontent.com/rishabhmisra/News-Headlines-Dataset-For-Sarcasm-Detection/master/Sarcasm_Headlines_Dataset.json\", lines = True)"
   ]
  },
  {
   "cell_type": "code",
   "execution_count": 3,
   "metadata": {
    "colab": {
     "base_uri": "https://localhost:8080/",
     "height": 204
    },
    "executionInfo": {
     "elapsed": 175,
     "status": "ok",
     "timestamp": 1630821026797,
     "user": {
      "displayName": "Manoj Garg",
      "photoUrl": "",
      "userId": "11657736091832416040"
     },
     "user_tz": -330
    },
    "id": "ugQIBdhOHbgH",
    "outputId": "687e5765-fc67-409b-b311-197b8aad90a5"
   },
   "outputs": [
    {
     "data": {
      "text/html": [
       "<div>\n",
       "<style scoped>\n",
       "    .dataframe tbody tr th:only-of-type {\n",
       "        vertical-align: middle;\n",
       "    }\n",
       "\n",
       "    .dataframe tbody tr th {\n",
       "        vertical-align: top;\n",
       "    }\n",
       "\n",
       "    .dataframe thead th {\n",
       "        text-align: right;\n",
       "    }\n",
       "</style>\n",
       "<table border=\"1\" class=\"dataframe\">\n",
       "  <thead>\n",
       "    <tr style=\"text-align: right;\">\n",
       "      <th></th>\n",
       "      <th>is_sarcastic</th>\n",
       "      <th>headline</th>\n",
       "      <th>article_link</th>\n",
       "    </tr>\n",
       "  </thead>\n",
       "  <tbody>\n",
       "    <tr>\n",
       "      <th>0</th>\n",
       "      <td>1</td>\n",
       "      <td>thirtysomething scientists unveil doomsday clo...</td>\n",
       "      <td>https://www.theonion.com/thirtysomething-scien...</td>\n",
       "    </tr>\n",
       "    <tr>\n",
       "      <th>1</th>\n",
       "      <td>0</td>\n",
       "      <td>dem rep. totally nails why congress is falling...</td>\n",
       "      <td>https://www.huffingtonpost.com/entry/donna-edw...</td>\n",
       "    </tr>\n",
       "    <tr>\n",
       "      <th>2</th>\n",
       "      <td>0</td>\n",
       "      <td>eat your veggies: 9 deliciously different recipes</td>\n",
       "      <td>https://www.huffingtonpost.com/entry/eat-your-...</td>\n",
       "    </tr>\n",
       "    <tr>\n",
       "      <th>3</th>\n",
       "      <td>1</td>\n",
       "      <td>inclement weather prevents liar from getting t...</td>\n",
       "      <td>https://local.theonion.com/inclement-weather-p...</td>\n",
       "    </tr>\n",
       "    <tr>\n",
       "      <th>4</th>\n",
       "      <td>1</td>\n",
       "      <td>mother comes pretty close to using word 'strea...</td>\n",
       "      <td>https://www.theonion.com/mother-comes-pretty-c...</td>\n",
       "    </tr>\n",
       "  </tbody>\n",
       "</table>\n",
       "</div>"
      ],
      "text/plain": [
       "   is_sarcastic                                           headline  \\\n",
       "0             1  thirtysomething scientists unveil doomsday clo...   \n",
       "1             0  dem rep. totally nails why congress is falling...   \n",
       "2             0  eat your veggies: 9 deliciously different recipes   \n",
       "3             1  inclement weather prevents liar from getting t...   \n",
       "4             1  mother comes pretty close to using word 'strea...   \n",
       "\n",
       "                                        article_link  \n",
       "0  https://www.theonion.com/thirtysomething-scien...  \n",
       "1  https://www.huffingtonpost.com/entry/donna-edw...  \n",
       "2  https://www.huffingtonpost.com/entry/eat-your-...  \n",
       "3  https://local.theonion.com/inclement-weather-p...  \n",
       "4  https://www.theonion.com/mother-comes-pretty-c...  "
      ]
     },
     "execution_count": 3,
     "metadata": {},
     "output_type": "execute_result"
    }
   ],
   "source": [
    "data.head()"
   ]
  },
  {
   "cell_type": "code",
   "execution_count": 4,
   "metadata": {
    "colab": {
     "base_uri": "https://localhost:8080/"
    },
    "executionInfo": {
     "elapsed": 168,
     "status": "ok",
     "timestamp": 1630821026798,
     "user": {
      "displayName": "Manoj Garg",
      "photoUrl": "",
      "userId": "11657736091832416040"
     },
     "user_tz": -330
    },
    "id": "ipRWYJdrHfdv",
    "outputId": "9f2fd24e-f522-49db-9ddd-76c989e20fee"
   },
   "outputs": [
    {
     "name": "stdout",
     "output_type": "stream",
     "text": [
      "is_sarcastic    False\n",
      "headline        False\n",
      "article_link    False\n",
      "dtype: bool\n"
     ]
    }
   ],
   "source": [
    "print(data.isnull().any(axis = 0))"
   ]
  },
  {
   "cell_type": "markdown",
   "metadata": {
    "id": "M7tBcRfJHmXT"
   },
   "source": [
    "Since our dataset doesn’t have any null value. So, we can proceed to clean the data."
   ]
  },
  {
   "cell_type": "code",
   "execution_count": 5,
   "metadata": {
    "executionInfo": {
     "elapsed": 156,
     "status": "ok",
     "timestamp": 1630821026799,
     "user": {
      "displayName": "Manoj Garg",
      "photoUrl": "",
      "userId": "11657736091832416040"
     },
     "user_tz": -330
    },
    "id": "hm45Bp4AHtOt"
   },
   "outputs": [],
   "source": [
    "# Replacing special symbols and digits in headline column\n",
    "data['headline'] = data['headline'].apply(lambda s : re.sub('[^a-zA-Z]', ' ', s))"
   ]
  },
  {
   "cell_type": "code",
   "execution_count": 6,
   "metadata": {
    "colab": {
     "base_uri": "https://localhost:8080/",
     "height": 204
    },
    "executionInfo": {
     "elapsed": 155,
     "status": "ok",
     "timestamp": 1630821026800,
     "user": {
      "displayName": "Manoj Garg",
      "photoUrl": "",
      "userId": "11657736091832416040"
     },
     "user_tz": -330
    },
    "id": "Ic3myzSXHvMy",
    "outputId": "af5e34b6-2ea9-463f-d3fa-42e8a98d959f"
   },
   "outputs": [
    {
     "data": {
      "text/html": [
       "<div>\n",
       "<style scoped>\n",
       "    .dataframe tbody tr th:only-of-type {\n",
       "        vertical-align: middle;\n",
       "    }\n",
       "\n",
       "    .dataframe tbody tr th {\n",
       "        vertical-align: top;\n",
       "    }\n",
       "\n",
       "    .dataframe thead th {\n",
       "        text-align: right;\n",
       "    }\n",
       "</style>\n",
       "<table border=\"1\" class=\"dataframe\">\n",
       "  <thead>\n",
       "    <tr style=\"text-align: right;\">\n",
       "      <th></th>\n",
       "      <th>is_sarcastic</th>\n",
       "      <th>headline</th>\n",
       "      <th>article_link</th>\n",
       "    </tr>\n",
       "  </thead>\n",
       "  <tbody>\n",
       "    <tr>\n",
       "      <th>0</th>\n",
       "      <td>1</td>\n",
       "      <td>thirtysomething scientists unveil doomsday clo...</td>\n",
       "      <td>https://www.theonion.com/thirtysomething-scien...</td>\n",
       "    </tr>\n",
       "    <tr>\n",
       "      <th>1</th>\n",
       "      <td>0</td>\n",
       "      <td>dem rep  totally nails why congress is falling...</td>\n",
       "      <td>https://www.huffingtonpost.com/entry/donna-edw...</td>\n",
       "    </tr>\n",
       "    <tr>\n",
       "      <th>2</th>\n",
       "      <td>0</td>\n",
       "      <td>eat your veggies    deliciously different recipes</td>\n",
       "      <td>https://www.huffingtonpost.com/entry/eat-your-...</td>\n",
       "    </tr>\n",
       "    <tr>\n",
       "      <th>3</th>\n",
       "      <td>1</td>\n",
       "      <td>inclement weather prevents liar from getting t...</td>\n",
       "      <td>https://local.theonion.com/inclement-weather-p...</td>\n",
       "    </tr>\n",
       "    <tr>\n",
       "      <th>4</th>\n",
       "      <td>1</td>\n",
       "      <td>mother comes pretty close to using word  strea...</td>\n",
       "      <td>https://www.theonion.com/mother-comes-pretty-c...</td>\n",
       "    </tr>\n",
       "  </tbody>\n",
       "</table>\n",
       "</div>"
      ],
      "text/plain": [
       "   is_sarcastic                                           headline  \\\n",
       "0             1  thirtysomething scientists unveil doomsday clo...   \n",
       "1             0  dem rep  totally nails why congress is falling...   \n",
       "2             0  eat your veggies    deliciously different recipes   \n",
       "3             1  inclement weather prevents liar from getting t...   \n",
       "4             1  mother comes pretty close to using word  strea...   \n",
       "\n",
       "                                        article_link  \n",
       "0  https://www.theonion.com/thirtysomething-scien...  \n",
       "1  https://www.huffingtonpost.com/entry/donna-edw...  \n",
       "2  https://www.huffingtonpost.com/entry/eat-your-...  \n",
       "3  https://local.theonion.com/inclement-weather-p...  \n",
       "4  https://www.theonion.com/mother-comes-pretty-c...  "
      ]
     },
     "execution_count": 6,
     "metadata": {},
     "output_type": "execute_result"
    }
   ],
   "source": [
    "data.head()"
   ]
  },
  {
   "cell_type": "markdown",
   "metadata": {
    "id": "RBNquWhpH8y1"
   },
   "source": [
    "### 2. Retain relevant columns"
   ]
  },
  {
   "cell_type": "code",
   "execution_count": 7,
   "metadata": {
    "executionInfo": {
     "elapsed": 153,
     "status": "ok",
     "timestamp": 1630821026803,
     "user": {
      "displayName": "Manoj Garg",
      "photoUrl": "",
      "userId": "11657736091832416040"
     },
     "user_tz": -330
    },
    "id": "5L1QPW26I-sc"
   },
   "outputs": [],
   "source": [
    "# dropping article link for further analysis\n",
    "data = data.drop(['article_link'],axis=1)"
   ]
  },
  {
   "cell_type": "code",
   "execution_count": 8,
   "metadata": {
    "colab": {
     "base_uri": "https://localhost:8080/",
     "height": 204
    },
    "executionInfo": {
     "elapsed": 153,
     "status": "ok",
     "timestamp": 1630821026804,
     "user": {
      "displayName": "Manoj Garg",
      "photoUrl": "",
      "userId": "11657736091832416040"
     },
     "user_tz": -330
    },
    "id": "78zDWAahJKmm",
    "outputId": "8212a79d-b7ba-4b85-f7db-03c87caa0131"
   },
   "outputs": [
    {
     "data": {
      "text/html": [
       "<div>\n",
       "<style scoped>\n",
       "    .dataframe tbody tr th:only-of-type {\n",
       "        vertical-align: middle;\n",
       "    }\n",
       "\n",
       "    .dataframe tbody tr th {\n",
       "        vertical-align: top;\n",
       "    }\n",
       "\n",
       "    .dataframe thead th {\n",
       "        text-align: right;\n",
       "    }\n",
       "</style>\n",
       "<table border=\"1\" class=\"dataframe\">\n",
       "  <thead>\n",
       "    <tr style=\"text-align: right;\">\n",
       "      <th></th>\n",
       "      <th>is_sarcastic</th>\n",
       "      <th>headline</th>\n",
       "    </tr>\n",
       "  </thead>\n",
       "  <tbody>\n",
       "    <tr>\n",
       "      <th>0</th>\n",
       "      <td>1</td>\n",
       "      <td>thirtysomething scientists unveil doomsday clo...</td>\n",
       "    </tr>\n",
       "    <tr>\n",
       "      <th>1</th>\n",
       "      <td>0</td>\n",
       "      <td>dem rep  totally nails why congress is falling...</td>\n",
       "    </tr>\n",
       "    <tr>\n",
       "      <th>2</th>\n",
       "      <td>0</td>\n",
       "      <td>eat your veggies    deliciously different recipes</td>\n",
       "    </tr>\n",
       "    <tr>\n",
       "      <th>3</th>\n",
       "      <td>1</td>\n",
       "      <td>inclement weather prevents liar from getting t...</td>\n",
       "    </tr>\n",
       "    <tr>\n",
       "      <th>4</th>\n",
       "      <td>1</td>\n",
       "      <td>mother comes pretty close to using word  strea...</td>\n",
       "    </tr>\n",
       "  </tbody>\n",
       "</table>\n",
       "</div>"
      ],
      "text/plain": [
       "   is_sarcastic                                           headline\n",
       "0             1  thirtysomething scientists unveil doomsday clo...\n",
       "1             0  dem rep  totally nails why congress is falling...\n",
       "2             0  eat your veggies    deliciously different recipes\n",
       "3             1  inclement weather prevents liar from getting t...\n",
       "4             1  mother comes pretty close to using word  strea..."
      ]
     },
     "execution_count": 8,
     "metadata": {},
     "output_type": "execute_result"
    }
   ],
   "source": [
    "data.head()"
   ]
  },
  {
   "cell_type": "markdown",
   "metadata": {
    "id": "REkNbz2WJSwU"
   },
   "source": [
    "## 3. Get length of each sentence"
   ]
  },
  {
   "cell_type": "code",
   "execution_count": 9,
   "metadata": {
    "executionInfo": {
     "elapsed": 150,
     "status": "ok",
     "timestamp": 1630821026805,
     "user": {
      "displayName": "Manoj Garg",
      "photoUrl": "",
      "userId": "11657736091832416040"
     },
     "user_tz": -330
    },
    "id": "r87JsZz3Jr4R"
   },
   "outputs": [],
   "source": [
    "#Adding a new feature which will have length of each headline\n",
    "data['headline_Length'] = data['headline'].apply(len)"
   ]
  },
  {
   "cell_type": "code",
   "execution_count": 10,
   "metadata": {
    "colab": {
     "base_uri": "https://localhost:8080/",
     "height": 204
    },
    "executionInfo": {
     "elapsed": 150,
     "status": "ok",
     "timestamp": 1630821026806,
     "user": {
      "displayName": "Manoj Garg",
      "photoUrl": "",
      "userId": "11657736091832416040"
     },
     "user_tz": -330
    },
    "id": "OWfxGe2OKA8q",
    "outputId": "1e3e9884-9ad8-4862-d315-31eb164eace0"
   },
   "outputs": [
    {
     "data": {
      "text/html": [
       "<div>\n",
       "<style scoped>\n",
       "    .dataframe tbody tr th:only-of-type {\n",
       "        vertical-align: middle;\n",
       "    }\n",
       "\n",
       "    .dataframe tbody tr th {\n",
       "        vertical-align: top;\n",
       "    }\n",
       "\n",
       "    .dataframe thead th {\n",
       "        text-align: right;\n",
       "    }\n",
       "</style>\n",
       "<table border=\"1\" class=\"dataframe\">\n",
       "  <thead>\n",
       "    <tr style=\"text-align: right;\">\n",
       "      <th></th>\n",
       "      <th>is_sarcastic</th>\n",
       "      <th>headline</th>\n",
       "      <th>headline_Length</th>\n",
       "    </tr>\n",
       "  </thead>\n",
       "  <tbody>\n",
       "    <tr>\n",
       "      <th>0</th>\n",
       "      <td>1</td>\n",
       "      <td>thirtysomething scientists unveil doomsday clo...</td>\n",
       "      <td>61</td>\n",
       "    </tr>\n",
       "    <tr>\n",
       "      <th>1</th>\n",
       "      <td>0</td>\n",
       "      <td>dem rep  totally nails why congress is falling...</td>\n",
       "      <td>79</td>\n",
       "    </tr>\n",
       "    <tr>\n",
       "      <th>2</th>\n",
       "      <td>0</td>\n",
       "      <td>eat your veggies    deliciously different recipes</td>\n",
       "      <td>49</td>\n",
       "    </tr>\n",
       "    <tr>\n",
       "      <th>3</th>\n",
       "      <td>1</td>\n",
       "      <td>inclement weather prevents liar from getting t...</td>\n",
       "      <td>52</td>\n",
       "    </tr>\n",
       "    <tr>\n",
       "      <th>4</th>\n",
       "      <td>1</td>\n",
       "      <td>mother comes pretty close to using word  strea...</td>\n",
       "      <td>61</td>\n",
       "    </tr>\n",
       "  </tbody>\n",
       "</table>\n",
       "</div>"
      ],
      "text/plain": [
       "   is_sarcastic                                           headline  \\\n",
       "0             1  thirtysomething scientists unveil doomsday clo...   \n",
       "1             0  dem rep  totally nails why congress is falling...   \n",
       "2             0  eat your veggies    deliciously different recipes   \n",
       "3             1  inclement weather prevents liar from getting t...   \n",
       "4             1  mother comes pretty close to using word  strea...   \n",
       "\n",
       "   headline_Length  \n",
       "0               61  \n",
       "1               79  \n",
       "2               49  \n",
       "3               52  \n",
       "4               61  "
      ]
     },
     "execution_count": 10,
     "metadata": {},
     "output_type": "execute_result"
    }
   ],
   "source": [
    "data.head()"
   ]
  },
  {
   "cell_type": "code",
   "execution_count": 11,
   "metadata": {
    "colab": {
     "base_uri": "https://localhost:8080/"
    },
    "executionInfo": {
     "elapsed": 22,
     "status": "ok",
     "timestamp": 1630821028156,
     "user": {
      "displayName": "Manoj Garg",
      "photoUrl": "",
      "userId": "11657736091832416040"
     },
     "user_tz": -330
    },
    "id": "PU6s-9FHKMP1",
    "outputId": "f48761d1-29c1-46af-f009-af006b4b9884"
   },
   "outputs": [
    {
     "name": "stdout",
     "output_type": "stream",
     "text": [
      "926\n"
     ]
    }
   ],
   "source": [
    "max_value = data['headline_Length'].max()\n",
    "print(max_value)"
   ]
  },
  {
   "cell_type": "markdown",
   "metadata": {
    "colab": {
     "base_uri": "https://localhost:8080/"
    },
    "executionInfo": {
     "elapsed": 17,
     "status": "ok",
     "timestamp": 1630821028157,
     "user": {
      "displayName": "Manoj Garg",
      "photoUrl": "",
      "userId": "11657736091832416040"
     },
     "user_tz": -330
    },
    "id": "7nxOdzgQ1Tb0",
    "outputId": "f5f25768-5a1a-4e11-b93c-4eb8b15296ed"
   },
   "source": [
    "#### The longest headline we have in our dataset is 926 words long"
   ]
  },
  {
   "cell_type": "markdown",
   "metadata": {
    "id": "SCHIzfBYfnsa"
   },
   "source": [
    "## 4. Define parameters"
   ]
  },
  {
   "cell_type": "code",
   "execution_count": 13,
   "metadata": {
    "executionInfo": {
     "elapsed": 13,
     "status": "ok",
     "timestamp": 1630821028158,
     "user": {
      "displayName": "Manoj Garg",
      "photoUrl": "",
      "userId": "11657736091832416040"
     },
     "user_tz": -330
    },
    "id": "QjmF0UV_Lqix"
   },
   "outputs": [],
   "source": [
    "max_features = 2000\n",
    "maxlen = 200\n",
    "embedding_size = 50"
   ]
  },
  {
   "cell_type": "markdown",
   "metadata": {},
   "source": [
    "## 5. Get indices for words"
   ]
  },
  {
   "cell_type": "code",
   "execution_count": 19,
   "metadata": {},
   "outputs": [],
   "source": [
    "import tensorflow as tf\n",
    "t = tf.keras.preprocessing.text.Tokenizer(num_words=max_features)"
   ]
  },
  {
   "cell_type": "markdown",
   "metadata": {},
   "source": [
    "## 6. Create features and labels"
   ]
  },
  {
   "cell_type": "code",
   "execution_count": 20,
   "metadata": {
    "colab": {
     "base_uri": "https://localhost:8080/"
    },
    "executionInfo": {
     "elapsed": 15,
     "status": "ok",
     "timestamp": 1630821028162,
     "user": {
      "displayName": "Manoj Garg",
      "photoUrl": "",
      "userId": "11657736091832416040"
     },
     "user_tz": -330
    },
    "id": "Se-SMQhHL4G1",
    "outputId": "59d61a9d-f9ba-4404-f558-776ec7861087"
   },
   "outputs": [
    {
     "data": {
      "text/plain": [
       "[352, 2, 641, 1123]"
      ]
     },
     "execution_count": 20,
     "metadata": {},
     "output_type": "execute_result"
    }
   ],
   "source": [
    "#Fit tokenizer with actual training data\n",
    "t.fit_on_texts(data[\"headline\"].to_list())\n",
    "features = t.texts_to_sequences(data[\"headline\"].to_list())\n",
    "\n",
    "features[0]\n"
   ]
  },
  {
   "cell_type": "code",
   "execution_count": 23,
   "metadata": {
    "colab": {
     "base_uri": "https://localhost:8080/",
     "height": 35
    },
    "executionInfo": {
     "elapsed": 52,
     "status": "ok",
     "timestamp": 1630821030674,
     "user": {
      "displayName": "Manoj Garg",
      "photoUrl": "",
      "userId": "11657736091832416040"
     },
     "user_tz": -330
    },
    "id": "_2taD7XOMO_u",
    "outputId": "7e1e6c36-296a-4bcd-befa-54f1d99a62c4"
   },
   "outputs": [
    {
     "data": {
      "text/plain": [
       "'this lesbian is considered a father in indiana  and an amazing one at that '"
      ]
     },
     "execution_count": 23,
     "metadata": {},
     "output_type": "execute_result"
    }
   ],
   "source": [
    "data[\"headline\"][10]"
   ]
  },
  {
   "cell_type": "code",
   "execution_count": 24,
   "metadata": {
    "colab": {
     "base_uri": "https://localhost:8080/"
    },
    "executionInfo": {
     "elapsed": 51,
     "status": "ok",
     "timestamp": 1630821030675,
     "user": {
      "displayName": "Manoj Garg",
      "photoUrl": "",
      "userId": "11657736091832416040"
     },
     "user_tz": -330
    },
    "id": "QAI1tpaEMWC3",
    "outputId": "5071e859-4ed6-4234-cdb2-418280d9245b"
   },
   "outputs": [
    {
     "data": {
      "text/plain": [
       "28619"
      ]
     },
     "execution_count": 24,
     "metadata": {},
     "output_type": "execute_result"
    }
   ],
   "source": [
    "len(features)"
   ]
  },
  {
   "cell_type": "code",
   "execution_count": 25,
   "metadata": {
    "colab": {
     "base_uri": "https://localhost:8080/"
    },
    "executionInfo": {
     "elapsed": 49,
     "status": "ok",
     "timestamp": 1630821030676,
     "user": {
      "displayName": "Manoj Garg",
      "photoUrl": "",
      "userId": "11657736091832416040"
     },
     "user_tz": -330
    },
    "id": "jV6FpHKNMY4I",
    "outputId": "46a2f57a-0a8a-48d9-8a97-2c7b9f8f8cae"
   },
   "outputs": [
    {
     "data": {
      "text/plain": [
       "28619"
      ]
     },
     "execution_count": 25,
     "metadata": {},
     "output_type": "execute_result"
    }
   ],
   "source": [
    "len(data['is_sarcastic'])"
   ]
  },
  {
   "cell_type": "code",
   "execution_count": 26,
   "metadata": {
    "colab": {
     "base_uri": "https://localhost:8080/",
     "height": 366
    },
    "executionInfo": {
     "elapsed": 44,
     "status": "ok",
     "timestamp": 1630821030677,
     "user": {
      "displayName": "Manoj Garg",
      "photoUrl": "",
      "userId": "11657736091832416040"
     },
     "user_tz": -330
    },
    "id": "fIK1Gvf3avLa",
    "outputId": "93bb2004-40dd-4438-dc75-c27d9df0758b"
   },
   "outputs": [
    {
     "data": {
      "text/plain": [
       "Text(0.5, 1.0, 'Sarcasm vs Non-sarcasm')"
      ]
     },
     "execution_count": 26,
     "metadata": {},
     "output_type": "execute_result"
    },
    {
     "data": {
      "image/png": "[encoded data removed]",
      "text/plain": [
       "<Figure size 432x288 with 1 Axes>"
      ]
     },
     "metadata": {
      "needs_background": "light"
     },
     "output_type": "display_data"
    }
   ],
   "source": [
    "sns.countplot(data.is_sarcastic)\n",
    "plt.xlabel('Label')\n",
    "plt.title('Sarcasm vs Non-sarcasm')"
   ]
  },
  {
   "cell_type": "code",
   "execution_count": 51,
   "metadata": {
    "colab": {
     "base_uri": "https://localhost:8080/"
    },
    "executionInfo": {
     "elapsed": 35,
     "status": "ok",
     "timestamp": 1630821030678,
     "user": {
      "displayName": "Manoj Garg",
      "photoUrl": "",
      "userId": "11657736091832416040"
     },
     "user_tz": -330
    },
    "id": "VArH7gvK0KLu",
    "outputId": "dee81bc4-ba8e-456c-de14-d52363667428"
   },
   "outputs": [
    {
     "data": {
      "text/plain": [
       "0    14985\n",
       "1    13634\n",
       "Name: is_sarcastic, dtype: int64"
      ]
     },
     "execution_count": 51,
     "metadata": {},
     "output_type": "execute_result"
    }
   ],
   "source": [
    "data['is_sarcastic'].value_counts()"
   ]
  },
  {
   "cell_type": "markdown",
   "metadata": {},
   "source": [
    "- We have 28619 labels / total data rows with features extracted for each row.\n",
    "- In our dataset, label distribution is quite good as it is approx to 50:50 ratio.\n",
    "- We have 14985 headlines with non-sarcastic as label, defined as 0 in our target column.\n",
    "- We have 13634 headline with sarcasti as label, defined as 1 in our target column."
   ]
  },
  {
   "cell_type": "code",
   "execution_count": 28,
   "metadata": {
    "executionInfo": {
     "elapsed": 31,
     "status": "ok",
     "timestamp": 1630821030679,
     "user": {
      "displayName": "Manoj Garg",
      "photoUrl": "",
      "userId": "11657736091832416040"
     },
     "user_tz": -330
    },
    "id": "nrZYoqBLMdvj"
   },
   "outputs": [],
   "source": [
    "from tensorflow.keras.preprocessing.sequence import pad_sequences"
   ]
  },
  {
   "cell_type": "code",
   "execution_count": 29,
   "metadata": {
    "executionInfo": {
     "elapsed": 31,
     "status": "ok",
     "timestamp": 1630821030679,
     "user": {
      "displayName": "Manoj Garg",
      "photoUrl": "",
      "userId": "11657736091832416040"
     },
     "user_tz": -330
    },
    "id": "o8MVYGfmMgSn"
   },
   "outputs": [],
   "source": [
    "X = pad_sequences(features , maxlen = maxlen , truncating = 'post')"
   ]
  },
  {
   "cell_type": "code",
   "execution_count": 30,
   "metadata": {
    "executionInfo": {
     "elapsed": 28,
     "status": "ok",
     "timestamp": 1630821030680,
     "user": {
      "displayName": "Manoj Garg",
      "photoUrl": "",
      "userId": "11657736091832416040"
     },
     "user_tz": -330
    },
    "id": "MX6xxPIwMn3l"
   },
   "outputs": [],
   "source": [
    "y = np.asarray(data['is_sarcastic'])"
   ]
  },
  {
   "cell_type": "markdown",
   "metadata": {
    "id": "pGtAllJTgDdr"
   },
   "source": [
    "## 7. Get vocabulary size"
   ]
  },
  {
   "cell_type": "code",
   "execution_count": 54,
   "metadata": {
    "colab": {
     "base_uri": "https://localhost:8080/"
    },
    "executionInfo": {
     "elapsed": 28,
     "status": "ok",
     "timestamp": 1630821030681,
     "user": {
      "displayName": "Manoj Garg",
      "photoUrl": "",
      "userId": "11657736091832416040"
     },
     "user_tz": -330
    },
    "id": "3uGj9N0SMtl0",
    "outputId": "52ccee56-df23-4436-dc05-c98186e15eed"
   },
   "outputs": [
    {
     "name": "stdout",
     "output_type": "stream",
     "text": [
      "We have 25916 unique vocabulary in our treated headlines.\n"
     ]
    }
   ],
   "source": [
    "print('We have',len(t.word_index)+1, 'unique vocabulary in our treated headlines.')"
   ]
  },
  {
   "cell_type": "markdown",
   "metadata": {
    "id": "wJBmomtLf6Qi"
   },
   "source": [
    "## 8. Create a weight matrix using GloVe embeddings"
   ]
  },
  {
   "cell_type": "code",
   "execution_count": 33,
   "metadata": {
    "executionInfo": {
     "elapsed": 4638,
     "status": "ok",
     "timestamp": 1630821035873,
     "user": {
      "displayName": "Manoj Garg",
      "photoUrl": "",
      "userId": "11657736091832416040"
     },
     "user_tz": -330
    },
    "id": "_3x8_DFdNDRs"
   },
   "outputs": [],
   "source": [
    "embeddings = {}\n",
    "for emb in open('/Users/sanidhyavishnoi/Downloads/glove.6B.50d.txt',encoding='utf-8'):\n",
    "    word = emb.split(\" \")[0]\n",
    "#    print(emb)\n",
    "    embd = emb.split(\" \")[1:]\n",
    "    embd = np.asarray(embd,dtype='float32')\n",
    "    \n",
    "    embeddings[word] = embd"
   ]
  },
  {
   "cell_type": "code",
   "execution_count": 34,
   "metadata": {
    "executionInfo": {
     "elapsed": 33,
     "status": "ok",
     "timestamp": 1630821035876,
     "user": {
      "displayName": "Manoj Garg",
      "photoUrl": "",
      "userId": "11657736091832416040"
     },
     "user_tz": -330
    },
    "id": "rHTcR-_FNORq"
   },
   "outputs": [],
   "source": [
    "num_words = len(t.word_index)+ 1\n",
    "embedding_matrix =  np.zeros( (num_words , 50) )\n",
    "for word, i in t.word_index.items():\n",
    "    emb_vector = embeddings.get(word)\n",
    "    if emb_vector is not None:\n",
    "        embedding_matrix[i] = emb_vector\n",
    "\n"
   ]
  },
  {
   "cell_type": "code",
   "execution_count": 35,
   "metadata": {
    "colab": {
     "base_uri": "https://localhost:8080/"
    },
    "executionInfo": {
     "elapsed": 31,
     "status": "ok",
     "timestamp": 1630821035877,
     "user": {
      "displayName": "Manoj Garg",
      "photoUrl": "",
      "userId": "11657736091832416040"
     },
     "user_tz": -330
    },
    "id": "iTt1ORD1NVe3",
    "outputId": "a9eed6d7-06b6-48ca-b610-9fc7b8a2929d"
   },
   "outputs": [
    {
     "data": {
      "text/plain": [
       "(25916, 50)"
      ]
     },
     "execution_count": 35,
     "metadata": {},
     "output_type": "execute_result"
    }
   ],
   "source": [
    "embedding_matrix.shape"
   ]
  },
  {
   "cell_type": "code",
   "execution_count": 36,
   "metadata": {
    "colab": {
     "base_uri": "https://localhost:8080/"
    },
    "executionInfo": {
     "elapsed": 26,
     "status": "ok",
     "timestamp": 1630821035878,
     "user": {
      "displayName": "Manoj Garg",
      "photoUrl": "",
      "userId": "11657736091832416040"
     },
     "user_tz": -330
    },
    "id": "h8B4up8HRybv",
    "outputId": "63792e23-7f1c-4e38-e0b2-c0096dd7f8a0"
   },
   "outputs": [
    {
     "data": {
      "text/plain": [
       "array([1, 0, 0, ..., 0, 1, 1])"
      ]
     },
     "execution_count": 36,
     "metadata": {},
     "output_type": "execute_result"
    }
   ],
   "source": [
    "y"
   ]
  },
  {
   "cell_type": "markdown",
   "metadata": {},
   "source": [
    "#### Converting array of our target variable to matrix by using get_dummies, as our model accepts matrix as input."
   ]
  },
  {
   "cell_type": "code",
   "execution_count": 55,
   "metadata": {
    "executionInfo": {
     "elapsed": 21,
     "status": "ok",
     "timestamp": 1630821035878,
     "user": {
      "displayName": "Manoj Garg",
      "photoUrl": "",
      "userId": "11657736091832416040"
     },
     "user_tz": -330
    },
    "id": "lWaGdrcvRrla"
   },
   "outputs": [
    {
     "data": {
      "text/plain": [
       "array([[0, 1],\n",
       "       [1, 0],\n",
       "       [1, 0],\n",
       "       ...,\n",
       "       [1, 0],\n",
       "       [0, 1],\n",
       "       [0, 1]], dtype=uint8)"
      ]
     },
     "execution_count": 55,
     "metadata": {},
     "output_type": "execute_result"
    }
   ],
   "source": [
    "Y = pd.get_dummies(data['is_sarcastic']).values\n",
    "Y"
   ]
  },
  {
   "cell_type": "markdown",
   "metadata": {
    "id": "njDbCa09gPZt"
   },
   "source": [
    "## Splitting data to train & test"
   ]
  },
  {
   "cell_type": "code",
   "execution_count": 57,
   "metadata": {
    "executionInfo": {
     "elapsed": 20,
     "status": "ok",
     "timestamp": 1630821035878,
     "user": {
      "displayName": "Manoj Garg",
      "photoUrl": "",
      "userId": "11657736091832416040"
     },
     "user_tz": -330
    },
    "id": "JxfwbrbuKbk2"
   },
   "outputs": [],
   "source": [
    "from sklearn.model_selection import train_test_split\n",
    "x_train , x_test , y_train , y_test = train_test_split(X, Y , random_state = 29 , test_size = 0.25)"
   ]
  },
  {
   "cell_type": "code",
   "execution_count": 58,
   "metadata": {
    "colab": {
     "base_uri": "https://localhost:8080/"
    },
    "executionInfo": {
     "elapsed": 21,
     "status": "ok",
     "timestamp": 1630821035879,
     "user": {
      "displayName": "Manoj Garg",
      "photoUrl": "",
      "userId": "11657736091832416040"
     },
     "user_tz": -330
    },
    "id": "oyTuL_1RNsub",
    "outputId": "71ea8ce0-3b79-4f57-cfac-beeef5bebbcb"
   },
   "outputs": [
    {
     "name": "stdout",
     "output_type": "stream",
     "text": [
      "(21464, 200)\n",
      "(7155, 200)\n",
      "(21464, 2)\n",
      "(7155, 2)\n"
     ]
    }
   ],
   "source": [
    "print(x_train.shape)\n",
    "print(x_test.shape)\n",
    "print(y_train.shape)\n",
    "print(y_test.shape)"
   ]
  },
  {
   "cell_type": "code",
   "execution_count": 59,
   "metadata": {
    "executionInfo": {
     "elapsed": 18,
     "status": "ok",
     "timestamp": 1630821035880,
     "user": {
      "displayName": "Manoj Garg",
      "photoUrl": "",
      "userId": "11657736091832416040"
     },
     "user_tz": -330
    },
    "id": "pdbXlqq17W6a"
   },
   "outputs": [],
   "source": [
    "import tensorflow as tf\n",
    "from keras.metrics import categorical_accuracy\n",
    "from tensorflow.keras.models import Sequential\n",
    "from tensorflow.keras.layers import Embedding, Bidirectional, LSTM, Dense, Dropout, Flatten\n",
    "from functools import partial"
   ]
  },
  {
   "cell_type": "code",
   "execution_count": 60,
   "metadata": {
    "executionInfo": {
     "elapsed": 649,
     "status": "ok",
     "timestamp": 1630821036511,
     "user": {
      "displayName": "Manoj Garg",
      "photoUrl": "",
      "userId": "11657736091832416040"
     },
     "user_tz": -330
    },
    "id": "C9T2CawJOFdc"
   },
   "outputs": [],
   "source": [
    "tf.keras.backend.clear_session()\n",
    "\n",
    "#Building the LSTM Model\n",
    "model_lstm = tf.keras.Sequential([\n",
    "    tf.keras.layers.Embedding(len(t.word_index) + 1, #Vocablury size\n",
    "                                    embedding_size, #Embedding size\n",
    "                                    weights=[embedding_matrix],\n",
    "                                    input_length=maxlen),\n",
    "    tf.keras.layers.Bidirectional(tf.keras.layers.LSTM(20,return_sequences=True),merge_mode='sum'),\n",
    "    tf.keras.layers.Flatten(),\n",
    "    tf.keras.layers.Dense(500, activation='relu'),\n",
    "    tf.keras.layers.Dense(100, activation='relu'),\n",
    "    tf.keras.layers.Dense(50, activation='relu'),\n",
    "    tf.keras.layers.Dense(2, activation='softmax')\n",
    "])\n"
   ]
  },
  {
   "cell_type": "code",
   "execution_count": 61,
   "metadata": {
    "executionInfo": {
     "elapsed": 8,
     "status": "ok",
     "timestamp": 1630821036512,
     "user": {
      "displayName": "Manoj Garg",
      "photoUrl": "",
      "userId": "11657736091832416040"
     },
     "user_tz": -330
    },
    "id": "k-Tki-dL2Y9z"
   },
   "outputs": [],
   "source": [
    "lr_schedule = tf.keras.optimizers.schedules.ExponentialDecay(\n",
    "    initial_learning_rate=1e-2,\n",
    "    decay_steps=10000,\n",
    "    decay_rate=0.9)\n",
    "optimizer = tf.keras.optimizers.Adam(learning_rate=lr_schedule)"
   ]
  },
  {
   "cell_type": "code",
   "execution_count": 62,
   "metadata": {
    "executionInfo": {
     "elapsed": 8,
     "status": "ok",
     "timestamp": 1630821036513,
     "user": {
      "displayName": "Manoj Garg",
      "photoUrl": "",
      "userId": "11657736091832416040"
     },
     "user_tz": -330
    },
    "id": "S0-xFUT8OKr-"
   },
   "outputs": [],
   "source": [
    "es = EarlyStopping(monitor='val_loss', mode='min', verbose=1, patience=5)\n",
    "model_lstm.compile(loss='categorical_crossentropy',optimizer=optimizer,metrics=['accuracy'])"
   ]
  },
  {
   "cell_type": "code",
   "execution_count": 63,
   "metadata": {
    "colab": {
     "base_uri": "https://localhost:8080/"
    },
    "executionInfo": {
     "elapsed": 37236,
     "status": "ok",
     "timestamp": 1630821073742,
     "user": {
      "displayName": "Manoj Garg",
      "photoUrl": "",
      "userId": "11657736091832416040"
     },
     "user_tz": -330
    },
    "id": "e9rifsXtONgP",
    "outputId": "efddf7f7-0cb9-4b29-c272-959c298a7245"
   },
   "outputs": [
    {
     "name": "stdout",
     "output_type": "stream",
     "text": [
      "Epoch 1/5\n",
      "215/215 [==============================] - 23s 97ms/step - loss: 0.6413 - accuracy: 0.6648 - val_loss: 0.4044 - val_accuracy: 0.8133\n",
      "Epoch 2/5\n",
      "215/215 [==============================] - 20s 94ms/step - loss: 0.3073 - accuracy: 0.8632 - val_loss: 0.3504 - val_accuracy: 0.8412\n",
      "Epoch 3/5\n",
      "215/215 [==============================] - 21s 99ms/step - loss: 0.2399 - accuracy: 0.8990 - val_loss: 0.4242 - val_accuracy: 0.8377\n",
      "Epoch 4/5\n",
      "215/215 [==============================] - 24s 110ms/step - loss: 0.1941 - accuracy: 0.9235 - val_loss: 0.3967 - val_accuracy: 0.8428\n",
      "Epoch 5/5\n",
      "215/215 [==============================] - 35s 161ms/step - loss: 0.1503 - accuracy: 0.9384 - val_loss: 0.4892 - val_accuracy: 0.8281\n"
     ]
    }
   ],
   "source": [
    "model_lstm_history = model_lstm.fit(x_train,y_train,batch_size=100,epochs=5,validation_data=(x_test,y_test),callbacks=[es])\n"
   ]
  },
  {
   "cell_type": "code",
   "execution_count": 75,
   "metadata": {
    "colab": {
     "base_uri": "https://localhost:8080/",
     "height": 513
    },
    "executionInfo": {
     "elapsed": 26,
     "status": "ok",
     "timestamp": 1630821073743,
     "user": {
      "displayName": "Manoj Garg",
      "photoUrl": "",
      "userId": "11657736091832416040"
     },
     "user_tz": -330
    },
    "id": "nH9ahomTs0Ud",
    "outputId": "d856d78a-368b-4b56-e4f7-2d3ea622a434"
   },
   "outputs": [
    {
     "data": {
      "image/png": "[encoded data removed]",
      "text/plain": [
       "<Figure size 432x288 with 1 Axes>"
      ]
     },
     "metadata": {
      "needs_background": "light"
     },
     "output_type": "display_data"
    },
    {
     "data": {
      "image/png": "[encoded data removed]",
      "text/plain": [
       "<Figure size 432x288 with 1 Axes>"
      ]
     },
     "metadata": {
      "needs_background": "light"
     },
     "output_type": "display_data"
    }
   ],
   "source": [
    "#Evaluating Accuracy and Loss of the model\n",
    "%matplotlib inline\n",
    "acc=model_lstm_history.history['accuracy']\n",
    "val_acc=model_lstm_history.history['val_accuracy']\n",
    "loss=model_lstm_history.history['loss']\n",
    "val_loss=model_lstm_history.history['val_loss']\n",
    "\n",
    "epochs=range(len(acc)) #No. of epochs\n",
    "\n",
    "plt.plot(epochs,acc,'r',label='Training Set Accuracy')\n",
    "plt.plot(epochs,val_acc,'g',label='Validation Set Accuracy')\n",
    "plt.legend()\n",
    "plt.figure()\n",
    "\n",
    "#Plot training and validation loss per epoch\n",
    "plt.plot(epochs,loss,'r',label='Training Set Loss')\n",
    "plt.plot(epochs,val_loss,'g',label='Validation Set Loss')\n",
    "plt.legend()\n",
    "plt.show()"
   ]
  },
  {
   "cell_type": "code",
   "execution_count": 65,
   "metadata": {
    "colab": {
     "base_uri": "https://localhost:8080/"
    },
    "executionInfo": {
     "elapsed": 1356,
     "status": "ok",
     "timestamp": 1630821075089,
     "user": {
      "displayName": "Manoj Garg",
      "photoUrl": "",
      "userId": "11657736091832416040"
     },
     "user_tz": -330
    },
    "id": "4El7M_tqOPVb",
    "outputId": "feb07d03-10c0-4c29-ad2a-3067c889b4a9"
   },
   "outputs": [
    {
     "name": "stdout",
     "output_type": "stream",
     "text": [
      "224/224 - 3s - loss: 0.4892 - accuracy: 0.8281\n",
      "Accuracy: 82.809222\n"
     ]
    }
   ],
   "source": [
    "# evaluate the model\n",
    "loss, accuracy = model_lstm.evaluate(x_test,y_test, verbose=2)\n",
    "print('Accuracy: %f' % (accuracy*100))"
   ]
  },
  {
   "cell_type": "code",
   "execution_count": 74,
   "metadata": {
    "colab": {
     "base_uri": "https://localhost:8080/"
    },
    "executionInfo": {
     "elapsed": 548,
     "status": "ok",
     "timestamp": 1630821075634,
     "user": {
      "displayName": "Manoj Garg",
      "photoUrl": "",
      "userId": "11657736091832416040"
     },
     "user_tz": -330
    },
    "id": "FOqg6k5aU_CW",
    "outputId": "f81c391d-0296-4abe-e1f1-c31e560b6749"
   },
   "outputs": [
    {
     "name": "stdout",
     "output_type": "stream",
     "text": [
      "1/1 [==============================] - 0s 27ms/step\n",
      "Sarcastic\n"
     ]
    }
   ],
   "source": [
    "headline = ['Well, what a surprise.']\n",
    "headline = t.texts_to_sequences(headline)\n",
    "headline = pad_sequences(headline , maxlen = maxlen , truncating = 'post')\n",
    "sentiment = model_lstm.predict(headline,batch_size=1,verbose = 1)[0]\n",
    "if(np.argmax(sentiment) == 0):\n",
    "    print(\"Non-sarcastic\")\n",
    "elif (np.argmax(sentiment) == 1):\n",
    "    print(\"Sarcastic\")"
   ]
  },
  {
   "cell_type": "markdown",
   "metadata": {
    "id": "LIXpvRg-cSqM"
   },
   "source": [
    "## Conclusions\n",
    "\n",
    "1. Loss for training set is decreasing in every epoch, but for validation set it is not getting along, we can work on decreasing that.\n",
    "2. Tried different optimizers, decided to move along with Adam with combination of specific learning rate.\n",
    "3. Accuracy is increasing, but it is over-fitting a little bit as the increase in training accuracy is way much more if compared with validation accuracy.\n",
    "4. Used different combination of dense layer with LSTM layer having 20 size.\n",
    "5. We can use different set of features to overcome over-fitting of our model.\n",
    "6. We can further optimize our model by using distinct maxlen, embedding_size."
   ]
  }
 ],
 "metadata": {
  "accelerator": "GPU",
  "colab": {
   "collapsed_sections": [],
   "name": "Sequence NLP Project Assessment.ipynb",
   "provenance": []
  },
  "kernelspec": {
   "display_name": "Python 3",
   "language": "python",
   "name": "python3"
  },
  "language_info": {
   "codemirror_mode": {
    "name": "ipython",
    "version": 3
   },
   "file_extension": ".py",
   "mimetype": "text/x-python",
   "name": "python",
   "nbconvert_exporter": "python",
   "pygments_lexer": "ipython3",
   "version": "3.7.4"
  }
 },
 "nbformat": 4,
 "nbformat_minor": 1
}
