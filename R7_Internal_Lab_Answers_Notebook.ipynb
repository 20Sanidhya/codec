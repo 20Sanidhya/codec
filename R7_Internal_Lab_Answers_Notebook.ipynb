{
  "nbformat": 4,
  "nbformat_minor": 0,
  "metadata": {
    "colab": {
      "name": "Copy of R7 Internal Lab Question Notebook (1).ipynb",
      "provenance": [],
      "collapsed_sections": []
    },
    "kernelspec": {
      "name": "python3",
      "display_name": "Python 3"
    },
    "accelerator": "GPU"
  },
  "cells": [
    {
      "cell_type": "markdown",
      "metadata": {
        "id": "Hbln1O8gBEih"
      },
      "source": [
        "![alt text](https://drive.google.com/uc?export=view&id=1UXScsVx_Wni_JuDdB8LeTnM6jsPfIwkW)\n",
        "\n",
        "Proprietary content. © Great Learning. All Rights Reserved. Unauthorized use or distribution prohibited."
      ]
    },
    {
      "cell_type": "markdown",
      "metadata": {
        "id": "Q91KqmCRu64D"
      },
      "source": [
        "# Mobile Phone Detection in an Image\n",
        "\n",
        "## Domain\n",
        "Mobile Phones, Computer Vision\n",
        "\n",
        "## Business Context\n",
        "The ability to process visual information using machine learning algorithms can be very useful. Electronics companies can use it to identify the presence of a mobile in an image (location), mobile brand just by looking at the image, and minor damages if there are any. The computer vision field has multiple applications and based on the available data it can be used to meet business objectives.\n",
        "Here, we will use a simple convolutional neural network to classify images with and without mobile phones. \n",
        " \n",
        "## Objective\n",
        "\n",
        "Given the images and label whether an image has a mobile phone or not, can you train a model that allows you to map and find the presence of mobile phones within the selected images.\n"
      ]
    },
    {
      "cell_type": "markdown",
      "metadata": {
        "id": "b0Qw0vEHBUvm"
      },
      "source": [
        "### Package version\n",
        "- tensorflow==2.3.0\n",
        "- matplotlib==3.2.1\n",
        "- h5py==2.10.0\n",
        "- google==2.0.3"
      ]
    },
    {
      "cell_type": "markdown",
      "metadata": {
        "id": "yapdCjMwFl02"
      },
      "source": [
        "## Table of Content\n",
        "\n",
        "1. Import Libraries\n",
        "\n",
        "2. Setting options\n",
        "\n",
        "3. Data loading and Data Analysis \n",
        "\n",
        "4. Visualize and Standardize the data\n",
        "\n",
        "5. Model Building\n",
        "\n",
        "6. Evaluate Model\n",
        "\n",
        "7. Conclusion and Interpretation"
      ]
    },
    {
      "cell_type": "markdown",
      "metadata": {
        "id": "mSnjdKmpG82x"
      },
      "source": [
        "## 1. Import Libraries"
      ]
    },
    {
      "cell_type": "markdown",
      "metadata": {
        "id": "8z2Z7-OAs8QG"
      },
      "source": [
        "Let us start by mounting the drive"
      ]
    },
    {
      "cell_type": "code",
      "metadata": {
        "id": "REFUdThmpz_d",
        "colab": {
          "base_uri": "https://localhost:8080/"
        },
        "outputId": "6581a9f6-7a4d-4fa3-cb9b-2c2c9729544a"
      },
      "source": [
        "from google.colab import drive\n",
        "drive.mount('/content/drive')"
      ],
      "execution_count": 1,
      "outputs": [
        {
          "output_type": "stream",
          "text": [
            "Mounted at /content/drive\n"
          ],
          "name": "stdout"
        }
      ]
    },
    {
      "cell_type": "markdown",
      "metadata": {
        "id": "ucnevGLoyKf_"
      },
      "source": [
        "Let us check for the version of installed tensorflow."
      ]
    },
    {
      "cell_type": "code",
      "metadata": {
        "id": "W5as47YxyJVk",
        "colab": {
          "base_uri": "https://localhost:8080/"
        },
        "outputId": "aa63566e-eee5-4ac3-9ff2-457113fe9c10"
      },
      "source": [
        "# used to supress display of warnings\n",
        "import warnings\n",
        "\n",
        "# os is used to provide a way of using operating system dependent functionality\n",
        "# We use it for setting working folder\n",
        "import os\n",
        "\n",
        "# Pandas is used for data manipulation and analysis\n",
        "import pandas as pd \n",
        "\n",
        "# Numpy is used for large, multi-dimensional arrays and matrices, along with mathematical operators on these arrays\n",
        "import numpy as np\n",
        "\n",
        "# Matplotlib is a data visualization library for 2D plots of arrays, built on NumPy arrays \n",
        "# and designed to work with the broader SciPy stack\n",
        "import matplotlib.pyplot as plt\n",
        "%matplotlib inline\n",
        "from matplotlib import pyplot\n",
        "\n",
        "# Seaborn is based on matplotlib, which aids in drawing attractive and informative statistical graphics.\n",
        "import seaborn as sns\n",
        "import tensorflow \n",
        "print(tensorflow.__version__)\n",
        "\n",
        "\n",
        "from keras.utils import np_utils\n",
        "from keras.models import Sequential\n",
        "from keras.layers.core import Dense, Dropout, Activation, Flatten\n",
        "from keras.layers.convolutional import Conv2D, MaxPooling2D\n",
        "from keras.optimizers import SGD\n",
        "from keras.constraints import maxnorm\n",
        "from PIL import Image\n",
        "from PIL import ImageMath"
      ],
      "execution_count": 2,
      "outputs": [
        {
          "output_type": "stream",
          "text": [
            "2.4.1\n"
          ],
          "name": "stdout"
        }
      ]
    },
    {
      "cell_type": "markdown",
      "metadata": {
        "id": "MRj03V7AHAYe"
      },
      "source": [
        "## 2. Setting Options"
      ]
    },
    {
      "cell_type": "code",
      "metadata": {
        "id": "7I9dogoKHn6w"
      },
      "source": [
        "# suppress display of warnings\n",
        "warnings.filterwarnings('ignore')\n",
        "\n",
        "# display all dataframe columns\n",
        "pd.options.display.max_columns = None\n",
        "\n",
        "# display all dataframe rows\n",
        "pd.options.display.max_rows = None"
      ],
      "execution_count": 3,
      "outputs": []
    },
    {
      "cell_type": "markdown",
      "metadata": {
        "id": "ufAqcNVCHIut"
      },
      "source": [
        "## 3. Data loading and Data Analysis "
      ]
    },
    {
      "cell_type": "code",
      "metadata": {
        "id": "zWPOVY3gDOQo"
      },
      "source": [
        "import cv2\n",
        "from google.colab.patches import cv2_imshow\n",
        "path = '/content/drive/MyDrive/GL- AIML/Lab on Computer Vision/mobile-images/'\n",
        "img = cv2.imread(path + 'yes-mobile/img121.png')"
      ],
      "execution_count": 4,
      "outputs": []
    },
    {
      "cell_type": "code",
      "metadata": {
        "colab": {
          "base_uri": "https://localhost:8080/",
          "height": 107
        },
        "id": "SBgTqogf11Wv",
        "outputId": "f836ef81-6cbe-4c42-cf69-ba489ea196a2"
      },
      "source": [
        "cv2_imshow(img)"
      ],
      "execution_count": 5,
      "outputs": [
        {
          "output_type": "display_data",
          "data": {
            "image/png": "[encoded data removed]",
            "text/plain": [
              "<PIL.Image.Image image mode=RGB size=90x90 at 0x7F7470659F50>"
            ]
          },
          "metadata": {
            "tags": []
          }
        }
      ]
    },
    {
      "cell_type": "code",
      "metadata": {
        "colab": {
          "base_uri": "https://localhost:8080/"
        },
        "id": "qMbQ3gCb11dz",
        "outputId": "917d9e3d-ee02-4ab5-86f3-f97e275930db"
      },
      "source": [
        "img.shape"
      ],
      "execution_count": 6,
      "outputs": [
        {
          "output_type": "execute_result",
          "data": {
            "text/plain": [
              "(90, 90, 3)"
            ]
          },
          "metadata": {
            "tags": []
          },
          "execution_count": 6
        }
      ]
    },
    {
      "cell_type": "markdown",
      "metadata": {
        "id": "LDYN63hu2s97"
      },
      "source": [
        "### Read images and save the pixel information to an array. Also, save their corresponding label to a list ( YES-Mobile - 1, NO-Mobile - 0). Resize the images to shape (128, 128, 3)."
      ]
    },
    {
      "cell_type": "code",
      "metadata": {
        "id": "HGC48i_MzhZk"
      },
      "source": [
        "yes_img = []\n",
        "yes_label = []\n",
        "for i in os.listdir(path + 'yes-mobile'):\n",
        "   a = cv2.imread(path + 'yes-mobile/' + i)\n",
        "   a = cv2.resize(a, (128,128))\n",
        "   yes_img.append(a)\n",
        "   yes_label.append(1)"
      ],
      "execution_count": 7,
      "outputs": []
    },
    {
      "cell_type": "code",
      "metadata": {
        "id": "--3DxbwS6fe5"
      },
      "source": [
        "no_img = []\n",
        "no_label = []\n",
        "for i in os.listdir(path + 'no-mobile'):\n",
        "   a = cv2.imread(path + 'no-mobile/' + i)\n",
        "   a = cv2.resize(a, (128,128))\n",
        "   no_img.append(a)\n",
        "   no_label.append(0)"
      ],
      "execution_count": 8,
      "outputs": []
    },
    {
      "cell_type": "markdown",
      "metadata": {
        "id": "FrfveOqeFtfz"
      },
      "source": [
        "### Check shape and size of the images"
      ]
    },
    {
      "cell_type": "code",
      "metadata": {
        "colab": {
          "base_uri": "https://localhost:8080/"
        },
        "id": "eoWUjILX65bO",
        "outputId": "f6415bfd-046d-4e2f-b5bd-d0ef8a199d21"
      },
      "source": [
        "len(yes_img)"
      ],
      "execution_count": 9,
      "outputs": [
        {
          "output_type": "execute_result",
          "data": {
            "text/plain": [
              "124"
            ]
          },
          "metadata": {
            "tags": []
          },
          "execution_count": 9
        }
      ]
    },
    {
      "cell_type": "code",
      "metadata": {
        "id": "aFCElAp7FtAS",
        "colab": {
          "base_uri": "https://localhost:8080/"
        },
        "outputId": "d77c5865-fdcb-43d1-98aa-1fed06c95cc2"
      },
      "source": [
        "len(no_img)"
      ],
      "execution_count": 10,
      "outputs": [
        {
          "output_type": "execute_result",
          "data": {
            "text/plain": [
              "121"
            ]
          },
          "metadata": {
            "tags": []
          },
          "execution_count": 10
        }
      ]
    },
    {
      "cell_type": "code",
      "metadata": {
        "colab": {
          "base_uri": "https://localhost:8080/"
        },
        "id": "kH4X1bZg7d6r",
        "outputId": "5451b373-068a-4f84-d9bc-4f579c2eb491"
      },
      "source": [
        "yes_img[0].shape"
      ],
      "execution_count": 11,
      "outputs": [
        {
          "output_type": "execute_result",
          "data": {
            "text/plain": [
              "(128, 128, 3)"
            ]
          },
          "metadata": {
            "tags": []
          },
          "execution_count": 11
        }
      ]
    },
    {
      "cell_type": "code",
      "metadata": {
        "colab": {
          "base_uri": "https://localhost:8080/"
        },
        "id": "ufMhZf-H7ePq",
        "outputId": "f5b1684b-4971-49f7-e031-86aa99ef51de"
      },
      "source": [
        "no_img[0].shape"
      ],
      "execution_count": 12,
      "outputs": [
        {
          "output_type": "execute_result",
          "data": {
            "text/plain": [
              "(128, 128, 3)"
            ]
          },
          "metadata": {
            "tags": []
          },
          "execution_count": 12
        }
      ]
    },
    {
      "cell_type": "code",
      "metadata": {
        "colab": {
          "base_uri": "https://localhost:8080/"
        },
        "id": "mUgkJto27s8O",
        "outputId": "3e9bc396-decf-4765-d8da-deec20d549f7"
      },
      "source": [
        "yes_label[0]"
      ],
      "execution_count": 13,
      "outputs": [
        {
          "output_type": "execute_result",
          "data": {
            "text/plain": [
              "1"
            ]
          },
          "metadata": {
            "tags": []
          },
          "execution_count": 13
        }
      ]
    },
    {
      "cell_type": "code",
      "metadata": {
        "colab": {
          "base_uri": "https://localhost:8080/"
        },
        "id": "Jt-hTEtl7tEp",
        "outputId": "61b7e452-a001-4e4a-d7fa-baeb2ff75bbc"
      },
      "source": [
        "no_label[0]"
      ],
      "execution_count": 14,
      "outputs": [
        {
          "output_type": "execute_result",
          "data": {
            "text/plain": [
              "0"
            ]
          },
          "metadata": {
            "tags": []
          },
          "execution_count": 14
        }
      ]
    },
    {
      "cell_type": "markdown",
      "metadata": {
        "id": "t3NWL9_NIdwK"
      },
      "source": [
        "###  What is the percentage of images with and without mobile phone in the data"
      ]
    },
    {
      "cell_type": "code",
      "metadata": {
        "id": "NKy7Lw5mFVTi",
        "colab": {
          "base_uri": "https://localhost:8080/"
        },
        "outputId": "a90e7ac9-50a8-497e-ac5a-387dffafdb9a"
      },
      "source": [
        "# with images\n",
        "len(yes_img) / (len(yes_img) + len(no_img))"
      ],
      "execution_count": 15,
      "outputs": [
        {
          "output_type": "execute_result",
          "data": {
            "text/plain": [
              "0.5061224489795918"
            ]
          },
          "metadata": {
            "tags": []
          },
          "execution_count": 15
        }
      ]
    },
    {
      "cell_type": "code",
      "metadata": {
        "colab": {
          "base_uri": "https://localhost:8080/"
        },
        "id": "LT7VnGjy8LCc",
        "outputId": "92a77281-d1b2-4164-b084-4614a05df1cd"
      },
      "source": [
        "#without images\n",
        "len(no_img) / (len(yes_img) + len(no_img))"
      ],
      "execution_count": 16,
      "outputs": [
        {
          "output_type": "execute_result",
          "data": {
            "text/plain": [
              "0.49387755102040815"
            ]
          },
          "metadata": {
            "tags": []
          },
          "execution_count": 16
        }
      ]
    },
    {
      "cell_type": "markdown",
      "metadata": {
        "id": "JVZ2zlPNDOmi"
      },
      "source": [
        "### Concatenate above two arrays (array having image details of with and without mobile) into one variable and check the final size of the data\n",
        "### Concatenate lists having label data into one list"
      ]
    },
    {
      "cell_type": "code",
      "metadata": {
        "id": "88u5BB9NDs2N",
        "colab": {
          "base_uri": "https://localhost:8080/"
        },
        "outputId": "a32b1c7d-f772-42c5-b52e-68fda1ed85ad"
      },
      "source": [
        "X = np.concatenate((yes_img,no_img),axis = 0)\n",
        "len(X)"
      ],
      "execution_count": 17,
      "outputs": [
        {
          "output_type": "execute_result",
          "data": {
            "text/plain": [
              "245"
            ]
          },
          "metadata": {
            "tags": []
          },
          "execution_count": 17
        }
      ]
    },
    {
      "cell_type": "code",
      "metadata": {
        "colab": {
          "base_uri": "https://localhost:8080/"
        },
        "id": "eLMaWfXH9uYg",
        "outputId": "b293727c-bf93-46f4-a3a6-d052ac7aefd3"
      },
      "source": [
        "y = np.concatenate((yes_label,no_label),axis = 0)\n",
        "len(y)"
      ],
      "execution_count": 18,
      "outputs": [
        {
          "output_type": "execute_result",
          "data": {
            "text/plain": [
              "245"
            ]
          },
          "metadata": {
            "tags": []
          },
          "execution_count": 18
        }
      ]
    },
    {
      "cell_type": "code",
      "metadata": {
        "colab": {
          "base_uri": "https://localhost:8080/"
        },
        "id": "S4WJw3e39ubC",
        "outputId": "0ae03070-9a00-4852-ee53-a9e754ff51b7"
      },
      "source": [
        "print('Yes Labels : ',y[:10])\n",
        "print('No Labels : ',y[235:])\n",
        "print('Mixed Labels : ',y[119:129])"
      ],
      "execution_count": 19,
      "outputs": [
        {
          "output_type": "stream",
          "text": [
            "Yes Labels :  [1 1 1 1 1 1 1 1 1 1]\n",
            "No Labels :  [0 0 0 0 0 0 0 0 0 0]\n",
            "Mixed Labels :  [1 1 1 1 1 0 0 0 0 0]\n"
          ],
          "name": "stdout"
        }
      ]
    },
    {
      "cell_type": "markdown",
      "metadata": {
        "id": "rVv66DvSDvY0"
      },
      "source": [
        "### Shuffle the above data and labels ( Data and label should be in sync)"
      ]
    },
    {
      "cell_type": "code",
      "metadata": {
        "id": "JC2Uu4r0EFDX"
      },
      "source": [
        "from sklearn.utils import shuffle\n",
        "X,y = shuffle(X,y,random_state = 1)"
      ],
      "execution_count": 20,
      "outputs": []
    },
    {
      "cell_type": "markdown",
      "metadata": {
        "id": "IERuYS1BHuCq"
      },
      "source": [
        "## 4. Visualize and Standardize the data"
      ]
    },
    {
      "cell_type": "markdown",
      "metadata": {
        "id": "kxODV6HKykuc"
      },
      "source": [
        "### Visualise the first 10 images in the data and print their corresponding labels."
      ]
    },
    {
      "cell_type": "code",
      "metadata": {
        "id": "__YELlwqE8Cl",
        "colab": {
          "base_uri": "https://localhost:8080/",
          "height": 105
        },
        "outputId": "4815d30f-1290-4585-bf99-0c1e21898258"
      },
      "source": [
        "plt.figure(figsize = (12,4))\n",
        "for i in range(10):\n",
        "  plt.subplot(1,10,i+1)\n",
        "  plt.imshow(X[i])\n",
        "  plt.axis('off')\n",
        "print(y[0:10])"
      ],
      "execution_count": 21,
      "outputs": [
        {
          "output_type": "stream",
          "text": [
            "[1 0 0 0 1 0 1 0 0 1]\n"
          ],
          "name": "stdout"
        },
        {
          "output_type": "display_data",
          "data": {
            "image/png": "[encoded data removed]",
            "text/plain": [
              "<Figure size 864x288 with 10 Axes>"
            ]
          },
          "metadata": {
            "tags": [],
            "needs_background": "light"
          }
        }
      ]
    },
    {
      "cell_type": "markdown",
      "metadata": {
        "id": "LUvm8AMvEFaA"
      },
      "source": [
        "### Split the data into train and test"
      ]
    },
    {
      "cell_type": "code",
      "metadata": {
        "id": "kKVEf3zWF0Qq"
      },
      "source": [
        "from sklearn.model_selection import train_test_split\n",
        "X_train,X_test,y_train,y_test = train_test_split(X,y,test_size = 0.2, random_state =1)"
      ],
      "execution_count": 22,
      "outputs": []
    },
    {
      "cell_type": "markdown",
      "metadata": {
        "id": "y1ZC0x0I3-jo"
      },
      "source": [
        "### Print shape of the X train and X test data"
      ]
    },
    {
      "cell_type": "code",
      "metadata": {
        "id": "Dm8gmQt2FEUd",
        "colab": {
          "base_uri": "https://localhost:8080/"
        },
        "outputId": "949f94a3-5126-4727-c81a-7f1f73cd4d82"
      },
      "source": [
        "print('X-Train Shape :',X_train.shape)\n",
        "print('y-Train Shape :',y_train.shape)\n",
        "print('X-Test Shape :',X_test.shape)\n",
        "print('y-Test Shape :',y_test.shape)"
      ],
      "execution_count": 23,
      "outputs": [
        {
          "output_type": "stream",
          "text": [
            "X-Train Shape : (196, 128, 128, 3)\n",
            "y-Train Shape : (196,)\n",
            "X-Test Shape : (49, 128, 128, 3)\n",
            "y-Test Shape : (49,)\n"
          ],
          "name": "stdout"
        }
      ]
    },
    {
      "cell_type": "markdown",
      "metadata": {
        "id": "W1Zgo_3LFSWE"
      },
      "source": [
        "### Normalize the data by dividing by 255"
      ]
    },
    {
      "cell_type": "code",
      "metadata": {
        "id": "AMDN2gK0FZ22"
      },
      "source": [
        "X_train_n = X_train/255.0\n",
        "X_test_n = X_test/255.0"
      ],
      "execution_count": 24,
      "outputs": []
    },
    {
      "cell_type": "markdown",
      "metadata": {
        "id": "bogxx3cezol1"
      },
      "source": [
        "###  One hot encode the labels for train and test data \n",
        "Hint:- We need to one hot encode the labels for the model to understand the labels better. We will be using categorical cross entropy as our loss function and for this purpose we need our labels to be in one hot encoded format."
      ]
    },
    {
      "cell_type": "code",
      "metadata": {
        "id": "4R0pPQFBFjp1"
      },
      "source": [
        "## In case of unordered categories use OHE else to_categorical\n",
        "from tensorflow.keras.utils import to_categorical\n",
        "y_train_n = to_categorical(y_train)\n",
        "y_test_n = to_categorical(y_test)"
      ],
      "execution_count": 25,
      "outputs": []
    },
    {
      "cell_type": "code",
      "metadata": {
        "colab": {
          "base_uri": "https://localhost:8080/"
        },
        "id": "hoCxbUvvGUma",
        "outputId": "bb5ce84b-f029-41c9-f233-98c6737b4188"
      },
      "source": [
        "y_train_n[5]"
      ],
      "execution_count": 26,
      "outputs": [
        {
          "output_type": "execute_result",
          "data": {
            "text/plain": [
              "array([1., 0.], dtype=float32)"
            ]
          },
          "metadata": {
            "tags": []
          },
          "execution_count": 26
        }
      ]
    },
    {
      "cell_type": "markdown",
      "metadata": {
        "id": "xztigzzfITt-"
      },
      "source": [
        "## 5. Model building"
      ]
    },
    {
      "cell_type": "markdown",
      "metadata": {
        "id": "UJDUoaEj1d6e"
      },
      "source": [
        "### Define the model architecture using TensorFlow with a Conv2D layer followed by dense layers with activation as ReLu and softmax respectively. "
      ]
    },
    {
      "cell_type": "code",
      "metadata": {
        "id": "RhT_PLicFuDu"
      },
      "source": [
        "from tensorflow.keras import optimizers\n",
        "from tensorflow.keras.models import Sequential\n",
        "from tensorflow.keras.layers import Dense, Flatten, Dropout, Activation\n",
        "from tensorflow.keras import layers\n",
        "from tensorflow.keras.layers import Conv2D, MaxPooling2D"
      ],
      "execution_count": 27,
      "outputs": []
    },
    {
      "cell_type": "code",
      "metadata": {
        "id": "j78rotwpcZ_0"
      },
      "source": [
        "n_filter = 32\n",
        "n_classes = 2\n",
        "n_conv = 3\n",
        "inputshape = (128,128,3)\n",
        "batch_size = 20\n",
        "epochs = 20"
      ],
      "execution_count": 28,
      "outputs": []
    },
    {
      "cell_type": "code",
      "metadata": {
        "id": "AWg3oSPTcaDh"
      },
      "source": [
        "def cnn_model():\n",
        "  model = Sequential()\n",
        "  model.add(Conv2D(32, (n_conv,n_conv), activation= 'relu', input_shape = inputshape))\n",
        "  model.add(MaxPooling2D(2,2))\n",
        "  model.add(Conv2D(64, (n_conv,n_conv), activation= 'relu'))\n",
        "  model.add(MaxPooling2D(2,2))\n",
        "  model.add(Flatten())\n",
        "  model.add(Dense(n_classes,activation= 'softmax' ))\n",
        "  return model"
      ],
      "execution_count": 29,
      "outputs": []
    },
    {
      "cell_type": "code",
      "metadata": {
        "id": "aMzBsLsucaHP"
      },
      "source": [
        "cnn = cnn_model()"
      ],
      "execution_count": 30,
      "outputs": []
    },
    {
      "cell_type": "code",
      "metadata": {
        "colab": {
          "base_uri": "https://localhost:8080/"
        },
        "id": "gIJE5PrahMHS",
        "outputId": "4628c602-725f-4d3e-dc77-431603ab42f6"
      },
      "source": [
        "cnn.summary()"
      ],
      "execution_count": 31,
      "outputs": [
        {
          "output_type": "stream",
          "text": [
            "Model: \"sequential\"\n",
            "_________________________________________________________________\n",
            "Layer (type)                 Output Shape              Param #   \n",
            "=================================================================\n",
            "conv2d (Conv2D)              (None, 126, 126, 32)      896       \n",
            "_________________________________________________________________\n",
            "max_pooling2d (MaxPooling2D) (None, 63, 63, 32)        0         \n",
            "_________________________________________________________________\n",
            "conv2d_1 (Conv2D)            (None, 61, 61, 64)        18496     \n",
            "_________________________________________________________________\n",
            "max_pooling2d_1 (MaxPooling2 (None, 30, 30, 64)        0         \n",
            "_________________________________________________________________\n",
            "flatten (Flatten)            (None, 57600)             0         \n",
            "_________________________________________________________________\n",
            "dense (Dense)                (None, 2)                 115202    \n",
            "=================================================================\n",
            "Total params: 134,594\n",
            "Trainable params: 134,594\n",
            "Non-trainable params: 0\n",
            "_________________________________________________________________\n"
          ],
          "name": "stdout"
        }
      ]
    },
    {
      "cell_type": "markdown",
      "metadata": {
        "id": "DAJbHWAbF1Ko"
      },
      "source": [
        "### Compile the above model using appropriate loss metric. Try with sgd, adam optimizer and \"accuracy\" as metrics. "
      ]
    },
    {
      "cell_type": "code",
      "metadata": {
        "id": "wBcO5lBmGMCW"
      },
      "source": [
        "ad = optimizers.Adam(lr =0.001)\n",
        "cnn.compile(optimizer=ad, loss='binary_crossentropy', metrics=['accuracy'])"
      ],
      "execution_count": 32,
      "outputs": []
    },
    {
      "cell_type": "markdown",
      "metadata": {
        "id": "5t90ufg46jLl"
      },
      "source": [
        "### Fit the model on the training dataset along with it's equivalent one hot encoded labels"
      ]
    },
    {
      "cell_type": "code",
      "metadata": {
        "id": "1OSrPoT9GPKs",
        "colab": {
          "base_uri": "https://localhost:8080/"
        },
        "outputId": "606007f8-e8de-46ca-cd1f-b1a59ea38588"
      },
      "source": [
        "history = cnn.fit(X_train_n,y_train_n, validation_data=(X_test_n,y_test_n),batch_size=32, epochs= 10, verbose =2)"
      ],
      "execution_count": 33,
      "outputs": [
        {
          "output_type": "stream",
          "text": [
            "Epoch 1/10\n",
            "7/7 - 31s - loss: 0.8937 - accuracy: 0.6327 - val_loss: 0.6793 - val_accuracy: 0.7551\n",
            "Epoch 2/10\n",
            "7/7 - 0s - loss: 0.6277 - accuracy: 0.8061 - val_loss: 0.5917 - val_accuracy: 0.7755\n",
            "Epoch 3/10\n",
            "7/7 - 0s - loss: 0.5269 - accuracy: 0.8520 - val_loss: 0.6007 - val_accuracy: 0.6939\n",
            "Epoch 4/10\n",
            "7/7 - 0s - loss: 0.4554 - accuracy: 0.8112 - val_loss: 0.4550 - val_accuracy: 0.6531\n",
            "Epoch 5/10\n",
            "7/7 - 0s - loss: 0.4697 - accuracy: 0.7092 - val_loss: 0.5371 - val_accuracy: 0.7551\n",
            "Epoch 6/10\n",
            "7/7 - 0s - loss: 0.3466 - accuracy: 0.8776 - val_loss: 0.3434 - val_accuracy: 0.8367\n",
            "Epoch 7/10\n",
            "7/7 - 0s - loss: 0.2879 - accuracy: 0.8724 - val_loss: 0.3456 - val_accuracy: 0.7959\n",
            "Epoch 8/10\n",
            "7/7 - 0s - loss: 0.2807 - accuracy: 0.8878 - val_loss: 0.3855 - val_accuracy: 0.8163\n",
            "Epoch 9/10\n",
            "7/7 - 0s - loss: 0.2476 - accuracy: 0.8980 - val_loss: 0.2814 - val_accuracy: 0.8571\n",
            "Epoch 10/10\n",
            "7/7 - 0s - loss: 0.2281 - accuracy: 0.8929 - val_loss: 0.2743 - val_accuracy: 0.8776\n"
          ],
          "name": "stdout"
        }
      ]
    },
    {
      "cell_type": "markdown",
      "metadata": {
        "id": "algw3-VGIj-N"
      },
      "source": [
        "## 6. Evaluate the model\n"
      ]
    },
    {
      "cell_type": "markdown",
      "metadata": {
        "id": "PJ44TJ4gGQUC"
      },
      "source": [
        "### Evaluate the model on test data and print loss and accuracy"
      ]
    },
    {
      "cell_type": "code",
      "metadata": {
        "id": "ThluFnGNGWh7",
        "colab": {
          "base_uri": "https://localhost:8080/"
        },
        "outputId": "67c27bde-c154-49f5-cc65-970920f73d96"
      },
      "source": [
        "cnn.evaluate(X_test_n,y_test_n)"
      ],
      "execution_count": 34,
      "outputs": [
        {
          "output_type": "stream",
          "text": [
            "2/2 [==============================] - 0s 9ms/step - loss: 0.2743 - accuracy: 0.8776\n"
          ],
          "name": "stdout"
        },
        {
          "output_type": "execute_result",
          "data": {
            "text/plain": [
              "[0.27429601550102234, 0.8775510191917419]"
            ]
          },
          "metadata": {
            "tags": []
          },
          "execution_count": 34
        }
      ]
    },
    {
      "cell_type": "markdown",
      "metadata": {
        "id": "hyzKGfaKGapH"
      },
      "source": [
        "### Predict label data of the test data and check confusion matrix"
      ]
    },
    {
      "cell_type": "code",
      "metadata": {
        "id": "nCGn6lGemFGV"
      },
      "source": [
        "y_pred_cl = cnn.predict_classes(X_test_n)"
      ],
      "execution_count": 35,
      "outputs": []
    },
    {
      "cell_type": "code",
      "metadata": {
        "colab": {
          "base_uri": "https://localhost:8080/"
        },
        "id": "w66LVGWWmFKL",
        "outputId": "cf1a87d2-49fb-4826-e510-ce116a5af7ae"
      },
      "source": [
        "from sklearn.metrics import confusion_matrix\n",
        "confusion_matrix(y_test,y_pred_cl)"
      ],
      "execution_count": 36,
      "outputs": [
        {
          "output_type": "execute_result",
          "data": {
            "text/plain": [
              "array([[18,  1],\n",
              "       [ 5, 25]])"
            ]
          },
          "metadata": {
            "tags": []
          },
          "execution_count": 36
        }
      ]
    },
    {
      "cell_type": "markdown",
      "metadata": {
        "id": "C3cctwoeGwHa"
      },
      "source": [
        "### Display test images and their predicted label for a few samples"
      ]
    },
    {
      "cell_type": "code",
      "metadata": {
        "id": "FvbAyNElHH_G",
        "colab": {
          "base_uri": "https://localhost:8080/",
          "height": 105
        },
        "outputId": "04670a0d-83a8-4e5f-9942-5e1c99cf399e"
      },
      "source": [
        "plt.figure(figsize = (12,4))\n",
        "for i in range(10):\n",
        "  plt.subplot(1,10,i+1)\n",
        "  plt.imshow(X_test_n[i])\n",
        "  plt.axis('off')\n",
        "print(y_pred_cl[0:10])"
      ],
      "execution_count": 38,
      "outputs": [
        {
          "output_type": "stream",
          "text": [
            "[1 1 1 0 0 1 0 1 0 1]\n"
          ],
          "name": "stdout"
        },
        {
          "output_type": "display_data",
          "data": {
            "image/png": "[encoded data removed]",
            "text/plain": [
              "<Figure size 864x288 with 10 Axes>"
            ]
          },
          "metadata": {
            "tags": [],
            "needs_background": "light"
          }
        }
      ]
    },
    {
      "cell_type": "markdown",
      "metadata": {
        "id": "ZruCtc4GGkVr"
      },
      "source": [
        "### Print following plots\n",
        "1. Plot training accuracy vs validation accuracy\n",
        "2. Plot training loss vs validation loss"
      ]
    },
    {
      "cell_type": "code",
      "metadata": {
        "id": "2nf532Q_HWWM",
        "colab": {
          "base_uri": "https://localhost:8080/",
          "height": 562
        },
        "outputId": "786b9760-2b1d-4f60-912e-ec6f39d21388"
      },
      "source": [
        "accuracy = history.history['accuracy']\n",
        "val_accuracy = history.history['val_accuracy']\n",
        "loss = history.history['loss']\n",
        "val_loss = history.history['val_loss']\n",
        "epochs = range(len(accuracy))\n",
        "# Get number of epochs\n",
        "plt.plot ( epochs, accuracy, label = 'training accuracy' )\n",
        "plt.plot ( epochs, val_accuracy, label = 'validation accuracy' )\n",
        "plt.title ('Training and validation accuracy')\n",
        "plt.legend(loc = 'lower right')\n",
        "plt.figure()\n",
        "plt.plot ( epochs, loss, label = 'training loss' )\n",
        "plt.plot ( epochs, val_loss, label = 'validation loss' )\n",
        "plt.legend(loc = 'upper right')\n",
        "plt.title ('Training and validation loss')"
      ],
      "execution_count": 39,
      "outputs": [
        {
          "output_type": "execute_result",
          "data": {
            "text/plain": [
              "Text(0.5, 1.0, 'Training and validation loss')"
            ]
          },
          "metadata": {
            "tags": []
          },
          "execution_count": 39
        },
        {
          "output_type": "display_data",
          "data": {
            "image/png": "[encoded data removed]",
            "text/plain": [
              "<Figure size 432x288 with 1 Axes>"
            ]
          },
          "metadata": {
            "tags": [],
            "needs_background": "light"
          }
        },
        {
          "output_type": "display_data",
          "data": {
            "image/png": "[encoded data removed]",
            "text/plain": [
              "<Figure size 432x288 with 1 Axes>"
            ]
          },
          "metadata": {
            "tags": [],
            "needs_background": "light"
          }
        }
      ]
    },
    {
      "cell_type": "markdown",
      "metadata": {
        "id": "hH63EB-xGHJq"
      },
      "source": [
        "## 7.  Conclusion and Interpretation"
      ]
    },
    {
      "cell_type": "markdown",
      "metadata": {
        "id": "5ixHI0FcHIMo"
      },
      "source": [
        "### Write your observations and findings"
      ]
    },
    {
      "cell_type": "markdown",
      "metadata": {
        "id": "26O8feM0_pE4"
      },
      "source": [
        "- We have 2 classes and their ratio is approx 1:1, that is why we are using simple convulation neural net.\n",
        "- We have 245 images and we used 134,594 trainable parameters to train our network. \n",
        "- We used binary_crossentropy as we only have two classes in our target variable.\n",
        "- After 8 epochs learning is minimal in both validation and test data.\n",
        "- Loss is changing drastically in last few epochs for validation data.\n",
        "- Although we can further tune our model as our model is not over/under - fitting using different values of our hyper-parameters.\n"
      ]
    },
    {
      "cell_type": "markdown",
      "metadata": {
        "id": "WnoWVy0GGPs5"
      },
      "source": [
        "## 8. Further Explore"
      ]
    },
    {
      "cell_type": "markdown",
      "metadata": {
        "id": "NKEwRyW9JnCd"
      },
      "source": [
        "### Try changing a few hyperparameters such as number of layers in the network or number of units in a hidden layer or try different activation functions in the hidden layers and see if you get better results than the previous network"
      ]
    },
    {
      "cell_type": "code",
      "metadata": {
        "id": "OFRVkBdnHbW4"
      },
      "source": [
        ""
      ],
      "execution_count": 32,
      "outputs": []
    }
  ]
}