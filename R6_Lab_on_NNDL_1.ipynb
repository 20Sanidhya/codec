{
  "nbformat": 4,
  "nbformat_minor": 0,
  "metadata": {
    "colab": {
      "name": "R6_Lab_on_NNDL-1.ipynb",
      "provenance": [],
      "collapsed_sections": [],
      "toc_visible": true
    },
    "kernelspec": {
      "display_name": "Python 3",
      "language": "python",
      "name": "python3"
    },
    "language_info": {
      "codemirror_mode": {
        "name": "ipython",
        "version": 3
      },
      "file_extension": ".py",
      "mimetype": "text/x-python",
      "name": "python",
      "nbconvert_exporter": "python",
      "pygments_lexer": "ipython3",
      "version": "3.7.2"
    },
    "accelerator": "GPU"
  },
  "cells": [
    {
      "cell_type": "markdown",
      "metadata": {
        "id": "3ukwOXvX_EV1"
      },
      "source": [
        "<img src=\"http://drive.google.com/uc?export=view&id=1tpOCamr9aWz817atPnyXus8w5gJ3mIts\" width=500px>"
      ]
    },
    {
      "cell_type": "markdown",
      "metadata": {
        "id": "j9QC42UQq5Lk"
      },
      "source": [
        "## Lab on NNDL Part 1: Tensorflow Basic"
      ]
    },
    {
      "cell_type": "markdown",
      "metadata": {
        "id": "g_vbQDYan7_7"
      },
      "source": [
        "### Tensors\n",
        "\n",
        "Tensors are multi-dimensional arrays with a uniform type"
      ]
    },
    {
      "cell_type": "markdown",
      "metadata": {
        "id": "tCkxkFqIoUIR"
      },
      "source": [
        "##Question 1\n"
      ]
    },
    {
      "cell_type": "markdown",
      "metadata": {
        "id": "7V8C8aa0rGgN"
      },
      "source": [
        "### Create a rank-0 tensor\n",
        "- A \"scalar\" is called \"rank-0\" tensor\n",
        "- the tensor should contain value 99.99"
      ]
    },
    {
      "cell_type": "code",
      "metadata": {
        "id": "CmKTQCizra4b"
      },
      "source": [
        "import tensorflow as tf"
      ],
      "execution_count": 4,
      "outputs": []
    },
    {
      "cell_type": "code",
      "metadata": {
        "id": "B6H2X7SinZbZ"
      },
      "source": [
        "scalar = tf.constant(99.99)"
      ],
      "execution_count": 5,
      "outputs": []
    },
    {
      "cell_type": "markdown",
      "metadata": {
        "id": "xRm8MfpVrkyz"
      },
      "source": [
        "### Create a rank-1 tensor\n",
        "\n",
        "- A \"vector\" (list) is called \"rank-1\" tensor [9,8,7,6,5]\n",
        "- A vector has one axis"
      ]
    },
    {
      "cell_type": "code",
      "metadata": {
        "id": "_TvWoaBOnZXX",
        "colab": {
          "base_uri": "https://localhost:8080/"
        },
        "outputId": "1f31dbe0-5146-4783-bc85-78765a7204c4"
      },
      "source": [
        "vector = tf.constant([9,8,7,6,5])\n",
        "print(vector)"
      ],
      "execution_count": 6,
      "outputs": [
        {
          "output_type": "stream",
          "text": [
            "tf.Tensor([9 8 7 6 5], shape=(5,), dtype=int32)\n"
          ],
          "name": "stdout"
        }
      ]
    },
    {
      "cell_type": "markdown",
      "metadata": {
        "id": "KtiVmuAAsJjP"
      },
      "source": [
        "### Add 7 to all the elements of the above created tensor\n",
        "- Use Broadcasting"
      ]
    },
    {
      "cell_type": "code",
      "metadata": {
        "id": "lENBbpfIsskl",
        "colab": {
          "base_uri": "https://localhost:8080/"
        },
        "outputId": "859b5519-a6b9-436b-cc88-d33ed97a5cc3"
      },
      "source": [
        "vector_n = vector+7\n",
        "print(vector_n)"
      ],
      "execution_count": 7,
      "outputs": [
        {
          "output_type": "stream",
          "text": [
            "tf.Tensor([16 15 14 13 12], shape=(5,), dtype=int32)\n"
          ],
          "name": "stdout"
        }
      ]
    },
    {
      "cell_type": "markdown",
      "metadata": {
        "id": "U9QVsYQwtR9u"
      },
      "source": [
        "### Create a rank-2 tensor\n",
        "[[1, 2, 3], [ 4,5,6]]\n",
        "- A \"matrix\"  \"is called rank-2\" tensor\n",
        "- It has 2 axes"
      ]
    },
    {
      "cell_type": "code",
      "metadata": {
        "id": "IZx8BooXnZUr",
        "colab": {
          "base_uri": "https://localhost:8080/"
        },
        "outputId": "b765618c-7a97-4ce3-e1af-e404d1d90c0e"
      },
      "source": [
        "matrix = tf.constant([[1, 2, 3], [ 4,5,6]])\n",
        "print(matrix)"
      ],
      "execution_count": 8,
      "outputs": [
        {
          "output_type": "stream",
          "text": [
            "tf.Tensor(\n",
            "[[1 2 3]\n",
            " [4 5 6]], shape=(2, 3), dtype=int32)\n"
          ],
          "name": "stdout"
        }
      ]
    },
    {
      "cell_type": "markdown",
      "metadata": {
        "id": "mrnIxOUmvX_M"
      },
      "source": [
        "### Change the shape of the above created tensor to shape (3,2)"
      ]
    },
    {
      "cell_type": "code",
      "metadata": {
        "id": "YdSy6RQLvXbi",
        "colab": {
          "base_uri": "https://localhost:8080/"
        },
        "outputId": "cdfa2927-561e-49be-f6ea-ddf444c9f1cb"
      },
      "source": [
        "matrix_n = tf.reshape(matrix,shape = (3,2))\n",
        "matrix_n"
      ],
      "execution_count": 9,
      "outputs": [
        {
          "output_type": "execute_result",
          "data": {
            "text/plain": [
              "<tf.Tensor: shape=(3, 2), dtype=int32, numpy=\n",
              "array([[1, 2],\n",
              "       [3, 4],\n",
              "       [5, 6]], dtype=int32)>"
            ]
          },
          "metadata": {
            "tags": []
          },
          "execution_count": 9
        }
      ]
    },
    {
      "cell_type": "markdown",
      "metadata": {
        "id": "1ZXjABdNuWAT"
      },
      "source": [
        "### Check the dtype, number of axes and the shape of tensor"
      ]
    },
    {
      "cell_type": "code",
      "metadata": {
        "id": "vXj5xnbEuUwz",
        "colab": {
          "base_uri": "https://localhost:8080/"
        },
        "outputId": "2aecbf56-2bcb-437b-c4af-9044be7100d1"
      },
      "source": [
        "print('Datatype of matrix : ', matrix.dtype)\n",
        "print('Number of Axes of matrix : ', matrix.ndim)\n",
        "print('Shape of matrix : ', matrix.shape)"
      ],
      "execution_count": 10,
      "outputs": [
        {
          "output_type": "stream",
          "text": [
            "Datatype of matrix :  <dtype: 'int32'>\n",
            "Number of Axes of matrix :  2\n",
            "Shape of matrix :  (2, 3)\n"
          ],
          "name": "stdout"
        }
      ]
    },
    {
      "cell_type": "markdown",
      "metadata": {
        "id": "yGsgzedZvB54"
      },
      "source": [
        "- Tensors can have more axes, like rank-3 or rank-4 tensor"
      ]
    },
    {
      "cell_type": "markdown",
      "metadata": {
        "id": "qYvGihNn_D2K"
      },
      "source": [
        "##Lab on NNDL Part 2: Cars selling price prediction"
      ]
    },
    {
      "cell_type": "markdown",
      "metadata": {
        "id": "S7nm5pOt_DkP"
      },
      "source": [
        "### Data Set -\n",
        "Domain: Finance, Business \n",
        "Data: https://www.kaggle.com/nehalbirla/vehicle-dataset-from-cardekho?select=Car+details+v3.csv\n",
        "\n",
        "The data contains various features of used cars.\n",
        "\n",
        "#### Features\n",
        "\n",
        "1. year\n",
        "\n",
        "2. selling_price: Price at which it was sold (**Target Feature**)\n",
        "\n",
        "3. km_driven\n",
        "\n",
        "4. fuel\n",
        "\n",
        "5. seller_type\n",
        "\n",
        "6. transmission\n",
        "\n",
        "7. Owner\n",
        "\n",
        "8. mileage\n",
        "\n",
        "9. engine\n",
        "\n",
        "10. max_power\n",
        "\n",
        "11. seats\n",
        "\n",
        " - - - - - - - - - - - - - - - - - - - - - - - - - - - - - - - - - - - - - - - - - - - - - - - "
      ]
    },
    {
      "cell_type": "markdown",
      "metadata": {
        "id": "YeoiMbH7djEv"
      },
      "source": [
        "##Objective\n",
        "\n",
        "Predict the selling price of used cars based on the given features"
      ]
    },
    {
      "cell_type": "markdown",
      "metadata": {
        "id": "sZXp-T3-xRNN"
      },
      "source": [
        "## Steps to perform:\n",
        "\n",
        "#### 1. Import important Libraries\n",
        "#### 2. Import Dataset and exploration\n",
        "#### 3. Data Pre-processing\n",
        "#### 4. Training a Neural Network Model\n",
        "#### 5. Evaluating the model\n",
        "#### 6. Conclusion\n",
        "\n",
        "\n",
        "- - - - - - - - - - - - - - - - - - - - - - - - - - - - - - - - - - - - - - - - - - - - - - - - - - -\n",
        "\n",
        "\n",
        "- - - - - - - - - - - - - - - - - - - - - - - - - - - - - - - - - - - - - - - - - - - - - - - - - - -\n"
      ]
    },
    {
      "cell_type": "markdown",
      "metadata": {
        "id": "pvJ1pMTuzUkv"
      },
      "source": [
        "### Import important libraries"
      ]
    },
    {
      "cell_type": "code",
      "metadata": {
        "id": "PGqq9f8VdLba"
      },
      "source": [
        "import pandas as pd\n",
        "import numpy as np\n",
        "from google.colab import drive\n",
        "import warnings\n",
        "warnings.filterwarnings('ignore')\n",
        "from tensorflow import keras\n",
        "from tensorflow.keras import Sequential\n",
        "from keras.layers import Dense\n",
        "from keras.layers import Dropout"
      ],
      "execution_count": 11,
      "outputs": []
    },
    {
      "cell_type": "code",
      "metadata": {
        "colab": {
          "base_uri": "https://localhost:8080/"
        },
        "id": "M1CVnCw1Ow8t",
        "outputId": "7e02783f-e6f4-43d0-d792-7f4e91cf56c0"
      },
      "source": [
        "drive.mount('/content/drive')"
      ],
      "execution_count": 43,
      "outputs": [
        {
          "output_type": "stream",
          "text": [
            "Drive already mounted at /content/drive; to attempt to forcibly remount, call drive.mount(\"/content/drive\", force_remount=True).\n"
          ],
          "name": "stdout"
        }
      ]
    },
    {
      "cell_type": "markdown",
      "metadata": {
        "id": "_88voqAH-O6J"
      },
      "source": [
        "## Question 1"
      ]
    },
    {
      "cell_type": "markdown",
      "metadata": {
        "id": "dRHCeJqP-evf"
      },
      "source": [
        "### Load the data\n",
        "- Load the data, check the shape of data"
      ]
    },
    {
      "cell_type": "code",
      "metadata": {
        "id": "Gr4YcffYd1FQ",
        "colab": {
          "base_uri": "https://localhost:8080/"
        },
        "outputId": "0e0af80e-eb05-4cf2-bda0-64412c4634f0"
      },
      "source": [
        "df = pd.read_csv('/content/drive/MyDrive/GL- AIML/NeuralNetworks/Lab/car_data-1.csv')\n",
        "df.shape"
      ],
      "execution_count": 13,
      "outputs": [
        {
          "output_type": "execute_result",
          "data": {
            "text/plain": [
              "(8128, 11)"
            ]
          },
          "metadata": {
            "tags": []
          },
          "execution_count": 13
        }
      ]
    },
    {
      "cell_type": "code",
      "metadata": {
        "id": "-gDC6cSW_FSK",
        "colab": {
          "base_uri": "https://localhost:8080/",
          "height": 204
        },
        "outputId": "707fb7e3-1b14-4f7e-e172-bafd42a6cd87"
      },
      "source": [
        "df.head()"
      ],
      "execution_count": 14,
      "outputs": [
        {
          "output_type": "execute_result",
          "data": {
            "text/html": [
              "<div>\n",
              "<style scoped>\n",
              "    .dataframe tbody tr th:only-of-type {\n",
              "        vertical-align: middle;\n",
              "    }\n",
              "\n",
              "    .dataframe tbody tr th {\n",
              "        vertical-align: top;\n",
              "    }\n",
              "\n",
              "    .dataframe thead th {\n",
              "        text-align: right;\n",
              "    }\n",
              "</style>\n",
              "<table border=\"1\" class=\"dataframe\">\n",
              "  <thead>\n",
              "    <tr style=\"text-align: right;\">\n",
              "      <th></th>\n",
              "      <th>year</th>\n",
              "      <th>selling_price</th>\n",
              "      <th>km_driven</th>\n",
              "      <th>fuel</th>\n",
              "      <th>seller_type</th>\n",
              "      <th>transmission</th>\n",
              "      <th>owner</th>\n",
              "      <th>mileage</th>\n",
              "      <th>engine</th>\n",
              "      <th>max_power</th>\n",
              "      <th>seats</th>\n",
              "    </tr>\n",
              "  </thead>\n",
              "  <tbody>\n",
              "    <tr>\n",
              "      <th>0</th>\n",
              "      <td>2014</td>\n",
              "      <td>450000</td>\n",
              "      <td>145500</td>\n",
              "      <td>Diesel</td>\n",
              "      <td>Individual</td>\n",
              "      <td>Manual</td>\n",
              "      <td>First Owner</td>\n",
              "      <td>23.4 kmpl</td>\n",
              "      <td>1248 CC</td>\n",
              "      <td>74 bhp</td>\n",
              "      <td>5.0</td>\n",
              "    </tr>\n",
              "    <tr>\n",
              "      <th>1</th>\n",
              "      <td>2014</td>\n",
              "      <td>370000</td>\n",
              "      <td>120000</td>\n",
              "      <td>Diesel</td>\n",
              "      <td>Individual</td>\n",
              "      <td>Manual</td>\n",
              "      <td>Second Owner</td>\n",
              "      <td>21.14 kmpl</td>\n",
              "      <td>1498 CC</td>\n",
              "      <td>103.52 bhp</td>\n",
              "      <td>5.0</td>\n",
              "    </tr>\n",
              "    <tr>\n",
              "      <th>2</th>\n",
              "      <td>2006</td>\n",
              "      <td>158000</td>\n",
              "      <td>140000</td>\n",
              "      <td>Petrol</td>\n",
              "      <td>Individual</td>\n",
              "      <td>Manual</td>\n",
              "      <td>Third Owner</td>\n",
              "      <td>17.7 kmpl</td>\n",
              "      <td>1497 CC</td>\n",
              "      <td>78 bhp</td>\n",
              "      <td>5.0</td>\n",
              "    </tr>\n",
              "    <tr>\n",
              "      <th>3</th>\n",
              "      <td>2010</td>\n",
              "      <td>225000</td>\n",
              "      <td>127000</td>\n",
              "      <td>Diesel</td>\n",
              "      <td>Individual</td>\n",
              "      <td>Manual</td>\n",
              "      <td>First Owner</td>\n",
              "      <td>23.0 kmpl</td>\n",
              "      <td>1396 CC</td>\n",
              "      <td>90 bhp</td>\n",
              "      <td>5.0</td>\n",
              "    </tr>\n",
              "    <tr>\n",
              "      <th>4</th>\n",
              "      <td>2007</td>\n",
              "      <td>130000</td>\n",
              "      <td>120000</td>\n",
              "      <td>Petrol</td>\n",
              "      <td>Individual</td>\n",
              "      <td>Manual</td>\n",
              "      <td>First Owner</td>\n",
              "      <td>16.1 kmpl</td>\n",
              "      <td>1298 CC</td>\n",
              "      <td>88.2 bhp</td>\n",
              "      <td>5.0</td>\n",
              "    </tr>\n",
              "  </tbody>\n",
              "</table>\n",
              "</div>"
            ],
            "text/plain": [
              "   year  selling_price  km_driven  ...   engine   max_power seats\n",
              "0  2014         450000     145500  ...  1248 CC      74 bhp   5.0\n",
              "1  2014         370000     120000  ...  1498 CC  103.52 bhp   5.0\n",
              "2  2006         158000     140000  ...  1497 CC      78 bhp   5.0\n",
              "3  2010         225000     127000  ...  1396 CC      90 bhp   5.0\n",
              "4  2007         130000     120000  ...  1298 CC    88.2 bhp   5.0\n",
              "\n",
              "[5 rows x 11 columns]"
            ]
          },
          "metadata": {
            "tags": []
          },
          "execution_count": 14
        }
      ]
    },
    {
      "cell_type": "code",
      "metadata": {
        "id": "cgAAxzef1m37",
        "colab": {
          "base_uri": "https://localhost:8080/"
        },
        "outputId": "2e9313ed-07f2-4d89-cdcd-22f741f352f9"
      },
      "source": [
        "df.info()"
      ],
      "execution_count": 15,
      "outputs": [
        {
          "output_type": "stream",
          "text": [
            "<class 'pandas.core.frame.DataFrame'>\n",
            "RangeIndex: 8128 entries, 0 to 8127\n",
            "Data columns (total 11 columns):\n",
            " #   Column         Non-Null Count  Dtype  \n",
            "---  ------         --------------  -----  \n",
            " 0   year           8128 non-null   int64  \n",
            " 1   selling_price  8128 non-null   int64  \n",
            " 2   km_driven      8128 non-null   int64  \n",
            " 3   fuel           8128 non-null   object \n",
            " 4   seller_type    8128 non-null   object \n",
            " 5   transmission   8128 non-null   object \n",
            " 6   owner          8128 non-null   object \n",
            " 7   mileage        7907 non-null   object \n",
            " 8   engine         7907 non-null   object \n",
            " 9   max_power      7913 non-null   object \n",
            " 10  seats          7907 non-null   float64\n",
            "dtypes: float64(1), int64(3), object(7)\n",
            "memory usage: 698.6+ KB\n"
          ],
          "name": "stdout"
        }
      ]
    },
    {
      "cell_type": "markdown",
      "metadata": {
        "id": "HlLKVPVH_BCT"
      },
      "source": [
        "## Question 2"
      ]
    },
    {
      "cell_type": "markdown",
      "metadata": {
        "id": "ZxoGynuBeO4t"
      },
      "source": [
        "### Preprocess the data\n",
        "- Convert mileage, engine and max_power to numerical by extract numerical values from the strings\n",
        "- Label Encode: 'owner' column\n",
        "- One Hot Encode: 'fuel','seller_type','transmission' columns\n",
        "- Drop all the instances with null values"
      ]
    },
    {
      "cell_type": "code",
      "metadata": {
        "id": "WMsPLgUw4XED"
      },
      "source": [
        "def preprocess(x):\n",
        "  try:\n",
        "    if type(x)==str:\n",
        "      return float(x.split()[0])\n",
        "    else:\n",
        "      return x\n",
        "  except:\n",
        "      return np.nan"
      ],
      "execution_count": 16,
      "outputs": []
    },
    {
      "cell_type": "code",
      "metadata": {
        "id": "X_FaEocL4X4h"
      },
      "source": [
        "df['mileage'] = df['mileage'].map(preprocess)"
      ],
      "execution_count": 17,
      "outputs": []
    },
    {
      "cell_type": "code",
      "metadata": {
        "id": "FPAQ-IBf4Z9k"
      },
      "source": [
        "df['engine'] = df['engine'].map(preprocess)"
      ],
      "execution_count": 18,
      "outputs": []
    },
    {
      "cell_type": "code",
      "metadata": {
        "id": "aXweg7mb4gMo"
      },
      "source": [
        "df['max_power'] = df['max_power'].map(preprocess)"
      ],
      "execution_count": 19,
      "outputs": []
    },
    {
      "cell_type": "code",
      "metadata": {
        "id": "nVjmsyJc4kpO",
        "colab": {
          "base_uri": "https://localhost:8080/"
        },
        "outputId": "7c3a26c9-04b2-441b-c8c0-1b166b4cebd2"
      },
      "source": [
        "df.info()"
      ],
      "execution_count": 20,
      "outputs": [
        {
          "output_type": "stream",
          "text": [
            "<class 'pandas.core.frame.DataFrame'>\n",
            "RangeIndex: 8128 entries, 0 to 8127\n",
            "Data columns (total 11 columns):\n",
            " #   Column         Non-Null Count  Dtype  \n",
            "---  ------         --------------  -----  \n",
            " 0   year           8128 non-null   int64  \n",
            " 1   selling_price  8128 non-null   int64  \n",
            " 2   km_driven      8128 non-null   int64  \n",
            " 3   fuel           8128 non-null   object \n",
            " 4   seller_type    8128 non-null   object \n",
            " 5   transmission   8128 non-null   object \n",
            " 6   owner          8128 non-null   object \n",
            " 7   mileage        7907 non-null   float64\n",
            " 8   engine         7907 non-null   float64\n",
            " 9   max_power      7912 non-null   float64\n",
            " 10  seats          7907 non-null   float64\n",
            "dtypes: float64(4), int64(3), object(4)\n",
            "memory usage: 698.6+ KB\n"
          ],
          "name": "stdout"
        }
      ]
    },
    {
      "cell_type": "code",
      "metadata": {
        "id": "btbL2MeO4wTs"
      },
      "source": [
        "o = {'First Owner':1,'Second Owner':2,'Third Owner':3,'Fourth & Above Owner':4,'Test Drive Car':5}\n",
        "df['owner'] = df['owner'].map(o)"
      ],
      "execution_count": 21,
      "outputs": []
    },
    {
      "cell_type": "code",
      "metadata": {
        "colab": {
          "base_uri": "https://localhost:8080/",
          "height": 204
        },
        "id": "z_qFmEVEQtJ1",
        "outputId": "efd8d140-12fc-42d0-ecec-186cc61c43e5"
      },
      "source": [
        "from sklearn.preprocessing import OneHotEncoder\n",
        "ohe = OneHotEncoder(drop='first',sparse=False,dtype = np.int64)\n",
        "cat_col = ['fuel','seller_type','transmission']\n",
        "z = ohe.fit_transform(df[cat_col])\n",
        "encoded_data = pd.DataFrame(z,columns=ohe.get_feature_names(cat_col))\n",
        "encoded_data.head()"
      ],
      "execution_count": 22,
      "outputs": [
        {
          "output_type": "execute_result",
          "data": {
            "text/html": [
              "<div>\n",
              "<style scoped>\n",
              "    .dataframe tbody tr th:only-of-type {\n",
              "        vertical-align: middle;\n",
              "    }\n",
              "\n",
              "    .dataframe tbody tr th {\n",
              "        vertical-align: top;\n",
              "    }\n",
              "\n",
              "    .dataframe thead th {\n",
              "        text-align: right;\n",
              "    }\n",
              "</style>\n",
              "<table border=\"1\" class=\"dataframe\">\n",
              "  <thead>\n",
              "    <tr style=\"text-align: right;\">\n",
              "      <th></th>\n",
              "      <th>fuel_Diesel</th>\n",
              "      <th>fuel_LPG</th>\n",
              "      <th>fuel_Petrol</th>\n",
              "      <th>seller_type_Individual</th>\n",
              "      <th>seller_type_Trustmark Dealer</th>\n",
              "      <th>transmission_Manual</th>\n",
              "    </tr>\n",
              "  </thead>\n",
              "  <tbody>\n",
              "    <tr>\n",
              "      <th>0</th>\n",
              "      <td>1</td>\n",
              "      <td>0</td>\n",
              "      <td>0</td>\n",
              "      <td>1</td>\n",
              "      <td>0</td>\n",
              "      <td>1</td>\n",
              "    </tr>\n",
              "    <tr>\n",
              "      <th>1</th>\n",
              "      <td>1</td>\n",
              "      <td>0</td>\n",
              "      <td>0</td>\n",
              "      <td>1</td>\n",
              "      <td>0</td>\n",
              "      <td>1</td>\n",
              "    </tr>\n",
              "    <tr>\n",
              "      <th>2</th>\n",
              "      <td>0</td>\n",
              "      <td>0</td>\n",
              "      <td>1</td>\n",
              "      <td>1</td>\n",
              "      <td>0</td>\n",
              "      <td>1</td>\n",
              "    </tr>\n",
              "    <tr>\n",
              "      <th>3</th>\n",
              "      <td>1</td>\n",
              "      <td>0</td>\n",
              "      <td>0</td>\n",
              "      <td>1</td>\n",
              "      <td>0</td>\n",
              "      <td>1</td>\n",
              "    </tr>\n",
              "    <tr>\n",
              "      <th>4</th>\n",
              "      <td>0</td>\n",
              "      <td>0</td>\n",
              "      <td>1</td>\n",
              "      <td>1</td>\n",
              "      <td>0</td>\n",
              "      <td>1</td>\n",
              "    </tr>\n",
              "  </tbody>\n",
              "</table>\n",
              "</div>"
            ],
            "text/plain": [
              "   fuel_Diesel  fuel_LPG  ...  seller_type_Trustmark Dealer  transmission_Manual\n",
              "0            1         0  ...                             0                    1\n",
              "1            1         0  ...                             0                    1\n",
              "2            0         0  ...                             0                    1\n",
              "3            1         0  ...                             0                    1\n",
              "4            0         0  ...                             0                    1\n",
              "\n",
              "[5 rows x 6 columns]"
            ]
          },
          "metadata": {
            "tags": []
          },
          "execution_count": 22
        }
      ]
    },
    {
      "cell_type": "code",
      "metadata": {
        "colab": {
          "base_uri": "https://localhost:8080/",
          "height": 241
        },
        "id": "Qxr5r1yCQtCJ",
        "outputId": "18b10a6a-1d30-4c1a-c7f5-eb6d6cca141b"
      },
      "source": [
        "df1 = df.drop(columns=cat_col,axis=1)\n",
        "final_df = pd.concat([df1,encoded_data],axis=1)\n",
        "final_df.head()"
      ],
      "execution_count": 23,
      "outputs": [
        {
          "output_type": "execute_result",
          "data": {
            "text/html": [
              "<div>\n",
              "<style scoped>\n",
              "    .dataframe tbody tr th:only-of-type {\n",
              "        vertical-align: middle;\n",
              "    }\n",
              "\n",
              "    .dataframe tbody tr th {\n",
              "        vertical-align: top;\n",
              "    }\n",
              "\n",
              "    .dataframe thead th {\n",
              "        text-align: right;\n",
              "    }\n",
              "</style>\n",
              "<table border=\"1\" class=\"dataframe\">\n",
              "  <thead>\n",
              "    <tr style=\"text-align: right;\">\n",
              "      <th></th>\n",
              "      <th>year</th>\n",
              "      <th>selling_price</th>\n",
              "      <th>km_driven</th>\n",
              "      <th>owner</th>\n",
              "      <th>mileage</th>\n",
              "      <th>engine</th>\n",
              "      <th>max_power</th>\n",
              "      <th>seats</th>\n",
              "      <th>fuel_Diesel</th>\n",
              "      <th>fuel_LPG</th>\n",
              "      <th>fuel_Petrol</th>\n",
              "      <th>seller_type_Individual</th>\n",
              "      <th>seller_type_Trustmark Dealer</th>\n",
              "      <th>transmission_Manual</th>\n",
              "    </tr>\n",
              "  </thead>\n",
              "  <tbody>\n",
              "    <tr>\n",
              "      <th>0</th>\n",
              "      <td>2014</td>\n",
              "      <td>450000</td>\n",
              "      <td>145500</td>\n",
              "      <td>1</td>\n",
              "      <td>23.40</td>\n",
              "      <td>1248.0</td>\n",
              "      <td>74.00</td>\n",
              "      <td>5.0</td>\n",
              "      <td>1</td>\n",
              "      <td>0</td>\n",
              "      <td>0</td>\n",
              "      <td>1</td>\n",
              "      <td>0</td>\n",
              "      <td>1</td>\n",
              "    </tr>\n",
              "    <tr>\n",
              "      <th>1</th>\n",
              "      <td>2014</td>\n",
              "      <td>370000</td>\n",
              "      <td>120000</td>\n",
              "      <td>2</td>\n",
              "      <td>21.14</td>\n",
              "      <td>1498.0</td>\n",
              "      <td>103.52</td>\n",
              "      <td>5.0</td>\n",
              "      <td>1</td>\n",
              "      <td>0</td>\n",
              "      <td>0</td>\n",
              "      <td>1</td>\n",
              "      <td>0</td>\n",
              "      <td>1</td>\n",
              "    </tr>\n",
              "    <tr>\n",
              "      <th>2</th>\n",
              "      <td>2006</td>\n",
              "      <td>158000</td>\n",
              "      <td>140000</td>\n",
              "      <td>3</td>\n",
              "      <td>17.70</td>\n",
              "      <td>1497.0</td>\n",
              "      <td>78.00</td>\n",
              "      <td>5.0</td>\n",
              "      <td>0</td>\n",
              "      <td>0</td>\n",
              "      <td>1</td>\n",
              "      <td>1</td>\n",
              "      <td>0</td>\n",
              "      <td>1</td>\n",
              "    </tr>\n",
              "    <tr>\n",
              "      <th>3</th>\n",
              "      <td>2010</td>\n",
              "      <td>225000</td>\n",
              "      <td>127000</td>\n",
              "      <td>1</td>\n",
              "      <td>23.00</td>\n",
              "      <td>1396.0</td>\n",
              "      <td>90.00</td>\n",
              "      <td>5.0</td>\n",
              "      <td>1</td>\n",
              "      <td>0</td>\n",
              "      <td>0</td>\n",
              "      <td>1</td>\n",
              "      <td>0</td>\n",
              "      <td>1</td>\n",
              "    </tr>\n",
              "    <tr>\n",
              "      <th>4</th>\n",
              "      <td>2007</td>\n",
              "      <td>130000</td>\n",
              "      <td>120000</td>\n",
              "      <td>1</td>\n",
              "      <td>16.10</td>\n",
              "      <td>1298.0</td>\n",
              "      <td>88.20</td>\n",
              "      <td>5.0</td>\n",
              "      <td>0</td>\n",
              "      <td>0</td>\n",
              "      <td>1</td>\n",
              "      <td>1</td>\n",
              "      <td>0</td>\n",
              "      <td>1</td>\n",
              "    </tr>\n",
              "  </tbody>\n",
              "</table>\n",
              "</div>"
            ],
            "text/plain": [
              "   year  selling_price  ...  seller_type_Trustmark Dealer  transmission_Manual\n",
              "0  2014         450000  ...                             0                    1\n",
              "1  2014         370000  ...                             0                    1\n",
              "2  2006         158000  ...                             0                    1\n",
              "3  2010         225000  ...                             0                    1\n",
              "4  2007         130000  ...                             0                    1\n",
              "\n",
              "[5 rows x 14 columns]"
            ]
          },
          "metadata": {
            "tags": []
          },
          "execution_count": 23
        }
      ]
    },
    {
      "cell_type": "code",
      "metadata": {
        "id": "eUEwni4ie5Md"
      },
      "source": [
        "final_df.dropna(inplace=True)"
      ],
      "execution_count": 24,
      "outputs": []
    },
    {
      "cell_type": "code",
      "metadata": {
        "colab": {
          "base_uri": "https://localhost:8080/"
        },
        "id": "ssPEF79KY5ex",
        "outputId": "8b3ad739-5340-4d89-cbf9-d70dba733d31"
      },
      "source": [
        "final_df.shape"
      ],
      "execution_count": 25,
      "outputs": [
        {
          "output_type": "execute_result",
          "data": {
            "text/plain": [
              "(7906, 14)"
            ]
          },
          "metadata": {
            "tags": []
          },
          "execution_count": 25
        }
      ]
    },
    {
      "cell_type": "code",
      "metadata": {
        "colab": {
          "base_uri": "https://localhost:8080/"
        },
        "id": "WP9k4TXUQs2V",
        "outputId": "34adc131-3cde-47f8-e4b6-caa52c3e566e"
      },
      "source": [
        "final_df.info()"
      ],
      "execution_count": 26,
      "outputs": [
        {
          "output_type": "stream",
          "text": [
            "<class 'pandas.core.frame.DataFrame'>\n",
            "Int64Index: 7906 entries, 0 to 8127\n",
            "Data columns (total 14 columns):\n",
            " #   Column                        Non-Null Count  Dtype  \n",
            "---  ------                        --------------  -----  \n",
            " 0   year                          7906 non-null   int64  \n",
            " 1   selling_price                 7906 non-null   int64  \n",
            " 2   km_driven                     7906 non-null   int64  \n",
            " 3   owner                         7906 non-null   int64  \n",
            " 4   mileage                       7906 non-null   float64\n",
            " 5   engine                        7906 non-null   float64\n",
            " 6   max_power                     7906 non-null   float64\n",
            " 7   seats                         7906 non-null   float64\n",
            " 8   fuel_Diesel                   7906 non-null   int64  \n",
            " 9   fuel_LPG                      7906 non-null   int64  \n",
            " 10  fuel_Petrol                   7906 non-null   int64  \n",
            " 11  seller_type_Individual        7906 non-null   int64  \n",
            " 12  seller_type_Trustmark Dealer  7906 non-null   int64  \n",
            " 13  transmission_Manual           7906 non-null   int64  \n",
            "dtypes: float64(4), int64(10)\n",
            "memory usage: 926.5 KB\n"
          ],
          "name": "stdout"
        }
      ]
    },
    {
      "cell_type": "markdown",
      "metadata": {
        "id": "ez91ID6AEgPm"
      },
      "source": [
        "## Question 3"
      ]
    },
    {
      "cell_type": "markdown",
      "metadata": {
        "id": "9J4BlzVA_gZd"
      },
      "source": [
        "### Split the data and then scale the data\n",
        "- Split the data into ratio of 75:25 with random state=12\n",
        "- Perform standard scaling on X_train and X_test data\n"
      ]
    },
    {
      "cell_type": "code",
      "metadata": {
        "id": "IKEK8aEE_Csx"
      },
      "source": [
        "# train test split\n",
        "from sklearn.model_selection import train_test_split\n",
        "X = final_df.loc[:,final_df.columns != 'selling_price']\n",
        "y = final_df['selling_price']\n",
        "X_train,X_test,y_train,y_test = train_test_split(X,y,test_size = 0.25, random_state=12)"
      ],
      "execution_count": 27,
      "outputs": []
    },
    {
      "cell_type": "code",
      "metadata": {
        "id": "59F0lA4z8SH-"
      },
      "source": [
        "from sklearn.preprocessing import StandardScaler\n",
        "sc = StandardScaler()\n",
        "X_train_sc = sc.fit_transform(X_train)\n",
        "X_test_sc = sc.transform(X_test)"
      ],
      "execution_count": 28,
      "outputs": []
    },
    {
      "cell_type": "markdown",
      "metadata": {
        "id": "cTPhO6v-AiZt"
      },
      "source": [
        "## Question 4"
      ]
    },
    {
      "cell_type": "markdown",
      "metadata": {
        "id": "SsZXmF3NAkna"
      },
      "source": [
        "### Create a Deep Neural Network Model for Regression\n",
        "- Initialize a Sequential model\n",
        "- Add 3 hidden layer with activation relu (Number of neurons = 64,128,32 respectively)\n",
        "- Add dropout layer after each hidden layer\n",
        "- Add a Dense layer with one neuron as output, use activation linear\n",
        "  \n"
      ]
    },
    {
      "cell_type": "code",
      "metadata": {
        "id": "aKs04iIHAjxN"
      },
      "source": [
        "model = Sequential()\n",
        "\n",
        "model.add(tf.keras.Input(shape=(13)))\n",
        "\n",
        "model.add(Dense(64,activation='relu'))\n",
        "model.add(Dropout(0.15))\n",
        "model.add(Dense(128,activation='relu'))\n",
        "model.add(Dropout(0.15))\n",
        "model.add(Dense(32,activation='relu'))\n",
        "model.add(Dropout(0.15))\n",
        "\n",
        "model.add(Dense(1,activation='linear'))"
      ],
      "execution_count": 29,
      "outputs": []
    },
    {
      "cell_type": "markdown",
      "metadata": {
        "id": "aHstM0fX_-kI"
      },
      "source": [
        "### Check model summary and visualize the model"
      ]
    },
    {
      "cell_type": "code",
      "metadata": {
        "id": "xQjCMzUXBJbg",
        "colab": {
          "base_uri": "https://localhost:8080/"
        },
        "outputId": "87647d04-1dbf-4576-958e-2ea8999f3e51"
      },
      "source": [
        "model.summary()"
      ],
      "execution_count": 30,
      "outputs": [
        {
          "output_type": "stream",
          "text": [
            "Model: \"sequential_1\"\n",
            "_________________________________________________________________\n",
            "Layer (type)                 Output Shape              Param #   \n",
            "=================================================================\n",
            "dense (Dense)                (None, 64)                896       \n",
            "_________________________________________________________________\n",
            "dropout (Dropout)            (None, 64)                0         \n",
            "_________________________________________________________________\n",
            "dense_1 (Dense)              (None, 128)               8320      \n",
            "_________________________________________________________________\n",
            "dropout_1 (Dropout)          (None, 128)               0         \n",
            "_________________________________________________________________\n",
            "dense_2 (Dense)              (None, 32)                4128      \n",
            "_________________________________________________________________\n",
            "dropout_2 (Dropout)          (None, 32)                0         \n",
            "_________________________________________________________________\n",
            "dense_3 (Dense)              (None, 1)                 33        \n",
            "=================================================================\n",
            "Total params: 13,377\n",
            "Trainable params: 13,377\n",
            "Non-trainable params: 0\n",
            "_________________________________________________________________\n"
          ],
          "name": "stdout"
        }
      ]
    },
    {
      "cell_type": "code",
      "metadata": {
        "id": "Ksap6Rx0BNIw",
        "colab": {
          "base_uri": "https://localhost:8080/",
          "height": 865
        },
        "outputId": "165aa5af-eb74-4ca7-f573-2af855790138"
      },
      "source": [
        "from keras.utils.vis_utils import plot_model\n",
        "plot_model(model,show_shapes=True, show_layer_names=True)"
      ],
      "execution_count": 31,
      "outputs": [
        {
          "output_type": "execute_result",
          "data": {
            "image/png": "[encoded data removed]",
            "text/plain": [
              "<IPython.core.display.Image object>"
            ]
          },
          "metadata": {
            "tags": []
          },
          "execution_count": 31
        }
      ]
    },
    {
      "cell_type": "markdown",
      "metadata": {
        "id": "y7WTmUI-Ey95"
      },
      "source": [
        "## Question 5"
      ]
    },
    {
      "cell_type": "markdown",
      "metadata": {
        "id": "C8u_jlbABTip"
      },
      "source": [
        "### Compile the model\n",
        "\n",
        "- Compile the model\n",
        "- Use \"adam\" optimizer\n",
        "- for calculating loss, use mean absolute error\n",
        "- use R2 score (coefficient of determination) as the metric"
      ]
    },
    {
      "cell_type": "code",
      "metadata": {
        "id": "0aDDAcT7xHB0"
      },
      "source": [
        "def coeff_determination(y_true, y_pred):\n",
        "    from keras import backend as K\n",
        "    SS_res =  K.sum(K.square( y_true-y_pred ))\n",
        "    SS_tot = K.sum(K.square( y_true - K.mean(y_true) ) )\n",
        "    return ( 1 - SS_res/(SS_tot + K.epsilon()) )"
      ],
      "execution_count": 32,
      "outputs": []
    },
    {
      "cell_type": "code",
      "metadata": {
        "id": "_bxtG5P9-5BP"
      },
      "source": [
        "model.compile(optimizer='adam', loss='mean_absolute_error', metrics=[coeff_determination])"
      ],
      "execution_count": 33,
      "outputs": []
    },
    {
      "cell_type": "markdown",
      "metadata": {
        "id": "s-ntyk6k_EmT"
      },
      "source": [
        "Other metrics can also be used to track the learning of the model:\n",
        "\n",
        "To learn different metrics for classification and regression visit the following link:\n",
        "\n",
        "Link: https://keras.io/api/metrics/#usage-with-compile-amp-fit"
      ]
    },
    {
      "cell_type": "markdown",
      "metadata": {
        "id": "n9o45OHdjDhA"
      },
      "source": [
        "### Train your model\n",
        "\n",
        "- epochs: 1000\n",
        "- batch size: 32\n",
        "- Use test data as validation data\n",
        "- Also add callback, such that if validation loss doesn't decreases consecutively 10 times, stop the training and return the weights for the previous best model"
      ]
    },
    {
      "cell_type": "code",
      "metadata": {
        "id": "-Y6tA30XjOH2",
        "colab": {
          "base_uri": "https://localhost:8080/"
        },
        "outputId": "ec225ace-8dd6-4004-ff2b-528465b51d6a"
      },
      "source": [
        "callback = tf.keras.callbacks.EarlyStopping(monitor='val_loss', patience=10, restore_best_weights=True)\n",
        "history = model.fit(X_train_sc, y_train, epochs=1000, batch_size=32, validation_data=(X_test_sc, y_test), callbacks=[callback])"
      ],
      "execution_count": 34,
      "outputs": [
        {
          "output_type": "stream",
          "text": [
            "Epoch 1/1000\n",
            "186/186 [==============================] - 4s 4ms/step - loss: 673295.9823 - coeff_determination: -1.1179 - val_loss: 649041.7500 - val_coeff_determination: -1.0170\n",
            "Epoch 2/1000\n",
            "186/186 [==============================] - 1s 3ms/step - loss: 640856.9830 - coeff_determination: -1.0351 - val_loss: 544615.1875 - val_coeff_determination: -0.6678\n",
            "Epoch 3/1000\n",
            "186/186 [==============================] - 1s 3ms/step - loss: 486690.8788 - coeff_determination: -0.5077 - val_loss: 344495.9688 - val_coeff_determination: 0.0991\n",
            "Epoch 4/1000\n",
            "186/186 [==============================] - 1s 3ms/step - loss: 298764.2530 - coeff_determination: 0.2381 - val_loss: 262676.7812 - val_coeff_determination: 0.4616\n",
            "Epoch 5/1000\n",
            "186/186 [==============================] - 1s 3ms/step - loss: 255694.3672 - coeff_determination: 0.4742 - val_loss: 229689.2500 - val_coeff_determination: 0.5925\n",
            "Epoch 6/1000\n",
            "186/186 [==============================] - 1s 3ms/step - loss: 227659.4527 - coeff_determination: 0.5702 - val_loss: 211601.6094 - val_coeff_determination: 0.6561\n",
            "Epoch 7/1000\n",
            "186/186 [==============================] - 0s 3ms/step - loss: 213297.0927 - coeff_determination: 0.6262 - val_loss: 200994.1562 - val_coeff_determination: 0.6854\n",
            "Epoch 8/1000\n",
            "186/186 [==============================] - 1s 3ms/step - loss: 198652.3890 - coeff_determination: 0.6655 - val_loss: 194531.7500 - val_coeff_determination: 0.7064\n",
            "Epoch 9/1000\n",
            "186/186 [==============================] - 1s 3ms/step - loss: 192674.1178 - coeff_determination: 0.6786 - val_loss: 190399.7188 - val_coeff_determination: 0.7166\n",
            "Epoch 10/1000\n",
            "186/186 [==============================] - 1s 3ms/step - loss: 191248.4688 - coeff_determination: 0.6903 - val_loss: 187715.3281 - val_coeff_determination: 0.7238\n",
            "Epoch 11/1000\n",
            "186/186 [==============================] - 0s 3ms/step - loss: 194692.4563 - coeff_determination: 0.6848 - val_loss: 185638.1406 - val_coeff_determination: 0.7288\n",
            "Epoch 12/1000\n",
            "186/186 [==============================] - 1s 3ms/step - loss: 197397.8141 - coeff_determination: 0.6987 - val_loss: 183997.9062 - val_coeff_determination: 0.7322\n",
            "Epoch 13/1000\n",
            "186/186 [==============================] - 1s 3ms/step - loss: 188579.4536 - coeff_determination: 0.7214 - val_loss: 183039.2969 - val_coeff_determination: 0.7320\n",
            "Epoch 14/1000\n",
            "186/186 [==============================] - 1s 3ms/step - loss: 189627.8640 - coeff_determination: 0.7127 - val_loss: 181744.5938 - val_coeff_determination: 0.7363\n",
            "Epoch 15/1000\n",
            "186/186 [==============================] - 1s 3ms/step - loss: 185852.7174 - coeff_determination: 0.6955 - val_loss: 180958.1719 - val_coeff_determination: 0.7367\n",
            "Epoch 16/1000\n",
            "186/186 [==============================] - 1s 3ms/step - loss: 186108.3866 - coeff_determination: 0.7246 - val_loss: 179743.9219 - val_coeff_determination: 0.7399\n",
            "Epoch 17/1000\n",
            "186/186 [==============================] - 1s 3ms/step - loss: 186146.0200 - coeff_determination: 0.7283 - val_loss: 178728.5312 - val_coeff_determination: 0.7429\n",
            "Epoch 18/1000\n",
            "186/186 [==============================] - 1s 3ms/step - loss: 184269.4477 - coeff_determination: 0.7331 - val_loss: 177221.1094 - val_coeff_determination: 0.7468\n",
            "Epoch 19/1000\n",
            "186/186 [==============================] - 1s 3ms/step - loss: 182991.7714 - coeff_determination: 0.7292 - val_loss: 177063.1719 - val_coeff_determination: 0.7461\n",
            "Epoch 20/1000\n",
            "186/186 [==============================] - 1s 3ms/step - loss: 182168.3445 - coeff_determination: 0.7172 - val_loss: 175921.2812 - val_coeff_determination: 0.7492\n",
            "Epoch 21/1000\n",
            "186/186 [==============================] - 1s 3ms/step - loss: 182951.9957 - coeff_determination: 0.7200 - val_loss: 174710.8281 - val_coeff_determination: 0.7520\n",
            "Epoch 22/1000\n",
            "186/186 [==============================] - 1s 3ms/step - loss: 177578.4075 - coeff_determination: 0.7615 - val_loss: 174105.0469 - val_coeff_determination: 0.7540\n",
            "Epoch 23/1000\n",
            "186/186 [==============================] - 1s 3ms/step - loss: 181087.6231 - coeff_determination: 0.7239 - val_loss: 173303.5781 - val_coeff_determination: 0.7549\n",
            "Epoch 24/1000\n",
            "186/186 [==============================] - 1s 3ms/step - loss: 173760.9707 - coeff_determination: 0.7453 - val_loss: 171832.1562 - val_coeff_determination: 0.7591\n",
            "Epoch 25/1000\n",
            "186/186 [==============================] - 0s 3ms/step - loss: 177038.3745 - coeff_determination: 0.7602 - val_loss: 171396.8281 - val_coeff_determination: 0.7600\n",
            "Epoch 26/1000\n",
            "186/186 [==============================] - 1s 3ms/step - loss: 185900.8102 - coeff_determination: 0.7175 - val_loss: 170113.5469 - val_coeff_determination: 0.7617\n",
            "Epoch 27/1000\n",
            "186/186 [==============================] - 1s 3ms/step - loss: 171144.7076 - coeff_determination: 0.7488 - val_loss: 169053.2188 - val_coeff_determination: 0.7646\n",
            "Epoch 28/1000\n",
            "186/186 [==============================] - 1s 3ms/step - loss: 175551.8107 - coeff_determination: 0.7527 - val_loss: 169526.5000 - val_coeff_determination: 0.7638\n",
            "Epoch 29/1000\n",
            "186/186 [==============================] - 1s 3ms/step - loss: 169598.8379 - coeff_determination: 0.7432 - val_loss: 167297.3906 - val_coeff_determination: 0.7687\n",
            "Epoch 30/1000\n",
            "186/186 [==============================] - 1s 3ms/step - loss: 174205.6936 - coeff_determination: 0.7570 - val_loss: 166645.9844 - val_coeff_determination: 0.7690\n",
            "Epoch 31/1000\n",
            "186/186 [==============================] - 1s 3ms/step - loss: 166965.1629 - coeff_determination: 0.7594 - val_loss: 166563.8750 - val_coeff_determination: 0.7693\n",
            "Epoch 32/1000\n",
            "186/186 [==============================] - 1s 3ms/step - loss: 169991.9270 - coeff_determination: 0.7558 - val_loss: 165559.5000 - val_coeff_determination: 0.7709\n",
            "Epoch 33/1000\n",
            "186/186 [==============================] - 1s 3ms/step - loss: 178350.5282 - coeff_determination: 0.7498 - val_loss: 164850.7188 - val_coeff_determination: 0.7727\n",
            "Epoch 34/1000\n",
            "186/186 [==============================] - 1s 3ms/step - loss: 173747.5290 - coeff_determination: 0.7786 - val_loss: 163460.6406 - val_coeff_determination: 0.7739\n",
            "Epoch 35/1000\n",
            "186/186 [==============================] - 1s 3ms/step - loss: 168041.2573 - coeff_determination: 0.7630 - val_loss: 162762.6562 - val_coeff_determination: 0.7752\n",
            "Epoch 36/1000\n",
            "186/186 [==============================] - 1s 3ms/step - loss: 173236.7080 - coeff_determination: 0.7484 - val_loss: 162264.0469 - val_coeff_determination: 0.7783\n",
            "Epoch 37/1000\n",
            "186/186 [==============================] - 1s 3ms/step - loss: 172052.9332 - coeff_determination: 0.7477 - val_loss: 162541.5156 - val_coeff_determination: 0.7774\n",
            "Epoch 38/1000\n",
            "186/186 [==============================] - 1s 3ms/step - loss: 168652.5574 - coeff_determination: 0.7776 - val_loss: 160394.7500 - val_coeff_determination: 0.7802\n",
            "Epoch 39/1000\n",
            "186/186 [==============================] - 1s 3ms/step - loss: 180917.6352 - coeff_determination: 0.7549 - val_loss: 161086.7969 - val_coeff_determination: 0.7795\n",
            "Epoch 40/1000\n",
            "186/186 [==============================] - 1s 3ms/step - loss: 165747.8281 - coeff_determination: 0.7626 - val_loss: 160313.6562 - val_coeff_determination: 0.7812\n",
            "Epoch 41/1000\n",
            "186/186 [==============================] - 1s 3ms/step - loss: 163693.4621 - coeff_determination: 0.7391 - val_loss: 158724.1094 - val_coeff_determination: 0.7831\n",
            "Epoch 42/1000\n",
            "186/186 [==============================] - 1s 3ms/step - loss: 170242.4071 - coeff_determination: 0.7484 - val_loss: 158873.1719 - val_coeff_determination: 0.7832\n",
            "Epoch 43/1000\n",
            "186/186 [==============================] - 1s 3ms/step - loss: 165874.6028 - coeff_determination: 0.7628 - val_loss: 158006.6875 - val_coeff_determination: 0.7846\n",
            "Epoch 44/1000\n",
            "186/186 [==============================] - 1s 3ms/step - loss: 163088.6261 - coeff_determination: 0.7901 - val_loss: 158115.7812 - val_coeff_determination: 0.7858\n",
            "Epoch 45/1000\n",
            "186/186 [==============================] - 1s 3ms/step - loss: 170928.9949 - coeff_determination: 0.7733 - val_loss: 157230.2656 - val_coeff_determination: 0.7862\n",
            "Epoch 46/1000\n",
            "186/186 [==============================] - 1s 3ms/step - loss: 165373.8274 - coeff_determination: 0.7764 - val_loss: 156166.6094 - val_coeff_determination: 0.7873\n",
            "Epoch 47/1000\n",
            "186/186 [==============================] - 1s 3ms/step - loss: 165356.5559 - coeff_determination: 0.7856 - val_loss: 155856.3438 - val_coeff_determination: 0.7878\n",
            "Epoch 48/1000\n",
            "186/186 [==============================] - 1s 3ms/step - loss: 167573.0516 - coeff_determination: 0.7870 - val_loss: 154840.7969 - val_coeff_determination: 0.7889\n",
            "Epoch 49/1000\n",
            "186/186 [==============================] - 1s 3ms/step - loss: 169505.3213 - coeff_determination: 0.7613 - val_loss: 154775.3750 - val_coeff_determination: 0.7896\n",
            "Epoch 50/1000\n",
            "186/186 [==============================] - 1s 3ms/step - loss: 158329.4317 - coeff_determination: 0.7647 - val_loss: 154232.1875 - val_coeff_determination: 0.7913\n",
            "Epoch 51/1000\n",
            "186/186 [==============================] - 1s 3ms/step - loss: 164324.9297 - coeff_determination: 0.7742 - val_loss: 153653.9062 - val_coeff_determination: 0.7917\n",
            "Epoch 52/1000\n",
            "186/186 [==============================] - 1s 3ms/step - loss: 167916.1951 - coeff_determination: 0.7567 - val_loss: 153034.0156 - val_coeff_determination: 0.7929\n",
            "Epoch 53/1000\n",
            "186/186 [==============================] - 1s 3ms/step - loss: 159332.2816 - coeff_determination: 0.7561 - val_loss: 152213.0156 - val_coeff_determination: 0.7921\n",
            "Epoch 54/1000\n",
            "186/186 [==============================] - 1s 3ms/step - loss: 159591.3977 - coeff_determination: 0.7885 - val_loss: 151628.5938 - val_coeff_determination: 0.7936\n",
            "Epoch 55/1000\n",
            "186/186 [==============================] - 1s 3ms/step - loss: 159564.6712 - coeff_determination: 0.7963 - val_loss: 151880.4375 - val_coeff_determination: 0.7946\n",
            "Epoch 56/1000\n",
            "186/186 [==============================] - 1s 3ms/step - loss: 164519.1142 - coeff_determination: 0.7841 - val_loss: 151231.9375 - val_coeff_determination: 0.7952\n",
            "Epoch 57/1000\n",
            "186/186 [==============================] - 1s 3ms/step - loss: 155337.1447 - coeff_determination: 0.7969 - val_loss: 151017.2656 - val_coeff_determination: 0.7971\n",
            "Epoch 58/1000\n",
            "186/186 [==============================] - 1s 3ms/step - loss: 164601.5480 - coeff_determination: 0.7637 - val_loss: 150803.9531 - val_coeff_determination: 0.7989\n",
            "Epoch 59/1000\n",
            "186/186 [==============================] - 1s 3ms/step - loss: 157915.5993 - coeff_determination: 0.7776 - val_loss: 150348.9219 - val_coeff_determination: 0.7979\n",
            "Epoch 60/1000\n",
            "186/186 [==============================] - 1s 3ms/step - loss: 165616.5326 - coeff_determination: 0.7762 - val_loss: 149676.9219 - val_coeff_determination: 0.7999\n",
            "Epoch 61/1000\n",
            "186/186 [==============================] - 1s 3ms/step - loss: 161904.9633 - coeff_determination: 0.7767 - val_loss: 149751.3594 - val_coeff_determination: 0.8011\n",
            "Epoch 62/1000\n",
            "186/186 [==============================] - 1s 3ms/step - loss: 162843.2418 - coeff_determination: 0.7903 - val_loss: 148654.5625 - val_coeff_determination: 0.8011\n",
            "Epoch 63/1000\n",
            "186/186 [==============================] - 1s 3ms/step - loss: 154270.3869 - coeff_determination: 0.8032 - val_loss: 147951.8281 - val_coeff_determination: 0.8023\n",
            "Epoch 64/1000\n",
            "186/186 [==============================] - 1s 3ms/step - loss: 156646.7637 - coeff_determination: 0.8208 - val_loss: 147833.7188 - val_coeff_determination: 0.8023\n",
            "Epoch 65/1000\n",
            "186/186 [==============================] - 1s 3ms/step - loss: 160929.1174 - coeff_determination: 0.7806 - val_loss: 147954.3750 - val_coeff_determination: 0.8040\n",
            "Epoch 66/1000\n",
            "186/186 [==============================] - 1s 3ms/step - loss: 155036.5709 - coeff_determination: 0.8055 - val_loss: 146717.6562 - val_coeff_determination: 0.8047\n",
            "Epoch 67/1000\n",
            "186/186 [==============================] - 1s 3ms/step - loss: 155906.8167 - coeff_determination: 0.8045 - val_loss: 146143.6875 - val_coeff_determination: 0.8060\n",
            "Epoch 68/1000\n",
            "186/186 [==============================] - 1s 3ms/step - loss: 156574.2344 - coeff_determination: 0.8018 - val_loss: 146092.2500 - val_coeff_determination: 0.8057\n",
            "Epoch 69/1000\n",
            "186/186 [==============================] - 1s 3ms/step - loss: 161136.1698 - coeff_determination: 0.7808 - val_loss: 145562.6250 - val_coeff_determination: 0.8056\n",
            "Epoch 70/1000\n",
            "186/186 [==============================] - 1s 3ms/step - loss: 148864.1104 - coeff_determination: 0.7584 - val_loss: 144759.3438 - val_coeff_determination: 0.8058\n",
            "Epoch 71/1000\n",
            "186/186 [==============================] - 1s 3ms/step - loss: 155998.6739 - coeff_determination: 0.8075 - val_loss: 144392.3125 - val_coeff_determination: 0.8056\n",
            "Epoch 72/1000\n",
            "186/186 [==============================] - 1s 3ms/step - loss: 151997.6648 - coeff_determination: 0.8065 - val_loss: 143994.1562 - val_coeff_determination: 0.8074\n",
            "Epoch 73/1000\n",
            "186/186 [==============================] - 1s 3ms/step - loss: 161484.4988 - coeff_determination: 0.7820 - val_loss: 143701.0781 - val_coeff_determination: 0.8092\n",
            "Epoch 74/1000\n",
            "186/186 [==============================] - 1s 3ms/step - loss: 158977.2275 - coeff_determination: 0.7760 - val_loss: 143532.2344 - val_coeff_determination: 0.8108\n",
            "Epoch 75/1000\n",
            "186/186 [==============================] - 1s 3ms/step - loss: 153954.3938 - coeff_determination: 0.8013 - val_loss: 142940.7812 - val_coeff_determination: 0.8101\n",
            "Epoch 76/1000\n",
            "186/186 [==============================] - 1s 3ms/step - loss: 156201.7675 - coeff_determination: 0.7813 - val_loss: 142616.6250 - val_coeff_determination: 0.8109\n",
            "Epoch 77/1000\n",
            "186/186 [==============================] - 1s 3ms/step - loss: 153151.6495 - coeff_determination: 0.7968 - val_loss: 142607.3125 - val_coeff_determination: 0.8136\n",
            "Epoch 78/1000\n",
            "186/186 [==============================] - 1s 3ms/step - loss: 158912.4505 - coeff_determination: 0.7968 - val_loss: 142127.3438 - val_coeff_determination: 0.8135\n",
            "Epoch 79/1000\n",
            "186/186 [==============================] - 1s 3ms/step - loss: 156710.3303 - coeff_determination: 0.7880 - val_loss: 141519.6406 - val_coeff_determination: 0.8134\n",
            "Epoch 80/1000\n",
            "186/186 [==============================] - 1s 3ms/step - loss: 146908.7089 - coeff_determination: 0.8040 - val_loss: 141351.7812 - val_coeff_determination: 0.8138\n",
            "Epoch 81/1000\n",
            "186/186 [==============================] - 1s 3ms/step - loss: 146368.3115 - coeff_determination: 0.8187 - val_loss: 141123.0781 - val_coeff_determination: 0.8159\n",
            "Epoch 82/1000\n",
            "186/186 [==============================] - 1s 3ms/step - loss: 156267.5546 - coeff_determination: 0.7775 - val_loss: 140891.8281 - val_coeff_determination: 0.8158\n",
            "Epoch 83/1000\n",
            "186/186 [==============================] - 1s 3ms/step - loss: 153523.8641 - coeff_determination: 0.8036 - val_loss: 140780.5469 - val_coeff_determination: 0.8169\n",
            "Epoch 84/1000\n",
            "186/186 [==============================] - 1s 3ms/step - loss: 148551.2188 - coeff_determination: 0.8010 - val_loss: 139897.7344 - val_coeff_determination: 0.8161\n",
            "Epoch 85/1000\n",
            "186/186 [==============================] - 1s 3ms/step - loss: 149021.9837 - coeff_determination: 0.8198 - val_loss: 139670.5469 - val_coeff_determination: 0.8182\n",
            "Epoch 86/1000\n",
            "186/186 [==============================] - 1s 3ms/step - loss: 154773.0731 - coeff_determination: 0.7728 - val_loss: 139487.3906 - val_coeff_determination: 0.8191\n",
            "Epoch 87/1000\n",
            "186/186 [==============================] - 1s 3ms/step - loss: 153035.5796 - coeff_determination: 0.7836 - val_loss: 139420.1562 - val_coeff_determination: 0.8184\n",
            "Epoch 88/1000\n",
            "186/186 [==============================] - 1s 3ms/step - loss: 148417.4635 - coeff_determination: 0.8114 - val_loss: 138526.1875 - val_coeff_determination: 0.8174\n",
            "Epoch 89/1000\n",
            "186/186 [==============================] - 1s 3ms/step - loss: 154341.7724 - coeff_determination: 0.7894 - val_loss: 138245.4375 - val_coeff_determination: 0.8178\n",
            "Epoch 90/1000\n",
            "186/186 [==============================] - 1s 3ms/step - loss: 154860.6291 - coeff_determination: 0.8000 - val_loss: 138033.6094 - val_coeff_determination: 0.8201\n",
            "Epoch 91/1000\n",
            "186/186 [==============================] - 1s 3ms/step - loss: 155122.2517 - coeff_determination: 0.8159 - val_loss: 137450.1250 - val_coeff_determination: 0.8191\n",
            "Epoch 92/1000\n",
            "186/186 [==============================] - 1s 3ms/step - loss: 147393.7338 - coeff_determination: 0.8153 - val_loss: 137364.4688 - val_coeff_determination: 0.8214\n",
            "Epoch 93/1000\n",
            "186/186 [==============================] - 1s 3ms/step - loss: 147890.9330 - coeff_determination: 0.7936 - val_loss: 136950.3750 - val_coeff_determination: 0.8236\n",
            "Epoch 94/1000\n",
            "186/186 [==============================] - 1s 3ms/step - loss: 152642.3217 - coeff_determination: 0.7787 - val_loss: 137274.2344 - val_coeff_determination: 0.8236\n",
            "Epoch 95/1000\n",
            "186/186 [==============================] - 1s 3ms/step - loss: 152804.8409 - coeff_determination: 0.7821 - val_loss: 136758.5312 - val_coeff_determination: 0.8247\n",
            "Epoch 96/1000\n",
            "186/186 [==============================] - 1s 3ms/step - loss: 149190.0730 - coeff_determination: 0.7969 - val_loss: 135960.8125 - val_coeff_determination: 0.8225\n",
            "Epoch 97/1000\n",
            "186/186 [==============================] - 1s 3ms/step - loss: 143620.7216 - coeff_determination: 0.8019 - val_loss: 136698.0469 - val_coeff_determination: 0.8250\n",
            "Epoch 98/1000\n",
            "186/186 [==============================] - 1s 3ms/step - loss: 149160.3789 - coeff_determination: 0.8164 - val_loss: 135812.1719 - val_coeff_determination: 0.8274\n",
            "Epoch 99/1000\n",
            "186/186 [==============================] - 1s 3ms/step - loss: 148100.2932 - coeff_determination: 0.8264 - val_loss: 135292.9531 - val_coeff_determination: 0.8236\n",
            "Epoch 100/1000\n",
            "186/186 [==============================] - 1s 3ms/step - loss: 141646.1786 - coeff_determination: 0.7933 - val_loss: 135454.2656 - val_coeff_determination: 0.8275\n",
            "Epoch 101/1000\n",
            "186/186 [==============================] - 1s 3ms/step - loss: 145751.1035 - coeff_determination: 0.8225 - val_loss: 135073.9062 - val_coeff_determination: 0.8283\n",
            "Epoch 102/1000\n",
            "186/186 [==============================] - 1s 3ms/step - loss: 147545.8750 - coeff_determination: 0.8068 - val_loss: 134442.0469 - val_coeff_determination: 0.8276\n",
            "Epoch 103/1000\n",
            "186/186 [==============================] - 1s 3ms/step - loss: 142378.8565 - coeff_determination: 0.8165 - val_loss: 134464.8594 - val_coeff_determination: 0.8294\n",
            "Epoch 104/1000\n",
            "186/186 [==============================] - 1s 3ms/step - loss: 150761.8786 - coeff_determination: 0.8133 - val_loss: 134136.2812 - val_coeff_determination: 0.8285\n",
            "Epoch 105/1000\n",
            "186/186 [==============================] - 1s 3ms/step - loss: 148165.8592 - coeff_determination: 0.8113 - val_loss: 133568.5625 - val_coeff_determination: 0.8289\n",
            "Epoch 106/1000\n",
            "186/186 [==============================] - 1s 3ms/step - loss: 143184.6010 - coeff_determination: 0.8282 - val_loss: 133308.8750 - val_coeff_determination: 0.8307\n",
            "Epoch 107/1000\n",
            "186/186 [==============================] - 1s 3ms/step - loss: 142189.0246 - coeff_determination: 0.8069 - val_loss: 133435.2031 - val_coeff_determination: 0.8324\n",
            "Epoch 108/1000\n",
            "186/186 [==============================] - 1s 3ms/step - loss: 145456.5936 - coeff_determination: 0.8147 - val_loss: 132878.1094 - val_coeff_determination: 0.8313\n",
            "Epoch 109/1000\n",
            "186/186 [==============================] - 1s 3ms/step - loss: 153747.5458 - coeff_determination: 0.8296 - val_loss: 133065.9375 - val_coeff_determination: 0.8337\n",
            "Epoch 110/1000\n",
            "186/186 [==============================] - 1s 3ms/step - loss: 143018.5684 - coeff_determination: 0.8116 - val_loss: 132663.7812 - val_coeff_determination: 0.8337\n",
            "Epoch 111/1000\n",
            "186/186 [==============================] - 1s 3ms/step - loss: 147473.4003 - coeff_determination: 0.8142 - val_loss: 132554.0312 - val_coeff_determination: 0.8342\n",
            "Epoch 112/1000\n",
            "186/186 [==============================] - 1s 3ms/step - loss: 146926.3100 - coeff_determination: 0.7707 - val_loss: 131765.7188 - val_coeff_determination: 0.8352\n",
            "Epoch 113/1000\n",
            "186/186 [==============================] - 1s 3ms/step - loss: 148379.9026 - coeff_determination: 0.8269 - val_loss: 131984.0312 - val_coeff_determination: 0.8371\n",
            "Epoch 114/1000\n",
            "186/186 [==============================] - 1s 3ms/step - loss: 143094.6705 - coeff_determination: 0.8198 - val_loss: 131984.0625 - val_coeff_determination: 0.8392\n",
            "Epoch 115/1000\n",
            "186/186 [==============================] - 1s 3ms/step - loss: 145106.5312 - coeff_determination: 0.8134 - val_loss: 131754.2031 - val_coeff_determination: 0.8396\n",
            "Epoch 116/1000\n",
            "186/186 [==============================] - 1s 3ms/step - loss: 143762.5135 - coeff_determination: 0.8001 - val_loss: 131044.1797 - val_coeff_determination: 0.8376\n",
            "Epoch 117/1000\n",
            "186/186 [==============================] - 1s 3ms/step - loss: 148611.9653 - coeff_determination: 0.8230 - val_loss: 130846.1484 - val_coeff_determination: 0.8395\n",
            "Epoch 118/1000\n",
            "186/186 [==============================] - 1s 3ms/step - loss: 143338.9148 - coeff_determination: 0.8253 - val_loss: 130564.5859 - val_coeff_determination: 0.8390\n",
            "Epoch 119/1000\n",
            "186/186 [==============================] - 1s 3ms/step - loss: 147592.7718 - coeff_determination: 0.7952 - val_loss: 130640.3125 - val_coeff_determination: 0.8410\n",
            "Epoch 120/1000\n",
            "186/186 [==============================] - 1s 3ms/step - loss: 138981.6898 - coeff_determination: 0.8458 - val_loss: 130318.3672 - val_coeff_determination: 0.8405\n",
            "Epoch 121/1000\n",
            "186/186 [==============================] - 1s 3ms/step - loss: 147849.1780 - coeff_determination: 0.8358 - val_loss: 130396.7109 - val_coeff_determination: 0.8408\n",
            "Epoch 122/1000\n",
            "186/186 [==============================] - 1s 3ms/step - loss: 141177.4485 - coeff_determination: 0.8195 - val_loss: 129349.7891 - val_coeff_determination: 0.8407\n",
            "Epoch 123/1000\n",
            "186/186 [==============================] - 1s 3ms/step - loss: 143539.4175 - coeff_determination: 0.8307 - val_loss: 129819.8750 - val_coeff_determination: 0.8443\n",
            "Epoch 124/1000\n",
            "186/186 [==============================] - 1s 3ms/step - loss: 143486.6816 - coeff_determination: 0.8250 - val_loss: 129236.4141 - val_coeff_determination: 0.8461\n",
            "Epoch 125/1000\n",
            "186/186 [==============================] - 1s 3ms/step - loss: 142252.4154 - coeff_determination: 0.7908 - val_loss: 129539.4609 - val_coeff_determination: 0.8463\n",
            "Epoch 126/1000\n",
            "186/186 [==============================] - 1s 3ms/step - loss: 142097.2716 - coeff_determination: 0.8182 - val_loss: 129783.4062 - val_coeff_determination: 0.8470\n",
            "Epoch 127/1000\n",
            "186/186 [==============================] - 1s 3ms/step - loss: 139387.9793 - coeff_determination: 0.8323 - val_loss: 129420.6797 - val_coeff_determination: 0.8463\n",
            "Epoch 128/1000\n",
            "186/186 [==============================] - 1s 3ms/step - loss: 146629.3300 - coeff_determination: 0.7865 - val_loss: 129088.7578 - val_coeff_determination: 0.8470\n",
            "Epoch 129/1000\n",
            "186/186 [==============================] - 1s 3ms/step - loss: 137580.9748 - coeff_determination: 0.8238 - val_loss: 128517.6016 - val_coeff_determination: 0.8480\n",
            "Epoch 130/1000\n",
            "186/186 [==============================] - 1s 3ms/step - loss: 145841.8746 - coeff_determination: 0.7927 - val_loss: 128244.1094 - val_coeff_determination: 0.8488\n",
            "Epoch 131/1000\n",
            "186/186 [==============================] - 1s 3ms/step - loss: 142214.1717 - coeff_determination: 0.8232 - val_loss: 127777.0078 - val_coeff_determination: 0.8495\n",
            "Epoch 132/1000\n",
            "186/186 [==============================] - 1s 3ms/step - loss: 140388.0241 - coeff_determination: 0.8282 - val_loss: 128489.7656 - val_coeff_determination: 0.8524\n",
            "Epoch 133/1000\n",
            "186/186 [==============================] - 1s 3ms/step - loss: 143269.5946 - coeff_determination: 0.8140 - val_loss: 128388.3359 - val_coeff_determination: 0.8545\n",
            "Epoch 134/1000\n",
            "186/186 [==============================] - 1s 3ms/step - loss: 147095.6671 - coeff_determination: 0.8418 - val_loss: 127671.1719 - val_coeff_determination: 0.8529\n",
            "Epoch 135/1000\n",
            "186/186 [==============================] - 1s 3ms/step - loss: 141785.3019 - coeff_determination: 0.8370 - val_loss: 127476.3594 - val_coeff_determination: 0.8531\n",
            "Epoch 136/1000\n",
            "186/186 [==============================] - 1s 3ms/step - loss: 140421.5234 - coeff_determination: 0.8345 - val_loss: 127971.2422 - val_coeff_determination: 0.8548\n",
            "Epoch 137/1000\n",
            "186/186 [==============================] - 1s 3ms/step - loss: 133526.7877 - coeff_determination: 0.8351 - val_loss: 126925.3750 - val_coeff_determination: 0.8547\n",
            "Epoch 138/1000\n",
            "186/186 [==============================] - 1s 3ms/step - loss: 137855.6032 - coeff_determination: 0.8412 - val_loss: 127701.5312 - val_coeff_determination: 0.8567\n",
            "Epoch 139/1000\n",
            "186/186 [==============================] - 1s 3ms/step - loss: 138472.9195 - coeff_determination: 0.8569 - val_loss: 127608.7031 - val_coeff_determination: 0.8563\n",
            "Epoch 140/1000\n",
            "186/186 [==============================] - 1s 3ms/step - loss: 141010.6414 - coeff_determination: 0.7970 - val_loss: 126219.0469 - val_coeff_determination: 0.8548\n",
            "Epoch 141/1000\n",
            "186/186 [==============================] - 1s 3ms/step - loss: 144098.8145 - coeff_determination: 0.8281 - val_loss: 126624.4922 - val_coeff_determination: 0.8554\n",
            "Epoch 142/1000\n",
            "186/186 [==============================] - 1s 3ms/step - loss: 141005.6157 - coeff_determination: 0.8300 - val_loss: 128429.6719 - val_coeff_determination: 0.8569\n",
            "Epoch 143/1000\n",
            "186/186 [==============================] - 1s 3ms/step - loss: 139200.3711 - coeff_determination: 0.8262 - val_loss: 125561.3906 - val_coeff_determination: 0.8553\n",
            "Epoch 144/1000\n",
            "186/186 [==============================] - 1s 3ms/step - loss: 140607.9533 - coeff_determination: 0.8249 - val_loss: 125282.9688 - val_coeff_determination: 0.8535\n",
            "Epoch 145/1000\n",
            "186/186 [==============================] - 1s 3ms/step - loss: 137757.2065 - coeff_determination: 0.8236 - val_loss: 125754.3594 - val_coeff_determination: 0.8579\n",
            "Epoch 146/1000\n",
            "186/186 [==============================] - 1s 3ms/step - loss: 136724.0593 - coeff_determination: 0.8438 - val_loss: 126214.3672 - val_coeff_determination: 0.8593\n",
            "Epoch 147/1000\n",
            "186/186 [==============================] - 1s 3ms/step - loss: 145531.8158 - coeff_determination: 0.8175 - val_loss: 126636.4141 - val_coeff_determination: 0.8597\n",
            "Epoch 148/1000\n",
            "186/186 [==============================] - 1s 3ms/step - loss: 139282.8221 - coeff_determination: 0.8352 - val_loss: 125708.0234 - val_coeff_determination: 0.8612\n",
            "Epoch 149/1000\n",
            "186/186 [==============================] - 1s 3ms/step - loss: 138965.1799 - coeff_determination: 0.8393 - val_loss: 125223.5312 - val_coeff_determination: 0.8590\n",
            "Epoch 150/1000\n",
            "186/186 [==============================] - 1s 3ms/step - loss: 140355.2080 - coeff_determination: 0.8275 - val_loss: 125621.1328 - val_coeff_determination: 0.8602\n",
            "Epoch 151/1000\n",
            "186/186 [==============================] - 1s 3ms/step - loss: 145496.8140 - coeff_determination: 0.8106 - val_loss: 124526.7891 - val_coeff_determination: 0.8572\n",
            "Epoch 152/1000\n",
            "186/186 [==============================] - 1s 3ms/step - loss: 140885.6144 - coeff_determination: 0.8343 - val_loss: 124894.3984 - val_coeff_determination: 0.8609\n",
            "Epoch 153/1000\n",
            "186/186 [==============================] - 1s 3ms/step - loss: 134694.3999 - coeff_determination: 0.8305 - val_loss: 124989.3828 - val_coeff_determination: 0.8623\n",
            "Epoch 154/1000\n",
            "186/186 [==============================] - 1s 3ms/step - loss: 144875.7790 - coeff_determination: 0.8259 - val_loss: 125564.3828 - val_coeff_determination: 0.8627\n",
            "Epoch 155/1000\n",
            "186/186 [==============================] - 1s 3ms/step - loss: 137634.9009 - coeff_determination: 0.8326 - val_loss: 124643.6250 - val_coeff_determination: 0.8636\n",
            "Epoch 156/1000\n",
            "186/186 [==============================] - 1s 3ms/step - loss: 137985.1629 - coeff_determination: 0.8226 - val_loss: 124541.7500 - val_coeff_determination: 0.8635\n",
            "Epoch 157/1000\n",
            "186/186 [==============================] - 1s 3ms/step - loss: 134547.6882 - coeff_determination: 0.8612 - val_loss: 124012.9688 - val_coeff_determination: 0.8631\n",
            "Epoch 158/1000\n",
            "186/186 [==============================] - 1s 3ms/step - loss: 141958.1897 - coeff_determination: 0.8185 - val_loss: 123708.5703 - val_coeff_determination: 0.8633\n",
            "Epoch 159/1000\n",
            "186/186 [==============================] - 1s 3ms/step - loss: 137902.6748 - coeff_determination: 0.8247 - val_loss: 123705.3359 - val_coeff_determination: 0.8657\n",
            "Epoch 160/1000\n",
            "186/186 [==============================] - 1s 3ms/step - loss: 142229.4199 - coeff_determination: 0.8302 - val_loss: 123993.6797 - val_coeff_determination: 0.8664\n",
            "Epoch 161/1000\n",
            "186/186 [==============================] - 1s 3ms/step - loss: 141056.3048 - coeff_determination: 0.8285 - val_loss: 123969.5781 - val_coeff_determination: 0.8664\n",
            "Epoch 162/1000\n",
            "186/186 [==============================] - 1s 3ms/step - loss: 138701.1485 - coeff_determination: 0.8397 - val_loss: 124119.8906 - val_coeff_determination: 0.8662\n",
            "Epoch 163/1000\n",
            "186/186 [==============================] - 1s 3ms/step - loss: 145708.0501 - coeff_determination: 0.8210 - val_loss: 123653.8672 - val_coeff_determination: 0.8683\n",
            "Epoch 164/1000\n",
            "186/186 [==============================] - 1s 3ms/step - loss: 139221.7050 - coeff_determination: 0.8219 - val_loss: 123098.0625 - val_coeff_determination: 0.8698\n",
            "Epoch 165/1000\n",
            "186/186 [==============================] - 1s 3ms/step - loss: 141715.7982 - coeff_determination: 0.8233 - val_loss: 123354.9531 - val_coeff_determination: 0.8681\n",
            "Epoch 166/1000\n",
            "186/186 [==============================] - 1s 3ms/step - loss: 139991.3374 - coeff_determination: 0.8262 - val_loss: 123285.9141 - val_coeff_determination: 0.8690\n",
            "Epoch 167/1000\n",
            "186/186 [==============================] - 1s 3ms/step - loss: 142243.9658 - coeff_determination: 0.8113 - val_loss: 123119.5312 - val_coeff_determination: 0.8714\n",
            "Epoch 168/1000\n",
            "186/186 [==============================] - 1s 3ms/step - loss: 139830.4565 - coeff_determination: 0.8472 - val_loss: 122713.1484 - val_coeff_determination: 0.8714\n",
            "Epoch 169/1000\n",
            "186/186 [==============================] - 1s 3ms/step - loss: 135960.6653 - coeff_determination: 0.8182 - val_loss: 122555.0703 - val_coeff_determination: 0.8697\n",
            "Epoch 170/1000\n",
            "186/186 [==============================] - 1s 3ms/step - loss: 142813.5993 - coeff_determination: 0.8274 - val_loss: 122943.5859 - val_coeff_determination: 0.8705\n",
            "Epoch 171/1000\n",
            "186/186 [==============================] - 1s 3ms/step - loss: 141183.4289 - coeff_determination: 0.8303 - val_loss: 122532.3047 - val_coeff_determination: 0.8704\n",
            "Epoch 172/1000\n",
            "186/186 [==============================] - 1s 3ms/step - loss: 140374.4637 - coeff_determination: 0.8621 - val_loss: 122055.8750 - val_coeff_determination: 0.8678\n",
            "Epoch 173/1000\n",
            "186/186 [==============================] - 1s 3ms/step - loss: 138415.0706 - coeff_determination: 0.8166 - val_loss: 123354.0859 - val_coeff_determination: 0.8737\n",
            "Epoch 174/1000\n",
            "186/186 [==============================] - 1s 3ms/step - loss: 138441.3460 - coeff_determination: 0.8528 - val_loss: 121768.5469 - val_coeff_determination: 0.8702\n",
            "Epoch 175/1000\n",
            "186/186 [==============================] - 1s 3ms/step - loss: 134029.8346 - coeff_determination: 0.8407 - val_loss: 121958.6953 - val_coeff_determination: 0.8720\n",
            "Epoch 176/1000\n",
            "186/186 [==============================] - 1s 3ms/step - loss: 142520.1131 - coeff_determination: 0.8203 - val_loss: 122161.7656 - val_coeff_determination: 0.8734\n",
            "Epoch 177/1000\n",
            "186/186 [==============================] - 1s 3ms/step - loss: 139108.7396 - coeff_determination: 0.8382 - val_loss: 122381.3906 - val_coeff_determination: 0.8740\n",
            "Epoch 178/1000\n",
            "186/186 [==============================] - 1s 3ms/step - loss: 135767.0069 - coeff_determination: 0.8436 - val_loss: 123403.3594 - val_coeff_determination: 0.8739\n",
            "Epoch 179/1000\n",
            "186/186 [==============================] - 1s 3ms/step - loss: 142455.8435 - coeff_determination: 0.8424 - val_loss: 122374.3438 - val_coeff_determination: 0.8756\n",
            "Epoch 180/1000\n",
            "186/186 [==============================] - 1s 3ms/step - loss: 140441.1191 - coeff_determination: 0.8479 - val_loss: 121387.9609 - val_coeff_determination: 0.8737\n",
            "Epoch 181/1000\n",
            "186/186 [==============================] - 1s 3ms/step - loss: 134986.8783 - coeff_determination: 0.8337 - val_loss: 121938.7500 - val_coeff_determination: 0.8762\n",
            "Epoch 182/1000\n",
            "186/186 [==============================] - 1s 3ms/step - loss: 136037.5758 - coeff_determination: 0.8188 - val_loss: 122285.3672 - val_coeff_determination: 0.8743\n",
            "Epoch 183/1000\n",
            "186/186 [==============================] - 1s 3ms/step - loss: 138326.4176 - coeff_determination: 0.8494 - val_loss: 120908.3516 - val_coeff_determination: 0.8737\n",
            "Epoch 184/1000\n",
            "186/186 [==============================] - 1s 3ms/step - loss: 141391.8943 - coeff_determination: 0.8245 - val_loss: 121330.8750 - val_coeff_determination: 0.8756\n",
            "Epoch 185/1000\n",
            "186/186 [==============================] - 1s 3ms/step - loss: 135426.7927 - coeff_determination: 0.8314 - val_loss: 121018.0547 - val_coeff_determination: 0.8752\n",
            "Epoch 186/1000\n",
            "186/186 [==============================] - 1s 3ms/step - loss: 128233.0084 - coeff_determination: 0.8428 - val_loss: 121015.7891 - val_coeff_determination: 0.8769\n",
            "Epoch 187/1000\n",
            "186/186 [==============================] - 1s 3ms/step - loss: 138070.9378 - coeff_determination: 0.8412 - val_loss: 120808.3750 - val_coeff_determination: 0.8767\n",
            "Epoch 188/1000\n",
            "186/186 [==============================] - 1s 3ms/step - loss: 143738.2792 - coeff_determination: 0.8428 - val_loss: 120315.4688 - val_coeff_determination: 0.8782\n",
            "Epoch 189/1000\n",
            "186/186 [==============================] - 1s 3ms/step - loss: 134503.4639 - coeff_determination: 0.8467 - val_loss: 121037.7031 - val_coeff_determination: 0.8786\n",
            "Epoch 190/1000\n",
            "186/186 [==============================] - 1s 3ms/step - loss: 133390.0058 - coeff_determination: 0.8258 - val_loss: 120107.6562 - val_coeff_determination: 0.8779\n",
            "Epoch 191/1000\n",
            "186/186 [==============================] - 1s 3ms/step - loss: 139801.9915 - coeff_determination: 0.8274 - val_loss: 120217.1016 - val_coeff_determination: 0.8794\n",
            "Epoch 192/1000\n",
            "186/186 [==============================] - 1s 3ms/step - loss: 138220.2070 - coeff_determination: 0.8421 - val_loss: 120253.7266 - val_coeff_determination: 0.8805\n",
            "Epoch 193/1000\n",
            "186/186 [==============================] - 1s 3ms/step - loss: 137801.1009 - coeff_determination: 0.8497 - val_loss: 121335.2266 - val_coeff_determination: 0.8804\n",
            "Epoch 194/1000\n",
            "186/186 [==============================] - 1s 3ms/step - loss: 139392.0702 - coeff_determination: 0.8406 - val_loss: 120297.2188 - val_coeff_determination: 0.8802\n",
            "Epoch 195/1000\n",
            "186/186 [==============================] - 1s 3ms/step - loss: 135662.4194 - coeff_determination: 0.8529 - val_loss: 120273.5156 - val_coeff_determination: 0.8813\n",
            "Epoch 196/1000\n",
            "186/186 [==============================] - 1s 3ms/step - loss: 136536.1457 - coeff_determination: 0.8501 - val_loss: 119548.7578 - val_coeff_determination: 0.8816\n",
            "Epoch 197/1000\n",
            "186/186 [==============================] - 1s 3ms/step - loss: 135219.1911 - coeff_determination: 0.8550 - val_loss: 120113.2812 - val_coeff_determination: 0.8814\n",
            "Epoch 198/1000\n",
            "186/186 [==============================] - 1s 3ms/step - loss: 141679.1010 - coeff_determination: 0.8476 - val_loss: 119917.3203 - val_coeff_determination: 0.8807\n",
            "Epoch 199/1000\n",
            "186/186 [==============================] - 1s 3ms/step - loss: 133953.8880 - coeff_determination: 0.8525 - val_loss: 119697.2188 - val_coeff_determination: 0.8822\n",
            "Epoch 200/1000\n",
            "186/186 [==============================] - 1s 3ms/step - loss: 141685.1780 - coeff_determination: 0.8362 - val_loss: 120876.3984 - val_coeff_determination: 0.8811\n",
            "Epoch 201/1000\n",
            "186/186 [==============================] - 1s 3ms/step - loss: 135345.2706 - coeff_determination: 0.8416 - val_loss: 119892.9922 - val_coeff_determination: 0.8812\n",
            "Epoch 202/1000\n",
            "186/186 [==============================] - 1s 3ms/step - loss: 131097.1612 - coeff_determination: 0.8609 - val_loss: 119357.2109 - val_coeff_determination: 0.8815\n",
            "Epoch 203/1000\n",
            "186/186 [==============================] - 1s 3ms/step - loss: 132568.5767 - coeff_determination: 0.8501 - val_loss: 118798.1094 - val_coeff_determination: 0.8811\n",
            "Epoch 204/1000\n",
            "186/186 [==============================] - 1s 3ms/step - loss: 132639.2776 - coeff_determination: 0.8421 - val_loss: 118864.4375 - val_coeff_determination: 0.8830\n",
            "Epoch 205/1000\n",
            "186/186 [==============================] - 1s 3ms/step - loss: 138168.2109 - coeff_determination: 0.8288 - val_loss: 118710.6641 - val_coeff_determination: 0.8836\n",
            "Epoch 206/1000\n",
            "186/186 [==============================] - 1s 3ms/step - loss: 138711.4124 - coeff_determination: 0.8505 - val_loss: 118581.3516 - val_coeff_determination: 0.8837\n",
            "Epoch 207/1000\n",
            "186/186 [==============================] - 1s 3ms/step - loss: 140687.0514 - coeff_determination: 0.8438 - val_loss: 119909.7266 - val_coeff_determination: 0.8843\n",
            "Epoch 208/1000\n",
            "186/186 [==============================] - 1s 3ms/step - loss: 134687.0503 - coeff_determination: 0.8556 - val_loss: 119358.2109 - val_coeff_determination: 0.8845\n",
            "Epoch 209/1000\n",
            "186/186 [==============================] - 1s 3ms/step - loss: 134323.7017 - coeff_determination: 0.8528 - val_loss: 118750.5547 - val_coeff_determination: 0.8850\n",
            "Epoch 210/1000\n",
            "186/186 [==============================] - 1s 3ms/step - loss: 137146.5104 - coeff_determination: 0.8488 - val_loss: 118784.9688 - val_coeff_determination: 0.8848\n",
            "Epoch 211/1000\n",
            "186/186 [==============================] - 1s 3ms/step - loss: 135459.3102 - coeff_determination: 0.8450 - val_loss: 119236.1094 - val_coeff_determination: 0.8854\n",
            "Epoch 212/1000\n",
            "186/186 [==============================] - 1s 3ms/step - loss: 137797.7478 - coeff_determination: 0.8341 - val_loss: 118642.0391 - val_coeff_determination: 0.8837\n",
            "Epoch 213/1000\n",
            "186/186 [==============================] - 1s 3ms/step - loss: 131349.9839 - coeff_determination: 0.8625 - val_loss: 118452.5938 - val_coeff_determination: 0.8853\n",
            "Epoch 214/1000\n",
            "186/186 [==============================] - 1s 3ms/step - loss: 132648.0538 - coeff_determination: 0.8064 - val_loss: 118343.2109 - val_coeff_determination: 0.8842\n",
            "Epoch 215/1000\n",
            "186/186 [==============================] - 1s 3ms/step - loss: 135140.4807 - coeff_determination: 0.8310 - val_loss: 119068.7969 - val_coeff_determination: 0.8862\n",
            "Epoch 216/1000\n",
            "186/186 [==============================] - 1s 3ms/step - loss: 135555.6151 - coeff_determination: 0.8501 - val_loss: 119583.9062 - val_coeff_determination: 0.8859\n",
            "Epoch 217/1000\n",
            "186/186 [==============================] - 1s 3ms/step - loss: 137565.6977 - coeff_determination: 0.8278 - val_loss: 118617.5938 - val_coeff_determination: 0.8854\n",
            "Epoch 218/1000\n",
            "186/186 [==============================] - 1s 3ms/step - loss: 137236.3982 - coeff_determination: 0.8419 - val_loss: 117772.2500 - val_coeff_determination: 0.8833\n",
            "Epoch 219/1000\n",
            "186/186 [==============================] - 1s 3ms/step - loss: 134861.8166 - coeff_determination: 0.8235 - val_loss: 117795.2969 - val_coeff_determination: 0.8852\n",
            "Epoch 220/1000\n",
            "186/186 [==============================] - 1s 3ms/step - loss: 132100.2473 - coeff_determination: 0.8431 - val_loss: 118817.6094 - val_coeff_determination: 0.8864\n",
            "Epoch 221/1000\n",
            "186/186 [==============================] - 1s 3ms/step - loss: 134731.2821 - coeff_determination: 0.8452 - val_loss: 117573.5625 - val_coeff_determination: 0.8855\n",
            "Epoch 222/1000\n",
            "186/186 [==============================] - 1s 3ms/step - loss: 139757.0657 - coeff_determination: 0.8356 - val_loss: 119662.9531 - val_coeff_determination: 0.8870\n",
            "Epoch 223/1000\n",
            "186/186 [==============================] - 1s 3ms/step - loss: 138045.0665 - coeff_determination: 0.8335 - val_loss: 117870.5000 - val_coeff_determination: 0.8871\n",
            "Epoch 224/1000\n",
            "186/186 [==============================] - 1s 3ms/step - loss: 134769.0451 - coeff_determination: 0.8208 - val_loss: 117852.5000 - val_coeff_determination: 0.8871\n",
            "Epoch 225/1000\n",
            "186/186 [==============================] - 1s 3ms/step - loss: 134805.4355 - coeff_determination: 0.8370 - val_loss: 118632.3594 - val_coeff_determination: 0.8873\n",
            "Epoch 226/1000\n",
            "186/186 [==============================] - 1s 3ms/step - loss: 130055.4325 - coeff_determination: 0.8527 - val_loss: 118492.1953 - val_coeff_determination: 0.8875\n",
            "Epoch 227/1000\n",
            "186/186 [==============================] - 1s 3ms/step - loss: 131426.7294 - coeff_determination: 0.8618 - val_loss: 117706.9766 - val_coeff_determination: 0.8878\n",
            "Epoch 228/1000\n",
            "186/186 [==============================] - 1s 3ms/step - loss: 136421.0739 - coeff_determination: 0.8429 - val_loss: 117326.3750 - val_coeff_determination: 0.8883\n",
            "Epoch 229/1000\n",
            "186/186 [==============================] - 1s 3ms/step - loss: 137145.1152 - coeff_determination: 0.8412 - val_loss: 117155.9609 - val_coeff_determination: 0.8868\n",
            "Epoch 230/1000\n",
            "186/186 [==============================] - 1s 3ms/step - loss: 134790.7439 - coeff_determination: 0.8438 - val_loss: 117271.4609 - val_coeff_determination: 0.8882\n",
            "Epoch 231/1000\n",
            "186/186 [==============================] - 1s 3ms/step - loss: 139835.0380 - coeff_determination: 0.8565 - val_loss: 117058.2500 - val_coeff_determination: 0.8868\n",
            "Epoch 232/1000\n",
            "186/186 [==============================] - 1s 3ms/step - loss: 134419.1237 - coeff_determination: 0.8341 - val_loss: 117673.3125 - val_coeff_determination: 0.8885\n",
            "Epoch 233/1000\n",
            "186/186 [==============================] - 1s 3ms/step - loss: 139119.0661 - coeff_determination: 0.8412 - val_loss: 116610.9375 - val_coeff_determination: 0.8875\n",
            "Epoch 234/1000\n",
            "186/186 [==============================] - 1s 3ms/step - loss: 134803.6722 - coeff_determination: 0.8287 - val_loss: 117455.1953 - val_coeff_determination: 0.8895\n",
            "Epoch 235/1000\n",
            "186/186 [==============================] - 1s 3ms/step - loss: 132867.8328 - coeff_determination: 0.8409 - val_loss: 117481.1641 - val_coeff_determination: 0.8893\n",
            "Epoch 236/1000\n",
            "186/186 [==============================] - 1s 3ms/step - loss: 134787.5662 - coeff_determination: 0.8337 - val_loss: 117816.1406 - val_coeff_determination: 0.8891\n",
            "Epoch 237/1000\n",
            "186/186 [==============================] - 1s 3ms/step - loss: 136080.3568 - coeff_determination: 0.8486 - val_loss: 117080.4297 - val_coeff_determination: 0.8896\n",
            "Epoch 238/1000\n",
            "186/186 [==============================] - 1s 3ms/step - loss: 140921.8805 - coeff_determination: 0.8559 - val_loss: 116998.3516 - val_coeff_determination: 0.8896\n",
            "Epoch 239/1000\n",
            "186/186 [==============================] - 1s 3ms/step - loss: 138969.4937 - coeff_determination: 0.8552 - val_loss: 116893.9062 - val_coeff_determination: 0.8901\n",
            "Epoch 240/1000\n",
            "186/186 [==============================] - 1s 3ms/step - loss: 130247.3867 - coeff_determination: 0.8425 - val_loss: 116809.5000 - val_coeff_determination: 0.8913\n",
            "Epoch 241/1000\n",
            "186/186 [==============================] - 1s 3ms/step - loss: 132213.8125 - coeff_determination: 0.8696 - val_loss: 117397.9141 - val_coeff_determination: 0.8908\n",
            "Epoch 242/1000\n",
            "186/186 [==============================] - 1s 3ms/step - loss: 140980.9543 - coeff_determination: 0.8393 - val_loss: 116325.9531 - val_coeff_determination: 0.8888\n",
            "Epoch 243/1000\n",
            "186/186 [==============================] - 1s 3ms/step - loss: 131870.4107 - coeff_determination: 0.8663 - val_loss: 116351.6172 - val_coeff_determination: 0.8903\n",
            "Epoch 244/1000\n",
            "186/186 [==============================] - 1s 3ms/step - loss: 137455.4667 - coeff_determination: 0.8417 - val_loss: 116273.2109 - val_coeff_determination: 0.8910\n",
            "Epoch 245/1000\n",
            "186/186 [==============================] - 1s 3ms/step - loss: 131016.6622 - coeff_determination: 0.8486 - val_loss: 116521.0469 - val_coeff_determination: 0.8922\n",
            "Epoch 246/1000\n",
            "186/186 [==============================] - 1s 3ms/step - loss: 135025.1657 - coeff_determination: 0.8500 - val_loss: 115819.8828 - val_coeff_determination: 0.8913\n",
            "Epoch 247/1000\n",
            "186/186 [==============================] - 1s 3ms/step - loss: 135999.9990 - coeff_determination: 0.8174 - val_loss: 115623.2422 - val_coeff_determination: 0.8909\n",
            "Epoch 248/1000\n",
            "186/186 [==============================] - 1s 3ms/step - loss: 131412.0603 - coeff_determination: 0.8342 - val_loss: 116473.3750 - val_coeff_determination: 0.8922\n",
            "Epoch 249/1000\n",
            "186/186 [==============================] - 1s 3ms/step - loss: 134709.8173 - coeff_determination: 0.8528 - val_loss: 116081.5703 - val_coeff_determination: 0.8921\n",
            "Epoch 250/1000\n",
            "186/186 [==============================] - 1s 3ms/step - loss: 134607.2934 - coeff_determination: 0.8660 - val_loss: 116448.0547 - val_coeff_determination: 0.8913\n",
            "Epoch 251/1000\n",
            "186/186 [==============================] - 1s 3ms/step - loss: 139253.0074 - coeff_determination: 0.8425 - val_loss: 116603.3359 - val_coeff_determination: 0.8918\n",
            "Epoch 252/1000\n",
            "186/186 [==============================] - 1s 3ms/step - loss: 134156.9972 - coeff_determination: 0.8631 - val_loss: 117209.6953 - val_coeff_determination: 0.8925\n",
            "Epoch 253/1000\n",
            "186/186 [==============================] - 1s 3ms/step - loss: 134012.4414 - coeff_determination: 0.8460 - val_loss: 116788.0234 - val_coeff_determination: 0.8923\n",
            "Epoch 254/1000\n",
            "186/186 [==============================] - 1s 3ms/step - loss: 137170.5089 - coeff_determination: 0.8270 - val_loss: 116191.0625 - val_coeff_determination: 0.8927\n",
            "Epoch 255/1000\n",
            "186/186 [==============================] - 1s 3ms/step - loss: 135567.2040 - coeff_determination: 0.8487 - val_loss: 115842.3047 - val_coeff_determination: 0.8923\n",
            "Epoch 256/1000\n",
            "186/186 [==============================] - 1s 3ms/step - loss: 136649.2256 - coeff_determination: 0.8428 - val_loss: 116131.8672 - val_coeff_determination: 0.8923\n",
            "Epoch 257/1000\n",
            "186/186 [==============================] - 1s 3ms/step - loss: 138754.1701 - coeff_determination: 0.8010 - val_loss: 115836.0859 - val_coeff_determination: 0.8931\n"
          ],
          "name": "stdout"
        }
      ]
    },
    {
      "cell_type": "markdown",
      "metadata": {
        "id": "AW4SEP8kT2ls"
      },
      "source": [
        "## Question 6"
      ]
    },
    {
      "cell_type": "markdown",
      "metadata": {
        "id": "EJDoix_7JU61"
      },
      "source": [
        "### Evaluate the model\n",
        "- Evaluate the model on test data\n",
        "- Visualize the model's learning"
      ]
    },
    {
      "cell_type": "code",
      "metadata": {
        "id": "HdH8pYBIjHGL",
        "colab": {
          "base_uri": "https://localhost:8080/"
        },
        "outputId": "ee5c3f98-1996-4dd8-e0d2-6637f11b0993"
      },
      "source": [
        "model.evaluate(X_test_sc,y_test,batch_size=64)"
      ],
      "execution_count": 35,
      "outputs": [
        {
          "output_type": "stream",
          "text": [
            "31/31 [==============================] - 0s 1ms/step - loss: 115623.2344 - coeff_determination: 0.9207\n"
          ],
          "name": "stdout"
        },
        {
          "output_type": "execute_result",
          "data": {
            "text/plain": [
              "[115623.234375, 0.9206703305244446]"
            ]
          },
          "metadata": {
            "tags": []
          },
          "execution_count": 35
        }
      ]
    },
    {
      "cell_type": "markdown",
      "metadata": {
        "id": "E4-3G8h0KPS_"
      },
      "source": [
        "- Hint: The R2 score will get affected by batch size. \n",
        "\n",
        "**Batch Size**: Number of samples considered in one iteration"
      ]
    },
    {
      "cell_type": "markdown",
      "metadata": {
        "id": "MHmWkGM9E61i"
      },
      "source": [
        "### Check the R2 score on complete test data"
      ]
    },
    {
      "cell_type": "code",
      "metadata": {
        "id": "5Ts_powwDqdK",
        "colab": {
          "base_uri": "https://localhost:8080/"
        },
        "outputId": "afbdd946-c11a-40e3-9100-58062e28c6a3"
      },
      "source": [
        "from sklearn.metrics import r2_score\n",
        "y_pred = model.predict(X_test_sc)\n",
        "print(r2_score(y_test,y_pred))"
      ],
      "execution_count": 36,
      "outputs": [
        {
          "output_type": "stream",
          "text": [
            "0.9300543932948462\n"
          ],
          "name": "stdout"
        }
      ]
    },
    {
      "cell_type": "markdown",
      "metadata": {
        "id": "hUpDD74Xjh01"
      },
      "source": [
        "### Visualize model learning\n",
        "- Visualize model learning using train and test r2 score\n",
        "- Visualize model learning using train and test loss"
      ]
    },
    {
      "cell_type": "code",
      "metadata": {
        "id": "WSiMhJPpk3GO",
        "colab": {
          "base_uri": "https://localhost:8080/",
          "height": 573
        },
        "outputId": "4ece1e08-468c-43b1-8584-c1f20d5742a6"
      },
      "source": [
        "import matplotlib.pyplot as plt\n",
        "\n",
        "plt.plot(history.history['coeff_determination'])\n",
        "plt.plot(history.history['val_coeff_determination'])\n",
        "plt.title('model r2_score')\n",
        "plt.ylabel('r2_score')\n",
        "plt.xlabel('epoch')\n",
        "plt.legend(['train', 'test'], loc='upper left')\n",
        "plt.show()\n",
        "# summarize history for loss\n",
        "plt.plot(history.history['loss'])\n",
        "plt.plot(history.history['val_loss'])\n",
        "plt.title('model loss')\n",
        "plt.ylabel('loss')\n",
        "plt.xlabel('epoch')\n",
        "plt.legend(['train', 'test'], loc='upper left')\n",
        "plt.show()"
      ],
      "execution_count": 37,
      "outputs": [
        {
          "output_type": "display_data",
          "data": {
            "image/png": "[encoded data removed]",
            "text/plain": [
              "<Figure size 432x288 with 1 Axes>"
            ]
          },
          "metadata": {
            "tags": [],
            "needs_background": "light"
          }
        },
        {
          "output_type": "display_data",
          "data": {
            "image/png": "[encoded data removed]",
            "text/plain": [
              "<Figure size 432x288 with 1 Axes>"
            ]
          },
          "metadata": {
            "tags": [],
            "needs_background": "light"
          }
        }
      ]
    },
    {
      "cell_type": "markdown",
      "metadata": {
        "id": "mLyDSOeh6KKc"
      },
      "source": [
        "##  Model tuning and Hyperparameter Tuning\n",
        "## Question 7 (Optional)"
      ]
    },
    {
      "cell_type": "markdown",
      "metadata": {
        "id": "U9_FYXve6TPD"
      },
      "source": [
        "### Create another Deep Neural Network Model for Regression to experiment with other hyper-parameters\n",
        "- Initialize a Sequential model\n",
        "- Add a batch normalization layer\n",
        "- Add 3 hidden layer with activation leaky-relu (Number of neurons = 64,128,32 respectively)\n",
        "- Add dropout layer after each hidden layer\n",
        "- Add a Dense layer with one neuron as output, use activation linear\n",
        "  \n"
      ]
    },
    {
      "cell_type": "code",
      "metadata": {
        "id": "smKhJZSx2EZk"
      },
      "source": [
        "from keras.layers import BatchNormalization\n",
        "model_1 = Sequential()\n",
        "model_1.add(tf.keras.Input(shape=(13)))\n",
        "\n",
        "model_1.add(BatchNormalization())\n",
        "model_1.add(Dense(64,activation=keras.layers.LeakyReLU(alpha=0.05)))\n",
        "model_1.add(Dropout(0.15))\n",
        "model_1.add(Dense(128,activation=keras.layers.LeakyReLU(alpha=0.05)))\n",
        "model_1.add(Dropout(0.15))\n",
        "model_1.add(Dense(32,activation=keras.layers.LeakyReLU(alpha=0.05)))\n",
        "model_1.add(Dropout(0.15))\n",
        "\n",
        "model_1.add(Dense(1,activation='linear'))"
      ],
      "execution_count": 38,
      "outputs": []
    },
    {
      "cell_type": "code",
      "metadata": {
        "id": "k3YL1YQB2Fau",
        "colab": {
          "base_uri": "https://localhost:8080/"
        },
        "outputId": "18d03a4b-1ab8-4eec-9769-7580f84cc5f6"
      },
      "source": [
        "model_1.summary()"
      ],
      "execution_count": 39,
      "outputs": [
        {
          "output_type": "stream",
          "text": [
            "Model: \"sequential_2\"\n",
            "_________________________________________________________________\n",
            "Layer (type)                 Output Shape              Param #   \n",
            "=================================================================\n",
            "batch_normalization (BatchNo (None, 13)                52        \n",
            "_________________________________________________________________\n",
            "dense_4 (Dense)              (None, 64)                896       \n",
            "_________________________________________________________________\n",
            "dropout_3 (Dropout)          (None, 64)                0         \n",
            "_________________________________________________________________\n",
            "dense_5 (Dense)              (None, 128)               8320      \n",
            "_________________________________________________________________\n",
            "dropout_4 (Dropout)          (None, 128)               0         \n",
            "_________________________________________________________________\n",
            "dense_6 (Dense)              (None, 32)                4128      \n",
            "_________________________________________________________________\n",
            "dropout_5 (Dropout)          (None, 32)                0         \n",
            "_________________________________________________________________\n",
            "dense_7 (Dense)              (None, 1)                 33        \n",
            "=================================================================\n",
            "Total params: 13,429\n",
            "Trainable params: 13,403\n",
            "Non-trainable params: 26\n",
            "_________________________________________________________________\n"
          ],
          "name": "stdout"
        }
      ]
    },
    {
      "cell_type": "markdown",
      "metadata": {
        "id": "d-5tN-Wx8_8X"
      },
      "source": [
        "### Compile the model\n",
        "\n",
        "- Compile the model\n",
        "- Use \"adam\" optimizer \n",
        "- for calculating loss, use mean absolute error\n",
        "- use R2 score (coefficient of determination) as the metric"
      ]
    },
    {
      "cell_type": "code",
      "metadata": {
        "id": "v3RAGJxN8vq6"
      },
      "source": [
        "model_1.compile(optimizer='adam', loss='mean_absolute_error', metrics=[coeff_determination])"
      ],
      "execution_count": 40,
      "outputs": []
    },
    {
      "cell_type": "markdown",
      "metadata": {
        "id": "QjDCS5gy91KU"
      },
      "source": [
        "### Train your model\n",
        "\n",
        "- epochs: 1000\n",
        "- batch size: 16\n",
        "- Use test data as validation data\n",
        "- Also add callback, such that if validation loss doesn't decreases consecutively 10 times, stop the training and return the weights for the previous best model\n",
        "- Add checkpoints to save the model after every epoch\n"
      ]
    },
    {
      "cell_type": "code",
      "metadata": {
        "id": "amNM6S2w90So",
        "colab": {
          "base_uri": "https://localhost:8080/"
        },
        "outputId": "d9010932-1c2c-47b8-aca1-05ff9963373e"
      },
      "source": [
        "callback = tf.keras.callbacks.EarlyStopping(monitor='val_loss', patience=10, restore_best_weights=True)\n",
        "history = model_1.fit(X_train_sc, y_train, epochs=1000, batch_size=16, validation_data=(X_test_sc, y_test), callbacks=[callback])\n",
        "cp_callback = tf.keras.callbacks.ModelCheckpoint('/content/drive/MyDrive/GL- AIML/NeuralNetworks',save_freq='epoch')"
      ],
      "execution_count": 41,
      "outputs": [
        {
          "output_type": "stream",
          "text": [
            "Epoch 1/1000\n",
            "371/371 [==============================] - 2s 3ms/step - loss: 644524.5995 - coeff_determination: -1.9904 - val_loss: 487838.0312 - val_coeff_determination: -0.8005\n",
            "Epoch 2/1000\n",
            "371/371 [==============================] - 1s 3ms/step - loss: 441090.1410 - coeff_determination: -0.6801 - val_loss: 397521.3750 - val_coeff_determination: -0.2406\n",
            "Epoch 3/1000\n",
            "371/371 [==============================] - 1s 3ms/step - loss: 377958.4655 - coeff_determination: -0.1171 - val_loss: 309613.9375 - val_coeff_determination: 0.1910\n",
            "Epoch 4/1000\n",
            "371/371 [==============================] - 1s 3ms/step - loss: 296110.9344 - coeff_determination: 0.2502 - val_loss: 247992.9844 - val_coeff_determination: 0.4799\n",
            "Epoch 5/1000\n",
            "371/371 [==============================] - 1s 3ms/step - loss: 258226.0497 - coeff_determination: 0.3789 - val_loss: 224663.3906 - val_coeff_determination: 0.5738\n",
            "Epoch 6/1000\n",
            "371/371 [==============================] - 1s 3ms/step - loss: 246273.9905 - coeff_determination: 0.3824 - val_loss: 212169.5469 - val_coeff_determination: 0.6099\n",
            "Epoch 7/1000\n",
            "371/371 [==============================] - 1s 3ms/step - loss: 241058.5292 - coeff_determination: 0.4379 - val_loss: 204159.9375 - val_coeff_determination: 0.6443\n",
            "Epoch 8/1000\n",
            "371/371 [==============================] - 1s 3ms/step - loss: 242511.9321 - coeff_determination: 0.3803 - val_loss: 199209.8125 - val_coeff_determination: 0.6628\n",
            "Epoch 9/1000\n",
            "371/371 [==============================] - 1s 3ms/step - loss: 236453.9339 - coeff_determination: 0.3814 - val_loss: 193625.0312 - val_coeff_determination: 0.6801\n",
            "Epoch 10/1000\n",
            "371/371 [==============================] - 1s 3ms/step - loss: 218549.0349 - coeff_determination: 0.4273 - val_loss: 190970.2656 - val_coeff_determination: 0.6834\n",
            "Epoch 11/1000\n",
            "371/371 [==============================] - 1s 3ms/step - loss: 214039.9299 - coeff_determination: 0.4030 - val_loss: 187088.1094 - val_coeff_determination: 0.6961\n",
            "Epoch 12/1000\n",
            "371/371 [==============================] - 1s 3ms/step - loss: 218608.3976 - coeff_determination: 0.4430 - val_loss: 180148.6406 - val_coeff_determination: 0.7094\n",
            "Epoch 13/1000\n",
            "371/371 [==============================] - 1s 3ms/step - loss: 223923.2991 - coeff_determination: 0.4765 - val_loss: 176664.4375 - val_coeff_determination: 0.7164\n",
            "Epoch 14/1000\n",
            "371/371 [==============================] - 1s 3ms/step - loss: 212105.9879 - coeff_determination: 0.4200 - val_loss: 174111.5312 - val_coeff_determination: 0.7226\n",
            "Epoch 15/1000\n",
            "371/371 [==============================] - 1s 3ms/step - loss: 213935.1931 - coeff_determination: 0.4534 - val_loss: 167319.3906 - val_coeff_determination: 0.7298\n",
            "Epoch 16/1000\n",
            "371/371 [==============================] - 1s 3ms/step - loss: 220048.7123 - coeff_determination: 0.4472 - val_loss: 167655.6875 - val_coeff_determination: 0.7399\n",
            "Epoch 17/1000\n",
            "371/371 [==============================] - 1s 3ms/step - loss: 217789.9123 - coeff_determination: 0.4219 - val_loss: 162214.2656 - val_coeff_determination: 0.7362\n",
            "Epoch 18/1000\n",
            "371/371 [==============================] - 1s 3ms/step - loss: 203744.1784 - coeff_determination: 0.5084 - val_loss: 157996.7031 - val_coeff_determination: 0.7416\n",
            "Epoch 19/1000\n",
            "371/371 [==============================] - 1s 3ms/step - loss: 202844.8377 - coeff_determination: 0.4586 - val_loss: 156385.8594 - val_coeff_determination: 0.7470\n",
            "Epoch 20/1000\n",
            "371/371 [==============================] - 1s 3ms/step - loss: 200669.2360 - coeff_determination: 0.4672 - val_loss: 154559.5156 - val_coeff_determination: 0.7427\n",
            "Epoch 21/1000\n",
            "371/371 [==============================] - 1s 3ms/step - loss: 205233.0846 - coeff_determination: 0.4382 - val_loss: 152943.6406 - val_coeff_determination: 0.7509\n",
            "Epoch 22/1000\n",
            "371/371 [==============================] - 1s 3ms/step - loss: 216266.2846 - coeff_determination: 0.3687 - val_loss: 150508.7031 - val_coeff_determination: 0.7465\n",
            "Epoch 23/1000\n",
            "371/371 [==============================] - 1s 3ms/step - loss: 192215.3789 - coeff_determination: 0.5101 - val_loss: 150198.4688 - val_coeff_determination: 0.7578\n",
            "Epoch 24/1000\n",
            "371/371 [==============================] - 1s 3ms/step - loss: 199866.1876 - coeff_determination: 0.3635 - val_loss: 148405.8125 - val_coeff_determination: 0.7545\n",
            "Epoch 25/1000\n",
            "371/371 [==============================] - 1s 3ms/step - loss: 201895.3981 - coeff_determination: 0.4682 - val_loss: 148401.9688 - val_coeff_determination: 0.7516\n",
            "Epoch 26/1000\n",
            "371/371 [==============================] - 1s 3ms/step - loss: 202085.7362 - coeff_determination: 0.4391 - val_loss: 146652.6875 - val_coeff_determination: 0.7450\n",
            "Epoch 27/1000\n",
            "371/371 [==============================] - 1s 3ms/step - loss: 195103.9056 - coeff_determination: 0.4751 - val_loss: 146370.4375 - val_coeff_determination: 0.7493\n",
            "Epoch 28/1000\n",
            "371/371 [==============================] - 1s 3ms/step - loss: 189029.5991 - coeff_determination: 0.4706 - val_loss: 146392.9062 - val_coeff_determination: 0.7655\n",
            "Epoch 29/1000\n",
            "371/371 [==============================] - 1s 3ms/step - loss: 208110.3783 - coeff_determination: 0.4512 - val_loss: 144697.9531 - val_coeff_determination: 0.7521\n",
            "Epoch 30/1000\n",
            "371/371 [==============================] - 1s 3ms/step - loss: 204495.3755 - coeff_determination: 0.4063 - val_loss: 143429.6562 - val_coeff_determination: 0.7528\n",
            "Epoch 31/1000\n",
            "371/371 [==============================] - 1s 3ms/step - loss: 192845.2303 - coeff_determination: 0.3113 - val_loss: 143894.8750 - val_coeff_determination: 0.7620\n",
            "Epoch 32/1000\n",
            "371/371 [==============================] - 1s 3ms/step - loss: 189356.1464 - coeff_determination: 0.4607 - val_loss: 143180.2500 - val_coeff_determination: 0.7662\n",
            "Epoch 33/1000\n",
            "371/371 [==============================] - 1s 3ms/step - loss: 197138.8625 - coeff_determination: 0.3920 - val_loss: 144407.0469 - val_coeff_determination: 0.7770\n",
            "Epoch 34/1000\n",
            "371/371 [==============================] - 1s 3ms/step - loss: 203430.2189 - coeff_determination: 0.4513 - val_loss: 144256.5156 - val_coeff_determination: 0.7465\n",
            "Epoch 35/1000\n",
            "371/371 [==============================] - 1s 3ms/step - loss: 194679.5805 - coeff_determination: 0.4459 - val_loss: 143632.3906 - val_coeff_determination: 0.7649\n",
            "Epoch 36/1000\n",
            "371/371 [==============================] - 1s 3ms/step - loss: 191686.4505 - coeff_determination: 0.4806 - val_loss: 141291.2812 - val_coeff_determination: 0.7576\n",
            "Epoch 37/1000\n",
            "371/371 [==============================] - 1s 3ms/step - loss: 195574.6347 - coeff_determination: 0.5119 - val_loss: 139950.1719 - val_coeff_determination: 0.7606\n",
            "Epoch 38/1000\n",
            "371/371 [==============================] - 1s 3ms/step - loss: 192374.6372 - coeff_determination: 0.5016 - val_loss: 140564.1719 - val_coeff_determination: 0.7651\n",
            "Epoch 39/1000\n",
            "371/371 [==============================] - 1s 3ms/step - loss: 199192.0014 - coeff_determination: 0.4470 - val_loss: 138310.8281 - val_coeff_determination: 0.7569\n",
            "Epoch 40/1000\n",
            "371/371 [==============================] - 1s 3ms/step - loss: 188249.6586 - coeff_determination: 0.5315 - val_loss: 137848.2812 - val_coeff_determination: 0.7659\n",
            "Epoch 41/1000\n",
            "371/371 [==============================] - 1s 3ms/step - loss: 196917.7324 - coeff_determination: 0.4037 - val_loss: 139636.1875 - val_coeff_determination: 0.7607\n",
            "Epoch 42/1000\n",
            "371/371 [==============================] - 1s 3ms/step - loss: 190904.7298 - coeff_determination: 0.5120 - val_loss: 140158.2031 - val_coeff_determination: 0.7688\n",
            "Epoch 43/1000\n",
            "371/371 [==============================] - 1s 3ms/step - loss: 193998.3600 - coeff_determination: 0.5260 - val_loss: 138180.9844 - val_coeff_determination: 0.7665\n",
            "Epoch 44/1000\n",
            "371/371 [==============================] - 1s 3ms/step - loss: 200399.0497 - coeff_determination: 0.4393 - val_loss: 136841.6250 - val_coeff_determination: 0.7649\n",
            "Epoch 45/1000\n",
            "371/371 [==============================] - 1s 3ms/step - loss: 194039.2770 - coeff_determination: 0.3703 - val_loss: 136192.3125 - val_coeff_determination: 0.7699\n",
            "Epoch 46/1000\n",
            "371/371 [==============================] - 1s 3ms/step - loss: 200002.8035 - coeff_determination: 0.3459 - val_loss: 136394.0781 - val_coeff_determination: 0.7521\n",
            "Epoch 47/1000\n",
            "371/371 [==============================] - 1s 3ms/step - loss: 201157.0208 - coeff_determination: 0.4713 - val_loss: 137870.7031 - val_coeff_determination: 0.7629\n",
            "Epoch 48/1000\n",
            "371/371 [==============================] - 1s 3ms/step - loss: 202148.0967 - coeff_determination: 0.5389 - val_loss: 137103.9531 - val_coeff_determination: 0.7448\n",
            "Epoch 49/1000\n",
            "371/371 [==============================] - 1s 3ms/step - loss: 186578.0873 - coeff_determination: 0.5172 - val_loss: 137027.2188 - val_coeff_determination: 0.7624\n",
            "Epoch 50/1000\n",
            "371/371 [==============================] - 1s 3ms/step - loss: 182220.0482 - coeff_determination: 0.4980 - val_loss: 136517.2656 - val_coeff_determination: 0.7596\n",
            "Epoch 51/1000\n",
            "371/371 [==============================] - 1s 3ms/step - loss: 195300.4479 - coeff_determination: 0.4852 - val_loss: 136900.4219 - val_coeff_determination: 0.7700\n",
            "Epoch 52/1000\n",
            "371/371 [==============================] - 1s 3ms/step - loss: 189284.2991 - coeff_determination: 0.5470 - val_loss: 136615.3438 - val_coeff_determination: 0.7543\n",
            "Epoch 53/1000\n",
            "371/371 [==============================] - 1s 3ms/step - loss: 195937.4853 - coeff_determination: 0.4928 - val_loss: 135985.1875 - val_coeff_determination: 0.7541\n",
            "Epoch 54/1000\n",
            "371/371 [==============================] - 1s 3ms/step - loss: 194518.4577 - coeff_determination: 0.4830 - val_loss: 134899.4688 - val_coeff_determination: 0.7571\n",
            "Epoch 55/1000\n",
            "371/371 [==============================] - 1s 3ms/step - loss: 191387.6102 - coeff_determination: 0.4926 - val_loss: 134924.9375 - val_coeff_determination: 0.7604\n",
            "Epoch 56/1000\n",
            "371/371 [==============================] - 1s 3ms/step - loss: 188521.5197 - coeff_determination: 0.2054 - val_loss: 136484.0312 - val_coeff_determination: 0.7534\n",
            "Epoch 57/1000\n",
            "371/371 [==============================] - 1s 3ms/step - loss: 192432.6271 - coeff_determination: 0.5129 - val_loss: 139071.4062 - val_coeff_determination: 0.7587\n",
            "Epoch 58/1000\n",
            "371/371 [==============================] - 1s 3ms/step - loss: 189182.7124 - coeff_determination: 0.5082 - val_loss: 135876.8438 - val_coeff_determination: 0.7618\n",
            "Epoch 59/1000\n",
            "371/371 [==============================] - 1s 3ms/step - loss: 188516.7974 - coeff_determination: 0.3129 - val_loss: 136952.6562 - val_coeff_determination: 0.7596\n",
            "Epoch 60/1000\n",
            "371/371 [==============================] - 1s 3ms/step - loss: 190297.4370 - coeff_determination: 0.4868 - val_loss: 135781.2812 - val_coeff_determination: 0.7632\n",
            "Epoch 61/1000\n",
            "371/371 [==============================] - 1s 3ms/step - loss: 194062.8080 - coeff_determination: 0.4572 - val_loss: 136316.1406 - val_coeff_determination: 0.7687\n",
            "Epoch 62/1000\n",
            "371/371 [==============================] - 1s 3ms/step - loss: 194235.0921 - coeff_determination: 0.5088 - val_loss: 134974.9531 - val_coeff_determination: 0.7352\n",
            "Epoch 63/1000\n",
            "371/371 [==============================] - 1s 3ms/step - loss: 190321.8294 - coeff_determination: 0.3762 - val_loss: 134638.6250 - val_coeff_determination: 0.7363\n",
            "Epoch 64/1000\n",
            "371/371 [==============================] - 1s 3ms/step - loss: 195230.8822 - coeff_determination: 0.4382 - val_loss: 136943.2188 - val_coeff_determination: 0.7621\n",
            "Epoch 65/1000\n",
            "371/371 [==============================] - 1s 3ms/step - loss: 195828.4829 - coeff_determination: 0.4981 - val_loss: 136810.2500 - val_coeff_determination: 0.7446\n",
            "Epoch 66/1000\n",
            "371/371 [==============================] - 1s 3ms/step - loss: 193163.0169 - coeff_determination: 0.5549 - val_loss: 134854.6719 - val_coeff_determination: 0.7264\n",
            "Epoch 67/1000\n",
            "371/371 [==============================] - 1s 3ms/step - loss: 196684.8498 - coeff_determination: 0.4737 - val_loss: 134983.8125 - val_coeff_determination: 0.7402\n",
            "Epoch 68/1000\n",
            "371/371 [==============================] - 1s 3ms/step - loss: 190017.8256 - coeff_determination: 0.4321 - val_loss: 135396.7812 - val_coeff_determination: 0.7517\n",
            "Epoch 69/1000\n",
            "371/371 [==============================] - 1s 3ms/step - loss: 185337.2115 - coeff_determination: 0.4531 - val_loss: 137029.1719 - val_coeff_determination: 0.7646\n",
            "Epoch 70/1000\n",
            "371/371 [==============================] - 1s 3ms/step - loss: 192842.3842 - coeff_determination: 0.4620 - val_loss: 136003.9219 - val_coeff_determination: 0.7538\n",
            "Epoch 71/1000\n",
            "371/371 [==============================] - 1s 3ms/step - loss: 198591.3078 - coeff_determination: 0.3527 - val_loss: 135032.1406 - val_coeff_determination: 0.7513\n",
            "Epoch 72/1000\n",
            "371/371 [==============================] - 1s 3ms/step - loss: 206133.5560 - coeff_determination: 0.5266 - val_loss: 135464.0156 - val_coeff_determination: 0.7603\n",
            "Epoch 73/1000\n",
            "371/371 [==============================] - 1s 3ms/step - loss: 190172.7560 - coeff_determination: 0.5289 - val_loss: 135592.4062 - val_coeff_determination: 0.7575\n"
          ],
          "name": "stdout"
        }
      ]
    },
    {
      "cell_type": "markdown",
      "metadata": {
        "id": "GHbYwXdgDQhs"
      },
      "source": [
        "### Check the R2 score on complete test data"
      ]
    },
    {
      "cell_type": "code",
      "metadata": {
        "id": "p7Ly-csS90PM",
        "colab": {
          "base_uri": "https://localhost:8080/"
        },
        "outputId": "66e37ad8-f3a5-4319-e1a9-4252989d400f"
      },
      "source": [
        "y_pred = model_1.predict(X_test_sc)\n",
        "print(r2_score(y_test,y_pred))"
      ],
      "execution_count": 42,
      "outputs": [
        {
          "output_type": "stream",
          "text": [
            "0.8958997471036853\n"
          ],
          "name": "stdout"
        }
      ]
    },
    {
      "cell_type": "markdown",
      "metadata": {
        "id": "mcZazFM7DiVr"
      },
      "source": [
        "### Visualize model learning\n",
        "- Visualize model learning using train and test r2 score\n",
        "- Visualize model learning using train and test loss"
      ]
    },
    {
      "cell_type": "code",
      "metadata": {
        "id": "cH-8qHgp90Jv",
        "colab": {
          "base_uri": "https://localhost:8080/",
          "height": 573
        },
        "outputId": "ef86a153-0e1c-439a-b51a-f1a6f59740f5"
      },
      "source": [
        "import matplotlib.pyplot as plt\n",
        "\n",
        "plt.plot(history.history['coeff_determination'])\n",
        "plt.plot(history.history['val_coeff_determination'])\n",
        "plt.title('model r2_score')\n",
        "plt.ylabel('r2_score')\n",
        "plt.xlabel('epoch')\n",
        "plt.legend(['train', 'test'], loc='upper left')\n",
        "plt.show()\n",
        "# summarize history for loss\n",
        "plt.plot(history.history['loss'])\n",
        "plt.plot(history.history['val_loss'])\n",
        "plt.title('model loss')\n",
        "plt.ylabel('loss')\n",
        "plt.xlabel('epoch')\n",
        "plt.legend(['train', 'test'], loc='upper left')\n",
        "plt.show()"
      ],
      "execution_count": 44,
      "outputs": [
        {
          "output_type": "display_data",
          "data": {
            "image/png": "[encoded data removed]",
            "text/plain": [
              "<Figure size 432x288 with 1 Axes>"
            ]
          },
          "metadata": {
            "tags": [],
            "needs_background": "light"
          }
        },
        {
          "output_type": "display_data",
          "data": {
            "image/png": "[encoded data removed]",
            "text/plain": [
              "<Figure size 432x288 with 1 Axes>"
            ]
          },
          "metadata": {
            "tags": [],
            "needs_background": "light"
          }
        }
      ]
    },
    {
      "cell_type": "markdown",
      "metadata": {
        "id": "POU_v9owFLWp"
      },
      "source": [
        "### Create another Deep Neural Network Model for Regression to experiment with other hyper-parameters\n",
        "- Initialize a Sequential model\n",
        "- Add a batch normalization layer\n",
        "- Intialize weights using HeUniform with seed = 7\n",
        "- Add 4 hidden layer with activation relu (Number of neurons = 256,128,64,32 in each layer respectively)\n",
        "- Add dropout layer after each hidden layer\n",
        "- Add a Dense layer with one neuron as output, use activation linear\n",
        "  \n"
      ]
    },
    {
      "cell_type": "code",
      "metadata": {
        "id": "EJiZ1JZZECpm"
      },
      "source": [
        "from keras.layers import BatchNormalization\n",
        "#model_2.tf.keras.initializers.HeUniform(seed=7)\n",
        "model_2 = Sequential()\n",
        "model_2.add(tf.keras.Input(shape=(13)))\n",
        "\n",
        "model_2.add(BatchNormalization())\n",
        "model_2.add(Dense(256,activation='relu',kernel_initializer=tf.keras.initializers.HeUniform(seed=7)))\n",
        "model_2.add(Dropout(0.15))\n",
        "model_2.add(Dense(128,activation='relu',kernel_initializer=tf.keras.initializers.HeUniform(seed=7)))\n",
        "model_2.add(Dropout(0.15))\n",
        "model_2.add(Dense(64,activation='relu',kernel_initializer=tf.keras.initializers.HeUniform(seed=7)))\n",
        "model_2.add(Dropout(0.15))\n",
        "model_2.add(Dense(32,activation='relu',kernel_initializer=tf.keras.initializers.HeUniform(seed=7)))\n",
        "model_2.add(Dropout(0.15))\n",
        "\n",
        "model_2.add(Dense(1,activation='linear'))"
      ],
      "execution_count": 51,
      "outputs": []
    },
    {
      "cell_type": "code",
      "metadata": {
        "colab": {
          "base_uri": "https://localhost:8080/"
        },
        "id": "M67aQp15nCsQ",
        "outputId": "49177385-abb7-40c0-b5ee-1c38a4510abc"
      },
      "source": [
        "model_2.summary()"
      ],
      "execution_count": 53,
      "outputs": [
        {
          "output_type": "stream",
          "text": [
            "Model: \"sequential_8\"\n",
            "_________________________________________________________________\n",
            "Layer (type)                 Output Shape              Param #   \n",
            "=================================================================\n",
            "batch_normalization_6 (Batch (None, 13)                52        \n",
            "_________________________________________________________________\n",
            "dense_18 (Dense)             (None, 256)               3584      \n",
            "_________________________________________________________________\n",
            "dropout_14 (Dropout)         (None, 256)               0         \n",
            "_________________________________________________________________\n",
            "dense_19 (Dense)             (None, 128)               32896     \n",
            "_________________________________________________________________\n",
            "dropout_15 (Dropout)         (None, 128)               0         \n",
            "_________________________________________________________________\n",
            "dense_20 (Dense)             (None, 64)                8256      \n",
            "_________________________________________________________________\n",
            "dropout_16 (Dropout)         (None, 64)                0         \n",
            "_________________________________________________________________\n",
            "dense_21 (Dense)             (None, 32)                2080      \n",
            "_________________________________________________________________\n",
            "dropout_17 (Dropout)         (None, 32)                0         \n",
            "_________________________________________________________________\n",
            "dense_22 (Dense)             (None, 1)                 33        \n",
            "=================================================================\n",
            "Total params: 46,901\n",
            "Trainable params: 46,875\n",
            "Non-trainable params: 26\n",
            "_________________________________________________________________\n"
          ],
          "name": "stdout"
        }
      ]
    },
    {
      "cell_type": "markdown",
      "metadata": {
        "id": "yNoD20dGHKNk"
      },
      "source": [
        "### Compile the model\n",
        "\n",
        "- Compile the model\n",
        "- Use \"adam\" optimizer with learning rate = 0.002\n",
        "- for calculating loss, use mean squared error\n",
        "- use R2 score (coefficient of determination) as the metric"
      ]
    },
    {
      "cell_type": "code",
      "metadata": {
        "id": "EL--zAmbECm3"
      },
      "source": [
        "model_2.compile(optimizer='adam', loss='mean_squared_error', metrics=[coeff_determination])\n"
      ],
      "execution_count": 57,
      "outputs": []
    },
    {
      "cell_type": "markdown",
      "metadata": {
        "id": "TNhawruvHgLR"
      },
      "source": [
        "### Train your model\n",
        "\n",
        "- epochs: 1000\n",
        "- batch size: 64\n",
        "- Use test data as validation data\n",
        "- Also add callback, such that if validation loss doesn't decreases consecutively 10 times, stop the training and return the weights for the previous best model\n",
        "\n"
      ]
    },
    {
      "cell_type": "code",
      "metadata": {
        "id": "rf_Y0p7yECiz",
        "colab": {
          "base_uri": "https://localhost:8080/"
        },
        "outputId": "7f6542b4-f2c4-4ef1-9a2f-47ba8a86de47"
      },
      "source": [
        "callback = tf.keras.callbacks.EarlyStopping(monitor='val_loss', patience=10, restore_best_weights=True)\n",
        "history = model_2.fit(X_train_sc, y_train, epochs=1000, batch_size=64, validation_data=(X_test_sc, y_test), callbacks=[callback])"
      ],
      "execution_count": 58,
      "outputs": [
        {
          "output_type": "stream",
          "text": [
            "Epoch 1/1000\n",
            "93/93 [==============================] - 1s 5ms/step - loss: 1156986264728.5107 - coeff_determination: -0.8822 - val_loss: 1120515784704.0000 - val_coeff_determination: -0.7476\n",
            "Epoch 2/1000\n",
            "93/93 [==============================] - 0s 3ms/step - loss: 1035220646541.6171 - coeff_determination: -0.7598 - val_loss: 438011494400.0000 - val_coeff_determination: 0.3999\n",
            "Epoch 3/1000\n",
            "93/93 [==============================] - 0s 3ms/step - loss: 322397141645.6170 - coeff_determination: 0.4481 - val_loss: 235148001280.0000 - val_coeff_determination: 0.6570\n",
            "Epoch 4/1000\n",
            "93/93 [==============================] - 0s 3ms/step - loss: 247115206917.4468 - coeff_determination: 0.5907 - val_loss: 196208328704.0000 - val_coeff_determination: 0.7119\n",
            "Epoch 5/1000\n",
            "93/93 [==============================] - 0s 3ms/step - loss: 252012142592.0000 - coeff_determination: 0.5588 - val_loss: 176283664384.0000 - val_coeff_determination: 0.7405\n",
            "Epoch 6/1000\n",
            "93/93 [==============================] - 0s 3ms/step - loss: 228907880099.4043 - coeff_determination: 0.6271 - val_loss: 177039212544.0000 - val_coeff_determination: 0.7533\n",
            "Epoch 7/1000\n",
            "93/93 [==============================] - 0s 3ms/step - loss: 176234977585.0213 - coeff_determination: 0.6980 - val_loss: 151279845376.0000 - val_coeff_determination: 0.7785\n",
            "Epoch 8/1000\n",
            "93/93 [==============================] - 0s 3ms/step - loss: 164922863790.2979 - coeff_determination: 0.6790 - val_loss: 142226374656.0000 - val_coeff_determination: 0.7921\n",
            "Epoch 9/1000\n",
            "93/93 [==============================] - 0s 3ms/step - loss: 172446619430.1277 - coeff_determination: 0.6931 - val_loss: 138012639232.0000 - val_coeff_determination: 0.8016\n",
            "Epoch 10/1000\n",
            "93/93 [==============================] - 0s 3ms/step - loss: 156221693080.5107 - coeff_determination: 0.6854 - val_loss: 127928737792.0000 - val_coeff_determination: 0.8135\n",
            "Epoch 11/1000\n",
            "93/93 [==============================] - 0s 3ms/step - loss: 145913958661.4468 - coeff_determination: 0.6572 - val_loss: 120522137600.0000 - val_coeff_determination: 0.8225\n",
            "Epoch 12/1000\n",
            "93/93 [==============================] - 0s 3ms/step - loss: 156153659479.1489 - coeff_determination: 0.7260 - val_loss: 114357567488.0000 - val_coeff_determination: 0.8294\n",
            "Epoch 13/1000\n",
            "93/93 [==============================] - 0s 3ms/step - loss: 148894874253.6170 - coeff_determination: 0.7083 - val_loss: 113906155520.0000 - val_coeff_determination: 0.8345\n",
            "Epoch 14/1000\n",
            "93/93 [==============================] - 0s 3ms/step - loss: 151675919163.9149 - coeff_determination: 0.6843 - val_loss: 105707372544.0000 - val_coeff_determination: 0.8431\n",
            "Epoch 15/1000\n",
            "93/93 [==============================] - 0s 3ms/step - loss: 128276170534.1277 - coeff_determination: 0.7292 - val_loss: 101585944576.0000 - val_coeff_determination: 0.8485\n",
            "Epoch 16/1000\n",
            "93/93 [==============================] - 0s 3ms/step - loss: 128982221061.4468 - coeff_determination: 0.7707 - val_loss: 99091718144.0000 - val_coeff_determination: 0.8526\n",
            "Epoch 17/1000\n",
            "93/93 [==============================] - 0s 3ms/step - loss: 155712149983.3192 - coeff_determination: 0.6634 - val_loss: 94743273472.0000 - val_coeff_determination: 0.8573\n",
            "Epoch 18/1000\n",
            "93/93 [==============================] - 0s 3ms/step - loss: 112485541670.1277 - coeff_determination: 0.7802 - val_loss: 89878724608.0000 - val_coeff_determination: 0.8583\n",
            "Epoch 19/1000\n",
            "93/93 [==============================] - 0s 3ms/step - loss: 127899580982.4681 - coeff_determination: 0.6796 - val_loss: 91615019008.0000 - val_coeff_determination: 0.8639\n",
            "Epoch 20/1000\n",
            "93/93 [==============================] - 0s 3ms/step - loss: 136745355307.5745 - coeff_determination: 0.6419 - val_loss: 87290978304.0000 - val_coeff_determination: 0.8678\n",
            "Epoch 21/1000\n",
            "93/93 [==============================] - 0s 3ms/step - loss: 123064850388.4255 - coeff_determination: 0.7467 - val_loss: 84077682688.0000 - val_coeff_determination: 0.8709\n",
            "Epoch 22/1000\n",
            "93/93 [==============================] - 0s 3ms/step - loss: 106045983722.2128 - coeff_determination: 0.7481 - val_loss: 81214857216.0000 - val_coeff_determination: 0.8713\n",
            "Epoch 23/1000\n",
            "93/93 [==============================] - 0s 3ms/step - loss: 130998963352.5106 - coeff_determination: 0.6955 - val_loss: 81572487168.0000 - val_coeff_determination: 0.8757\n",
            "Epoch 24/1000\n",
            "93/93 [==============================] - 0s 3ms/step - loss: 106654408791.1489 - coeff_determination: 0.7415 - val_loss: 80030089216.0000 - val_coeff_determination: 0.8783\n",
            "Epoch 25/1000\n",
            "93/93 [==============================] - 0s 3ms/step - loss: 111251273771.5745 - coeff_determination: 0.7725 - val_loss: 82173526016.0000 - val_coeff_determination: 0.8772\n",
            "Epoch 26/1000\n",
            "93/93 [==============================] - 0s 3ms/step - loss: 120741953274.5532 - coeff_determination: 0.7440 - val_loss: 76739911680.0000 - val_coeff_determination: 0.8817\n",
            "Epoch 27/1000\n",
            "93/93 [==============================] - 0s 3ms/step - loss: 131439933222.1277 - coeff_determination: 0.6756 - val_loss: 81095213056.0000 - val_coeff_determination: 0.8796\n",
            "Epoch 28/1000\n",
            "93/93 [==============================] - 0s 3ms/step - loss: 94282634000.3404 - coeff_determination: 0.8140 - val_loss: 74309255168.0000 - val_coeff_determination: 0.8849\n",
            "Epoch 29/1000\n",
            "93/93 [==============================] - 0s 4ms/step - loss: 115407950259.7447 - coeff_determination: 0.7019 - val_loss: 71496835072.0000 - val_coeff_determination: 0.8872\n",
            "Epoch 30/1000\n",
            "93/93 [==============================] - 0s 3ms/step - loss: 108661999485.2766 - coeff_determination: 0.6898 - val_loss: 72173191168.0000 - val_coeff_determination: 0.8883\n",
            "Epoch 31/1000\n",
            "93/93 [==============================] - 0s 3ms/step - loss: 114432808567.8298 - coeff_determination: 0.7485 - val_loss: 74106617856.0000 - val_coeff_determination: 0.8878\n",
            "Epoch 32/1000\n",
            "93/93 [==============================] - 0s 3ms/step - loss: 106149800328.1702 - coeff_determination: 0.7115 - val_loss: 68066697216.0000 - val_coeff_determination: 0.8897\n",
            "Epoch 33/1000\n",
            "93/93 [==============================] - 0s 3ms/step - loss: 105698741356.9362 - coeff_determination: 0.7565 - val_loss: 72904581120.0000 - val_coeff_determination: 0.8905\n",
            "Epoch 34/1000\n",
            "93/93 [==============================] - 0s 3ms/step - loss: 101938115692.9362 - coeff_determination: 0.8100 - val_loss: 71974076416.0000 - val_coeff_determination: 0.8920\n",
            "Epoch 35/1000\n",
            "93/93 [==============================] - 0s 3ms/step - loss: 92831807182.9787 - coeff_determination: 0.7960 - val_loss: 67068010496.0000 - val_coeff_determination: 0.8956\n",
            "Epoch 36/1000\n",
            "93/93 [==============================] - 0s 3ms/step - loss: 120412257083.9149 - coeff_determination: 0.7659 - val_loss: 65354391552.0000 - val_coeff_determination: 0.8968\n",
            "Epoch 37/1000\n",
            "93/93 [==============================] - 0s 3ms/step - loss: 111213476972.9362 - coeff_determination: 0.7682 - val_loss: 64979640320.0000 - val_coeff_determination: 0.8975\n",
            "Epoch 38/1000\n",
            "93/93 [==============================] - 0s 3ms/step - loss: 112732454650.5532 - coeff_determination: 0.7791 - val_loss: 64416620544.0000 - val_coeff_determination: 0.8981\n",
            "Epoch 39/1000\n",
            "93/93 [==============================] - 0s 4ms/step - loss: 100276000375.8298 - coeff_determination: 0.7973 - val_loss: 67930189824.0000 - val_coeff_determination: 0.8968\n",
            "Epoch 40/1000\n",
            "93/93 [==============================] - 0s 4ms/step - loss: 120145825181.9574 - coeff_determination: 0.7714 - val_loss: 69360222208.0000 - val_coeff_determination: 0.8962\n",
            "Epoch 41/1000\n",
            "93/93 [==============================] - 0s 4ms/step - loss: 100566588742.8085 - coeff_determination: 0.8050 - val_loss: 67470819328.0000 - val_coeff_determination: 0.8982\n",
            "Epoch 42/1000\n",
            "93/93 [==============================] - 0s 3ms/step - loss: 91847067648.0000 - coeff_determination: 0.8139 - val_loss: 62404640768.0000 - val_coeff_determination: 0.9015\n",
            "Epoch 43/1000\n",
            "93/93 [==============================] - 0s 3ms/step - loss: 98027446838.4681 - coeff_determination: 0.8063 - val_loss: 67477090304.0000 - val_coeff_determination: 0.8986\n",
            "Epoch 44/1000\n",
            "93/93 [==============================] - 0s 3ms/step - loss: 102903013637.4468 - coeff_determination: 0.7814 - val_loss: 60168818688.0000 - val_coeff_determination: 0.9031\n",
            "Epoch 45/1000\n",
            "93/93 [==============================] - 0s 3ms/step - loss: 93555633653.1064 - coeff_determination: 0.8160 - val_loss: 59206344704.0000 - val_coeff_determination: 0.9023\n",
            "Epoch 46/1000\n",
            "93/93 [==============================] - 0s 4ms/step - loss: 95851936397.6170 - coeff_determination: 0.7973 - val_loss: 59219853312.0000 - val_coeff_determination: 0.9045\n",
            "Epoch 47/1000\n",
            "93/93 [==============================] - 0s 3ms/step - loss: 123174027264.0000 - coeff_determination: 0.7444 - val_loss: 63390027776.0000 - val_coeff_determination: 0.9025\n",
            "Epoch 48/1000\n",
            "93/93 [==============================] - 0s 3ms/step - loss: 101540592356.7660 - coeff_determination: 0.8104 - val_loss: 58130104320.0000 - val_coeff_determination: 0.9059\n",
            "Epoch 49/1000\n",
            "93/93 [==============================] - 0s 3ms/step - loss: 98194102315.5745 - coeff_determination: 0.7933 - val_loss: 59205828608.0000 - val_coeff_determination: 0.9070\n",
            "Epoch 50/1000\n",
            "93/93 [==============================] - 0s 4ms/step - loss: 99910214677.7872 - coeff_determination: 0.7428 - val_loss: 58153701376.0000 - val_coeff_determination: 0.9072\n",
            "Epoch 51/1000\n",
            "93/93 [==============================] - 0s 4ms/step - loss: 96668567508.4255 - coeff_determination: 0.8017 - val_loss: 57148751872.0000 - val_coeff_determination: 0.9013\n",
            "Epoch 52/1000\n",
            "93/93 [==============================] - 0s 3ms/step - loss: 101847818414.2979 - coeff_determination: 0.7185 - val_loss: 56702373888.0000 - val_coeff_determination: 0.9042\n",
            "Epoch 53/1000\n",
            "93/93 [==============================] - 0s 3ms/step - loss: 113057910871.1489 - coeff_determination: 0.7598 - val_loss: 56185540608.0000 - val_coeff_determination: 0.9082\n",
            "Epoch 54/1000\n",
            "93/93 [==============================] - 0s 4ms/step - loss: 94067890132.4255 - coeff_determination: 0.7555 - val_loss: 56951988224.0000 - val_coeff_determination: 0.9091\n",
            "Epoch 55/1000\n",
            "93/93 [==============================] - 0s 3ms/step - loss: 91775700686.9787 - coeff_determination: 0.8012 - val_loss: 58554216448.0000 - val_coeff_determination: 0.9085\n",
            "Epoch 56/1000\n",
            "93/93 [==============================] - 0s 3ms/step - loss: 89716223389.9574 - coeff_determination: 0.7742 - val_loss: 56966864896.0000 - val_coeff_determination: 0.9100\n",
            "Epoch 57/1000\n",
            "93/93 [==============================] - 0s 3ms/step - loss: 93574440567.8298 - coeff_determination: 0.7909 - val_loss: 54953455616.0000 - val_coeff_determination: 0.9062\n",
            "Epoch 58/1000\n",
            "93/93 [==============================] - 0s 3ms/step - loss: 96057089699.4043 - coeff_determination: 0.7873 - val_loss: 59260395520.0000 - val_coeff_determination: 0.9087\n",
            "Epoch 59/1000\n",
            "93/93 [==============================] - 0s 3ms/step - loss: 109370030297.8723 - coeff_determination: 0.8159 - val_loss: 60658855936.0000 - val_coeff_determination: 0.9072\n",
            "Epoch 60/1000\n",
            "93/93 [==============================] - 0s 3ms/step - loss: 96205086545.7021 - coeff_determination: 0.7824 - val_loss: 56728682496.0000 - val_coeff_determination: 0.9114\n",
            "Epoch 61/1000\n",
            "93/93 [==============================] - 0s 3ms/step - loss: 94846775208.8511 - coeff_determination: 0.7962 - val_loss: 63427780608.0000 - val_coeff_determination: 0.9045\n",
            "Epoch 62/1000\n",
            "93/93 [==============================] - 0s 4ms/step - loss: 110527764174.9787 - coeff_determination: 0.8064 - val_loss: 59410857984.0000 - val_coeff_determination: 0.9084\n",
            "Epoch 63/1000\n",
            "93/93 [==============================] - 0s 4ms/step - loss: 90587130683.9149 - coeff_determination: 0.8274 - val_loss: 53959020544.0000 - val_coeff_determination: 0.9132\n",
            "Epoch 64/1000\n",
            "93/93 [==============================] - 0s 4ms/step - loss: 99173130152.8511 - coeff_determination: 0.8292 - val_loss: 57956925440.0000 - val_coeff_determination: 0.9106\n",
            "Epoch 65/1000\n",
            "93/93 [==============================] - 0s 4ms/step - loss: 127991358660.0851 - coeff_determination: 0.7820 - val_loss: 54698696704.0000 - val_coeff_determination: 0.9135\n",
            "Epoch 66/1000\n",
            "93/93 [==============================] - 0s 4ms/step - loss: 83147020331.5745 - coeff_determination: 0.8062 - val_loss: 53340311552.0000 - val_coeff_determination: 0.9144\n",
            "Epoch 67/1000\n",
            "93/93 [==============================] - 0s 3ms/step - loss: 97755301408.6808 - coeff_determination: 0.8003 - val_loss: 54267912192.0000 - val_coeff_determination: 0.9138\n",
            "Epoch 68/1000\n",
            "93/93 [==============================] - 0s 3ms/step - loss: 85873918257.0213 - coeff_determination: 0.7978 - val_loss: 51994103808.0000 - val_coeff_determination: 0.9134\n",
            "Epoch 69/1000\n",
            "93/93 [==============================] - 0s 3ms/step - loss: 89731446130.3830 - coeff_determination: 0.8159 - val_loss: 52170473472.0000 - val_coeff_determination: 0.9146\n",
            "Epoch 70/1000\n",
            "93/93 [==============================] - 0s 3ms/step - loss: 94017167272.8511 - coeff_determination: 0.7665 - val_loss: 52334305280.0000 - val_coeff_determination: 0.9152\n",
            "Epoch 71/1000\n",
            "93/93 [==============================] - 0s 4ms/step - loss: 84700989440.0000 - coeff_determination: 0.8286 - val_loss: 53563510784.0000 - val_coeff_determination: 0.9148\n",
            "Epoch 72/1000\n",
            "93/93 [==============================] - 0s 3ms/step - loss: 99723604795.9149 - coeff_determination: 0.7837 - val_loss: 51752230912.0000 - val_coeff_determination: 0.9164\n",
            "Epoch 73/1000\n",
            "93/93 [==============================] - 0s 4ms/step - loss: 94372726478.9787 - coeff_determination: 0.7074 - val_loss: 50598039552.0000 - val_coeff_determination: 0.9159\n",
            "Epoch 74/1000\n",
            "93/93 [==============================] - 0s 3ms/step - loss: 86111767007.3192 - coeff_determination: 0.8300 - val_loss: 51128160256.0000 - val_coeff_determination: 0.9163\n",
            "Epoch 75/1000\n",
            "93/93 [==============================] - 0s 3ms/step - loss: 94102726263.8298 - coeff_determination: 0.8079 - val_loss: 52783128576.0000 - val_coeff_determination: 0.9161\n",
            "Epoch 76/1000\n",
            "93/93 [==============================] - 0s 3ms/step - loss: 85639582044.5957 - coeff_determination: 0.7936 - val_loss: 50524020736.0000 - val_coeff_determination: 0.9174\n",
            "Epoch 77/1000\n",
            "93/93 [==============================] - 0s 3ms/step - loss: 81572972108.2553 - coeff_determination: 0.8181 - val_loss: 49428123648.0000 - val_coeff_determination: 0.9154\n",
            "Epoch 78/1000\n",
            "93/93 [==============================] - 0s 3ms/step - loss: 89206598329.1915 - coeff_determination: 0.8057 - val_loss: 51775934464.0000 - val_coeff_determination: 0.9165\n",
            "Epoch 79/1000\n",
            "93/93 [==============================] - 0s 3ms/step - loss: 83325559219.7447 - coeff_determination: 0.8030 - val_loss: 57636474880.0000 - val_coeff_determination: 0.9113\n",
            "Epoch 80/1000\n",
            "93/93 [==============================] - 0s 3ms/step - loss: 95154109853.9574 - coeff_determination: 0.7789 - val_loss: 49459294208.0000 - val_coeff_determination: 0.9178\n",
            "Epoch 81/1000\n",
            "93/93 [==============================] - 0s 3ms/step - loss: 103034833898.2128 - coeff_determination: 0.7680 - val_loss: 51434139648.0000 - val_coeff_determination: 0.9172\n",
            "Epoch 82/1000\n",
            "93/93 [==============================] - 0s 4ms/step - loss: 74408741430.4681 - coeff_determination: 0.8440 - val_loss: 53715664896.0000 - val_coeff_determination: 0.9158\n",
            "Epoch 83/1000\n",
            "93/93 [==============================] - 0s 3ms/step - loss: 106492376434.3830 - coeff_determination: 0.7868 - val_loss: 55268995072.0000 - val_coeff_determination: 0.9141\n",
            "Epoch 84/1000\n",
            "93/93 [==============================] - 0s 3ms/step - loss: 97696431517.9574 - coeff_determination: 0.7956 - val_loss: 50159071232.0000 - val_coeff_determination: 0.9182\n",
            "Epoch 85/1000\n",
            "93/93 [==============================] - 0s 4ms/step - loss: 76425582548.4255 - coeff_determination: 0.8075 - val_loss: 49332441088.0000 - val_coeff_determination: 0.9186\n",
            "Epoch 86/1000\n",
            "93/93 [==============================] - 0s 3ms/step - loss: 92106278519.8298 - coeff_determination: 0.7725 - val_loss: 50100416512.0000 - val_coeff_determination: 0.9186\n",
            "Epoch 87/1000\n",
            "93/93 [==============================] - 0s 3ms/step - loss: 89874520761.1915 - coeff_determination: 0.8190 - val_loss: 50773712896.0000 - val_coeff_determination: 0.9181\n",
            "Epoch 88/1000\n",
            "93/93 [==============================] - 0s 4ms/step - loss: 97914996169.5319 - coeff_determination: 0.7983 - val_loss: 50313760768.0000 - val_coeff_determination: 0.9186\n",
            "Epoch 89/1000\n",
            "93/93 [==============================] - 0s 3ms/step - loss: 84566837117.2766 - coeff_determination: 0.8097 - val_loss: 48950280192.0000 - val_coeff_determination: 0.9189\n",
            "Epoch 90/1000\n",
            "93/93 [==============================] - 0s 3ms/step - loss: 79458259423.3192 - coeff_determination: 0.7940 - val_loss: 48510566400.0000 - val_coeff_determination: 0.9188\n",
            "Epoch 91/1000\n",
            "93/93 [==============================] - 0s 3ms/step - loss: 92068151034.5532 - coeff_determination: 0.8197 - val_loss: 50221486080.0000 - val_coeff_determination: 0.9187\n",
            "Epoch 92/1000\n",
            "93/93 [==============================] - 0s 3ms/step - loss: 89396215633.7021 - coeff_determination: 0.8372 - val_loss: 50419261440.0000 - val_coeff_determination: 0.9182\n",
            "Epoch 93/1000\n",
            "93/93 [==============================] - 0s 3ms/step - loss: 73293387950.2979 - coeff_determination: 0.8367 - val_loss: 48395382784.0000 - val_coeff_determination: 0.9198\n",
            "Epoch 94/1000\n",
            "93/93 [==============================] - 0s 3ms/step - loss: 98302876911.6596 - coeff_determination: 0.7655 - val_loss: 52557824000.0000 - val_coeff_determination: 0.9182\n",
            "Epoch 95/1000\n",
            "93/93 [==============================] - 0s 3ms/step - loss: 85190107920.3404 - coeff_determination: 0.7899 - val_loss: 48017051648.0000 - val_coeff_determination: 0.9198\n",
            "Epoch 96/1000\n",
            "93/93 [==============================] - 0s 4ms/step - loss: 83964917760.0000 - coeff_determination: 0.8544 - val_loss: 49021095936.0000 - val_coeff_determination: 0.9198\n",
            "Epoch 97/1000\n",
            "93/93 [==============================] - 0s 4ms/step - loss: 76067329699.4043 - coeff_determination: 0.8421 - val_loss: 54420389888.0000 - val_coeff_determination: 0.9161\n",
            "Epoch 98/1000\n",
            "93/93 [==============================] - 0s 3ms/step - loss: 86545961918.6383 - coeff_determination: 0.7897 - val_loss: 47399960576.0000 - val_coeff_determination: 0.9209\n",
            "Epoch 99/1000\n",
            "93/93 [==============================] - 0s 3ms/step - loss: 80317157070.9787 - coeff_determination: 0.8506 - val_loss: 49387323392.0000 - val_coeff_determination: 0.9206\n",
            "Epoch 100/1000\n",
            "93/93 [==============================] - 0s 3ms/step - loss: 91830231824.3404 - coeff_determination: 0.8001 - val_loss: 50473107456.0000 - val_coeff_determination: 0.9204\n",
            "Epoch 101/1000\n",
            "93/93 [==============================] - 0s 3ms/step - loss: 93532100564.4255 - coeff_determination: 0.8126 - val_loss: 50213367808.0000 - val_coeff_determination: 0.9208\n",
            "Epoch 102/1000\n",
            "93/93 [==============================] - 0s 3ms/step - loss: 80293759237.4468 - coeff_determination: 0.7822 - val_loss: 47389597696.0000 - val_coeff_determination: 0.9223\n",
            "Epoch 103/1000\n",
            "93/93 [==============================] - 0s 3ms/step - loss: 87580297608.1702 - coeff_determination: 0.8167 - val_loss: 47835480064.0000 - val_coeff_determination: 0.9224\n",
            "Epoch 104/1000\n",
            "93/93 [==============================] - 0s 4ms/step - loss: 87233277080.5106 - coeff_determination: 0.8453 - val_loss: 51514150912.0000 - val_coeff_determination: 0.9190\n",
            "Epoch 105/1000\n",
            "93/93 [==============================] - 0s 3ms/step - loss: 75114455301.4468 - coeff_determination: 0.8343 - val_loss: 47813812224.0000 - val_coeff_determination: 0.9217\n",
            "Epoch 106/1000\n",
            "93/93 [==============================] - 0s 4ms/step - loss: 76173217704.8511 - coeff_determination: 0.8084 - val_loss: 49503772672.0000 - val_coeff_determination: 0.9210\n",
            "Epoch 107/1000\n",
            "93/93 [==============================] - 0s 4ms/step - loss: 84901785578.2128 - coeff_determination: 0.8155 - val_loss: 47007559680.0000 - val_coeff_determination: 0.9223\n",
            "Epoch 108/1000\n",
            "93/93 [==============================] - 0s 3ms/step - loss: 89093425544.1702 - coeff_determination: 0.8419 - val_loss: 46434426880.0000 - val_coeff_determination: 0.9226\n",
            "Epoch 109/1000\n",
            "93/93 [==============================] - 0s 3ms/step - loss: 88292321236.4255 - coeff_determination: 0.7182 - val_loss: 46271287296.0000 - val_coeff_determination: 0.9218\n",
            "Epoch 110/1000\n",
            "93/93 [==============================] - 0s 3ms/step - loss: 103385804538.5532 - coeff_determination: 0.7695 - val_loss: 52825628672.0000 - val_coeff_determination: 0.9181\n",
            "Epoch 111/1000\n",
            "93/93 [==============================] - 0s 3ms/step - loss: 81910620421.4468 - coeff_determination: 0.8442 - val_loss: 45409611776.0000 - val_coeff_determination: 0.9229\n",
            "Epoch 112/1000\n",
            "93/93 [==============================] - 0s 3ms/step - loss: 94063180255.3192 - coeff_determination: 0.8264 - val_loss: 56145362944.0000 - val_coeff_determination: 0.9141\n",
            "Epoch 113/1000\n",
            "93/93 [==============================] - 0s 3ms/step - loss: 88102825504.6808 - coeff_determination: 0.8336 - val_loss: 51582623744.0000 - val_coeff_determination: 0.9195\n",
            "Epoch 114/1000\n",
            "93/93 [==============================] - 0s 3ms/step - loss: 94606874754.7234 - coeff_determination: 0.8077 - val_loss: 45778149376.0000 - val_coeff_determination: 0.9234\n",
            "Epoch 115/1000\n",
            "93/93 [==============================] - 0s 3ms/step - loss: 89733564110.9787 - coeff_determination: 0.8009 - val_loss: 45572919296.0000 - val_coeff_determination: 0.9238\n",
            "Epoch 116/1000\n",
            "93/93 [==============================] - 0s 4ms/step - loss: 88636784901.4468 - coeff_determination: 0.8109 - val_loss: 48370102272.0000 - val_coeff_determination: 0.9229\n",
            "Epoch 117/1000\n",
            "93/93 [==============================] - 0s 3ms/step - loss: 77450448547.4043 - coeff_determination: 0.8556 - val_loss: 52537356288.0000 - val_coeff_determination: 0.9188\n",
            "Epoch 118/1000\n",
            "93/93 [==============================] - 0s 3ms/step - loss: 87843081586.3830 - coeff_determination: 0.8169 - val_loss: 49237630976.0000 - val_coeff_determination: 0.9217\n",
            "Epoch 119/1000\n",
            "93/93 [==============================] - 0s 4ms/step - loss: 74825286459.9149 - coeff_determination: 0.8385 - val_loss: 45190725632.0000 - val_coeff_determination: 0.9225\n",
            "Epoch 120/1000\n",
            "93/93 [==============================] - 0s 3ms/step - loss: 79186913715.7447 - coeff_determination: 0.8333 - val_loss: 58113753088.0000 - val_coeff_determination: 0.9123\n",
            "Epoch 121/1000\n",
            "93/93 [==============================] - 0s 3ms/step - loss: 88218545043.0638 - coeff_determination: 0.7923 - val_loss: 45874315264.0000 - val_coeff_determination: 0.9193\n",
            "Epoch 122/1000\n",
            "93/93 [==============================] - 0s 3ms/step - loss: 85948767384.5106 - coeff_determination: 0.8024 - val_loss: 45897011200.0000 - val_coeff_determination: 0.9240\n",
            "Epoch 123/1000\n",
            "93/93 [==============================] - 0s 3ms/step - loss: 91674738077.9574 - coeff_determination: 0.8040 - val_loss: 45666394112.0000 - val_coeff_determination: 0.9240\n",
            "Epoch 124/1000\n",
            "93/93 [==============================] - 0s 3ms/step - loss: 84200276621.6170 - coeff_determination: 0.8013 - val_loss: 48309694464.0000 - val_coeff_determination: 0.9226\n",
            "Epoch 125/1000\n",
            "93/93 [==============================] - 0s 3ms/step - loss: 88930963107.4043 - coeff_determination: 0.8260 - val_loss: 44930609152.0000 - val_coeff_determination: 0.9226\n",
            "Epoch 126/1000\n",
            "93/93 [==============================] - 0s 3ms/step - loss: 105548009733.4468 - coeff_determination: 0.8060 - val_loss: 52614037504.0000 - val_coeff_determination: 0.9179\n",
            "Epoch 127/1000\n",
            "93/93 [==============================] - 0s 4ms/step - loss: 82858594478.2979 - coeff_determination: 0.8038 - val_loss: 45589004288.0000 - val_coeff_determination: 0.9248\n",
            "Epoch 128/1000\n",
            "93/93 [==============================] - 0s 4ms/step - loss: 95280730634.8936 - coeff_determination: 0.8120 - val_loss: 45037699072.0000 - val_coeff_determination: 0.9250\n",
            "Epoch 129/1000\n",
            "93/93 [==============================] - 0s 3ms/step - loss: 70097073740.2553 - coeff_determination: 0.8612 - val_loss: 46191939584.0000 - val_coeff_determination: 0.9248\n",
            "Epoch 130/1000\n",
            "93/93 [==============================] - 0s 3ms/step - loss: 88283575557.4468 - coeff_determination: 0.7959 - val_loss: 46731055104.0000 - val_coeff_determination: 0.9245\n",
            "Epoch 131/1000\n",
            "93/93 [==============================] - 0s 3ms/step - loss: 92134376905.5319 - coeff_determination: 0.8120 - val_loss: 44823830528.0000 - val_coeff_determination: 0.9250\n",
            "Epoch 132/1000\n",
            "93/93 [==============================] - 0s 3ms/step - loss: 87108282498.7234 - coeff_determination: 0.8282 - val_loss: 44028633088.0000 - val_coeff_determination: 0.9253\n",
            "Epoch 133/1000\n",
            "93/93 [==============================] - 0s 4ms/step - loss: 97540685170.3830 - coeff_determination: 0.7972 - val_loss: 43657125888.0000 - val_coeff_determination: 0.9255\n",
            "Epoch 134/1000\n",
            "93/93 [==============================] - 0s 3ms/step - loss: 82252866625.3617 - coeff_determination: 0.7878 - val_loss: 43553959936.0000 - val_coeff_determination: 0.9259\n",
            "Epoch 135/1000\n",
            "93/93 [==============================] - 0s 3ms/step - loss: 81686507389.2766 - coeff_determination: 0.8098 - val_loss: 43518902272.0000 - val_coeff_determination: 0.9257\n",
            "Epoch 136/1000\n",
            "93/93 [==============================] - 0s 4ms/step - loss: 89631437279.3192 - coeff_determination: 0.8121 - val_loss: 44983713792.0000 - val_coeff_determination: 0.9258\n",
            "Epoch 137/1000\n",
            "93/93 [==============================] - 0s 3ms/step - loss: 79460289862.8085 - coeff_determination: 0.8370 - val_loss: 45528293376.0000 - val_coeff_determination: 0.9253\n",
            "Epoch 138/1000\n",
            "93/93 [==============================] - 0s 3ms/step - loss: 99481509975.1489 - coeff_determination: 0.7034 - val_loss: 44610777088.0000 - val_coeff_determination: 0.9260\n",
            "Epoch 139/1000\n",
            "93/93 [==============================] - 0s 3ms/step - loss: 83172464901.4468 - coeff_determination: 0.8261 - val_loss: 45384912896.0000 - val_coeff_determination: 0.9259\n",
            "Epoch 140/1000\n",
            "93/93 [==============================] - 0s 3ms/step - loss: 82359997723.2340 - coeff_determination: 0.8064 - val_loss: 46757933056.0000 - val_coeff_determination: 0.9246\n",
            "Epoch 141/1000\n",
            "93/93 [==============================] - 0s 3ms/step - loss: 76652079409.0213 - coeff_determination: 0.8338 - val_loss: 44416987136.0000 - val_coeff_determination: 0.9261\n",
            "Epoch 142/1000\n",
            "93/93 [==============================] - 0s 3ms/step - loss: 71229263044.0851 - coeff_determination: 0.8398 - val_loss: 43431329792.0000 - val_coeff_determination: 0.9261\n",
            "Epoch 143/1000\n",
            "93/93 [==============================] - 0s 3ms/step - loss: 83405641945.8723 - coeff_determination: 0.8344 - val_loss: 46324244480.0000 - val_coeff_determination: 0.9255\n",
            "Epoch 144/1000\n",
            "93/93 [==============================] - 0s 4ms/step - loss: 82374305704.8511 - coeff_determination: 0.8343 - val_loss: 42864607232.0000 - val_coeff_determination: 0.9264\n",
            "Epoch 145/1000\n",
            "93/93 [==============================] - 0s 3ms/step - loss: 86151863448.5106 - coeff_determination: 0.8528 - val_loss: 49247952896.0000 - val_coeff_determination: 0.9226\n",
            "Epoch 146/1000\n",
            "93/93 [==============================] - 0s 3ms/step - loss: 78397196462.2979 - coeff_determination: 0.8468 - val_loss: 48119386112.0000 - val_coeff_determination: 0.9240\n",
            "Epoch 147/1000\n",
            "93/93 [==============================] - 0s 4ms/step - loss: 84153158329.1915 - coeff_determination: 0.8564 - val_loss: 44725469184.0000 - val_coeff_determination: 0.9269\n",
            "Epoch 148/1000\n",
            "93/93 [==============================] - 0s 4ms/step - loss: 64847061384.1702 - coeff_determination: 0.8303 - val_loss: 46880550912.0000 - val_coeff_determination: 0.9140\n",
            "Epoch 149/1000\n",
            "93/93 [==============================] - 0s 3ms/step - loss: 82441555619.4043 - coeff_determination: 0.7953 - val_loss: 42973175808.0000 - val_coeff_determination: 0.9248\n",
            "Epoch 150/1000\n",
            "93/93 [==============================] - 0s 4ms/step - loss: 81829804075.5745 - coeff_determination: 0.8409 - val_loss: 52420378624.0000 - val_coeff_determination: 0.9197\n",
            "Epoch 151/1000\n",
            "93/93 [==============================] - 0s 4ms/step - loss: 84802334502.1277 - coeff_determination: 0.8302 - val_loss: 48957931520.0000 - val_coeff_determination: 0.9230\n",
            "Epoch 152/1000\n",
            "93/93 [==============================] - 0s 3ms/step - loss: 80986134005.1064 - coeff_determination: 0.8424 - val_loss: 43488133120.0000 - val_coeff_determination: 0.9274\n",
            "Epoch 153/1000\n",
            "93/93 [==============================] - 0s 4ms/step - loss: 78303569179.2340 - coeff_determination: 0.8544 - val_loss: 42497429504.0000 - val_coeff_determination: 0.9271\n",
            "Epoch 154/1000\n",
            "93/93 [==============================] - 0s 3ms/step - loss: 79700781535.3192 - coeff_determination: 0.8087 - val_loss: 43550785536.0000 - val_coeff_determination: 0.9273\n",
            "Epoch 155/1000\n",
            "93/93 [==============================] - 0s 4ms/step - loss: 74723019884.9362 - coeff_determination: 0.8581 - val_loss: 42906374144.0000 - val_coeff_determination: 0.9276\n",
            "Epoch 156/1000\n",
            "93/93 [==============================] - 0s 4ms/step - loss: 75174643973.4468 - coeff_determination: 0.8543 - val_loss: 42284474368.0000 - val_coeff_determination: 0.9266\n",
            "Epoch 157/1000\n",
            "93/93 [==============================] - 0s 3ms/step - loss: 74321345514.2128 - coeff_determination: 0.8103 - val_loss: 43671089152.0000 - val_coeff_determination: 0.9276\n",
            "Epoch 158/1000\n",
            "93/93 [==============================] - 0s 4ms/step - loss: 83276970376.1702 - coeff_determination: 0.8323 - val_loss: 46610042880.0000 - val_coeff_determination: 0.9253\n",
            "Epoch 159/1000\n",
            "93/93 [==============================] - 0s 4ms/step - loss: 66855954344.8511 - coeff_determination: 0.8345 - val_loss: 42463203328.0000 - val_coeff_determination: 0.9284\n",
            "Epoch 160/1000\n",
            "93/93 [==============================] - 0s 3ms/step - loss: 71338334730.8936 - coeff_determination: 0.8345 - val_loss: 44408594432.0000 - val_coeff_determination: 0.9281\n",
            "Epoch 161/1000\n",
            "93/93 [==============================] - 0s 3ms/step - loss: 72253418082.0426 - coeff_determination: 0.8515 - val_loss: 41964855296.0000 - val_coeff_determination: 0.9288\n",
            "Epoch 162/1000\n",
            "93/93 [==============================] - 0s 4ms/step - loss: 82502578524.5957 - coeff_determination: 0.8240 - val_loss: 41969868800.0000 - val_coeff_determination: 0.9296\n",
            "Epoch 163/1000\n",
            "93/93 [==============================] - 0s 3ms/step - loss: 82817634020.7660 - coeff_determination: 0.8423 - val_loss: 42903961600.0000 - val_coeff_determination: 0.9292\n",
            "Epoch 164/1000\n",
            "93/93 [==============================] - 0s 4ms/step - loss: 100608826781.9574 - coeff_determination: 0.7992 - val_loss: 45248950272.0000 - val_coeff_determination: 0.9276\n",
            "Epoch 165/1000\n",
            "93/93 [==============================] - 0s 4ms/step - loss: 74163895492.0851 - coeff_determination: 0.8542 - val_loss: 43065008128.0000 - val_coeff_determination: 0.9288\n",
            "Epoch 166/1000\n",
            "93/93 [==============================] - 0s 4ms/step - loss: 79697669272.5106 - coeff_determination: 0.8093 - val_loss: 42834898944.0000 - val_coeff_determination: 0.9290\n",
            "Epoch 167/1000\n",
            "93/93 [==============================] - 0s 4ms/step - loss: 81334528762.5532 - coeff_determination: 0.8417 - val_loss: 47480459264.0000 - val_coeff_determination: 0.9250\n",
            "Epoch 168/1000\n",
            "93/93 [==============================] - 0s 4ms/step - loss: 81648399861.1064 - coeff_determination: 0.8483 - val_loss: 45026967552.0000 - val_coeff_determination: 0.9270\n",
            "Epoch 169/1000\n",
            "93/93 [==============================] - 0s 3ms/step - loss: 72259363164.5957 - coeff_determination: 0.8503 - val_loss: 44572991488.0000 - val_coeff_determination: 0.9281\n",
            "Epoch 170/1000\n",
            "93/93 [==============================] - 0s 4ms/step - loss: 68257824070.8085 - coeff_determination: 0.8592 - val_loss: 42934497280.0000 - val_coeff_determination: 0.9295\n",
            "Epoch 171/1000\n",
            "93/93 [==============================] - 0s 3ms/step - loss: 83501646826.2128 - coeff_determination: 0.7800 - val_loss: 42820354048.0000 - val_coeff_determination: 0.9297\n"
          ],
          "name": "stdout"
        }
      ]
    },
    {
      "cell_type": "markdown",
      "metadata": {
        "id": "MR6_a6QxICXv"
      },
      "source": [
        "### Check the R2 score on complete test data"
      ]
    },
    {
      "cell_type": "code",
      "metadata": {
        "id": "eSNJsVwnECf-",
        "colab": {
          "base_uri": "https://localhost:8080/"
        },
        "outputId": "04b82134-c4e3-4eca-ee44-ac0ab39dd2d7"
      },
      "source": [
        "from sklearn.metrics import r2_score\n",
        "y_pred = model_2.predict(X_test_sc)\n",
        "print(r2_score(y_test,y_pred))"
      ],
      "execution_count": 59,
      "outputs": [
        {
          "output_type": "stream",
          "text": [
            "0.9406627438844218\n"
          ],
          "name": "stdout"
        }
      ]
    },
    {
      "cell_type": "markdown",
      "metadata": {
        "id": "xWZIMT2rIYDc"
      },
      "source": [
        "### Visualize model learning\n",
        "- Visualize model learning using train and test r2 score\n",
        "- Visualize model learning using train and test loss"
      ]
    },
    {
      "cell_type": "code",
      "metadata": {
        "id": "uDMefTaLECdK",
        "colab": {
          "base_uri": "https://localhost:8080/",
          "height": 573
        },
        "outputId": "832bd80d-094a-4143-ecb3-30570315c7a8"
      },
      "source": [
        "import matplotlib.pyplot as plt\n",
        "\n",
        "plt.plot(history.history['coeff_determination'])\n",
        "plt.plot(history.history['val_coeff_determination'])\n",
        "plt.title('model r2_score')\n",
        "plt.ylabel('r2_score')\n",
        "plt.xlabel('epoch')\n",
        "plt.legend(['train', 'test'], loc='upper left')\n",
        "plt.show()\n",
        "# summarize history for loss\n",
        "plt.plot(history.history['loss'])\n",
        "plt.plot(history.history['val_loss'])\n",
        "plt.title('model loss')\n",
        "plt.ylabel('loss')\n",
        "plt.xlabel('epoch')\n",
        "plt.legend(['train', 'test'], loc='upper left')\n",
        "plt.show()"
      ],
      "execution_count": 60,
      "outputs": [
        {
          "output_type": "display_data",
          "data": {
            "image/png": "[encoded data removed]",
            "text/plain": [
              "<Figure size 432x288 with 1 Axes>"
            ]
          },
          "metadata": {
            "tags": [],
            "needs_background": "light"
          }
        },
        {
          "output_type": "display_data",
          "data": {
            "image/png": "[encoded data removed]",
            "text/plain": [
              "<Figure size 432x288 with 1 Axes>"
            ]
          },
          "metadata": {
            "tags": [],
            "needs_background": "light"
          }
        }
      ]
    },
    {
      "cell_type": "code",
      "metadata": {
        "id": "yzbVKsKDoa-k"
      },
      "source": [
        ""
      ],
      "execution_count": null,
      "outputs": []
    }
  ]
}