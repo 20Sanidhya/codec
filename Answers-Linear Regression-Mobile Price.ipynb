{
 "cells": [
  {
   "cell_type": "markdown",
   "metadata": {
    "colab_type": "text",
    "id": "xqlzdNFd_xIX"
   },
   "source": [
    "# Mobile price prediction - Linear Regression\n",
    " - - - - - - - - - - - - - - - - - - - - - - - - - - - - - - - - - - - - - - - - - - - - - - - "
   ]
  },
  {
   "cell_type": "markdown",
   "metadata": {
    "colab_type": "text",
    "id": "gP5BC16t_4A9"
   },
   "source": [
    "## Context:\n",
    "GSMArena Phones Dataset is a labeled dataset extracted from GSMArena, one of the most popular online provider of phone information, and holds a large collection of phone specification."
   ]
  },
  {
   "cell_type": "markdown",
   "metadata": {
    "colab_type": "text",
    "id": "Yvmb6Eqf_xIY"
   },
   "source": [
    "### Data Set - \n",
    "\n",
    "Domain: Telecom\n",
    "\n",
    "Data: https://www.kaggle.com/arwinneil/gsmarena-phone-dataset\n",
    "\n",
    "#### Features\n",
    "\n",
    "1. brand\n",
    "2. model\n",
    "3. network_technology\n",
    "4. 2G_bands\n",
    "5. 3G_bands\n",
    "6. 4G_bands\n",
    "7. network_speed\n",
    "8. GPRS\n",
    "9. EDGE\n",
    "10. announced\n",
    "11. status\n",
    "12. dimentions\n",
    "13. weight_g\n",
    "14. weight_oz\n",
    "15. SIM\n",
    "16. display_type\n",
    "17. display_resolution\n",
    "18. display_size\n",
    "19. OS\n",
    "20. CPU\n",
    "21. Chipset\n",
    "22. GPU\n",
    "23. memory_card\n",
    "24. internal_memory\n",
    "25. RAM\n",
    "26. primary_camera\n",
    "27. secondary_camera\n",
    "28. loud_speaker\n",
    "29. audio_jack\n",
    "30. WLAN\n",
    "31. bluetooth\n",
    "32. GPS\n",
    "33. NFC\n",
    "34. radio\n",
    "35. USB\n",
    "36. sensors\n",
    "37. battery\n",
    "38. colors\n",
    "39. approx_price_EUR\n",
    "40. img_url\n",
    "\n",
    " - - - - - - - - - - - - - - - - - - - - - - - - - - - - - - - - - - - - - - - - - - - - - - - "
   ]
  },
  {
   "cell_type": "markdown",
   "metadata": {
    "colab_type": "text",
    "id": "4nQG7W4g_xIZ"
   },
   "source": [
    "### Objective - \n",
    "\n",
    "To predict mobile phone price belonging to a specific brand depending on the available features\n",
    "\n",
    "\n",
    "- - - - - - - - - - - - - - - - - - - - - - - - - - - - - - - - - - - - - - - - - - - - - - -"
   ]
  },
  {
   "cell_type": "markdown",
   "metadata": {
    "colab_type": "text",
    "id": "gmBQkGqQ_xIa"
   },
   "source": [
    "### Steps to perform:\n",
    "\n",
    "#### 1. Import Libraries\n",
    "#### 2. Import Data set and exploration\n",
    "#### 3. Data Cleansing\n",
    "#### 4. Data Preparation\n",
    "#### 5. Data Validation\n",
    "#### 6. EDA\n",
    "#### 7. Data Split - Train : Test\n",
    "#### 8. Supervised Learning modeling: Linear Regression\n",
    "#### 9. Model Testing: Linear Regression\n",
    "#### 10. Future data prediction\n",
    "\n",
    "- - - - - - - - - - - - - - - - - - - - - - - - - - - - - - - - - - - - - - - - - - - - - - - - - - -\n"
   ]
  },
  {
   "cell_type": "markdown",
   "metadata": {
    "colab_type": "text",
    "id": "uphkN-2h_xIb"
   },
   "source": [
    "### 1. Import Libraries"
   ]
  },
  {
   "cell_type": "code",
   "execution_count": 1,
   "metadata": {
    "colab": {},
    "colab_type": "code",
    "id": "kqtlc6tV_xIc"
   },
   "outputs": [],
   "source": [
    "import pandas as pd\n",
    "import matplotlib.pyplot as plt\n",
    "import numpy as np\n",
    "import seaborn as sns\n",
    "from sklearn.linear_model import LinearRegression\n",
    "from sklearn.model_selection import train_test_split\n",
    "from sklearn.neighbors import KNeighborsRegressor\n",
    "import warnings\n",
    "warnings.filterwarnings('ignore')"
   ]
  },
  {
   "cell_type": "markdown",
   "metadata": {
    "colab_type": "text",
    "id": "t-XxVWPK_xIk"
   },
   "source": [
    "### 2. Reading Dataset and Exploration ( report shape of the dataset)"
   ]
  },
  {
   "cell_type": "code",
   "execution_count": 2,
   "metadata": {
    "colab": {},
    "colab_type": "code",
    "id": "DRbzu1bEAr4J"
   },
   "outputs": [
    {
     "data": {
      "text/plain": [
       "(8628, 40)"
      ]
     },
     "execution_count": 2,
     "metadata": {},
     "output_type": "execute_result"
    }
   ],
   "source": [
    "df = pd.read_csv(\"/Users/sanidhyavishnoi/Study_GL/lab/r3/mobile_price.csv\")\n",
    "df.shape"
   ]
  },
  {
   "cell_type": "markdown",
   "metadata": {
    "colab_type": "text",
    "id": "AaYgONpFAthv"
   },
   "source": [
    "#### Check a few sample of the dataframe and get familiar with the data"
   ]
  },
  {
   "cell_type": "code",
   "execution_count": 3,
   "metadata": {
    "colab": {},
    "colab_type": "code",
    "id": "OqcObug5AsYD"
   },
   "outputs": [
    {
     "data": {
      "text/html": [
       "<div>\n",
       "<style scoped>\n",
       "    .dataframe tbody tr th:only-of-type {\n",
       "        vertical-align: middle;\n",
       "    }\n",
       "\n",
       "    .dataframe tbody tr th {\n",
       "        vertical-align: top;\n",
       "    }\n",
       "\n",
       "    .dataframe thead th {\n",
       "        text-align: right;\n",
       "    }\n",
       "</style>\n",
       "<table border=\"1\" class=\"dataframe\">\n",
       "  <thead>\n",
       "    <tr style=\"text-align: right;\">\n",
       "      <th></th>\n",
       "      <th>brand</th>\n",
       "      <th>model</th>\n",
       "      <th>network_technology</th>\n",
       "      <th>2G_bands</th>\n",
       "      <th>3G_bands</th>\n",
       "      <th>4G_bands</th>\n",
       "      <th>network_speed</th>\n",
       "      <th>GPRS</th>\n",
       "      <th>EDGE</th>\n",
       "      <th>announced</th>\n",
       "      <th>...</th>\n",
       "      <th>bluetooth</th>\n",
       "      <th>GPS</th>\n",
       "      <th>NFC</th>\n",
       "      <th>radio</th>\n",
       "      <th>USB</th>\n",
       "      <th>sensors</th>\n",
       "      <th>battery</th>\n",
       "      <th>colors</th>\n",
       "      <th>approx_price_EUR</th>\n",
       "      <th>img_url</th>\n",
       "    </tr>\n",
       "  </thead>\n",
       "  <tbody>\n",
       "    <tr>\n",
       "      <td>3287</td>\n",
       "      <td>LG</td>\n",
       "      <td>SU920</td>\n",
       "      <td>GSM</td>\n",
       "      <td>GSM 850 / 900 / 1800 / 1900</td>\n",
       "      <td>TD-SCDMA</td>\n",
       "      <td>NaN</td>\n",
       "      <td>TD-SCDMA</td>\n",
       "      <td>Class 10</td>\n",
       "      <td>Class 10</td>\n",
       "      <td>2010  April. Released 2010  July</td>\n",
       "      <td>...</td>\n",
       "      <td>2.1/ A2DP</td>\n",
       "      <td>No</td>\n",
       "      <td>NaN</td>\n",
       "      <td>No</td>\n",
       "      <td>microUSB 2.0</td>\n",
       "      <td>Accelerometer</td>\n",
       "      <td>Removable Li-Ion 900 mAh battery</td>\n",
       "      <td>Black/ White/ Pink</td>\n",
       "      <td>NaN</td>\n",
       "      <td>http://cdn2.gsmarena.com/vv/bigpic/lg-su920.jpg</td>\n",
       "    </tr>\n",
       "    <tr>\n",
       "      <td>7533</td>\n",
       "      <td>Sony Ericsson</td>\n",
       "      <td>K750</td>\n",
       "      <td>GSM</td>\n",
       "      <td>GSM 900 / 1800 / 1900</td>\n",
       "      <td>NaN</td>\n",
       "      <td>NaN</td>\n",
       "      <td>NaN</td>\n",
       "      <td>Class 10</td>\n",
       "      <td>No</td>\n",
       "      <td>2005  1Q</td>\n",
       "      <td>...</td>\n",
       "      <td>2</td>\n",
       "      <td>No</td>\n",
       "      <td>NaN</td>\n",
       "      <td>Stereo FM radio/ RDS</td>\n",
       "      <td>Yes</td>\n",
       "      <td>NaN</td>\n",
       "      <td>Removable Li-Po 900 mAh battery (BST-36)</td>\n",
       "      <td>Black/ Silver</td>\n",
       "      <td>140</td>\n",
       "      <td>http://cdn2.gsmarena.com/vv/bigpic/sonyericsso...</td>\n",
       "    </tr>\n",
       "    <tr>\n",
       "      <td>2224</td>\n",
       "      <td>Huawei</td>\n",
       "      <td>Y3 (2017)</td>\n",
       "      <td>GSM / HSPA / LTE</td>\n",
       "      <td>GSM 850 / 900 / 1800 / 1900 - SIM 1 &amp; SIM 2</td>\n",
       "      <td>HSDPA 850 / 900 / 1900 / 2100</td>\n",
       "      <td>LTE</td>\n",
       "      <td>HSPA  LTE</td>\n",
       "      <td>Yes</td>\n",
       "      <td>Yes</td>\n",
       "      <td>2017  May</td>\n",
       "      <td>...</td>\n",
       "      <td>4.0/ A2DP</td>\n",
       "      <td>Yes with A-GPS</td>\n",
       "      <td>NaN</td>\n",
       "      <td>FM radio</td>\n",
       "      <td>microUSB 2.0</td>\n",
       "      <td>Accelerometer/ proximity</td>\n",
       "      <td>Removable Li-Ion 2200 mAh battery</td>\n",
       "      <td>Gold/ Pink/ Blue/ White/ Gray</td>\n",
       "      <td>NaN</td>\n",
       "      <td>http://cdn2.gsmarena.com/vv/bigpic/huawei-y3-2...</td>\n",
       "    </tr>\n",
       "    <tr>\n",
       "      <td>8595</td>\n",
       "      <td>ZTE</td>\n",
       "      <td>Sage</td>\n",
       "      <td>GSM</td>\n",
       "      <td>GSM 900 / 1800</td>\n",
       "      <td>NaN</td>\n",
       "      <td>NaN</td>\n",
       "      <td>NaN</td>\n",
       "      <td>Yes</td>\n",
       "      <td>No</td>\n",
       "      <td>2010. Released 2010</td>\n",
       "      <td>...</td>\n",
       "      <td>Yes</td>\n",
       "      <td>No</td>\n",
       "      <td>NaN</td>\n",
       "      <td>Stereo FM radio</td>\n",
       "      <td>Yes</td>\n",
       "      <td>NaN</td>\n",
       "      <td>Removable Li-Ion battery</td>\n",
       "      <td>Black</td>\n",
       "      <td>NaN</td>\n",
       "      <td>http://cdn2.gsmarena.com/vv/bigpic/zte-sage-or...</td>\n",
       "    </tr>\n",
       "    <tr>\n",
       "      <td>2238</td>\n",
       "      <td>Huawei</td>\n",
       "      <td>Fit</td>\n",
       "      <td>No cellular connectivity</td>\n",
       "      <td>NA</td>\n",
       "      <td>NaN</td>\n",
       "      <td>NaN</td>\n",
       "      <td>NaN</td>\n",
       "      <td>No</td>\n",
       "      <td>No</td>\n",
       "      <td>2016  November</td>\n",
       "      <td>...</td>\n",
       "      <td>4.2/ LE</td>\n",
       "      <td>No</td>\n",
       "      <td>NaN</td>\n",
       "      <td>No</td>\n",
       "      <td>No</td>\n",
       "      <td>Accelerometer/ gyro/ heart rate</td>\n",
       "      <td>Non-removable Li-Ion 80 mAh battery</td>\n",
       "      <td>Titanium Gray/ Moonlight Silver/ Orange</td>\n",
       "      <td>200</td>\n",
       "      <td>http://cdn2.gsmarena.com/vv/bigpic/huawei-fit.jpg</td>\n",
       "    </tr>\n",
       "    <tr>\n",
       "      <td>5145</td>\n",
       "      <td>Palm</td>\n",
       "      <td>Pre 2</td>\n",
       "      <td>GSM / HSPA</td>\n",
       "      <td>GSM 850 / 900 / 1800 / 1900</td>\n",
       "      <td>HSDPA 850 / 1900</td>\n",
       "      <td>NaN</td>\n",
       "      <td>HSPA 7.2/2 Mbps</td>\n",
       "      <td>Yes</td>\n",
       "      <td>Yes</td>\n",
       "      <td>2010  October. Released 2010  November</td>\n",
       "      <td>...</td>\n",
       "      <td>2.1/ A2DP/ EDR</td>\n",
       "      <td>Yes with A-GPS</td>\n",
       "      <td>NaN</td>\n",
       "      <td>NaN</td>\n",
       "      <td>microUSB 2.0</td>\n",
       "      <td>Accelerometer/ proximity</td>\n",
       "      <td>Removable Li-Ion battery</td>\n",
       "      <td>Black</td>\n",
       "      <td>260</td>\n",
       "      <td>http://cdn2.gsmarena.com/vv/bigpic/palm-pre-2-...</td>\n",
       "    </tr>\n",
       "    <tr>\n",
       "      <td>3000</td>\n",
       "      <td>LG</td>\n",
       "      <td>V20</td>\n",
       "      <td>GSM / HSPA / LTE</td>\n",
       "      <td>GSM 850 / 900 / 1800 / 1900 - SIM 1 &amp; SIM 2 (d...</td>\n",
       "      <td>HSDPA 850 / 900 / 1700(AWS) / 1900 / 2100</td>\n",
       "      <td>LTE band 1(2100)/ 2(1900)/ 3(1800)/ 4(1700/210...</td>\n",
       "      <td>HSPA 42.2/5.76 Mbps  LTE-A Cat6  Cat9 (3CA) or...</td>\n",
       "      <td>Class 33</td>\n",
       "      <td>Class 33</td>\n",
       "      <td>2016  September</td>\n",
       "      <td>...</td>\n",
       "      <td>4.2/ A2DP/ LE/ aptX</td>\n",
       "      <td>Yes with A-GPS GLONASS</td>\n",
       "      <td>Yes</td>\n",
       "      <td>FM radio/ RDS (market dependent)</td>\n",
       "      <td>2.0/ Type-C 1.0 reversible connector</td>\n",
       "      <td>Fingerprint (rear-mounted)/ accelerometer/ gyr...</td>\n",
       "      <td>Removable Li-Ion 3200 mAh battery</td>\n",
       "      <td>Titan/ Silver/ Pink</td>\n",
       "      <td>560</td>\n",
       "      <td>http://cdn2.gsmarena.com/vv/bigpic/lg-v20-ofic...</td>\n",
       "    </tr>\n",
       "    <tr>\n",
       "      <td>343</td>\n",
       "      <td>alcatel</td>\n",
       "      <td>OT-303</td>\n",
       "      <td>GSM</td>\n",
       "      <td>GSM 900 / 1800</td>\n",
       "      <td>NaN</td>\n",
       "      <td>NaN</td>\n",
       "      <td>NaN</td>\n",
       "      <td>Class 10</td>\n",
       "      <td>No</td>\n",
       "      <td>2009  March. Released 2009</td>\n",
       "      <td>...</td>\n",
       "      <td>No</td>\n",
       "      <td>No</td>\n",
       "      <td>NaN</td>\n",
       "      <td>FM radio/ RDS</td>\n",
       "      <td>miniUSB 1.1</td>\n",
       "      <td>NaN</td>\n",
       "      <td>Removable Li-Ion 650 mAh battery</td>\n",
       "      <td>Titanium Grey/ Cherry Red &amp; Turquoise</td>\n",
       "      <td>NaN</td>\n",
       "      <td>http://cdn2.gsmarena.com/vv/bigpic/alcatel-303...</td>\n",
       "    </tr>\n",
       "    <tr>\n",
       "      <td>763</td>\n",
       "      <td>Asus</td>\n",
       "      <td>Zenfone 2 Laser ZE601KL</td>\n",
       "      <td>GSM / HSPA / LTE</td>\n",
       "      <td>GSM 850 / 900 / 1800 / 1900 - SIM 1 &amp; SIM 2</td>\n",
       "      <td>HSDPA 850 / 900 / 1900 / 2100 - TW/WW version</td>\n",
       "      <td>LTE band 1(2100)/ 2(1900)/ 3(1800)/ 5(850)/ 6(...</td>\n",
       "      <td>HSPA 42.2/5.76 Mbps  LTE Cat4 150/50 Mbps</td>\n",
       "      <td>Yes</td>\n",
       "      <td>Yes</td>\n",
       "      <td>2015  August</td>\n",
       "      <td>...</td>\n",
       "      <td>4.1/ A2DP/ EDR</td>\n",
       "      <td>Yes with A-GPS GLONASS BDS</td>\n",
       "      <td>NaN</td>\n",
       "      <td>FM radio</td>\n",
       "      <td>microUSB 2.0</td>\n",
       "      <td>Accelerometer/ gyro/ proximity/ compass</td>\n",
       "      <td>Removable Li-Po 3000 mAh battery</td>\n",
       "      <td>Glacier Gray/ Sheer Gold/ Glamour Red</td>\n",
       "      <td>300</td>\n",
       "      <td>http://cdn2.gsmarena.com/vv/bigpic/asus-zenfon...</td>\n",
       "    </tr>\n",
       "    <tr>\n",
       "      <td>8609</td>\n",
       "      <td>ZTE</td>\n",
       "      <td>F951</td>\n",
       "      <td>GSM / HSPA</td>\n",
       "      <td>GSM 850 / 900 / 1800 / 1900</td>\n",
       "      <td>HSDPA 850 / 1900 / 2100</td>\n",
       "      <td>NaN</td>\n",
       "      <td>HSPA 3.6/0.384 Mbps</td>\n",
       "      <td>Class 10</td>\n",
       "      <td>Class 10</td>\n",
       "      <td>2010. Released 2010</td>\n",
       "      <td>...</td>\n",
       "      <td>2.1/ A2DP</td>\n",
       "      <td>A-GPS only</td>\n",
       "      <td>NaN</td>\n",
       "      <td>Stereo FM radio/ RDS</td>\n",
       "      <td>2</td>\n",
       "      <td>Accelerometer</td>\n",
       "      <td>Removable Li-Ion 1250 mAh battery</td>\n",
       "      <td>Black</td>\n",
       "      <td>NaN</td>\n",
       "      <td>http://cdn2.gsmarena.com/vv/bigpic/ZTE-U-F951.jpg</td>\n",
       "    </tr>\n",
       "  </tbody>\n",
       "</table>\n",
       "<p>10 rows × 40 columns</p>\n",
       "</div>"
      ],
      "text/plain": [
       "              brand                    model        network_technology  \\\n",
       "3287             LG                    SU920                       GSM   \n",
       "7533  Sony Ericsson                     K750                       GSM   \n",
       "2224         Huawei                Y3 (2017)          GSM / HSPA / LTE   \n",
       "8595            ZTE                     Sage                       GSM   \n",
       "2238         Huawei                      Fit  No cellular connectivity   \n",
       "5145           Palm                    Pre 2                GSM / HSPA   \n",
       "3000             LG                      V20          GSM / HSPA / LTE   \n",
       "343         alcatel                   OT-303                       GSM   \n",
       "763            Asus  Zenfone 2 Laser ZE601KL          GSM / HSPA / LTE   \n",
       "8609            ZTE                     F951                GSM / HSPA   \n",
       "\n",
       "                                               2G_bands  \\\n",
       "3287                       GSM 850 / 900 / 1800 / 1900    \n",
       "7533                             GSM 900 / 1800 / 1900    \n",
       "2224        GSM 850 / 900 / 1800 / 1900 - SIM 1 & SIM 2   \n",
       "8595                                    GSM 900 / 1800    \n",
       "2238                                                 NA   \n",
       "5145                       GSM 850 / 900 / 1800 / 1900    \n",
       "3000  GSM 850 / 900 / 1800 / 1900 - SIM 1 & SIM 2 (d...   \n",
       "343                                     GSM 900 / 1800    \n",
       "763         GSM 850 / 900 / 1800 / 1900 - SIM 1 & SIM 2   \n",
       "8609                       GSM 850 / 900 / 1800 / 1900    \n",
       "\n",
       "                                           3G_bands  \\\n",
       "3287                                       TD-SCDMA   \n",
       "7533                                            NaN   \n",
       "2224                 HSDPA 850 / 900 / 1900 / 2100    \n",
       "8595                                            NaN   \n",
       "2238                                            NaN   \n",
       "5145                              HSDPA 850 / 1900    \n",
       "3000     HSDPA 850 / 900 / 1700(AWS) / 1900 / 2100    \n",
       "343                                             NaN   \n",
       "763   HSDPA 850 / 900 / 1900 / 2100 - TW/WW version   \n",
       "8609                       HSDPA 850 / 1900 / 2100    \n",
       "\n",
       "                                               4G_bands  \\\n",
       "3287                                                NaN   \n",
       "7533                                                NaN   \n",
       "2224                                                LTE   \n",
       "8595                                                NaN   \n",
       "2238                                                NaN   \n",
       "5145                                                NaN   \n",
       "3000  LTE band 1(2100)/ 2(1900)/ 3(1800)/ 4(1700/210...   \n",
       "343                                                 NaN   \n",
       "763   LTE band 1(2100)/ 2(1900)/ 3(1800)/ 5(850)/ 6(...   \n",
       "8609                                                NaN   \n",
       "\n",
       "                                          network_speed      GPRS      EDGE  \\\n",
       "3287                                           TD-SCDMA  Class 10  Class 10   \n",
       "7533                                                NaN  Class 10        No   \n",
       "2224                                          HSPA  LTE       Yes       Yes   \n",
       "8595                                                NaN       Yes        No   \n",
       "2238                                                NaN        No        No   \n",
       "5145                                    HSPA 7.2/2 Mbps       Yes       Yes   \n",
       "3000  HSPA 42.2/5.76 Mbps  LTE-A Cat6  Cat9 (3CA) or...  Class 33  Class 33   \n",
       "343                                                 NaN  Class 10        No   \n",
       "763           HSPA 42.2/5.76 Mbps  LTE Cat4 150/50 Mbps       Yes       Yes   \n",
       "8609                                HSPA 3.6/0.384 Mbps  Class 10  Class 10   \n",
       "\n",
       "                                   announced  ...            bluetooth  \\\n",
       "3287        2010  April. Released 2010  July  ...            2.1/ A2DP   \n",
       "7533                                2005  1Q  ...                    2   \n",
       "2224                               2017  May  ...            4.0/ A2DP   \n",
       "8595                     2010. Released 2010  ...                  Yes   \n",
       "2238                          2016  November  ...              4.2/ LE   \n",
       "5145  2010  October. Released 2010  November  ...       2.1/ A2DP/ EDR   \n",
       "3000                         2016  September  ...  4.2/ A2DP/ LE/ aptX   \n",
       "343               2009  March. Released 2009  ...                   No   \n",
       "763                             2015  August  ...       4.1/ A2DP/ EDR   \n",
       "8609                     2010. Released 2010  ...            2.1/ A2DP   \n",
       "\n",
       "                             GPS  NFC                             radio  \\\n",
       "3287                          No  NaN                                No   \n",
       "7533                          No  NaN              Stereo FM radio/ RDS   \n",
       "2224              Yes with A-GPS  NaN                          FM radio   \n",
       "8595                          No  NaN                   Stereo FM radio   \n",
       "2238                          No  NaN                                No   \n",
       "5145              Yes with A-GPS  NaN                               NaN   \n",
       "3000      Yes with A-GPS GLONASS  Yes  FM radio/ RDS (market dependent)   \n",
       "343                           No  NaN                     FM radio/ RDS   \n",
       "763   Yes with A-GPS GLONASS BDS  NaN                          FM radio   \n",
       "8609                  A-GPS only  NaN              Stereo FM radio/ RDS   \n",
       "\n",
       "                                       USB  \\\n",
       "3287                          microUSB 2.0   \n",
       "7533                                   Yes   \n",
       "2224                          microUSB 2.0   \n",
       "8595                                   Yes   \n",
       "2238                                    No   \n",
       "5145                          microUSB 2.0   \n",
       "3000  2.0/ Type-C 1.0 reversible connector   \n",
       "343                            miniUSB 1.1   \n",
       "763                           microUSB 2.0   \n",
       "8609                                     2   \n",
       "\n",
       "                                                sensors  \\\n",
       "3287                                      Accelerometer   \n",
       "7533                                                NaN   \n",
       "2224                           Accelerometer/ proximity   \n",
       "8595                                                NaN   \n",
       "2238                    Accelerometer/ gyro/ heart rate   \n",
       "5145                           Accelerometer/ proximity   \n",
       "3000  Fingerprint (rear-mounted)/ accelerometer/ gyr...   \n",
       "343                                                 NaN   \n",
       "763             Accelerometer/ gyro/ proximity/ compass   \n",
       "8609                                      Accelerometer   \n",
       "\n",
       "                                       battery  \\\n",
       "3287          Removable Li-Ion 900 mAh battery   \n",
       "7533  Removable Li-Po 900 mAh battery (BST-36)   \n",
       "2224         Removable Li-Ion 2200 mAh battery   \n",
       "8595                  Removable Li-Ion battery   \n",
       "2238       Non-removable Li-Ion 80 mAh battery   \n",
       "5145                  Removable Li-Ion battery   \n",
       "3000         Removable Li-Ion 3200 mAh battery   \n",
       "343           Removable Li-Ion 650 mAh battery   \n",
       "763           Removable Li-Po 3000 mAh battery   \n",
       "8609         Removable Li-Ion 1250 mAh battery   \n",
       "\n",
       "                                       colors approx_price_EUR  \\\n",
       "3287                       Black/ White/ Pink              NaN   \n",
       "7533                            Black/ Silver              140   \n",
       "2224            Gold/ Pink/ Blue/ White/ Gray              NaN   \n",
       "8595                                    Black              NaN   \n",
       "2238  Titanium Gray/ Moonlight Silver/ Orange              200   \n",
       "5145                                    Black              260   \n",
       "3000                      Titan/ Silver/ Pink              560   \n",
       "343     Titanium Grey/ Cherry Red & Turquoise              NaN   \n",
       "763     Glacier Gray/ Sheer Gold/ Glamour Red              300   \n",
       "8609                                    Black              NaN   \n",
       "\n",
       "                                                img_url  \n",
       "3287    http://cdn2.gsmarena.com/vv/bigpic/lg-su920.jpg  \n",
       "7533  http://cdn2.gsmarena.com/vv/bigpic/sonyericsso...  \n",
       "2224  http://cdn2.gsmarena.com/vv/bigpic/huawei-y3-2...  \n",
       "8595  http://cdn2.gsmarena.com/vv/bigpic/zte-sage-or...  \n",
       "2238  http://cdn2.gsmarena.com/vv/bigpic/huawei-fit.jpg  \n",
       "5145  http://cdn2.gsmarena.com/vv/bigpic/palm-pre-2-...  \n",
       "3000  http://cdn2.gsmarena.com/vv/bigpic/lg-v20-ofic...  \n",
       "343   http://cdn2.gsmarena.com/vv/bigpic/alcatel-303...  \n",
       "763   http://cdn2.gsmarena.com/vv/bigpic/asus-zenfon...  \n",
       "8609  http://cdn2.gsmarena.com/vv/bigpic/ZTE-U-F951.jpg  \n",
       "\n",
       "[10 rows x 40 columns]"
      ]
     },
     "execution_count": 3,
     "metadata": {},
     "output_type": "execute_result"
    }
   ],
   "source": [
    "df.sample(10)"
   ]
  },
  {
   "cell_type": "markdown",
   "metadata": {
    "colab_type": "text",
    "id": "rSCbIfIeAztx"
   },
   "source": [
    "#### Check info of the dataframe and comment on datatype of various features"
   ]
  },
  {
   "cell_type": "code",
   "execution_count": 4,
   "metadata": {
    "colab": {},
    "colab_type": "code",
    "id": "ycGFhMQcBbux"
   },
   "outputs": [
    {
     "name": "stdout",
     "output_type": "stream",
     "text": [
      "<class 'pandas.core.frame.DataFrame'>\n",
      "RangeIndex: 8628 entries, 0 to 8627\n",
      "Data columns (total 40 columns):\n",
      "brand                 8628 non-null object\n",
      "model                 8628 non-null object\n",
      "network_technology    8628 non-null object\n",
      "2G_bands              8628 non-null object\n",
      "3G_bands              4857 non-null object\n",
      "4G_bands              1604 non-null object\n",
      "network_speed         4884 non-null object\n",
      "GPRS                  8596 non-null object\n",
      "EDGE                  8605 non-null object\n",
      "announced             8613 non-null object\n",
      "status                8628 non-null object\n",
      "dimentions            8609 non-null object\n",
      "weight_g              7680 non-null object\n",
      "weight_oz             7680 non-null object\n",
      "SIM                   8626 non-null object\n",
      "display_type          8624 non-null object\n",
      "display_resolution    7414 non-null object\n",
      "display_size          8581 non-null object\n",
      "OS                    4905 non-null object\n",
      "CPU                   4835 non-null object\n",
      "Chipset               3691 non-null object\n",
      "GPU                   3493 non-null object\n",
      "memory_card           8628 non-null object\n",
      "internal_memory       6807 non-null object\n",
      "RAM                   4657 non-null object\n",
      "primary_camera        7436 non-null object\n",
      "secondary_camera      7405 non-null object\n",
      "loud_speaker          8628 non-null object\n",
      "audio_jack            8561 non-null object\n",
      "WLAN                  8624 non-null object\n",
      "bluetooth             8610 non-null object\n",
      "GPS                   8600 non-null object\n",
      "NFC                   793 non-null object\n",
      "radio                 8535 non-null object\n",
      "USB                   7725 non-null object\n",
      "sensors               4588 non-null object\n",
      "battery               8626 non-null object\n",
      "colors                8026 non-null object\n",
      "approx_price_EUR      5004 non-null object\n",
      "img_url               8628 non-null object\n",
      "dtypes: object(40)\n",
      "memory usage: 2.6+ MB\n"
     ]
    }
   ],
   "source": [
    "df.info()"
   ]
  },
  {
   "cell_type": "markdown",
   "metadata": {},
   "source": [
    "- There are few columns which are having many null values like 4g_Bands,NFC. We can Drop them.\n",
    "- All the columns have Datatype as Object, we will encode them as Datatype which can help in modelling."
   ]
  },
  {
   "cell_type": "markdown",
   "metadata": {
    "colab_type": "text",
    "id": "KL9q0NLbBJvn"
   },
   "source": [
    "#### Check statistical summary of the dataset and comment on your findings"
   ]
  },
  {
   "cell_type": "code",
   "execution_count": 5,
   "metadata": {
    "colab": {},
    "colab_type": "code",
    "id": "_wYTGh3rBJKQ"
   },
   "outputs": [
    {
     "data": {
      "text/html": [
       "<div>\n",
       "<style scoped>\n",
       "    .dataframe tbody tr th:only-of-type {\n",
       "        vertical-align: middle;\n",
       "    }\n",
       "\n",
       "    .dataframe tbody tr th {\n",
       "        vertical-align: top;\n",
       "    }\n",
       "\n",
       "    .dataframe thead th {\n",
       "        text-align: right;\n",
       "    }\n",
       "</style>\n",
       "<table border=\"1\" class=\"dataframe\">\n",
       "  <thead>\n",
       "    <tr style=\"text-align: right;\">\n",
       "      <th></th>\n",
       "      <th>brand</th>\n",
       "      <th>model</th>\n",
       "      <th>network_technology</th>\n",
       "      <th>2G_bands</th>\n",
       "      <th>3G_bands</th>\n",
       "      <th>4G_bands</th>\n",
       "      <th>network_speed</th>\n",
       "      <th>GPRS</th>\n",
       "      <th>EDGE</th>\n",
       "      <th>announced</th>\n",
       "      <th>...</th>\n",
       "      <th>bluetooth</th>\n",
       "      <th>GPS</th>\n",
       "      <th>NFC</th>\n",
       "      <th>radio</th>\n",
       "      <th>USB</th>\n",
       "      <th>sensors</th>\n",
       "      <th>battery</th>\n",
       "      <th>colors</th>\n",
       "      <th>approx_price_EUR</th>\n",
       "      <th>img_url</th>\n",
       "    </tr>\n",
       "  </thead>\n",
       "  <tbody>\n",
       "    <tr>\n",
       "      <td>count</td>\n",
       "      <td>8628</td>\n",
       "      <td>8628</td>\n",
       "      <td>8628</td>\n",
       "      <td>8628</td>\n",
       "      <td>4857</td>\n",
       "      <td>1604</td>\n",
       "      <td>4884</td>\n",
       "      <td>8596</td>\n",
       "      <td>8605</td>\n",
       "      <td>8613</td>\n",
       "      <td>...</td>\n",
       "      <td>8610</td>\n",
       "      <td>8600</td>\n",
       "      <td>793</td>\n",
       "      <td>8535</td>\n",
       "      <td>7725</td>\n",
       "      <td>4588</td>\n",
       "      <td>8626</td>\n",
       "      <td>8026</td>\n",
       "      <td>5004</td>\n",
       "      <td>8628</td>\n",
       "    </tr>\n",
       "    <tr>\n",
       "      <td>unique</td>\n",
       "      <td>108</td>\n",
       "      <td>8274</td>\n",
       "      <td>38</td>\n",
       "      <td>209</td>\n",
       "      <td>579</td>\n",
       "      <td>650</td>\n",
       "      <td>195</td>\n",
       "      <td>53</td>\n",
       "      <td>51</td>\n",
       "      <td>711</td>\n",
       "      <td>...</td>\n",
       "      <td>110</td>\n",
       "      <td>95</td>\n",
       "      <td>50</td>\n",
       "      <td>97</td>\n",
       "      <td>101</td>\n",
       "      <td>114</td>\n",
       "      <td>1049</td>\n",
       "      <td>2611</td>\n",
       "      <td>110</td>\n",
       "      <td>8346</td>\n",
       "    </tr>\n",
       "    <tr>\n",
       "      <td>top</td>\n",
       "      <td>Samsung</td>\n",
       "      <td>X500</td>\n",
       "      <td>GSM</td>\n",
       "      <td>GSM 850 / 900 / 1800 / 1900</td>\n",
       "      <td>HSDPA 900 / 2100</td>\n",
       "      <td>LTE</td>\n",
       "      <td>HSPA 21.1/5.76 Mbps</td>\n",
       "      <td>Yes</td>\n",
       "      <td>Yes</td>\n",
       "      <td>2005  1Q</td>\n",
       "      <td>...</td>\n",
       "      <td>No</td>\n",
       "      <td>No</td>\n",
       "      <td>Yes</td>\n",
       "      <td>No</td>\n",
       "      <td>microUSB 2.0</td>\n",
       "      <td>Accelerometer/ proximity</td>\n",
       "      <td>Removable Li-Ion battery</td>\n",
       "      <td>Black</td>\n",
       "      <td>70</td>\n",
       "      <td>http://cdn2.gsmarena.com/vv/bigpic/htc-one-m8.jpg</td>\n",
       "    </tr>\n",
       "    <tr>\n",
       "      <td>freq</td>\n",
       "      <td>1103</td>\n",
       "      <td>5</td>\n",
       "      <td>3505</td>\n",
       "      <td>2255</td>\n",
       "      <td>1115</td>\n",
       "      <td>173</td>\n",
       "      <td>751</td>\n",
       "      <td>3547</td>\n",
       "      <td>3242</td>\n",
       "      <td>151</td>\n",
       "      <td>...</td>\n",
       "      <td>1612</td>\n",
       "      <td>4085</td>\n",
       "      <td>668</td>\n",
       "      <td>3490</td>\n",
       "      <td>3397</td>\n",
       "      <td>1138</td>\n",
       "      <td>719</td>\n",
       "      <td>2022</td>\n",
       "      <td>302</td>\n",
       "      <td>5</td>\n",
       "    </tr>\n",
       "  </tbody>\n",
       "</table>\n",
       "<p>4 rows × 40 columns</p>\n",
       "</div>"
      ],
      "text/plain": [
       "          brand model network_technology                      2G_bands  \\\n",
       "count      8628  8628               8628                          8628   \n",
       "unique      108  8274                 38                           209   \n",
       "top     Samsung  X500                GSM  GSM 850 / 900 / 1800 / 1900    \n",
       "freq       1103     5               3505                          2255   \n",
       "\n",
       "                 3G_bands 4G_bands        network_speed  GPRS  EDGE announced  \\\n",
       "count                4857     1604                 4884  8596  8605      8613   \n",
       "unique                579      650                  195    53    51       711   \n",
       "top     HSDPA 900 / 2100       LTE  HSPA 21.1/5.76 Mbps   Yes   Yes  2005  1Q   \n",
       "freq                 1115      173                  751  3547  3242       151   \n",
       "\n",
       "        ... bluetooth   GPS  NFC radio           USB  \\\n",
       "count   ...      8610  8600  793  8535          7725   \n",
       "unique  ...       110    95   50    97           101   \n",
       "top     ...        No    No  Yes    No  microUSB 2.0   \n",
       "freq    ...      1612  4085  668  3490          3397   \n",
       "\n",
       "                         sensors                   battery colors  \\\n",
       "count                       4588                      8626   8026   \n",
       "unique                       114                      1049   2611   \n",
       "top     Accelerometer/ proximity  Removable Li-Ion battery  Black   \n",
       "freq                        1138                       719   2022   \n",
       "\n",
       "       approx_price_EUR                                            img_url  \n",
       "count              5004                                               8628  \n",
       "unique              110                                               8346  \n",
       "top                  70  http://cdn2.gsmarena.com/vv/bigpic/htc-one-m8.jpg  \n",
       "freq                302                                                  5  \n",
       "\n",
       "[4 rows x 40 columns]"
      ]
     },
     "execution_count": 5,
     "metadata": {},
     "output_type": "execute_result"
    }
   ],
   "source": [
    "df.describe()"
   ]
  },
  {
   "cell_type": "markdown",
   "metadata": {},
   "source": [
    "- We can infer that battery and color columns don't have much effect on our taget variable and can influence our target variable in many aspects so it will be better to drop them.\n",
    "- Columns like brand,network_technology,GPS,USB can be used by doing some encoding."
   ]
  },
  {
   "cell_type": "markdown",
   "metadata": {
    "colab_type": "text",
    "id": "eR82VVqPB_g5"
   },
   "source": [
    "#### Univariate Analysis \n"
   ]
  },
  {
   "cell_type": "markdown",
   "metadata": {
    "colab_type": "text",
    "id": "_Y1ZCYVbgwDB"
   },
   "source": [
    "#### 1. Check frequency distribution of 'brand' and comment yuor findings"
   ]
  },
  {
   "cell_type": "code",
   "execution_count": 7,
   "metadata": {
    "colab": {},
    "colab_type": "code",
    "id": "3b8_Q_bHgzlv"
   },
   "outputs": [
    {
     "data": {
      "text/plain": [
       "<matplotlib.axes._subplots.AxesSubplot at 0x7f841308b4d0>"
      ]
     },
     "execution_count": 7,
     "metadata": {},
     "output_type": "execute_result"
    },
    {
     "data": {
      "image/png": "[encoded data removed]",
      "text/plain": [
       "<Figure size 1080x360 with 1 Axes>"
      ]
     },
     "metadata": {
      "needs_background": "light"
     },
     "output_type": "display_data"
    }
   ],
   "source": [
    "bdf = df['brand'].value_counts()\n",
    "bdf[:54].plot(kind = 'bar', figsize =(15,5))"
   ]
  },
  {
   "cell_type": "code",
   "execution_count": 8,
   "metadata": {},
   "outputs": [
    {
     "data": {
      "text/plain": [
       "<matplotlib.axes._subplots.AxesSubplot at 0x7f841344ba10>"
      ]
     },
     "execution_count": 8,
     "metadata": {},
     "output_type": "execute_result"
    },
    {
     "data": {
      "image/png": "[encoded data removed]",
      "text/plain": [
       "<Figure size 1080x360 with 1 Axes>"
      ]
     },
     "metadata": {
      "needs_background": "light"
     },
     "output_type": "display_data"
    }
   ],
   "source": [
    "bdf = df['brand'].value_counts()\n",
    "bdf[54:].plot(kind = 'bar', figsize =(15,5))"
   ]
  },
  {
   "cell_type": "markdown",
   "metadata": {},
   "source": [
    "- Top Brands are Samsung, LG, Nokia.\n",
    "- Half of the brands have frequency count less than 35."
   ]
  },
  {
   "cell_type": "markdown",
   "metadata": {
    "colab_type": "text",
    "id": "rmmJ57Gsgmdr"
   },
   "source": [
    "#### 2. Check distribution of 'approx_price_EUR' column. Check the presence of invalid values and impute it"
   ]
  },
  {
   "cell_type": "code",
   "execution_count": 22,
   "metadata": {
    "colab": {},
    "colab_type": "code",
    "id": "zrAKv8iQg0CZ"
   },
   "outputs": [
    {
     "data": {
      "text/plain": [
       "70     302\n",
       "100    278\n",
       "80     264\n",
       "120    246\n",
       "150    241\n",
       "90     240\n",
       "110    218\n",
       "130    214\n",
       "60     183\n",
       "50     179\n",
       "Name: approx_price_EUR, dtype: int64"
      ]
     },
     "execution_count": 22,
     "metadata": {},
     "output_type": "execute_result"
    }
   ],
   "source": [
    "df['approx_price_EUR'].value_counts().head(10)"
   ]
  },
  {
   "cell_type": "code",
   "execution_count": 14,
   "metadata": {},
   "outputs": [
    {
     "data": {
      "text/html": [
       "<div>\n",
       "<style scoped>\n",
       "    .dataframe tbody tr th:only-of-type {\n",
       "        vertical-align: middle;\n",
       "    }\n",
       "\n",
       "    .dataframe tbody tr th {\n",
       "        vertical-align: top;\n",
       "    }\n",
       "\n",
       "    .dataframe thead th {\n",
       "        text-align: right;\n",
       "    }\n",
       "</style>\n",
       "<table border=\"1\" class=\"dataframe\">\n",
       "  <thead>\n",
       "    <tr style=\"text-align: right;\">\n",
       "      <th></th>\n",
       "      <th>brand</th>\n",
       "      <th>model</th>\n",
       "      <th>network_technology</th>\n",
       "      <th>2G_bands</th>\n",
       "      <th>3G_bands</th>\n",
       "      <th>4G_bands</th>\n",
       "      <th>network_speed</th>\n",
       "      <th>GPRS</th>\n",
       "      <th>EDGE</th>\n",
       "      <th>announced</th>\n",
       "      <th>...</th>\n",
       "      <th>bluetooth</th>\n",
       "      <th>GPS</th>\n",
       "      <th>NFC</th>\n",
       "      <th>radio</th>\n",
       "      <th>USB</th>\n",
       "      <th>sensors</th>\n",
       "      <th>battery</th>\n",
       "      <th>colors</th>\n",
       "      <th>approx_price_EUR</th>\n",
       "      <th>img_url</th>\n",
       "    </tr>\n",
       "  </thead>\n",
       "  <tbody>\n",
       "    <tr>\n",
       "      <td>819</td>\n",
       "      <td>Asus</td>\n",
       "      <td>Google Nexus 7 (2013)</td>\n",
       "      <td>GSM / HSPA / LTE</td>\n",
       "      <td>GSM 850 / 900 / 1800 / 1900 - all versions</td>\n",
       "      <td>HSDPA 850 / 900 / 1700 / 1900 / 2100</td>\n",
       "      <td>LTE band 1(2100)/ 2(1900)/ 3(1800)/ 4(1700/210...</td>\n",
       "      <td>HSPA  LTE</td>\n",
       "      <td>Yes</td>\n",
       "      <td>Yes</td>\n",
       "      <td>2013  July</td>\n",
       "      <td>...</td>\n",
       "      <td>Wi-Fi 802.11 a/b/g/n/ dual-band</td>\n",
       "      <td>4.0/ A2DP/ LE</td>\n",
       "      <td>Yes with A-GPS</td>\n",
       "      <td>Yes</td>\n",
       "      <td>No</td>\n",
       "      <td>microUSB 2.0 (SlimPort)</td>\n",
       "      <td>Accelerometer/ gyro/ proximity/ compass</td>\n",
       "      <td>Non-removable Li-Ion 3950 mAh battery</td>\n",
       "      <td>Black</td>\n",
       "      <td>http://cdn2.gsmarena.com/vv/bigpic/asus-google...</td>\n",
       "    </tr>\n",
       "  </tbody>\n",
       "</table>\n",
       "<p>1 rows × 40 columns</p>\n",
       "</div>"
      ],
      "text/plain": [
       "    brand                  model network_technology  \\\n",
       "819  Asus  Google Nexus 7 (2013)   GSM / HSPA / LTE   \n",
       "\n",
       "                                       2G_bands  \\\n",
       "819  GSM 850 / 900 / 1800 / 1900 - all versions   \n",
       "\n",
       "                                  3G_bands  \\\n",
       "819  HSDPA 850 / 900 / 1700 / 1900 / 2100    \n",
       "\n",
       "                                              4G_bands network_speed GPRS  \\\n",
       "819  LTE band 1(2100)/ 2(1900)/ 3(1800)/ 4(1700/210...     HSPA  LTE  Yes   \n",
       "\n",
       "    EDGE   announced  ...                        bluetooth            GPS  \\\n",
       "819  Yes  2013  July  ...  Wi-Fi 802.11 a/b/g/n/ dual-band  4.0/ A2DP/ LE   \n",
       "\n",
       "                NFC radio USB                  sensors  \\\n",
       "819  Yes with A-GPS   Yes  No  microUSB 2.0 (SlimPort)   \n",
       "\n",
       "                                     battery  \\\n",
       "819  Accelerometer/ gyro/ proximity/ compass   \n",
       "\n",
       "                                    colors approx_price_EUR  \\\n",
       "819  Non-removable Li-Ion 3950 mAh battery            Black   \n",
       "\n",
       "                                               img_url  \n",
       "819  http://cdn2.gsmarena.com/vv/bigpic/asus-google...  \n",
       "\n",
       "[1 rows x 40 columns]"
      ]
     },
     "execution_count": 14,
     "metadata": {},
     "output_type": "execute_result"
    }
   ],
   "source": [
    "df[df['approx_price_EUR'] == 'Black']"
   ]
  },
  {
   "cell_type": "code",
   "execution_count": 24,
   "metadata": {},
   "outputs": [],
   "source": [
    "df_copy = df[df['approx_price_EUR'] != 'Black']"
   ]
  },
  {
   "cell_type": "code",
   "execution_count": 25,
   "metadata": {},
   "outputs": [
    {
     "data": {
      "text/html": [
       "<div>\n",
       "<style scoped>\n",
       "    .dataframe tbody tr th:only-of-type {\n",
       "        vertical-align: middle;\n",
       "    }\n",
       "\n",
       "    .dataframe tbody tr th {\n",
       "        vertical-align: top;\n",
       "    }\n",
       "\n",
       "    .dataframe thead th {\n",
       "        text-align: right;\n",
       "    }\n",
       "</style>\n",
       "<table border=\"1\" class=\"dataframe\">\n",
       "  <thead>\n",
       "    <tr style=\"text-align: right;\">\n",
       "      <th></th>\n",
       "      <th>brand</th>\n",
       "      <th>model</th>\n",
       "      <th>network_technology</th>\n",
       "      <th>2G_bands</th>\n",
       "      <th>3G_bands</th>\n",
       "      <th>4G_bands</th>\n",
       "      <th>network_speed</th>\n",
       "      <th>GPRS</th>\n",
       "      <th>EDGE</th>\n",
       "      <th>announced</th>\n",
       "      <th>...</th>\n",
       "      <th>bluetooth</th>\n",
       "      <th>GPS</th>\n",
       "      <th>NFC</th>\n",
       "      <th>radio</th>\n",
       "      <th>USB</th>\n",
       "      <th>sensors</th>\n",
       "      <th>battery</th>\n",
       "      <th>colors</th>\n",
       "      <th>approx_price_EUR</th>\n",
       "      <th>img_url</th>\n",
       "    </tr>\n",
       "  </thead>\n",
       "  <tbody>\n",
       "  </tbody>\n",
       "</table>\n",
       "<p>0 rows × 40 columns</p>\n",
       "</div>"
      ],
      "text/plain": [
       "Empty DataFrame\n",
       "Columns: [brand, model, network_technology, 2G_bands, 3G_bands, 4G_bands, network_speed, GPRS, EDGE, announced, status, dimentions, weight_g, weight_oz, SIM, display_type, display_resolution, display_size, OS, CPU, Chipset, GPU, memory_card, internal_memory, RAM, primary_camera, secondary_camera, loud_speaker, audio_jack, WLAN, bluetooth, GPS, NFC, radio, USB, sensors, battery, colors, approx_price_EUR, img_url]\n",
       "Index: []\n",
       "\n",
       "[0 rows x 40 columns]"
      ]
     },
     "execution_count": 25,
     "metadata": {},
     "output_type": "execute_result"
    }
   ],
   "source": [
    "df_copy[df_copy['approx_price_EUR'] == 'Black']"
   ]
  },
  {
   "cell_type": "code",
   "execution_count": 26,
   "metadata": {},
   "outputs": [
    {
     "data": {
      "text/plain": [
       "(8627, 40)"
      ]
     },
     "execution_count": 26,
     "metadata": {},
     "output_type": "execute_result"
    }
   ],
   "source": [
    "df_copy.shape"
   ]
  },
  {
   "cell_type": "markdown",
   "metadata": {
    "colab_type": "text",
    "id": "H5jiA_uo_xJD"
   },
   "source": [
    "### 3. Data Cleansing"
   ]
  },
  {
   "cell_type": "markdown",
   "metadata": {
    "colab_type": "text",
    "id": "bY7sHjyYe2zC"
   },
   "source": [
    "#### Select instances having brand as 'Samsung' and report the final shape of the dataset"
   ]
  },
  {
   "cell_type": "code",
   "execution_count": 27,
   "metadata": {
    "colab": {},
    "colab_type": "code",
    "id": "pbi9C7oEYC21"
   },
   "outputs": [
    {
     "data": {
      "text/plain": [
       "(1103, 40)"
      ]
     },
     "execution_count": 27,
     "metadata": {},
     "output_type": "execute_result"
    }
   ],
   "source": [
    "df_copy = df_copy[df_copy['brand'] == 'Samsung']\n",
    "df_copy.shape"
   ]
  },
  {
   "cell_type": "markdown",
   "metadata": {
    "colab_type": "text",
    "id": "2BI7FK3ngMIJ"
   },
   "source": [
    "#### Check for missing values and drop the columns having more tahn 30% os missing values. And impute the remaining columns with their mode value"
   ]
  },
  {
   "cell_type": "code",
   "execution_count": 28,
   "metadata": {},
   "outputs": [
    {
     "data": {
      "text/plain": [
       "Index(['3G_bands', '4G_bands', 'network_speed', 'OS', 'CPU', 'Chipset', 'GPU',\n",
       "       'RAM', 'NFC', 'sensors'],\n",
       "      dtype='object')"
      ]
     },
     "execution_count": 28,
     "metadata": {},
     "output_type": "execute_result"
    }
   ],
   "source": [
    "drop_col = df_copy.columns[df_copy.isnull().sum() /len(df_copy) > 0.3]\n",
    "drop_col"
   ]
  },
  {
   "cell_type": "code",
   "execution_count": 29,
   "metadata": {},
   "outputs": [
    {
     "data": {
      "text/plain": [
       "(870, 30)"
      ]
     },
     "execution_count": 29,
     "metadata": {},
     "output_type": "execute_result"
    }
   ],
   "source": [
    "df_s = df_copy.drop(drop_col, axis = 1)\n",
    "df_s = df_s[~df_s['approx_price_EUR'].isnull()]\n",
    "df_s.shape"
   ]
  },
  {
   "cell_type": "code",
   "execution_count": 30,
   "metadata": {},
   "outputs": [],
   "source": [
    "for i in df_s.columns:\n",
    "    if df_s[i].isnull().any():\n",
    "        df_s[i] = df_s[i].fillna(df_s[i].mode()[0])"
   ]
  },
  {
   "cell_type": "code",
   "execution_count": 31,
   "metadata": {},
   "outputs": [
    {
     "data": {
      "text/plain": [
       "brand                 0\n",
       "model                 0\n",
       "network_technology    0\n",
       "2G_bands              0\n",
       "GPRS                  0\n",
       "EDGE                  0\n",
       "announced             0\n",
       "status                0\n",
       "dimentions            0\n",
       "weight_g              0\n",
       "weight_oz             0\n",
       "SIM                   0\n",
       "display_type          0\n",
       "display_resolution    0\n",
       "display_size          0\n",
       "memory_card           0\n",
       "internal_memory       0\n",
       "primary_camera        0\n",
       "secondary_camera      0\n",
       "loud_speaker          0\n",
       "audio_jack            0\n",
       "WLAN                  0\n",
       "bluetooth             0\n",
       "GPS                   0\n",
       "radio                 0\n",
       "USB                   0\n",
       "battery               0\n",
       "colors                0\n",
       "approx_price_EUR      0\n",
       "img_url               0\n",
       "dtype: int64"
      ]
     },
     "execution_count": 31,
     "metadata": {},
     "output_type": "execute_result"
    }
   ],
   "source": [
    "df_s.isnull().sum()"
   ]
  },
  {
   "cell_type": "markdown",
   "metadata": {
    "colab_type": "text",
    "id": "2bWLUwKdfQMg"
   },
   "source": [
    "#### Report the final shape of the dataset"
   ]
  },
  {
   "cell_type": "code",
   "execution_count": 32,
   "metadata": {
    "colab": {},
    "colab_type": "code",
    "id": "-ueJqOtEfVJ9"
   },
   "outputs": [
    {
     "name": "stdout",
     "output_type": "stream",
     "text": [
      "Shape : (870, 30)\n",
      "\n",
      "Columns : \n",
      "\n",
      " Index(['brand', 'model', 'network_technology', '2G_bands', 'GPRS', 'EDGE',\n",
      "       'announced', 'status', 'dimentions', 'weight_g', 'weight_oz', 'SIM',\n",
      "       'display_type', 'display_resolution', 'display_size', 'memory_card',\n",
      "       'internal_memory', 'primary_camera', 'secondary_camera', 'loud_speaker',\n",
      "       'audio_jack', 'WLAN', 'bluetooth', 'GPS', 'radio', 'USB', 'battery',\n",
      "       'colors', 'approx_price_EUR', 'img_url'],\n",
      "      dtype='object')\n"
     ]
    }
   ],
   "source": [
    "print(\"Shape :\", df_s.shape)\n",
    "print(\"\\nColumns : \\n\\n\", df_s.columns)"
   ]
  },
  {
   "cell_type": "markdown",
   "metadata": {
    "colab_type": "text",
    "id": "tauuH5qNfVyL"
   },
   "source": [
    "#### Let's select a few important columns for model building. We will encode 'network_technology', 'GPS', 'USB', 'primary_camera', 'display_resolution', 'internal_memory' and use 'approx_price_EUR' as target columns.\n",
    "\n",
    "We will do the following encoding and check final frequency counts"
   ]
  },
  {
   "cell_type": "code",
   "execution_count": 33,
   "metadata": {
    "colab": {},
    "colab_type": "code",
    "id": "Vciq2eE8fv2I"
   },
   "outputs": [
    {
     "data": {
      "text/html": [
       "<div>\n",
       "<style scoped>\n",
       "    .dataframe tbody tr th:only-of-type {\n",
       "        vertical-align: middle;\n",
       "    }\n",
       "\n",
       "    .dataframe tbody tr th {\n",
       "        vertical-align: top;\n",
       "    }\n",
       "\n",
       "    .dataframe thead th {\n",
       "        text-align: right;\n",
       "    }\n",
       "</style>\n",
       "<table border=\"1\" class=\"dataframe\">\n",
       "  <thead>\n",
       "    <tr style=\"text-align: right;\">\n",
       "      <th></th>\n",
       "      <th>network_technology</th>\n",
       "      <th>GPS</th>\n",
       "      <th>USB</th>\n",
       "      <th>primary_camera</th>\n",
       "      <th>display_resolution</th>\n",
       "      <th>internal_memory</th>\n",
       "      <th>approx_price_EUR</th>\n",
       "    </tr>\n",
       "  </thead>\n",
       "  <tbody>\n",
       "    <tr>\n",
       "      <td>5962</td>\n",
       "      <td>GSM / HSPA / LTE</td>\n",
       "      <td>Yes with A-GPS GLONASS</td>\n",
       "      <td>microUSB 2.0/ USB On-The-Go</td>\n",
       "      <td>13 MP/ f/1.7/ autofocus/ LED flash</td>\n",
       "      <td>5.7 inches (~72.5% screen-to-body ratio)</td>\n",
       "      <td>32 GB</td>\n",
       "      <td>250</td>\n",
       "    </tr>\n",
       "    <tr>\n",
       "      <td>5963</td>\n",
       "      <td>GSM / HSPA / LTE</td>\n",
       "      <td>Yes with A-GPS GLONASS</td>\n",
       "      <td>microUSB 2.0/ USB On-The-Go</td>\n",
       "      <td>13 MP/ f/1.7/ autofocus/ LED flash</td>\n",
       "      <td>5.5 inches (~73.3% screen-to-body ratio)</td>\n",
       "      <td>64 GB</td>\n",
       "      <td>300</td>\n",
       "    </tr>\n",
       "    <tr>\n",
       "      <td>5964</td>\n",
       "      <td>GSM / HSPA / LTE</td>\n",
       "      <td>Yes with A-GPS GLONASS BDS</td>\n",
       "      <td>microUSB 2.0</td>\n",
       "      <td>13 MP/ f/1.7/ autofocus/ LED flash</td>\n",
       "      <td>5.5 inches (~73.3% screen-to-body ratio)</td>\n",
       "      <td>16 GB</td>\n",
       "      <td>340</td>\n",
       "    </tr>\n",
       "    <tr>\n",
       "      <td>5965</td>\n",
       "      <td>GSM / HSPA / LTE</td>\n",
       "      <td>Yes with A-GPS GLONASS BDS</td>\n",
       "      <td>microUSB 2.0</td>\n",
       "      <td>13 MP/ f/1.7/ autofocus/ LED flash</td>\n",
       "      <td>5.2 inches (~71.5% screen-to-body ratio)</td>\n",
       "      <td>16 GB</td>\n",
       "      <td>280</td>\n",
       "    </tr>\n",
       "    <tr>\n",
       "      <td>5966</td>\n",
       "      <td>GSM / HSPA / LTE</td>\n",
       "      <td>Yes with A-GPS GLONASS BDS</td>\n",
       "      <td>microUSB 2.0/ USB On-The-Go</td>\n",
       "      <td>13 MP/ f/1.9/ autofocus/ LED flash</td>\n",
       "      <td>5.0 inches (~68.5% screen-to-body ratio)</td>\n",
       "      <td>16 GB</td>\n",
       "      <td>220</td>\n",
       "    </tr>\n",
       "  </tbody>\n",
       "</table>\n",
       "</div>"
      ],
      "text/plain": [
       "     network_technology                         GPS  \\\n",
       "5962   GSM / HSPA / LTE      Yes with A-GPS GLONASS   \n",
       "5963   GSM / HSPA / LTE      Yes with A-GPS GLONASS   \n",
       "5964   GSM / HSPA / LTE  Yes with A-GPS GLONASS BDS   \n",
       "5965   GSM / HSPA / LTE  Yes with A-GPS GLONASS BDS   \n",
       "5966   GSM / HSPA / LTE  Yes with A-GPS GLONASS BDS   \n",
       "\n",
       "                              USB                      primary_camera  \\\n",
       "5962  microUSB 2.0/ USB On-The-Go  13 MP/ f/1.7/ autofocus/ LED flash   \n",
       "5963  microUSB 2.0/ USB On-The-Go  13 MP/ f/1.7/ autofocus/ LED flash   \n",
       "5964                 microUSB 2.0  13 MP/ f/1.7/ autofocus/ LED flash   \n",
       "5965                 microUSB 2.0  13 MP/ f/1.7/ autofocus/ LED flash   \n",
       "5966  microUSB 2.0/ USB On-The-Go  13 MP/ f/1.9/ autofocus/ LED flash   \n",
       "\n",
       "                            display_resolution internal_memory  \\\n",
       "5962  5.7 inches (~72.5% screen-to-body ratio)           32 GB   \n",
       "5963  5.5 inches (~73.3% screen-to-body ratio)           64 GB   \n",
       "5964  5.5 inches (~73.3% screen-to-body ratio)           16 GB   \n",
       "5965  5.2 inches (~71.5% screen-to-body ratio)           16 GB   \n",
       "5966  5.0 inches (~68.5% screen-to-body ratio)           16 GB   \n",
       "\n",
       "     approx_price_EUR  \n",
       "5962              250  \n",
       "5963              300  \n",
       "5964              340  \n",
       "5965              280  \n",
       "5966              220  "
      ]
     },
     "execution_count": 33,
     "metadata": {},
     "output_type": "execute_result"
    }
   ],
   "source": [
    "new_df = df_s[['network_technology','GPS','USB','primary_camera',\n",
    "               'display_resolution','internal_memory','approx_price_EUR']]\n",
    "new_df.head()"
   ]
  },
  {
   "cell_type": "markdown",
   "metadata": {
    "colab_type": "text",
    "id": "xi-fuSYnfxOP"
   },
   "source": [
    "#### Encode 'GPS', 'USB' column into two categories (whether GPS/USB is YES or NO)"
   ]
  },
  {
   "cell_type": "code",
   "execution_count": 34,
   "metadata": {},
   "outputs": [
    {
     "data": {
      "text/plain": [
       "No                                                369\n",
       "Yes with A-GPS                                    203\n",
       "Yes with A-GPS GLONASS                            166\n",
       "Yes with A-GPS GLONASS BDS                         38\n",
       "Yes                                                22\n",
       "Yes with GLONASS                                   13\n",
       "A-GPS only; AT&T Navigator                          7\n",
       "Yes with A-GPS GLONASS/ BDS (market dependant)      7\n",
       "Yes with A-GPS GLONASS/ BDS (region dependent)      6\n",
       "Yes with A-GPS Samsung Mobile Navigator             4\n",
       "Yes with A-GPS GLONASS BDS GALILEO                  4\n",
       "A-GPS only; Google Maps                             3\n",
       "A-GPS only; VZ Navigator                            3\n",
       "Yes with A-GPS Bing map                             2\n",
       "Yes with S-GPS; GLONASS                             2\n",
       "Yes GLONASS                                         2\n",
       "Yes GLONASS BDS                                     2\n",
       "Yes; GLONASS                                        2\n",
       "Yes with A-GPS; MetroNavigator GPS                  2\n",
       "Yes (market dependant)                              1\n",
       "Yes with A-GPS VZ Navigator                         1\n",
       "Yes A-GPS                                           1\n",
       "Yes with A-GPS; optional navigation software        1\n",
       "Yes with A-GPS GLONASS Beidou                       1\n",
       "Yes with A-GPS; GLONASS                             1\n",
       "Yes with A-GPS Route 66                             1\n",
       "E911 call only                                      1\n",
       "Yes with A-GPS; Google Maps                         1\n",
       "Yes with A-GPS; MetroNavigator                      1\n",
       "Yes with A-GPS; navigation application              1\n",
       "Yes with A-GPS; Route 66                            1\n",
       "To be confirmed                                     1\n",
       "Name: GPS, dtype: int64"
      ]
     },
     "execution_count": 34,
     "metadata": {},
     "output_type": "execute_result"
    }
   ],
   "source": [
    "new_df['GPS'].value_counts()"
   ]
  },
  {
   "cell_type": "code",
   "execution_count": 35,
   "metadata": {
    "colab": {},
    "colab_type": "code",
    "id": "ffhFiqMlgFKb"
   },
   "outputs": [],
   "source": [
    "for x in range(len(new_df['GPS'])):\n",
    "    if new_df['GPS'].iloc[x] == 'No':\n",
    "        new_df['GPS'].iloc[x] = 0\n",
    "    else:\n",
    "        new_df['GPS'].iloc[x] = 1"
   ]
  },
  {
   "cell_type": "code",
   "execution_count": 36,
   "metadata": {},
   "outputs": [
    {
     "data": {
      "text/plain": [
       "1    501\n",
       "0    369\n",
       "Name: GPS, dtype: int64"
      ]
     },
     "execution_count": 36,
     "metadata": {},
     "output_type": "execute_result"
    }
   ],
   "source": [
    "new_df['GPS'].value_counts()"
   ]
  },
  {
   "cell_type": "code",
   "execution_count": 37,
   "metadata": {},
   "outputs": [
    {
     "data": {
      "text/plain": [
       "microUSB 2.0                                                393\n",
       "2                                                           185\n",
       "Yes                                                          67\n",
       "No                                                           43\n",
       "microUSB 2.0 (MHL TV-out)/ USB Host                          32\n",
       "microUSB 2.0/ USB Host                                       23\n",
       "1.1                                                          20\n",
       "microUSB 2.0/ USB On-The-Go                                  19\n",
       "microUSB                                                     10\n",
       "microUSB 2.0 (MHL 2 TV-out)/ USB Host                         9\n",
       "microUSB 2.0 (MHL TV-out)                                     9\n",
       "microUSB 3.0 (MHL 2.1 TV-out)/ USB Host                       7\n",
       "2.0/ USB Host                                                 6\n",
       "2.0 (TV-out)                                                  4\n",
       "2.0/ Type-C 1.0 reversible connector                          4\n",
       "3.1/ Type-C 1.0 reversible connector                          4\n",
       "microUSB 2.0 (MHL 3 TV-out)/ USB Host                         4\n",
       "microUSB 3.0 (MHL TV-out)/ USB Host                           3\n",
       "microUSB 3.0/ USB Host                                        3\n",
       "microUSB 2.0 (MHL 2.1)/ USB Host                              2\n",
       "microUSB (charging only)                                      2\n",
       "2.0 (TV-out)/ USB Host                                        2\n",
       "microUSB 1.1                                                  2\n",
       "microUSB 2.0 (MHL)/ USB Host                                  2\n",
       "microUSB 2.0 (MHL 2.1 TV-out)/ USB Host                       1\n",
       "1.2                                                           1\n",
       "3.1/ Type-C 1.0 reversible connector; magnetic connector      1\n",
       "miniUSB 2.0                                                   1\n",
       "microUSB 2.0 (MHL)                                            1\n",
       "Yes 2.0                                                       1\n",
       "Type-C 1.0 reversible connector                               1\n",
       "microUSB 2.0 (TV-out)/ USB Host                               1\n",
       "USB 2.0/ USB Host                                             1\n",
       "microUSB 2.0 (MHL 1.2)/ USB Host                              1\n",
       "microUSB 2.0 (MHL 1.3 TV-out)/ USB Host                       1\n",
       "USB 2.0                                                       1\n",
       "microUSB 3.0 (MHL 2 TV-out)/ USB Host                         1\n",
       "microUSB 2.0 (charging only)                                  1\n",
       "Yes (charging only)                                           1\n",
       "Name: USB, dtype: int64"
      ]
     },
     "execution_count": 37,
     "metadata": {},
     "output_type": "execute_result"
    }
   ],
   "source": [
    "new_df['USB'].value_counts()"
   ]
  },
  {
   "cell_type": "code",
   "execution_count": 38,
   "metadata": {},
   "outputs": [],
   "source": [
    "for x in range(len(new_df['USB'])):\n",
    "    if new_df['USB'].iloc[x] == 'No':\n",
    "        new_df['USB'].iloc[x] = 0\n",
    "    else:\n",
    "        new_df['USB'].iloc[x] = 1"
   ]
  },
  {
   "cell_type": "code",
   "execution_count": 39,
   "metadata": {},
   "outputs": [
    {
     "data": {
      "text/plain": [
       "1    827\n",
       "0     43\n",
       "Name: USB, dtype: int64"
      ]
     },
     "execution_count": 39,
     "metadata": {},
     "output_type": "execute_result"
    }
   ],
   "source": [
    "new_df['USB'].value_counts()"
   ]
  },
  {
   "cell_type": "markdown",
   "metadata": {
    "colab_type": "text",
    "id": "m8UPKX8cgFfH"
   },
   "source": [
    "#### Encode \"network_technology\". Create two categories one having value as \"No cellular connectivity \" and another having all otrher types of connectivity"
   ]
  },
  {
   "cell_type": "code",
   "execution_count": 40,
   "metadata": {
    "colab": {},
    "colab_type": "code",
    "id": "jYEYYQUPgbDH"
   },
   "outputs": [
    {
     "data": {
      "text/plain": [
       "GSM / HSPA                        277\n",
       "GSM                               265\n",
       "GSM / HSPA / LTE                  155\n",
       "CDMA / EVDO                        43\n",
       "No cellular connectivity           36\n",
       "GSM / UMTS                         28\n",
       "GSM / CDMA / HSPA / EVDO / LTE     16\n",
       "CDMA / EVDO / LTE                  15\n",
       "CDMA / CDMA2000                    10\n",
       "CDMA                                8\n",
       "GSM / CDMA / EVDO                   4\n",
       "GSM / CDMA / HSPA / LTE             3\n",
       "GSM / CDMA                          3\n",
       "HSPA / LTE                          2\n",
       "GSM / UMTS / HSPA / LTE             1\n",
       "HSPA                                1\n",
       "CDMA / HSPA / EVDO / LTE            1\n",
       "CDMA / HSPA / EVDO                  1\n",
       "GSM / CDMA / UMTS / EVDO            1\n",
       "Name: network_technology, dtype: int64"
      ]
     },
     "execution_count": 40,
     "metadata": {},
     "output_type": "execute_result"
    }
   ],
   "source": [
    "new_df['network_technology'].value_counts()"
   ]
  },
  {
   "cell_type": "code",
   "execution_count": 41,
   "metadata": {},
   "outputs": [],
   "source": [
    "for x in range(len(new_df['network_technology'])):\n",
    "    if new_df['network_technology'].iloc[x] == 'No cellular connectivity':\n",
    "        new_df['network_technology'].iloc[x] = 0\n",
    "    else:\n",
    "        new_df['network_technology'].iloc[x] = 1"
   ]
  },
  {
   "cell_type": "code",
   "execution_count": 42,
   "metadata": {},
   "outputs": [
    {
     "data": {
      "text/plain": [
       "1    834\n",
       "0     36\n",
       "Name: network_technology, dtype: int64"
      ]
     },
     "execution_count": 42,
     "metadata": {},
     "output_type": "execute_result"
    }
   ],
   "source": [
    "new_df['network_technology'].value_counts()"
   ]
  },
  {
   "cell_type": "markdown",
   "metadata": {
    "colab_type": "text",
    "id": "yHWJXcIugbVA"
   },
   "source": [
    "#### Encode \"display_resolution\". Find the resolution number using regex"
   ]
  },
  {
   "cell_type": "code",
   "execution_count": 43,
   "metadata": {
    "colab": {},
    "colab_type": "code",
    "id": "gfDFnSImg7m7"
   },
   "outputs": [],
   "source": [
    "import re\n",
    "for i in range(len(new_df['display_resolution'])):\n",
    "    txt=new_df['display_resolution'].iloc[i]\n",
    "    x = re.findall(\"\\d+\\.*\\d*\", txt)\n",
    "    new_df['display_resolution'].iloc[i]=x[0]"
   ]
  },
  {
   "cell_type": "code",
   "execution_count": 44,
   "metadata": {},
   "outputs": [
    {
     "data": {
      "text/plain": [
       "5962    5.7\n",
       "5963    5.5\n",
       "5964    5.5\n",
       "5965    5.2\n",
       "5966    5.0\n",
       "Name: display_resolution, dtype: float64"
      ]
     },
     "execution_count": 44,
     "metadata": {},
     "output_type": "execute_result"
    }
   ],
   "source": [
    "new_df['display_resolution']=new_df['display_resolution'].astype(float)\n",
    "new_df['display_resolution'].head()"
   ]
  },
  {
   "cell_type": "markdown",
   "metadata": {
    "colab_type": "text",
    "id": "ZnL36YVqhENc"
   },
   "source": [
    "#### Encode \"internal_memory\". Create two categories having values in MB, or GB using regex"
   ]
  },
  {
   "cell_type": "markdown",
   "metadata": {
    "colab_type": "text",
    "id": "DtL4j8SmhcXy"
   },
   "source": [
    "Hint - \n",
    "mb = re.search('MB',txt)\n",
    "    if mb:\n",
    "        X['internal_memory'].iloc[i]=1\n",
    "    else:\n",
    "        X['internal_memory'].iloc[i]=0"
   ]
  },
  {
   "cell_type": "code",
   "execution_count": 45,
   "metadata": {
    "colab": {},
    "colab_type": "code",
    "id": "iABIy5XQhXDR"
   },
   "outputs": [],
   "source": [
    "for i in range(len(new_df['internal_memory'])):\n",
    "    txt = str(new_df['internal_memory'].iloc[i])\n",
    "    \n",
    "    x = re.search('GB',txt)\n",
    "    if x :\n",
    "        new_df['internal_memory'].iloc[i] = 1\n",
    "    else :\n",
    "        new_df['internal_memory'].iloc[i] = 0"
   ]
  },
  {
   "cell_type": "code",
   "execution_count": 46,
   "metadata": {},
   "outputs": [
    {
     "data": {
      "text/plain": [
       "1    477\n",
       "0    393\n",
       "Name: internal_memory, dtype: int64"
      ]
     },
     "execution_count": 46,
     "metadata": {},
     "output_type": "execute_result"
    }
   ],
   "source": [
    "new_df['internal_memory'].value_counts()"
   ]
  },
  {
   "cell_type": "markdown",
   "metadata": {
    "colab_type": "text",
    "id": "ImOxZ6_ihfcB"
   },
   "source": [
    "#### Encode \"primary_camera\". Create 2-3 categories having no camera, camera in M, or VGA using regex"
   ]
  },
  {
   "cell_type": "code",
   "execution_count": 47,
   "metadata": {},
   "outputs": [
    {
     "data": {
      "text/plain": [
       "2 MP                                                                   187\n",
       "5 MP/ autofocus/ LED flash                                              84\n",
       "1.3 MP                                                                  83\n",
       "3.15 MP                                                                 75\n",
       "VGA                                                                     56\n",
       "                                                                      ... \n",
       "13 MP/ f/2.1/ 27mm/ autofocus/ LED flash/                                1\n",
       "5 MP/ f/2.2/ autofocus/ LED flash/                                       1\n",
       "16 MP/ f/1.9/ autofocus/ LED flash                                       1\n",
       "12 MP/ f/2.2/ 31mm/ phase detection autofocus/ LED flash                 1\n",
       "16 MP/ f/1.9/ phase detection autofocus/ dual-LED (dual tone) flash      1\n",
       "Name: primary_camera, Length: 104, dtype: int64"
      ]
     },
     "execution_count": 47,
     "metadata": {},
     "output_type": "execute_result"
    }
   ],
   "source": [
    "new_df['primary_camera'].value_counts()"
   ]
  },
  {
   "cell_type": "code",
   "execution_count": 48,
   "metadata": {
    "colab": {},
    "colab_type": "code",
    "id": "BGTuoHs6h8XR"
   },
   "outputs": [],
   "source": [
    "for i in range(len(new_df['primary_camera'])):\n",
    "    txt = str(new_df['primary_camera'].iloc[i])\n",
    "    \n",
    "    x = re.search('MP',txt)\n",
    "    y = re.search('VGA',txt)\n",
    "    if x :\n",
    "        new_df['primary_camera'].iloc[i] = 1\n",
    "    elif y :\n",
    "        new_df['primary_camera'].iloc[i] = 0\n",
    "    else :\n",
    "        new_df['primary_camera'].iloc[i] = 2"
   ]
  },
  {
   "cell_type": "code",
   "execution_count": 49,
   "metadata": {},
   "outputs": [
    {
     "data": {
      "text/plain": [
       "1    811\n",
       "0     59\n",
       "Name: primary_camera, dtype: int64"
      ]
     },
     "execution_count": 49,
     "metadata": {},
     "output_type": "execute_result"
    }
   ],
   "source": [
    "new_df['primary_camera'].value_counts()"
   ]
  },
  {
   "cell_type": "code",
   "execution_count": 50,
   "metadata": {},
   "outputs": [
    {
     "data": {
      "text/plain": [
       "network_technology      int64\n",
       "GPS                     int64\n",
       "USB                     int64\n",
       "primary_camera          int64\n",
       "display_resolution    float64\n",
       "internal_memory         int64\n",
       "approx_price_EUR       object\n",
       "dtype: object"
      ]
     },
     "execution_count": 50,
     "metadata": {},
     "output_type": "execute_result"
    }
   ],
   "source": [
    "new_df.dtypes"
   ]
  },
  {
   "cell_type": "code",
   "execution_count": 51,
   "metadata": {},
   "outputs": [
    {
     "data": {
      "text/plain": [
       "network_technology      int64\n",
       "GPS                     int64\n",
       "USB                     int64\n",
       "primary_camera          int64\n",
       "display_resolution    float64\n",
       "internal_memory         int64\n",
       "approx_price_EUR        int64\n",
       "dtype: object"
      ]
     },
     "execution_count": 51,
     "metadata": {},
     "output_type": "execute_result"
    }
   ],
   "source": [
    "convert_dict = {'approx_price_EUR' : int}\n",
    "new_df = new_df.astype(convert_dict)\n",
    "new_df.dtypes"
   ]
  },
  {
   "cell_type": "markdown",
   "metadata": {
    "colab_type": "text",
    "id": "G322DWvw_xKq"
   },
   "source": [
    "### 4. Data Preparation"
   ]
  },
  {
   "cell_type": "markdown",
   "metadata": {
    "colab_type": "text",
    "id": "nULMYAS4wVW7"
   },
   "source": [
    "Segregate X and y"
   ]
  },
  {
   "cell_type": "code",
   "execution_count": 52,
   "metadata": {
    "colab": {},
    "colab_type": "code",
    "id": "QOMKamuXiMxn",
    "scrolled": true
   },
   "outputs": [
    {
     "data": {
      "text/html": [
       "<div>\n",
       "<style scoped>\n",
       "    .dataframe tbody tr th:only-of-type {\n",
       "        vertical-align: middle;\n",
       "    }\n",
       "\n",
       "    .dataframe tbody tr th {\n",
       "        vertical-align: top;\n",
       "    }\n",
       "\n",
       "    .dataframe thead th {\n",
       "        text-align: right;\n",
       "    }\n",
       "</style>\n",
       "<table border=\"1\" class=\"dataframe\">\n",
       "  <thead>\n",
       "    <tr style=\"text-align: right;\">\n",
       "      <th></th>\n",
       "      <th>network_technology</th>\n",
       "      <th>GPS</th>\n",
       "      <th>USB</th>\n",
       "      <th>primary_camera</th>\n",
       "      <th>display_resolution</th>\n",
       "      <th>internal_memory</th>\n",
       "      <th>approx_price_EUR</th>\n",
       "    </tr>\n",
       "  </thead>\n",
       "  <tbody>\n",
       "    <tr>\n",
       "      <td>5962</td>\n",
       "      <td>1</td>\n",
       "      <td>1</td>\n",
       "      <td>1</td>\n",
       "      <td>1</td>\n",
       "      <td>5.7</td>\n",
       "      <td>1</td>\n",
       "      <td>250</td>\n",
       "    </tr>\n",
       "    <tr>\n",
       "      <td>5963</td>\n",
       "      <td>1</td>\n",
       "      <td>1</td>\n",
       "      <td>1</td>\n",
       "      <td>1</td>\n",
       "      <td>5.5</td>\n",
       "      <td>1</td>\n",
       "      <td>300</td>\n",
       "    </tr>\n",
       "    <tr>\n",
       "      <td>5964</td>\n",
       "      <td>1</td>\n",
       "      <td>1</td>\n",
       "      <td>1</td>\n",
       "      <td>1</td>\n",
       "      <td>5.5</td>\n",
       "      <td>1</td>\n",
       "      <td>340</td>\n",
       "    </tr>\n",
       "    <tr>\n",
       "      <td>5965</td>\n",
       "      <td>1</td>\n",
       "      <td>1</td>\n",
       "      <td>1</td>\n",
       "      <td>1</td>\n",
       "      <td>5.2</td>\n",
       "      <td>1</td>\n",
       "      <td>280</td>\n",
       "    </tr>\n",
       "    <tr>\n",
       "      <td>5966</td>\n",
       "      <td>1</td>\n",
       "      <td>1</td>\n",
       "      <td>1</td>\n",
       "      <td>1</td>\n",
       "      <td>5.0</td>\n",
       "      <td>1</td>\n",
       "      <td>220</td>\n",
       "    </tr>\n",
       "  </tbody>\n",
       "</table>\n",
       "</div>"
      ],
      "text/plain": [
       "      network_technology  GPS  USB  primary_camera  display_resolution  \\\n",
       "5962                   1    1    1               1                 5.7   \n",
       "5963                   1    1    1               1                 5.5   \n",
       "5964                   1    1    1               1                 5.5   \n",
       "5965                   1    1    1               1                 5.2   \n",
       "5966                   1    1    1               1                 5.0   \n",
       "\n",
       "      internal_memory  approx_price_EUR  \n",
       "5962                1               250  \n",
       "5963                1               300  \n",
       "5964                1               340  \n",
       "5965                1               280  \n",
       "5966                1               220  "
      ]
     },
     "execution_count": 52,
     "metadata": {},
     "output_type": "execute_result"
    }
   ],
   "source": [
    "new_df.head(5)"
   ]
  },
  {
   "cell_type": "code",
   "execution_count": 53,
   "metadata": {},
   "outputs": [],
   "source": [
    "y = new_df['approx_price_EUR']\n",
    "X = new_df.drop(['approx_price_EUR'], axis =1)"
   ]
  },
  {
   "cell_type": "markdown",
   "metadata": {
    "colab_type": "text",
    "id": "t6lzckJU_xLY"
   },
   "source": [
    "### 5. EDA"
   ]
  },
  {
   "cell_type": "markdown",
   "metadata": {
    "colab_type": "text",
    "id": "OStGnzHgiVmv"
   },
   "source": [
    "#### Perform univariate analysis by checking frequency distribution of all the features"
   ]
  },
  {
   "cell_type": "code",
   "execution_count": 54,
   "metadata": {
    "colab": {},
    "colab_type": "code",
    "id": "jwgcNlrgiej2"
   },
   "outputs": [
    {
     "data": {
      "text/plain": [
       "<seaborn.axisgrid.PairGrid at 0x7f8414440410>"
      ]
     },
     "execution_count": 54,
     "metadata": {},
     "output_type": "execute_result"
    },
    {
     "data": {
      "image/png": "[encoded data removed]",
      "text/plain": [
       "<Figure size 1080x1080 with 42 Axes>"
      ]
     },
     "metadata": {
      "needs_background": "light"
     },
     "output_type": "display_data"
    }
   ],
   "source": [
    "sns.pairplot(X)"
   ]
  },
  {
   "cell_type": "markdown",
   "metadata": {
    "colab_type": "text",
    "id": "diBuBs7Digjt"
   },
   "source": [
    "#### Perform bivariate analysis by checking doing crosstab between independent and dependent features"
   ]
  },
  {
   "cell_type": "code",
   "execution_count": 55,
   "metadata": {
    "colab": {},
    "colab_type": "code",
    "id": "XZIMCOC_iqaV"
   },
   "outputs": [
    {
     "data": {
      "text/plain": [
       "<matplotlib.axes._subplots.AxesSubplot at 0x7f8416129390>"
      ]
     },
     "execution_count": 55,
     "metadata": {},
     "output_type": "execute_result"
    },
    {
     "data": {
      "image/png": "[encoded data removed]",
      "text/plain": [
       "<Figure size 720x288 with 1 Axes>"
      ]
     },
     "metadata": {
      "needs_background": "light"
     },
     "output_type": "display_data"
    }
   ],
   "source": [
    "pd.crosstab(y,X['network_technology']).plot(figsize = (10,4))"
   ]
  },
  {
   "cell_type": "code",
   "execution_count": 42,
   "metadata": {},
   "outputs": [
    {
     "data": {
      "text/plain": [
       "<matplotlib.axes._subplots.AxesSubplot at 0x7ffcde15c510>"
      ]
     },
     "execution_count": 42,
     "metadata": {},
     "output_type": "execute_result"
    },
    {
     "data": {
      "image/png": "[encoded data removed]",
      "text/plain": [
       "<Figure size 720x288 with 1 Axes>"
      ]
     },
     "metadata": {
      "needs_background": "light"
     },
     "output_type": "display_data"
    }
   ],
   "source": [
    "pd.crosstab(y,X['GPS']).plot(figsize = (10,4))"
   ]
  },
  {
   "cell_type": "code",
   "execution_count": 43,
   "metadata": {},
   "outputs": [
    {
     "data": {
      "text/plain": [
       "<matplotlib.axes._subplots.AxesSubplot at 0x7ffcde43ac10>"
      ]
     },
     "execution_count": 43,
     "metadata": {},
     "output_type": "execute_result"
    },
    {
     "data": {
      "image/png": "[encoded data removed]",
      "text/plain": [
       "<Figure size 720x288 with 1 Axes>"
      ]
     },
     "metadata": {
      "needs_background": "light"
     },
     "output_type": "display_data"
    }
   ],
   "source": [
    "pd.crosstab(y,X['USB']).plot(figsize = (10,4))"
   ]
  },
  {
   "cell_type": "code",
   "execution_count": 44,
   "metadata": {},
   "outputs": [
    {
     "data": {
      "text/plain": [
       "<matplotlib.axes._subplots.AxesSubplot at 0x7ffcde65f490>"
      ]
     },
     "execution_count": 44,
     "metadata": {},
     "output_type": "execute_result"
    },
    {
     "data": {
      "image/png": "[encoded data removed]",
      "text/plain": [
       "<Figure size 720x288 with 1 Axes>"
      ]
     },
     "metadata": {
      "needs_background": "light"
     },
     "output_type": "display_data"
    }
   ],
   "source": [
    "pd.crosstab(y,X['primary_camera']).plot(figsize = (10,4))"
   ]
  },
  {
   "cell_type": "code",
   "execution_count": 45,
   "metadata": {},
   "outputs": [
    {
     "data": {
      "text/plain": [
       "<matplotlib.axes._subplots.AxesSubplot at 0x7ffcde673790>"
      ]
     },
     "execution_count": 45,
     "metadata": {},
     "output_type": "execute_result"
    },
    {
     "data": {
      "image/png": "[encoded data removed]",
      "text/plain": [
       "<Figure size 720x288 with 1 Axes>"
      ]
     },
     "metadata": {
      "needs_background": "light"
     },
     "output_type": "display_data"
    }
   ],
   "source": [
    "pd.crosstab(y,X['internal_memory']).plot(figsize = (10,4))"
   ]
  },
  {
   "cell_type": "markdown",
   "metadata": {
    "colab_type": "text",
    "id": "EarZ-KHT_xL3"
   },
   "source": [
    "### 6. Split data into Train and Test set and build a Supervised Learning model using Linear Regression"
   ]
  },
  {
   "cell_type": "code",
   "execution_count": 46,
   "metadata": {
    "colab": {},
    "colab_type": "code",
    "id": "iclEMxL5ixtd"
   },
   "outputs": [],
   "source": [
    "X_train , X_test , y_train , y_test = train_test_split(X , y , test_size = 0.25 , random_state = 10)"
   ]
  },
  {
   "cell_type": "code",
   "execution_count": 47,
   "metadata": {},
   "outputs": [
    {
     "name": "stdout",
     "output_type": "stream",
     "text": [
      "Training Set Score : 0.4424460497198074\n"
     ]
    }
   ],
   "source": [
    "model = LinearRegression()\n",
    "model.fit(X_train,y_train)\n",
    "print(\"Training Set Score :\" ,model.score(X_train,y_train))"
   ]
  },
  {
   "cell_type": "code",
   "execution_count": 48,
   "metadata": {},
   "outputs": [
    {
     "name": "stdout",
     "output_type": "stream",
     "text": [
      "Test Set Score : 0.42741995039038405\n"
     ]
    }
   ],
   "source": [
    "print(\"Test Set Score :\" ,model.score(X_test,y_test))"
   ]
  },
  {
   "cell_type": "markdown",
   "metadata": {
    "colab_type": "text",
    "id": "GGvaqpVC_xL7"
   },
   "source": [
    "### 7. Train a KNN model and check its performance"
   ]
  },
  {
   "cell_type": "code",
   "execution_count": 49,
   "metadata": {
    "colab": {},
    "colab_type": "code",
    "id": "I_XRryiPi7mL"
   },
   "outputs": [
    {
     "name": "stdout",
     "output_type": "stream",
     "text": [
      "Training Set Score : 0.6803125220911279\n"
     ]
    }
   ],
   "source": [
    "knn = KNeighborsRegressor(n_neighbors=8)\n",
    "knn.fit(X_train,y_train)\n",
    "print(\"Training Set Score :\" ,knn.score(X_train,y_train))"
   ]
  },
  {
   "cell_type": "code",
   "execution_count": 50,
   "metadata": {},
   "outputs": [
    {
     "name": "stdout",
     "output_type": "stream",
     "text": [
      "Test Set Score : 0.7214711918404735\n"
     ]
    }
   ],
   "source": [
    "print(\"Test Set Score :\" ,knn.score(X_test,y_test))"
   ]
  },
  {
   "cell_type": "markdown",
   "metadata": {
    "colab_type": "text",
    "id": "OGCvdjnO_xMY"
   },
   "source": [
    "                                     End of case study"
   ]
  }
 ],
 "metadata": {
  "colab": {
   "collapsed_sections": [
    "t-XxVWPK_xIk",
    "H5jiA_uo_xJD",
    "G322DWvw_xKq",
    "t6lzckJU_xLY"
   ],
   "name": "Questions-Linear Regression-Mobile Price.ipynb",
   "provenance": []
  },
  "kernelspec": {
   "display_name": "Python 3",
   "language": "python",
   "name": "python3"
  },
  "language_info": {
   "codemirror_mode": {
    "name": "ipython",
    "version": 3
   },
   "file_extension": ".py",
   "mimetype": "text/x-python",
   "name": "python",
   "nbconvert_exporter": "python",
   "pygments_lexer": "ipython3",
   "version": "3.7.4"
  }
 },
 "nbformat": 4,
 "nbformat_minor": 1
}
